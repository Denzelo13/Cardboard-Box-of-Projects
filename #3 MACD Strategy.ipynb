{
 "cells": [
  {
   "cell_type": "code",
   "execution_count": 1,
   "id": "024629ec",
   "metadata": {},
   "outputs": [],
   "source": [
    "import yfinance as yf\n",
    "import matplotlib.pyplot as plt"
   ]
  },
  {
   "cell_type": "code",
   "execution_count": 188,
   "id": "1c85dfaa",
   "metadata": {},
   "outputs": [
    {
     "name": "stdout",
     "output_type": "stream",
     "text": [
      "[*********************100%***********************]  1 of 1 completed\n"
     ]
    }
   ],
   "source": [
    "df = yf.download('AMZN', start = '2021-1-1')"
   ]
  },
  {
   "cell_type": "code",
   "execution_count": 189,
   "id": "6e7ac9c9",
   "metadata": {},
   "outputs": [
    {
     "data": {
      "text/html": [
       "<div>\n",
       "<style scoped>\n",
       "    .dataframe tbody tr th:only-of-type {\n",
       "        vertical-align: middle;\n",
       "    }\n",
       "\n",
       "    .dataframe tbody tr th {\n",
       "        vertical-align: top;\n",
       "    }\n",
       "\n",
       "    .dataframe thead th {\n",
       "        text-align: right;\n",
       "    }\n",
       "</style>\n",
       "<table border=\"1\" class=\"dataframe\">\n",
       "  <thead>\n",
       "    <tr style=\"text-align: right;\">\n",
       "      <th></th>\n",
       "      <th>Open</th>\n",
       "      <th>High</th>\n",
       "      <th>Low</th>\n",
       "      <th>Close</th>\n",
       "      <th>Adj Close</th>\n",
       "      <th>Volume</th>\n",
       "    </tr>\n",
       "    <tr>\n",
       "      <th>Date</th>\n",
       "      <th></th>\n",
       "      <th></th>\n",
       "      <th></th>\n",
       "      <th></th>\n",
       "      <th></th>\n",
       "      <th></th>\n",
       "    </tr>\n",
       "  </thead>\n",
       "  <tbody>\n",
       "    <tr>\n",
       "      <th>2020-12-31</th>\n",
       "      <td>3275.000000</td>\n",
       "      <td>3282.919922</td>\n",
       "      <td>3241.199951</td>\n",
       "      <td>3256.929932</td>\n",
       "      <td>3256.929932</td>\n",
       "      <td>2957200</td>\n",
       "    </tr>\n",
       "    <tr>\n",
       "      <th>2021-01-04</th>\n",
       "      <td>3270.000000</td>\n",
       "      <td>3272.000000</td>\n",
       "      <td>3144.020020</td>\n",
       "      <td>3186.629883</td>\n",
       "      <td>3186.629883</td>\n",
       "      <td>4411400</td>\n",
       "    </tr>\n",
       "    <tr>\n",
       "      <th>2021-01-05</th>\n",
       "      <td>3166.010010</td>\n",
       "      <td>3223.379883</td>\n",
       "      <td>3165.060059</td>\n",
       "      <td>3218.510010</td>\n",
       "      <td>3218.510010</td>\n",
       "      <td>2655500</td>\n",
       "    </tr>\n",
       "    <tr>\n",
       "      <th>2021-01-06</th>\n",
       "      <td>3146.479980</td>\n",
       "      <td>3197.510010</td>\n",
       "      <td>3131.159912</td>\n",
       "      <td>3138.379883</td>\n",
       "      <td>3138.379883</td>\n",
       "      <td>4394800</td>\n",
       "    </tr>\n",
       "    <tr>\n",
       "      <th>2021-01-07</th>\n",
       "      <td>3157.000000</td>\n",
       "      <td>3208.540039</td>\n",
       "      <td>3155.000000</td>\n",
       "      <td>3162.159912</td>\n",
       "      <td>3162.159912</td>\n",
       "      <td>3514500</td>\n",
       "    </tr>\n",
       "    <tr>\n",
       "      <th>...</th>\n",
       "      <td>...</td>\n",
       "      <td>...</td>\n",
       "      <td>...</td>\n",
       "      <td>...</td>\n",
       "      <td>...</td>\n",
       "      <td>...</td>\n",
       "    </tr>\n",
       "    <tr>\n",
       "      <th>2022-01-10</th>\n",
       "      <td>3211.709961</td>\n",
       "      <td>3233.229980</td>\n",
       "      <td>3126.090088</td>\n",
       "      <td>3229.719971</td>\n",
       "      <td>3229.719971</td>\n",
       "      <td>4389900</td>\n",
       "    </tr>\n",
       "    <tr>\n",
       "      <th>2022-01-11</th>\n",
       "      <td>3230.000000</td>\n",
       "      <td>3327.000000</td>\n",
       "      <td>3214.030029</td>\n",
       "      <td>3307.239990</td>\n",
       "      <td>3307.239990</td>\n",
       "      <td>3140300</td>\n",
       "    </tr>\n",
       "    <tr>\n",
       "      <th>2022-01-12</th>\n",
       "      <td>3331.500000</td>\n",
       "      <td>3337.560059</td>\n",
       "      <td>3288.340088</td>\n",
       "      <td>3304.139893</td>\n",
       "      <td>3304.139893</td>\n",
       "      <td>2501500</td>\n",
       "    </tr>\n",
       "    <tr>\n",
       "      <th>2022-01-13</th>\n",
       "      <td>3305.010010</td>\n",
       "      <td>3324.429932</td>\n",
       "      <td>3221.820068</td>\n",
       "      <td>3224.280029</td>\n",
       "      <td>3224.280029</td>\n",
       "      <td>2609400</td>\n",
       "    </tr>\n",
       "    <tr>\n",
       "      <th>2022-01-14</th>\n",
       "      <td>3203.000000</td>\n",
       "      <td>3245.000000</td>\n",
       "      <td>3196.010010</td>\n",
       "      <td>3242.760010</td>\n",
       "      <td>3242.760010</td>\n",
       "      <td>2295800</td>\n",
       "    </tr>\n",
       "  </tbody>\n",
       "</table>\n",
       "<p>263 rows × 6 columns</p>\n",
       "</div>"
      ],
      "text/plain": [
       "                   Open         High          Low        Close    Adj Close  \\\n",
       "Date                                                                          \n",
       "2020-12-31  3275.000000  3282.919922  3241.199951  3256.929932  3256.929932   \n",
       "2021-01-04  3270.000000  3272.000000  3144.020020  3186.629883  3186.629883   \n",
       "2021-01-05  3166.010010  3223.379883  3165.060059  3218.510010  3218.510010   \n",
       "2021-01-06  3146.479980  3197.510010  3131.159912  3138.379883  3138.379883   \n",
       "2021-01-07  3157.000000  3208.540039  3155.000000  3162.159912  3162.159912   \n",
       "...                 ...          ...          ...          ...          ...   \n",
       "2022-01-10  3211.709961  3233.229980  3126.090088  3229.719971  3229.719971   \n",
       "2022-01-11  3230.000000  3327.000000  3214.030029  3307.239990  3307.239990   \n",
       "2022-01-12  3331.500000  3337.560059  3288.340088  3304.139893  3304.139893   \n",
       "2022-01-13  3305.010010  3324.429932  3221.820068  3224.280029  3224.280029   \n",
       "2022-01-14  3203.000000  3245.000000  3196.010010  3242.760010  3242.760010   \n",
       "\n",
       "             Volume  \n",
       "Date                 \n",
       "2020-12-31  2957200  \n",
       "2021-01-04  4411400  \n",
       "2021-01-05  2655500  \n",
       "2021-01-06  4394800  \n",
       "2021-01-07  3514500  \n",
       "...             ...  \n",
       "2022-01-10  4389900  \n",
       "2022-01-11  3140300  \n",
       "2022-01-12  2501500  \n",
       "2022-01-13  2609400  \n",
       "2022-01-14  2295800  \n",
       "\n",
       "[263 rows x 6 columns]"
      ]
     },
     "execution_count": 189,
     "metadata": {},
     "output_type": "execute_result"
    }
   ],
   "source": [
    "df"
   ]
  },
  {
   "cell_type": "code",
   "execution_count": 190,
   "id": "c2b20cd2",
   "metadata": {},
   "outputs": [],
   "source": [
    "def macd(df):\n",
    "    df['EMA12'] = df.Close.ewm(span=12).mean()\n",
    "    df['EMA26'] = df.Close.ewm(span=26).mean()\n",
    "    df['MACD'] = df['EMA12'] - df['EMA26']\n",
    "    df['signal'] = df.MACD.ewm(span=9).mean()\n",
    "    print('Indicators added!')"
   ]
  },
  {
   "cell_type": "code",
   "execution_count": 191,
   "id": "bc633a7f",
   "metadata": {},
   "outputs": [
    {
     "name": "stdout",
     "output_type": "stream",
     "text": [
      "Indicators added!\n"
     ]
    }
   ],
   "source": [
    "macd(df)"
   ]
  },
  {
   "cell_type": "code",
   "execution_count": 192,
   "id": "d05715b6",
   "metadata": {},
   "outputs": [
    {
     "data": {
      "text/html": [
       "<div>\n",
       "<style scoped>\n",
       "    .dataframe tbody tr th:only-of-type {\n",
       "        vertical-align: middle;\n",
       "    }\n",
       "\n",
       "    .dataframe tbody tr th {\n",
       "        vertical-align: top;\n",
       "    }\n",
       "\n",
       "    .dataframe thead th {\n",
       "        text-align: right;\n",
       "    }\n",
       "</style>\n",
       "<table border=\"1\" class=\"dataframe\">\n",
       "  <thead>\n",
       "    <tr style=\"text-align: right;\">\n",
       "      <th></th>\n",
       "      <th>Open</th>\n",
       "      <th>High</th>\n",
       "      <th>Low</th>\n",
       "      <th>Close</th>\n",
       "      <th>Adj Close</th>\n",
       "      <th>Volume</th>\n",
       "      <th>EMA12</th>\n",
       "      <th>EMA26</th>\n",
       "      <th>MACD</th>\n",
       "      <th>signal</th>\n",
       "    </tr>\n",
       "    <tr>\n",
       "      <th>Date</th>\n",
       "      <th></th>\n",
       "      <th></th>\n",
       "      <th></th>\n",
       "      <th></th>\n",
       "      <th></th>\n",
       "      <th></th>\n",
       "      <th></th>\n",
       "      <th></th>\n",
       "      <th></th>\n",
       "      <th></th>\n",
       "    </tr>\n",
       "  </thead>\n",
       "  <tbody>\n",
       "    <tr>\n",
       "      <th>2020-12-31</th>\n",
       "      <td>3275.000000</td>\n",
       "      <td>3282.919922</td>\n",
       "      <td>3241.199951</td>\n",
       "      <td>3256.929932</td>\n",
       "      <td>3256.929932</td>\n",
       "      <td>2957200</td>\n",
       "      <td>3256.929932</td>\n",
       "      <td>3256.929932</td>\n",
       "      <td>0.000000</td>\n",
       "      <td>0.000000</td>\n",
       "    </tr>\n",
       "    <tr>\n",
       "      <th>2021-01-04</th>\n",
       "      <td>3270.000000</td>\n",
       "      <td>3272.000000</td>\n",
       "      <td>3144.020020</td>\n",
       "      <td>3186.629883</td>\n",
       "      <td>3186.629883</td>\n",
       "      <td>4411400</td>\n",
       "      <td>3218.850739</td>\n",
       "      <td>3220.427983</td>\n",
       "      <td>-1.577245</td>\n",
       "      <td>-0.876247</td>\n",
       "    </tr>\n",
       "    <tr>\n",
       "      <th>2021-01-05</th>\n",
       "      <td>3166.010010</td>\n",
       "      <td>3223.379883</td>\n",
       "      <td>3165.060059</td>\n",
       "      <td>3218.510010</td>\n",
       "      <td>3218.510010</td>\n",
       "      <td>2655500</td>\n",
       "      <td>3218.717752</td>\n",
       "      <td>3219.738874</td>\n",
       "      <td>-1.021122</td>\n",
       "      <td>-0.935622</td>\n",
       "    </tr>\n",
       "    <tr>\n",
       "      <th>2021-01-06</th>\n",
       "      <td>3146.479980</td>\n",
       "      <td>3197.510010</td>\n",
       "      <td>3131.159912</td>\n",
       "      <td>3138.379883</td>\n",
       "      <td>3138.379883</td>\n",
       "      <td>4394800</td>\n",
       "      <td>3193.358226</td>\n",
       "      <td>3196.994455</td>\n",
       "      <td>-3.636229</td>\n",
       "      <td>-1.850462</td>\n",
       "    </tr>\n",
       "    <tr>\n",
       "      <th>2021-01-07</th>\n",
       "      <td>3157.000000</td>\n",
       "      <td>3208.540039</td>\n",
       "      <td>3155.000000</td>\n",
       "      <td>3162.159912</td>\n",
       "      <td>3162.159912</td>\n",
       "      <td>3514500</td>\n",
       "      <td>3184.881756</td>\n",
       "      <td>3188.916181</td>\n",
       "      <td>-4.034425</td>\n",
       "      <td>-2.500142</td>\n",
       "    </tr>\n",
       "    <tr>\n",
       "      <th>...</th>\n",
       "      <td>...</td>\n",
       "      <td>...</td>\n",
       "      <td>...</td>\n",
       "      <td>...</td>\n",
       "      <td>...</td>\n",
       "      <td>...</td>\n",
       "      <td>...</td>\n",
       "      <td>...</td>\n",
       "      <td>...</td>\n",
       "      <td>...</td>\n",
       "    </tr>\n",
       "    <tr>\n",
       "      <th>2022-01-10</th>\n",
       "      <td>3211.709961</td>\n",
       "      <td>3233.229980</td>\n",
       "      <td>3126.090088</td>\n",
       "      <td>3229.719971</td>\n",
       "      <td>3229.719971</td>\n",
       "      <td>4389900</td>\n",
       "      <td>3323.752787</td>\n",
       "      <td>3373.869433</td>\n",
       "      <td>-50.116646</td>\n",
       "      <td>-34.950492</td>\n",
       "    </tr>\n",
       "    <tr>\n",
       "      <th>2022-01-11</th>\n",
       "      <td>3230.000000</td>\n",
       "      <td>3327.000000</td>\n",
       "      <td>3214.030029</td>\n",
       "      <td>3307.239990</td>\n",
       "      <td>3307.239990</td>\n",
       "      <td>3140300</td>\n",
       "      <td>3321.212356</td>\n",
       "      <td>3368.933919</td>\n",
       "      <td>-47.721562</td>\n",
       "      <td>-37.504706</td>\n",
       "    </tr>\n",
       "    <tr>\n",
       "      <th>2022-01-12</th>\n",
       "      <td>3331.500000</td>\n",
       "      <td>3337.560059</td>\n",
       "      <td>3288.340088</td>\n",
       "      <td>3304.139893</td>\n",
       "      <td>3304.139893</td>\n",
       "      <td>2501500</td>\n",
       "      <td>3318.585824</td>\n",
       "      <td>3364.134361</td>\n",
       "      <td>-45.548538</td>\n",
       "      <td>-39.113472</td>\n",
       "    </tr>\n",
       "    <tr>\n",
       "      <th>2022-01-13</th>\n",
       "      <td>3305.010010</td>\n",
       "      <td>3324.429932</td>\n",
       "      <td>3221.820068</td>\n",
       "      <td>3224.280029</td>\n",
       "      <td>3224.280029</td>\n",
       "      <td>2609400</td>\n",
       "      <td>3304.077240</td>\n",
       "      <td>3353.774781</td>\n",
       "      <td>-49.697541</td>\n",
       "      <td>-41.230286</td>\n",
       "    </tr>\n",
       "    <tr>\n",
       "      <th>2022-01-14</th>\n",
       "      <td>3203.000000</td>\n",
       "      <td>3245.000000</td>\n",
       "      <td>3196.010010</td>\n",
       "      <td>3242.760010</td>\n",
       "      <td>3242.760010</td>\n",
       "      <td>2295800</td>\n",
       "      <td>3294.643820</td>\n",
       "      <td>3345.551465</td>\n",
       "      <td>-50.907645</td>\n",
       "      <td>-43.165758</td>\n",
       "    </tr>\n",
       "  </tbody>\n",
       "</table>\n",
       "<p>263 rows × 10 columns</p>\n",
       "</div>"
      ],
      "text/plain": [
       "                   Open         High          Low        Close    Adj Close  \\\n",
       "Date                                                                          \n",
       "2020-12-31  3275.000000  3282.919922  3241.199951  3256.929932  3256.929932   \n",
       "2021-01-04  3270.000000  3272.000000  3144.020020  3186.629883  3186.629883   \n",
       "2021-01-05  3166.010010  3223.379883  3165.060059  3218.510010  3218.510010   \n",
       "2021-01-06  3146.479980  3197.510010  3131.159912  3138.379883  3138.379883   \n",
       "2021-01-07  3157.000000  3208.540039  3155.000000  3162.159912  3162.159912   \n",
       "...                 ...          ...          ...          ...          ...   \n",
       "2022-01-10  3211.709961  3233.229980  3126.090088  3229.719971  3229.719971   \n",
       "2022-01-11  3230.000000  3327.000000  3214.030029  3307.239990  3307.239990   \n",
       "2022-01-12  3331.500000  3337.560059  3288.340088  3304.139893  3304.139893   \n",
       "2022-01-13  3305.010010  3324.429932  3221.820068  3224.280029  3224.280029   \n",
       "2022-01-14  3203.000000  3245.000000  3196.010010  3242.760010  3242.760010   \n",
       "\n",
       "             Volume        EMA12        EMA26       MACD     signal  \n",
       "Date                                                                 \n",
       "2020-12-31  2957200  3256.929932  3256.929932   0.000000   0.000000  \n",
       "2021-01-04  4411400  3218.850739  3220.427983  -1.577245  -0.876247  \n",
       "2021-01-05  2655500  3218.717752  3219.738874  -1.021122  -0.935622  \n",
       "2021-01-06  4394800  3193.358226  3196.994455  -3.636229  -1.850462  \n",
       "2021-01-07  3514500  3184.881756  3188.916181  -4.034425  -2.500142  \n",
       "...             ...          ...          ...        ...        ...  \n",
       "2022-01-10  4389900  3323.752787  3373.869433 -50.116646 -34.950492  \n",
       "2022-01-11  3140300  3321.212356  3368.933919 -47.721562 -37.504706  \n",
       "2022-01-12  2501500  3318.585824  3364.134361 -45.548538 -39.113472  \n",
       "2022-01-13  2609400  3304.077240  3353.774781 -49.697541 -41.230286  \n",
       "2022-01-14  2295800  3294.643820  3345.551465 -50.907645 -43.165758  \n",
       "\n",
       "[263 rows x 10 columns]"
      ]
     },
     "execution_count": 192,
     "metadata": {},
     "output_type": "execute_result"
    }
   ],
   "source": [
    "df"
   ]
  },
  {
   "cell_type": "code",
   "execution_count": 193,
   "id": "e401665f",
   "metadata": {},
   "outputs": [
    {
     "data": {
      "image/png": "[encoded data removed]",
      "text/plain": [
       "<Figure size 432x288 with 1 Axes>"
      ]
     },
     "metadata": {
      "needs_background": "light"
     },
     "output_type": "display_data"
    }
   ],
   "source": [
    "plt.plot(df.signal, label='signal', color='red')\n",
    "plt.plot(df.MACD, label='MACD',color='green')\n",
    "plt.legend()\n",
    "plt.show()"
   ]
  },
  {
   "cell_type": "code",
   "execution_count": 194,
   "id": "ed5ec6ae",
   "metadata": {},
   "outputs": [],
   "source": [
    "Buy, Sell = [], []\n",
    "\n",
    "for i in range(2,len(df)):\n",
    "    if df.MACD.iloc[i] > df.signal.iloc[i] and df.MACD.iloc[i-1] < df.signal.iloc[i-1]:\n",
    "        Buy.append(i)\n",
    "    elif df.MACD.iloc[i] < df.signal.iloc[i] and df.MACD.iloc[i-1] > df.signal.iloc[i-1]:\n",
    "        Sell.append(i)"
   ]
  },
  {
   "cell_type": "code",
   "execution_count": 195,
   "id": "66e1d727",
   "metadata": {},
   "outputs": [
    {
     "data": {
      "text/plain": [
       "[12, 48, 78, 108, 126, 163, 198, 213]"
      ]
     },
     "execution_count": 195,
     "metadata": {},
     "output_type": "execute_result"
    }
   ],
   "source": [
    "Buy"
   ]
  },
  {
   "cell_type": "code",
   "execution_count": 196,
   "id": "94ad22b2",
   "metadata": {},
   "outputs": [
    {
     "data": {
      "text/plain": [
       "[27, 77, 84, 125, 135, 180, 211, 228]"
      ]
     },
     "execution_count": 196,
     "metadata": {},
     "output_type": "execute_result"
    }
   ],
   "source": [
    "Sell"
   ]
  },
  {
   "cell_type": "code",
   "execution_count": 197,
   "id": "0e49af14",
   "metadata": {},
   "outputs": [
    {
     "data": {
      "image/png": "[encoded data removed]",
      "text/plain": [
       "<Figure size 864x432 with 1 Axes>"
      ]
     },
     "metadata": {
      "needs_background": "light"
     },
     "output_type": "display_data"
    }
   ],
   "source": [
    "plt.figure(figsize=(12,6))\n",
    "plt.scatter(df.iloc[Buy].index, df.iloc[Buy].Close, marker=\"^\", color='green')\n",
    "plt.scatter(df.iloc[Sell].index, df.iloc[Sell].Close, marker=\"v\", color='red')\n",
    "plt.plot(df.Close, label='Asset', color='black')\n",
    "plt.legend()\n",
    "plt.show()"
   ]
  },
  {
   "cell_type": "code",
   "execution_count": 198,
   "id": "f41fef03",
   "metadata": {},
   "outputs": [
    {
     "data": {
      "text/plain": [
       "<matplotlib.legend.Legend at 0x7ff469a47dc0>"
      ]
     },
     "execution_count": 198,
     "metadata": {},
     "output_type": "execute_result"
    },
    {
     "data": {
      "image/png": "[encoded data removed]",
      "text/plain": [
       "<Figure size 864x432 with 1 Axes>"
      ]
     },
     "metadata": {
      "needs_background": "light"
     },
     "output_type": "display_data"
    }
   ],
   "source": [
    "plt.figure(figsize=(12,6))\n",
    "plt.plot(df.MACD,label='MACD')\n",
    "plt.plot(df.signal,label='signal')\n",
    "plt.legend()"
   ]
  },
  {
   "cell_type": "markdown",
   "id": "3c4e4d70",
   "metadata": {},
   "source": [
    "# PnL Statement"
   ]
  },
  {
   "cell_type": "code",
   "execution_count": 199,
   "id": "de2a0129",
   "metadata": {},
   "outputs": [
    {
     "data": {
      "text/plain": [
       "[12, 48, 78, 108, 126, 163, 198, 213]"
      ]
     },
     "execution_count": 199,
     "metadata": {},
     "output_type": "execute_result"
    }
   ],
   "source": [
    "Buy"
   ]
  },
  {
   "cell_type": "code",
   "execution_count": 200,
   "id": "a690aa55",
   "metadata": {},
   "outputs": [],
   "source": [
    "Realbuys = [i+1 for i in Buy]\n",
    "Realsells = [i+1 for i in Sell]"
   ]
  },
  {
   "cell_type": "code",
   "execution_count": 201,
   "id": "716ffe3b",
   "metadata": {},
   "outputs": [],
   "source": [
    "Buyprices = df.Open.iloc[Realbuys]\n",
    "Sellprices = df.Open.iloc[Realsells]"
   ]
  },
  {
   "cell_type": "code",
   "execution_count": 202,
   "id": "fcddc682",
   "metadata": {},
   "outputs": [
    {
     "data": {
      "text/plain": [
       "Date\n",
       "2021-01-21    3293.000000\n",
       "2021-03-15    3074.570068\n",
       "2021-04-27    3443.469971\n",
       "2021-06-09    3272.870117\n",
       "2021-07-06    3530.110107\n",
       "2021-08-26    3299.000000\n",
       "2021-10-15    3311.419922\n",
       "2021-11-05    3477.000000\n",
       "Name: Open, dtype: float64"
      ]
     },
     "execution_count": 202,
     "metadata": {},
     "output_type": "execute_result"
    }
   ],
   "source": [
    "Buyprices"
   ]
  },
  {
   "cell_type": "code",
   "execution_count": 203,
   "id": "98a16a69",
   "metadata": {},
   "outputs": [
    {
     "data": {
      "text/plain": [
       "Date\n",
       "2021-02-11    3292.000000\n",
       "2021-04-26    3348.000000\n",
       "2021-05-05    3338.860107\n",
       "2021-07-02    3451.639893\n",
       "2021-07-19    3532.580078\n",
       "2021-09-21    3375.000000\n",
       "2021-11-03    3309.000000\n",
       "2021-11-29    3547.639893\n",
       "Name: Open, dtype: float64"
      ]
     },
     "execution_count": 203,
     "metadata": {},
     "output_type": "execute_result"
    }
   ],
   "source": [
    "Sellprices"
   ]
  },
  {
   "cell_type": "code",
   "execution_count": 204,
   "id": "6888481f",
   "metadata": {},
   "outputs": [],
   "source": [
    "if Sellprices.index[0] < Buyprices.index[0]:\n",
    "    Sellprices = Sellprices[1:]\n",
    "elif Buyprices.index[-1] > Sellprices.index[-1]:\n",
    "    Buyprices = Buyprices[:-1]"
   ]
  },
  {
   "cell_type": "code",
   "execution_count": 205,
   "id": "811f3b6e",
   "metadata": {},
   "outputs": [],
   "source": [
    "profits = []\n",
    "profitsrel = []\n",
    "\n",
    "for i in range(len(Sellprices)):\n",
    "    profits.append((Sellprices[i]-Buyprices[i]))\n",
    "    profitsrel.append((Sellprices[i]-Buyprices[i])/Buyprices[i])"
   ]
  },
  {
   "cell_type": "code",
   "execution_count": 206,
   "id": "fd492249",
   "metadata": {},
   "outputs": [
    {
     "name": "stdout",
     "output_type": "stream",
     "text": [
      "You made: $493.28 in profit!\n",
      "You made: 15.62% in profit!\n",
      "BnH : $-72.0 in profit!\n",
      "BnH Rel: -2.198473282442748% in profit!\n"
     ]
    }
   ],
   "source": [
    "strprofitrel = str(round(sum(profitsrel*100),2))\n",
    "strprofit = str(round(sum(profits),2))\n",
    "\n",
    "bnhprofit = df.Open[-1] - df.Open[0]\n",
    "relbnhprofit = (df.Open[-1] - df.Open[0])/df.Open[0]\n",
    "\n",
    "print('You made: $' + strprofit + ' in profit!')\n",
    "print('You made: ' + strprofitrel + '% in profit!')\n",
    "\n",
    "print('BnH : $' + str(bnhprofit) + ' in profit!')\n",
    "print('BnH Rel: ' + str(relbnhprofit*100) + '% in profit!')\n"
   ]
  },
  {
   "cell_type": "code",
   "execution_count": 207,
   "id": "cfc5d459",
   "metadata": {
    "scrolled": true
   },
   "outputs": [
    {
     "data": {
      "text/plain": [
       "[-0.03036744609778318,\n",
       " 8.893273711811364,\n",
       " -3.037920010084758,\n",
       " 5.462171396653178,\n",
       " 0.06996865899259101,\n",
       " 2.303728402546226,\n",
       " -0.07307807321608992,\n",
       " 2.0316333787208802]"
      ]
     },
     "execution_count": 207,
     "metadata": {},
     "output_type": "execute_result"
    }
   ],
   "source": [
    "[i*100 for i in profitsrel]"
   ]
  },
  {
   "cell_type": "markdown",
   "id": "6e9cc058",
   "metadata": {},
   "source": [
    "# Conclusion\n",
    "\n",
    "We made a little money but not too much. Buying and Holding would have been more profitable..."
   ]
  },
  {
   "cell_type": "code",
   "execution_count": null,
   "id": "5dc73775",
   "metadata": {},
   "outputs": [],
   "source": []
  },
  {
   "cell_type": "code",
   "execution_count": null,
   "id": "e8a90df7",
   "metadata": {},
   "outputs": [],
   "source": []
  },
  {
   "cell_type": "code",
   "execution_count": null,
   "id": "7cffe5bc",
   "metadata": {},
   "outputs": [],
   "source": []
  }
 ],
 "metadata": {
  "kernelspec": {
   "display_name": "Python 3",
   "language": "python",
   "name": "python3"
  },
  "language_info": {
   "codemirror_mode": {
    "name": "ipython",
    "version": 3
   },
   "file_extension": ".py",
   "mimetype": "text/x-python",
   "name": "python",
   "nbconvert_exporter": "python",
   "pygments_lexer": "ipython3",
   "version": "3.8.8"
  }
 },
 "nbformat": 4,
 "nbformat_minor": 5
}

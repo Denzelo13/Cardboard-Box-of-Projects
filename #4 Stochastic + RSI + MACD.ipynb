{
 "cells": [
  {
   "cell_type": "code",
   "execution_count": 843,
   "id": "b1ffc48a",
   "metadata": {},
   "outputs": [],
   "source": [
    "import yfinance as yf\n",
    "import numpy as np\n",
    "import ta\n",
    "import pandas as pd\n",
    "import matplotlib.pyplot as plt"
   ]
  },
  {
   "cell_type": "code",
   "execution_count": 844,
   "id": "e0c6c5af",
   "metadata": {},
   "outputs": [
    {
     "name": "stdout",
     "output_type": "stream",
     "text": [
      "[*********************100%***********************]  1 of 1 completed\n"
     ]
    }
   ],
   "source": [
    "df = yf.download('MATIC-USD', start='2022-1-15', interval = '1m')"
   ]
  },
  {
   "cell_type": "code",
   "execution_count": 845,
   "id": "8415e4b8",
   "metadata": {},
   "outputs": [],
   "source": [
    "df['%K'] = ta.momentum.stoch(df.High,df.Low,df.Close)"
   ]
  },
  {
   "cell_type": "code",
   "execution_count": 846,
   "id": "a1f6e368",
   "metadata": {},
   "outputs": [],
   "source": [
    "df['%D'] = df['%K'].rolling(3).mean()"
   ]
  },
  {
   "cell_type": "code",
   "execution_count": 847,
   "id": "6c9e670b",
   "metadata": {},
   "outputs": [],
   "source": [
    "df['RSI'] = ta.momentum.rsi(df.Close)"
   ]
  },
  {
   "cell_type": "code",
   "execution_count": 848,
   "id": "5e6b068c",
   "metadata": {},
   "outputs": [],
   "source": [
    "df['MACDiff'] = ta.trend.macd_diff(df.Close)"
   ]
  },
  {
   "cell_type": "code",
   "execution_count": 849,
   "id": "88aa7fa2",
   "metadata": {},
   "outputs": [],
   "source": [
    "df.dropna(inplace= True)"
   ]
  },
  {
   "cell_type": "code",
   "execution_count": 850,
   "id": "3b5dc769",
   "metadata": {
    "scrolled": true
   },
   "outputs": [
    {
     "data": {
      "text/html": [
       "<div>\n",
       "<style scoped>\n",
       "    .dataframe tbody tr th:only-of-type {\n",
       "        vertical-align: middle;\n",
       "    }\n",
       "\n",
       "    .dataframe tbody tr th {\n",
       "        vertical-align: top;\n",
       "    }\n",
       "\n",
       "    .dataframe thead th {\n",
       "        text-align: right;\n",
       "    }\n",
       "</style>\n",
       "<table border=\"1\" class=\"dataframe\">\n",
       "  <thead>\n",
       "    <tr style=\"text-align: right;\">\n",
       "      <th></th>\n",
       "      <th>Open</th>\n",
       "      <th>High</th>\n",
       "      <th>Low</th>\n",
       "      <th>Close</th>\n",
       "      <th>Adj Close</th>\n",
       "      <th>Volume</th>\n",
       "      <th>%K</th>\n",
       "      <th>%D</th>\n",
       "      <th>RSI</th>\n",
       "      <th>MACDiff</th>\n",
       "    </tr>\n",
       "    <tr>\n",
       "      <th>Datetime</th>\n",
       "      <th></th>\n",
       "      <th></th>\n",
       "      <th></th>\n",
       "      <th></th>\n",
       "      <th></th>\n",
       "      <th></th>\n",
       "      <th></th>\n",
       "      <th></th>\n",
       "      <th></th>\n",
       "      <th></th>\n",
       "    </tr>\n",
       "  </thead>\n",
       "  <tbody>\n",
       "    <tr>\n",
       "      <th>2022-01-14 13:33:00+00:00</th>\n",
       "      <td>2.230376</td>\n",
       "      <td>2.230376</td>\n",
       "      <td>2.230376</td>\n",
       "      <td>2.230376</td>\n",
       "      <td>2.230376</td>\n",
       "      <td>257024</td>\n",
       "      <td>39.126550</td>\n",
       "      <td>39.601873</td>\n",
       "      <td>56.448085</td>\n",
       "      <td>-0.000387</td>\n",
       "    </tr>\n",
       "    <tr>\n",
       "      <th>2022-01-14 13:34:00+00:00</th>\n",
       "      <td>2.229745</td>\n",
       "      <td>2.229745</td>\n",
       "      <td>2.229745</td>\n",
       "      <td>2.229745</td>\n",
       "      <td>2.229745</td>\n",
       "      <td>0</td>\n",
       "      <td>29.673707</td>\n",
       "      <td>38.019847</td>\n",
       "      <td>53.809036</td>\n",
       "      <td>-0.000501</td>\n",
       "    </tr>\n",
       "    <tr>\n",
       "      <th>2022-01-14 13:35:00+00:00</th>\n",
       "      <td>2.229962</td>\n",
       "      <td>2.229962</td>\n",
       "      <td>2.229962</td>\n",
       "      <td>2.229962</td>\n",
       "      <td>2.229962</td>\n",
       "      <td>0</td>\n",
       "      <td>32.929488</td>\n",
       "      <td>33.909915</td>\n",
       "      <td>54.596383</td>\n",
       "      <td>-0.000553</td>\n",
       "    </tr>\n",
       "    <tr>\n",
       "      <th>2022-01-14 13:36:00+00:00</th>\n",
       "      <td>2.229671</td>\n",
       "      <td>2.229671</td>\n",
       "      <td>2.229671</td>\n",
       "      <td>2.229671</td>\n",
       "      <td>2.229671</td>\n",
       "      <td>0</td>\n",
       "      <td>16.599207</td>\n",
       "      <td>26.400801</td>\n",
       "      <td>53.286441</td>\n",
       "      <td>-0.000595</td>\n",
       "    </tr>\n",
       "    <tr>\n",
       "      <th>2022-01-14 13:37:00+00:00</th>\n",
       "      <td>2.228933</td>\n",
       "      <td>2.228933</td>\n",
       "      <td>2.228933</td>\n",
       "      <td>2.228933</td>\n",
       "      <td>2.228933</td>\n",
       "      <td>0</td>\n",
       "      <td>0.000000</td>\n",
       "      <td>16.509565</td>\n",
       "      <td>50.004409</td>\n",
       "      <td>-0.000655</td>\n",
       "    </tr>\n",
       "    <tr>\n",
       "      <th>...</th>\n",
       "      <td>...</td>\n",
       "      <td>...</td>\n",
       "      <td>...</td>\n",
       "      <td>...</td>\n",
       "      <td>...</td>\n",
       "      <td>...</td>\n",
       "      <td>...</td>\n",
       "      <td>...</td>\n",
       "      <td>...</td>\n",
       "      <td>...</td>\n",
       "    </tr>\n",
       "    <tr>\n",
       "      <th>2022-01-21 06:13:00+00:00</th>\n",
       "      <td>1.916344</td>\n",
       "      <td>1.916344</td>\n",
       "      <td>1.916344</td>\n",
       "      <td>1.916344</td>\n",
       "      <td>1.916344</td>\n",
       "      <td>0</td>\n",
       "      <td>50.881887</td>\n",
       "      <td>33.982850</td>\n",
       "      <td>62.148390</td>\n",
       "      <td>-0.000142</td>\n",
       "    </tr>\n",
       "    <tr>\n",
       "      <th>2022-01-21 06:14:00+00:00</th>\n",
       "      <td>1.913945</td>\n",
       "      <td>1.913945</td>\n",
       "      <td>1.913945</td>\n",
       "      <td>1.913945</td>\n",
       "      <td>1.913945</td>\n",
       "      <td>174720</td>\n",
       "      <td>34.781794</td>\n",
       "      <td>39.615145</td>\n",
       "      <td>53.108396</td>\n",
       "      <td>-0.000166</td>\n",
       "    </tr>\n",
       "    <tr>\n",
       "      <th>2022-01-21 06:15:00+00:00</th>\n",
       "      <td>1.912851</td>\n",
       "      <td>1.912851</td>\n",
       "      <td>1.912851</td>\n",
       "      <td>1.912851</td>\n",
       "      <td>1.912851</td>\n",
       "      <td>539008</td>\n",
       "      <td>20.457491</td>\n",
       "      <td>35.373724</td>\n",
       "      <td>49.569781</td>\n",
       "      <td>-0.000251</td>\n",
       "    </tr>\n",
       "    <tr>\n",
       "      <th>2022-01-21 06:16:00+00:00</th>\n",
       "      <td>1.909615</td>\n",
       "      <td>1.909615</td>\n",
       "      <td>1.909615</td>\n",
       "      <td>1.909615</td>\n",
       "      <td>1.909615</td>\n",
       "      <td>0</td>\n",
       "      <td>0.000000</td>\n",
       "      <td>18.413095</td>\n",
       "      <td>40.888974</td>\n",
       "      <td>-0.000507</td>\n",
       "    </tr>\n",
       "    <tr>\n",
       "      <th>2022-01-21 06:17:00+00:00</th>\n",
       "      <td>1.907810</td>\n",
       "      <td>1.907810</td>\n",
       "      <td>1.907810</td>\n",
       "      <td>1.907810</td>\n",
       "      <td>1.907810</td>\n",
       "      <td>0</td>\n",
       "      <td>0.000000</td>\n",
       "      <td>6.819164</td>\n",
       "      <td>36.996596</td>\n",
       "      <td>-0.000764</td>\n",
       "    </tr>\n",
       "  </tbody>\n",
       "</table>\n",
       "<p>9210 rows × 10 columns</p>\n",
       "</div>"
      ],
      "text/plain": [
       "                               Open      High       Low     Close  Adj Close  \\\n",
       "Datetime                                                                       \n",
       "2022-01-14 13:33:00+00:00  2.230376  2.230376  2.230376  2.230376   2.230376   \n",
       "2022-01-14 13:34:00+00:00  2.229745  2.229745  2.229745  2.229745   2.229745   \n",
       "2022-01-14 13:35:00+00:00  2.229962  2.229962  2.229962  2.229962   2.229962   \n",
       "2022-01-14 13:36:00+00:00  2.229671  2.229671  2.229671  2.229671   2.229671   \n",
       "2022-01-14 13:37:00+00:00  2.228933  2.228933  2.228933  2.228933   2.228933   \n",
       "...                             ...       ...       ...       ...        ...   \n",
       "2022-01-21 06:13:00+00:00  1.916344  1.916344  1.916344  1.916344   1.916344   \n",
       "2022-01-21 06:14:00+00:00  1.913945  1.913945  1.913945  1.913945   1.913945   \n",
       "2022-01-21 06:15:00+00:00  1.912851  1.912851  1.912851  1.912851   1.912851   \n",
       "2022-01-21 06:16:00+00:00  1.909615  1.909615  1.909615  1.909615   1.909615   \n",
       "2022-01-21 06:17:00+00:00  1.907810  1.907810  1.907810  1.907810   1.907810   \n",
       "\n",
       "                           Volume         %K         %D        RSI   MACDiff  \n",
       "Datetime                                                                      \n",
       "2022-01-14 13:33:00+00:00  257024  39.126550  39.601873  56.448085 -0.000387  \n",
       "2022-01-14 13:34:00+00:00       0  29.673707  38.019847  53.809036 -0.000501  \n",
       "2022-01-14 13:35:00+00:00       0  32.929488  33.909915  54.596383 -0.000553  \n",
       "2022-01-14 13:36:00+00:00       0  16.599207  26.400801  53.286441 -0.000595  \n",
       "2022-01-14 13:37:00+00:00       0   0.000000  16.509565  50.004409 -0.000655  \n",
       "...                           ...        ...        ...        ...       ...  \n",
       "2022-01-21 06:13:00+00:00       0  50.881887  33.982850  62.148390 -0.000142  \n",
       "2022-01-21 06:14:00+00:00  174720  34.781794  39.615145  53.108396 -0.000166  \n",
       "2022-01-21 06:15:00+00:00  539008  20.457491  35.373724  49.569781 -0.000251  \n",
       "2022-01-21 06:16:00+00:00       0   0.000000  18.413095  40.888974 -0.000507  \n",
       "2022-01-21 06:17:00+00:00       0   0.000000   6.819164  36.996596 -0.000764  \n",
       "\n",
       "[9210 rows x 10 columns]"
      ]
     },
     "execution_count": 850,
     "metadata": {},
     "output_type": "execute_result"
    }
   ],
   "source": [
    "df"
   ]
  },
  {
   "cell_type": "code",
   "execution_count": 851,
   "id": "e0e79254",
   "metadata": {},
   "outputs": [],
   "source": [
    "def gettriggers(df, lags, buy=True):\n",
    "    dfx = pd.DataFrame()\n",
    "    for i in range(1,lags+1):\n",
    "        if buy:\n",
    "            mask = (df['%K'].shift(i) < 20) & (df['%D'].shift(i) < 20)\n",
    "        else: \n",
    "            mask = (df['%K'].shift(i) > 80) & (df['%D'].shift(i) > 80)\n",
    "        dfx = dfx.append(mask,ignore_index=True)\n",
    "    return dfx.sum(axis=0)"
   ]
  },
  {
   "cell_type": "code",
   "execution_count": 852,
   "id": "96456172",
   "metadata": {},
   "outputs": [],
   "source": [
    "df['Buytrigger'] = np.where(gettriggers(df,8), 1, 0)"
   ]
  },
  {
   "cell_type": "code",
   "execution_count": 853,
   "id": "1d0eeb00",
   "metadata": {},
   "outputs": [],
   "source": [
    "df['Selltrigger'] = np.where(gettriggers(df,8, False), 1, 0)"
   ]
  },
  {
   "cell_type": "code",
   "execution_count": 854,
   "id": "e9bda025",
   "metadata": {},
   "outputs": [],
   "source": [
    "df['Buy'] = np.where((df.Buytrigger) & (df['%K'].between(20,80)) & (df['%D'].between(20,80))\n",
    "                     & (df.MACDiff > 0) & (df.RSI > 50), 1, 0)\n",
    "                    "
   ]
  },
  {
   "cell_type": "code",
   "execution_count": 855,
   "id": "0d85af5c",
   "metadata": {},
   "outputs": [],
   "source": [
    "df['Sell'] = np.where((df.Selltrigger) & (df['%K'].between(20,80)) & (df['%D'].between(20,80))\n",
    "                     & (df.MACDiff <  0) & (df.RSI < 50), 1, 0)\n",
    "                    "
   ]
  },
  {
   "cell_type": "code",
   "execution_count": 856,
   "id": "af8f4df6",
   "metadata": {},
   "outputs": [],
   "source": [
    "buy_dates, sell_dates = [],[]"
   ]
  },
  {
   "cell_type": "code",
   "execution_count": 857,
   "id": "fb8d165b",
   "metadata": {},
   "outputs": [],
   "source": [
    "for i in range(len(df)-1):\n",
    "    if df.Buy.iloc[i]:\n",
    "        buy_dates.append(df.iloc[i+1].name)\n",
    "        for num,j in enumerate(df.Sell[i:]):\n",
    "            if j:\n",
    "                sell_dates.append(df.iloc[i + num + 1].name)\n",
    "                break"
   ]
  },
  {
   "cell_type": "code",
   "execution_count": 858,
   "id": "9f8f6bb4",
   "metadata": {},
   "outputs": [],
   "source": [
    "cutit = len(buy_dates) - len(sell_dates)"
   ]
  },
  {
   "cell_type": "code",
   "execution_count": 859,
   "id": "83fb0771",
   "metadata": {},
   "outputs": [],
   "source": [
    "if cutit:\n",
    "    buy_dates = buy_dates[:-cutit]"
   ]
  },
  {
   "cell_type": "code",
   "execution_count": 860,
   "id": "191d48c7",
   "metadata": {},
   "outputs": [],
   "source": [
    "frame = pd.DataFrame({'buy_dates':buy_dates, 'sell_dates':sell_dates})"
   ]
  },
  {
   "cell_type": "code",
   "execution_count": 861,
   "id": "1b605128",
   "metadata": {},
   "outputs": [
    {
     "data": {
      "text/html": [
       "<div>\n",
       "<style scoped>\n",
       "    .dataframe tbody tr th:only-of-type {\n",
       "        vertical-align: middle;\n",
       "    }\n",
       "\n",
       "    .dataframe tbody tr th {\n",
       "        vertical-align: top;\n",
       "    }\n",
       "\n",
       "    .dataframe thead th {\n",
       "        text-align: right;\n",
       "    }\n",
       "</style>\n",
       "<table border=\"1\" class=\"dataframe\">\n",
       "  <thead>\n",
       "    <tr style=\"text-align: right;\">\n",
       "      <th></th>\n",
       "      <th>buy_dates</th>\n",
       "      <th>sell_dates</th>\n",
       "    </tr>\n",
       "  </thead>\n",
       "  <tbody>\n",
       "    <tr>\n",
       "      <th>8</th>\n",
       "      <td>2022-01-15 05:15:00+00:00</td>\n",
       "      <td>2022-01-15 05:16:00+00:00</td>\n",
       "    </tr>\n",
       "    <tr>\n",
       "      <th>9</th>\n",
       "      <td>2022-01-15 08:39:00+00:00</td>\n",
       "      <td>2022-01-15 11:10:00+00:00</td>\n",
       "    </tr>\n",
       "    <tr>\n",
       "      <th>10</th>\n",
       "      <td>2022-01-15 12:05:00+00:00</td>\n",
       "      <td>2022-01-15 15:23:00+00:00</td>\n",
       "    </tr>\n",
       "    <tr>\n",
       "      <th>14</th>\n",
       "      <td>2022-01-15 18:56:00+00:00</td>\n",
       "      <td>2022-01-16 02:35:00+00:00</td>\n",
       "    </tr>\n",
       "    <tr>\n",
       "      <th>18</th>\n",
       "      <td>2022-01-16 04:38:00+00:00</td>\n",
       "      <td>2022-01-16 04:50:00+00:00</td>\n",
       "    </tr>\n",
       "    <tr>\n",
       "      <th>19</th>\n",
       "      <td>2022-01-16 09:29:00+00:00</td>\n",
       "      <td>2022-01-16 12:01:00+00:00</td>\n",
       "    </tr>\n",
       "    <tr>\n",
       "      <th>27</th>\n",
       "      <td>2022-01-16 15:31:00+00:00</td>\n",
       "      <td>2022-01-16 20:26:00+00:00</td>\n",
       "    </tr>\n",
       "    <tr>\n",
       "      <th>31</th>\n",
       "      <td>2022-01-16 23:18:00+00:00</td>\n",
       "      <td>2022-01-16 23:22:00+00:00</td>\n",
       "    </tr>\n",
       "    <tr>\n",
       "      <th>33</th>\n",
       "      <td>2022-01-17 07:27:00+00:00</td>\n",
       "      <td>2022-01-17 09:23:00+00:00</td>\n",
       "    </tr>\n",
       "    <tr>\n",
       "      <th>34</th>\n",
       "      <td>2022-01-17 13:39:00+00:00</td>\n",
       "      <td>2022-01-17 14:51:00+00:00</td>\n",
       "    </tr>\n",
       "    <tr>\n",
       "      <th>36</th>\n",
       "      <td>2022-01-17 22:27:00+00:00</td>\n",
       "      <td>2022-01-18 12:12:00+00:00</td>\n",
       "    </tr>\n",
       "    <tr>\n",
       "      <th>37</th>\n",
       "      <td>2022-01-18 12:50:00+00:00</td>\n",
       "      <td>2022-01-18 19:11:00+00:00</td>\n",
       "    </tr>\n",
       "    <tr>\n",
       "      <th>43</th>\n",
       "      <td>2022-01-18 19:27:00+00:00</td>\n",
       "      <td>2022-01-18 19:29:00+00:00</td>\n",
       "    </tr>\n",
       "    <tr>\n",
       "      <th>44</th>\n",
       "      <td>2022-01-19 00:58:00+00:00</td>\n",
       "      <td>2022-01-19 01:06:00+00:00</td>\n",
       "    </tr>\n",
       "    <tr>\n",
       "      <th>45</th>\n",
       "      <td>2022-01-19 01:16:00+00:00</td>\n",
       "      <td>2022-01-19 12:42:00+00:00</td>\n",
       "    </tr>\n",
       "    <tr>\n",
       "      <th>47</th>\n",
       "      <td>2022-01-19 18:22:00+00:00</td>\n",
       "      <td>2022-01-19 18:27:00+00:00</td>\n",
       "    </tr>\n",
       "    <tr>\n",
       "      <th>49</th>\n",
       "      <td>2022-01-19 20:10:00+00:00</td>\n",
       "      <td>2022-01-19 20:26:00+00:00</td>\n",
       "    </tr>\n",
       "    <tr>\n",
       "      <th>52</th>\n",
       "      <td>2022-01-20 05:37:00+00:00</td>\n",
       "      <td>2022-01-20 11:43:00+00:00</td>\n",
       "    </tr>\n",
       "    <tr>\n",
       "      <th>56</th>\n",
       "      <td>2022-01-20 11:59:00+00:00</td>\n",
       "      <td>2022-01-21 02:39:00+00:00</td>\n",
       "    </tr>\n",
       "  </tbody>\n",
       "</table>\n",
       "</div>"
      ],
      "text/plain": [
       "                   buy_dates                sell_dates\n",
       "8  2022-01-15 05:15:00+00:00 2022-01-15 05:16:00+00:00\n",
       "9  2022-01-15 08:39:00+00:00 2022-01-15 11:10:00+00:00\n",
       "10 2022-01-15 12:05:00+00:00 2022-01-15 15:23:00+00:00\n",
       "14 2022-01-15 18:56:00+00:00 2022-01-16 02:35:00+00:00\n",
       "18 2022-01-16 04:38:00+00:00 2022-01-16 04:50:00+00:00\n",
       "19 2022-01-16 09:29:00+00:00 2022-01-16 12:01:00+00:00\n",
       "27 2022-01-16 15:31:00+00:00 2022-01-16 20:26:00+00:00\n",
       "31 2022-01-16 23:18:00+00:00 2022-01-16 23:22:00+00:00\n",
       "33 2022-01-17 07:27:00+00:00 2022-01-17 09:23:00+00:00\n",
       "34 2022-01-17 13:39:00+00:00 2022-01-17 14:51:00+00:00\n",
       "36 2022-01-17 22:27:00+00:00 2022-01-18 12:12:00+00:00\n",
       "37 2022-01-18 12:50:00+00:00 2022-01-18 19:11:00+00:00\n",
       "43 2022-01-18 19:27:00+00:00 2022-01-18 19:29:00+00:00\n",
       "44 2022-01-19 00:58:00+00:00 2022-01-19 01:06:00+00:00\n",
       "45 2022-01-19 01:16:00+00:00 2022-01-19 12:42:00+00:00\n",
       "47 2022-01-19 18:22:00+00:00 2022-01-19 18:27:00+00:00\n",
       "49 2022-01-19 20:10:00+00:00 2022-01-19 20:26:00+00:00\n",
       "52 2022-01-20 05:37:00+00:00 2022-01-20 11:43:00+00:00\n",
       "56 2022-01-20 11:59:00+00:00 2022-01-21 02:39:00+00:00"
      ]
     },
     "execution_count": 861,
     "metadata": {},
     "output_type": "execute_result"
    }
   ],
   "source": [
    "actuals = frame[frame.buy_dates > frame.sell_dates.shift(1)]\n",
    "actuals"
   ]
  },
  {
   "cell_type": "code",
   "execution_count": 862,
   "id": "7b4b1eee",
   "metadata": {},
   "outputs": [],
   "source": [
    "def profitcalc():\n",
    "    Buyprices = df.loc[actuals.buy_dates].Open\n",
    "    Sellprices = df.loc[actuals.sell_dates].Open\n",
    "    \n",
    "    \n",
    "    \n",
    "    \n",
    "    return (Sellprices.values-Buyprices.values)/(Buyprices.values)"
   ]
  },
  {
   "cell_type": "code",
   "execution_count": 863,
   "id": "afd8a80d",
   "metadata": {},
   "outputs": [
    {
     "data": {
      "text/plain": [
       "array([-0.00085658,  0.00562277,  0.00051231, -0.01483437, -0.00044185,\n",
       "       -0.00627975, -0.00644136, -0.00181973, -0.00169647, -0.00099392,\n",
       "       -0.01150308, -0.01899836, -0.00070138, -0.00254487, -0.01864029,\n",
       "       -0.0007123 ,  0.0018522 ,  0.01298645, -0.0800668 ])"
      ]
     },
     "execution_count": 863,
     "metadata": {},
     "output_type": "execute_result"
    }
   ],
   "source": [
    "profitcalc()"
   ]
  },
  {
   "cell_type": "code",
   "execution_count": 870,
   "id": "5b0fe227",
   "metadata": {},
   "outputs": [],
   "source": [
    "profits = profitcalc()\n",
    "\n",
    "# IF reversal short\n",
    "#profits = profits*-1"
   ]
  },
  {
   "cell_type": "code",
   "execution_count": 871,
   "id": "0be0b252",
   "metadata": {},
   "outputs": [
    {
     "data": {
      "text/plain": [
       "-0.7660916010305998"
      ]
     },
     "execution_count": 871,
     "metadata": {},
     "output_type": "execute_result"
    }
   ],
   "source": [
    "profits.mean()*100"
   ]
  },
  {
   "cell_type": "code",
   "execution_count": 872,
   "id": "d5a91876",
   "metadata": {},
   "outputs": [
    {
     "data": {
      "text/plain": [
       "0.8610256665360232"
      ]
     },
     "execution_count": 872,
     "metadata": {},
     "output_type": "execute_result"
    }
   ],
   "source": [
    "(profits+1).prod()"
   ]
  },
  {
   "cell_type": "code",
   "execution_count": 873,
   "id": "320c3bd7",
   "metadata": {},
   "outputs": [
    {
     "name": "stdout",
     "output_type": "stream",
     "text": [
      "Wins: 4\n",
      "Losses: 15\n",
      "21.052631578947366\n"
     ]
    }
   ],
   "source": [
    "winrate = len(profits[profits>0])/len(profits)*100\n",
    "print('Wins: '+ str(len(profits[profits>0])))\n",
    "print('Losses: '+ str(len(profits)-len(profits[profits>0])))\n",
    "print(winrate)"
   ]
  },
  {
   "cell_type": "code",
   "execution_count": 868,
   "id": "974bbc88",
   "metadata": {},
   "outputs": [
    {
     "data": {
      "text/plain": [
       "<matplotlib.collections.PathCollection at 0x7fc78036baf0>"
      ]
     },
     "execution_count": 868,
     "metadata": {},
     "output_type": "execute_result"
    },
    {
     "data": {
      "image/png": "[encoded data removed]",
      "text/plain": [
       "<Figure size 1440x720 with 1 Axes>"
      ]
     },
     "metadata": {
      "needs_background": "light"
     },
     "output_type": "display_data"
    }
   ],
   "source": [
    "plt.figure(figsize=(20,10))\n",
    "plt.plot(df.index,df.Close, color='k',alpha=0.7)\n",
    "plt.scatter(actuals.buy_dates, df.Open[actuals.buy_dates],marker='^', color='g', s=500)\n",
    "plt.scatter(actuals.sell_dates, df.Open[actuals.sell_dates],marker='v', color='r', s=500)\n"
   ]
  },
  {
   "cell_type": "code",
   "execution_count": 869,
   "id": "2885a6a5",
   "metadata": {},
   "outputs": [
    {
     "data": {
      "text/plain": [
       "15"
      ]
     },
     "execution_count": 869,
     "metadata": {},
     "output_type": "execute_result"
    }
   ],
   "source": [
    "len(profits[profits>0])"
   ]
  },
  {
   "cell_type": "code",
   "execution_count": null,
   "id": "b63a94cb",
   "metadata": {},
   "outputs": [],
   "source": []
  }
 ],
 "metadata": {
  "kernelspec": {
   "display_name": "Python 3",
   "language": "python",
   "name": "python3"
  },
  "language_info": {
   "codemirror_mode": {
    "name": "ipython",
    "version": 3
   },
   "file_extension": ".py",
   "mimetype": "text/x-python",
   "name": "python",
   "nbconvert_exporter": "python",
   "pygments_lexer": "ipython3",
   "version": "3.8.8"
  }
 },
 "nbformat": 4,
 "nbformat_minor": 5
}

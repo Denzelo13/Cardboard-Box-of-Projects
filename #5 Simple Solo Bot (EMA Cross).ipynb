{
 "cells": [
  {
   "cell_type": "code",
   "execution_count": 1,
   "id": "18eb50c0",
   "metadata": {},
   "outputs": [],
   "source": [
    "import yfinance as yf\n",
    "import numpy as np\n",
    "import pandas as pd\n",
    "import matplotlib.pyplot as plt"
   ]
  },
  {
   "cell_type": "code",
   "execution_count": 2,
   "id": "d60ad8c3",
   "metadata": {},
   "outputs": [
    {
     "name": "stdout",
     "output_type": "stream",
     "text": [
      "[*********************100%***********************]  1 of 1 completed\n"
     ]
    }
   ],
   "source": [
    "df = yf.download('ETH-USD', start=\"2022-2-1\",end=\"2022-3-1\", interval = '60m')"
   ]
  },
  {
   "cell_type": "code",
   "execution_count": 3,
   "id": "77d99289",
   "metadata": {
    "scrolled": false
   },
   "outputs": [
    {
     "data": {
      "text/html": [
       "<div>\n",
       "<style scoped>\n",
       "    .dataframe tbody tr th:only-of-type {\n",
       "        vertical-align: middle;\n",
       "    }\n",
       "\n",
       "    .dataframe tbody tr th {\n",
       "        vertical-align: top;\n",
       "    }\n",
       "\n",
       "    .dataframe thead th {\n",
       "        text-align: right;\n",
       "    }\n",
       "</style>\n",
       "<table border=\"1\" class=\"dataframe\">\n",
       "  <thead>\n",
       "    <tr style=\"text-align: right;\">\n",
       "      <th></th>\n",
       "      <th>Open</th>\n",
       "      <th>High</th>\n",
       "      <th>Low</th>\n",
       "      <th>Close</th>\n",
       "      <th>Adj Close</th>\n",
       "      <th>Volume</th>\n",
       "    </tr>\n",
       "    <tr>\n",
       "      <th>Datetime</th>\n",
       "      <th></th>\n",
       "      <th></th>\n",
       "      <th></th>\n",
       "      <th></th>\n",
       "      <th></th>\n",
       "      <th></th>\n",
       "    </tr>\n",
       "  </thead>\n",
       "  <tbody>\n",
       "    <tr>\n",
       "      <th>2022-01-31 13:00:00+00:00</th>\n",
       "      <td>2538.824219</td>\n",
       "      <td>2562.564941</td>\n",
       "      <td>2528.861328</td>\n",
       "      <td>2559.873047</td>\n",
       "      <td>2559.873047</td>\n",
       "      <td>0</td>\n",
       "    </tr>\n",
       "    <tr>\n",
       "      <th>2022-01-31 14:00:00+00:00</th>\n",
       "      <td>2559.621338</td>\n",
       "      <td>2574.632568</td>\n",
       "      <td>2556.158936</td>\n",
       "      <td>2574.632568</td>\n",
       "      <td>2574.632568</td>\n",
       "      <td>180722688</td>\n",
       "    </tr>\n",
       "    <tr>\n",
       "      <th>2022-01-31 15:00:00+00:00</th>\n",
       "      <td>2575.358887</td>\n",
       "      <td>2625.527344</td>\n",
       "      <td>2575.358887</td>\n",
       "      <td>2621.887451</td>\n",
       "      <td>2621.887451</td>\n",
       "      <td>990110720</td>\n",
       "    </tr>\n",
       "    <tr>\n",
       "      <th>2022-01-31 16:00:00+00:00</th>\n",
       "      <td>2621.142090</td>\n",
       "      <td>2677.665771</td>\n",
       "      <td>2619.742188</td>\n",
       "      <td>2677.665771</td>\n",
       "      <td>2677.665771</td>\n",
       "      <td>603067392</td>\n",
       "    </tr>\n",
       "    <tr>\n",
       "      <th>2022-01-31 17:00:00+00:00</th>\n",
       "      <td>2677.790039</td>\n",
       "      <td>2689.007324</td>\n",
       "      <td>2673.295898</td>\n",
       "      <td>2687.207764</td>\n",
       "      <td>2687.207764</td>\n",
       "      <td>664922112</td>\n",
       "    </tr>\n",
       "    <tr>\n",
       "      <th>...</th>\n",
       "      <td>...</td>\n",
       "      <td>...</td>\n",
       "      <td>...</td>\n",
       "      <td>...</td>\n",
       "      <td>...</td>\n",
       "      <td>...</td>\n",
       "    </tr>\n",
       "    <tr>\n",
       "      <th>2022-02-28 08:00:00+00:00</th>\n",
       "      <td>2636.332031</td>\n",
       "      <td>2649.649414</td>\n",
       "      <td>2626.337158</td>\n",
       "      <td>2629.909912</td>\n",
       "      <td>2629.909912</td>\n",
       "      <td>147726336</td>\n",
       "    </tr>\n",
       "    <tr>\n",
       "      <th>2022-02-28 09:00:00+00:00</th>\n",
       "      <td>2630.000977</td>\n",
       "      <td>2640.375244</td>\n",
       "      <td>2627.029053</td>\n",
       "      <td>2635.580078</td>\n",
       "      <td>2635.580078</td>\n",
       "      <td>0</td>\n",
       "    </tr>\n",
       "    <tr>\n",
       "      <th>2022-02-28 10:00:00+00:00</th>\n",
       "      <td>2632.450439</td>\n",
       "      <td>2640.104736</td>\n",
       "      <td>2622.762451</td>\n",
       "      <td>2638.520752</td>\n",
       "      <td>2638.520752</td>\n",
       "      <td>0</td>\n",
       "    </tr>\n",
       "    <tr>\n",
       "      <th>2022-02-28 11:00:00+00:00</th>\n",
       "      <td>2637.960693</td>\n",
       "      <td>2641.755371</td>\n",
       "      <td>2627.948975</td>\n",
       "      <td>2641.755371</td>\n",
       "      <td>2641.755371</td>\n",
       "      <td>0</td>\n",
       "    </tr>\n",
       "    <tr>\n",
       "      <th>2022-02-28 12:00:00+00:00</th>\n",
       "      <td>2641.984131</td>\n",
       "      <td>2657.341797</td>\n",
       "      <td>2633.435791</td>\n",
       "      <td>2648.420654</td>\n",
       "      <td>2648.420654</td>\n",
       "      <td>1816576</td>\n",
       "    </tr>\n",
       "  </tbody>\n",
       "</table>\n",
       "<p>672 rows × 6 columns</p>\n",
       "</div>"
      ],
      "text/plain": [
       "                                  Open         High          Low        Close  \\\n",
       "Datetime                                                                        \n",
       "2022-01-31 13:00:00+00:00  2538.824219  2562.564941  2528.861328  2559.873047   \n",
       "2022-01-31 14:00:00+00:00  2559.621338  2574.632568  2556.158936  2574.632568   \n",
       "2022-01-31 15:00:00+00:00  2575.358887  2625.527344  2575.358887  2621.887451   \n",
       "2022-01-31 16:00:00+00:00  2621.142090  2677.665771  2619.742188  2677.665771   \n",
       "2022-01-31 17:00:00+00:00  2677.790039  2689.007324  2673.295898  2687.207764   \n",
       "...                                ...          ...          ...          ...   \n",
       "2022-02-28 08:00:00+00:00  2636.332031  2649.649414  2626.337158  2629.909912   \n",
       "2022-02-28 09:00:00+00:00  2630.000977  2640.375244  2627.029053  2635.580078   \n",
       "2022-02-28 10:00:00+00:00  2632.450439  2640.104736  2622.762451  2638.520752   \n",
       "2022-02-28 11:00:00+00:00  2637.960693  2641.755371  2627.948975  2641.755371   \n",
       "2022-02-28 12:00:00+00:00  2641.984131  2657.341797  2633.435791  2648.420654   \n",
       "\n",
       "                             Adj Close     Volume  \n",
       "Datetime                                           \n",
       "2022-01-31 13:00:00+00:00  2559.873047          0  \n",
       "2022-01-31 14:00:00+00:00  2574.632568  180722688  \n",
       "2022-01-31 15:00:00+00:00  2621.887451  990110720  \n",
       "2022-01-31 16:00:00+00:00  2677.665771  603067392  \n",
       "2022-01-31 17:00:00+00:00  2687.207764  664922112  \n",
       "...                                ...        ...  \n",
       "2022-02-28 08:00:00+00:00  2629.909912  147726336  \n",
       "2022-02-28 09:00:00+00:00  2635.580078          0  \n",
       "2022-02-28 10:00:00+00:00  2638.520752          0  \n",
       "2022-02-28 11:00:00+00:00  2641.755371          0  \n",
       "2022-02-28 12:00:00+00:00  2648.420654    1816576  \n",
       "\n",
       "[672 rows x 6 columns]"
      ]
     },
     "execution_count": 3,
     "metadata": {},
     "output_type": "execute_result"
    }
   ],
   "source": [
    "df"
   ]
  },
  {
   "cell_type": "markdown",
   "id": "30146fdd",
   "metadata": {},
   "source": [
    "## Defining our indicators"
   ]
  },
  {
   "cell_type": "code",
   "execution_count": 4,
   "id": "6ea8fa21",
   "metadata": {},
   "outputs": [],
   "source": [
    "df['50EMA'] = df.Close.rolling(50).mean()\n",
    "df['200EMA'] = df.Close.rolling(200).mean()"
   ]
  },
  {
   "cell_type": "code",
   "execution_count": 5,
   "id": "2726fe5c",
   "metadata": {
    "scrolled": true
   },
   "outputs": [],
   "source": [
    "df.dropna(inplace = True)"
   ]
  },
  {
   "cell_type": "code",
   "execution_count": 6,
   "id": "66290aad",
   "metadata": {
    "scrolled": true
   },
   "outputs": [
    {
     "data": {
      "text/html": [
       "<div>\n",
       "<style scoped>\n",
       "    .dataframe tbody tr th:only-of-type {\n",
       "        vertical-align: middle;\n",
       "    }\n",
       "\n",
       "    .dataframe tbody tr th {\n",
       "        vertical-align: top;\n",
       "    }\n",
       "\n",
       "    .dataframe thead th {\n",
       "        text-align: right;\n",
       "    }\n",
       "</style>\n",
       "<table border=\"1\" class=\"dataframe\">\n",
       "  <thead>\n",
       "    <tr style=\"text-align: right;\">\n",
       "      <th></th>\n",
       "      <th>Open</th>\n",
       "      <th>High</th>\n",
       "      <th>Low</th>\n",
       "      <th>Close</th>\n",
       "      <th>Adj Close</th>\n",
       "      <th>Volume</th>\n",
       "      <th>50EMA</th>\n",
       "      <th>200EMA</th>\n",
       "    </tr>\n",
       "    <tr>\n",
       "      <th>Datetime</th>\n",
       "      <th></th>\n",
       "      <th></th>\n",
       "      <th></th>\n",
       "      <th></th>\n",
       "      <th></th>\n",
       "      <th></th>\n",
       "      <th></th>\n",
       "      <th></th>\n",
       "    </tr>\n",
       "  </thead>\n",
       "  <tbody>\n",
       "    <tr>\n",
       "      <th>2022-02-08 20:00:00+00:00</th>\n",
       "      <td>3051.184326</td>\n",
       "      <td>3113.508789</td>\n",
       "      <td>3050.063477</td>\n",
       "      <td>3113.382812</td>\n",
       "      <td>3113.382812</td>\n",
       "      <td>429040640</td>\n",
       "      <td>3095.106470</td>\n",
       "      <td>2883.483938</td>\n",
       "    </tr>\n",
       "    <tr>\n",
       "      <th>2022-02-08 21:00:00+00:00</th>\n",
       "      <td>3113.703369</td>\n",
       "      <td>3122.780029</td>\n",
       "      <td>3107.790527</td>\n",
       "      <td>3117.403564</td>\n",
       "      <td>3117.403564</td>\n",
       "      <td>0</td>\n",
       "      <td>3097.428345</td>\n",
       "      <td>2886.271591</td>\n",
       "    </tr>\n",
       "    <tr>\n",
       "      <th>2022-02-08 22:00:00+00:00</th>\n",
       "      <td>3117.333740</td>\n",
       "      <td>3120.022461</td>\n",
       "      <td>3104.908203</td>\n",
       "      <td>3111.766602</td>\n",
       "      <td>3111.766602</td>\n",
       "      <td>57899008</td>\n",
       "      <td>3099.925669</td>\n",
       "      <td>2888.957261</td>\n",
       "    </tr>\n",
       "    <tr>\n",
       "      <th>2022-02-08 23:00:00+00:00</th>\n",
       "      <td>3112.037109</td>\n",
       "      <td>3132.516357</td>\n",
       "      <td>3112.037109</td>\n",
       "      <td>3122.739258</td>\n",
       "      <td>3122.739258</td>\n",
       "      <td>158974976</td>\n",
       "      <td>3102.439023</td>\n",
       "      <td>2891.461520</td>\n",
       "    </tr>\n",
       "    <tr>\n",
       "      <th>2022-02-09 00:00:00+00:00</th>\n",
       "      <td>3121.182617</td>\n",
       "      <td>3128.282715</td>\n",
       "      <td>3110.935547</td>\n",
       "      <td>3126.197021</td>\n",
       "      <td>3126.197021</td>\n",
       "      <td>0</td>\n",
       "      <td>3105.122612</td>\n",
       "      <td>2893.704176</td>\n",
       "    </tr>\n",
       "    <tr>\n",
       "      <th>...</th>\n",
       "      <td>...</td>\n",
       "      <td>...</td>\n",
       "      <td>...</td>\n",
       "      <td>...</td>\n",
       "      <td>...</td>\n",
       "      <td>...</td>\n",
       "      <td>...</td>\n",
       "      <td>...</td>\n",
       "    </tr>\n",
       "    <tr>\n",
       "      <th>2022-02-28 08:00:00+00:00</th>\n",
       "      <td>2636.332031</td>\n",
       "      <td>2649.649414</td>\n",
       "      <td>2626.337158</td>\n",
       "      <td>2629.909912</td>\n",
       "      <td>2629.909912</td>\n",
       "      <td>147726336</td>\n",
       "      <td>2727.902983</td>\n",
       "      <td>2652.259613</td>\n",
       "    </tr>\n",
       "    <tr>\n",
       "      <th>2022-02-28 09:00:00+00:00</th>\n",
       "      <td>2630.000977</td>\n",
       "      <td>2640.375244</td>\n",
       "      <td>2627.029053</td>\n",
       "      <td>2635.580078</td>\n",
       "      <td>2635.580078</td>\n",
       "      <td>0</td>\n",
       "      <td>2724.875249</td>\n",
       "      <td>2651.731301</td>\n",
       "    </tr>\n",
       "    <tr>\n",
       "      <th>2022-02-28 10:00:00+00:00</th>\n",
       "      <td>2632.450439</td>\n",
       "      <td>2640.104736</td>\n",
       "      <td>2622.762451</td>\n",
       "      <td>2638.520752</td>\n",
       "      <td>2638.520752</td>\n",
       "      <td>0</td>\n",
       "      <td>2722.508872</td>\n",
       "      <td>2651.322081</td>\n",
       "    </tr>\n",
       "    <tr>\n",
       "      <th>2022-02-28 11:00:00+00:00</th>\n",
       "      <td>2637.960693</td>\n",
       "      <td>2641.755371</td>\n",
       "      <td>2627.948975</td>\n",
       "      <td>2641.755371</td>\n",
       "      <td>2641.755371</td>\n",
       "      <td>0</td>\n",
       "      <td>2720.332080</td>\n",
       "      <td>2650.958909</td>\n",
       "    </tr>\n",
       "    <tr>\n",
       "      <th>2022-02-28 12:00:00+00:00</th>\n",
       "      <td>2641.984131</td>\n",
       "      <td>2657.341797</td>\n",
       "      <td>2633.435791</td>\n",
       "      <td>2648.420654</td>\n",
       "      <td>2648.420654</td>\n",
       "      <td>1816576</td>\n",
       "      <td>2717.922100</td>\n",
       "      <td>2650.753134</td>\n",
       "    </tr>\n",
       "  </tbody>\n",
       "</table>\n",
       "<p>473 rows × 8 columns</p>\n",
       "</div>"
      ],
      "text/plain": [
       "                                  Open         High          Low        Close  \\\n",
       "Datetime                                                                        \n",
       "2022-02-08 20:00:00+00:00  3051.184326  3113.508789  3050.063477  3113.382812   \n",
       "2022-02-08 21:00:00+00:00  3113.703369  3122.780029  3107.790527  3117.403564   \n",
       "2022-02-08 22:00:00+00:00  3117.333740  3120.022461  3104.908203  3111.766602   \n",
       "2022-02-08 23:00:00+00:00  3112.037109  3132.516357  3112.037109  3122.739258   \n",
       "2022-02-09 00:00:00+00:00  3121.182617  3128.282715  3110.935547  3126.197021   \n",
       "...                                ...          ...          ...          ...   \n",
       "2022-02-28 08:00:00+00:00  2636.332031  2649.649414  2626.337158  2629.909912   \n",
       "2022-02-28 09:00:00+00:00  2630.000977  2640.375244  2627.029053  2635.580078   \n",
       "2022-02-28 10:00:00+00:00  2632.450439  2640.104736  2622.762451  2638.520752   \n",
       "2022-02-28 11:00:00+00:00  2637.960693  2641.755371  2627.948975  2641.755371   \n",
       "2022-02-28 12:00:00+00:00  2641.984131  2657.341797  2633.435791  2648.420654   \n",
       "\n",
       "                             Adj Close     Volume        50EMA       200EMA  \n",
       "Datetime                                                                     \n",
       "2022-02-08 20:00:00+00:00  3113.382812  429040640  3095.106470  2883.483938  \n",
       "2022-02-08 21:00:00+00:00  3117.403564          0  3097.428345  2886.271591  \n",
       "2022-02-08 22:00:00+00:00  3111.766602   57899008  3099.925669  2888.957261  \n",
       "2022-02-08 23:00:00+00:00  3122.739258  158974976  3102.439023  2891.461520  \n",
       "2022-02-09 00:00:00+00:00  3126.197021          0  3105.122612  2893.704176  \n",
       "...                                ...        ...          ...          ...  \n",
       "2022-02-28 08:00:00+00:00  2629.909912  147726336  2727.902983  2652.259613  \n",
       "2022-02-28 09:00:00+00:00  2635.580078          0  2724.875249  2651.731301  \n",
       "2022-02-28 10:00:00+00:00  2638.520752          0  2722.508872  2651.322081  \n",
       "2022-02-28 11:00:00+00:00  2641.755371          0  2720.332080  2650.958909  \n",
       "2022-02-28 12:00:00+00:00  2648.420654    1816576  2717.922100  2650.753134  \n",
       "\n",
       "[473 rows x 8 columns]"
      ]
     },
     "execution_count": 6,
     "metadata": {},
     "output_type": "execute_result"
    }
   ],
   "source": [
    "df"
   ]
  },
  {
   "cell_type": "markdown",
   "id": "2c4acc49",
   "metadata": {},
   "source": [
    "## Coding the strategy"
   ]
  },
  {
   "cell_type": "code",
   "execution_count": 7,
   "id": "9e7e6122",
   "metadata": {},
   "outputs": [],
   "source": [
    "open_pos = False"
   ]
  },
  {
   "cell_type": "code",
   "execution_count": 8,
   "id": "3b60c8e4",
   "metadata": {},
   "outputs": [],
   "source": [
    "buys, sells = [],[]\n",
    "buydates, selldates = [],[]"
   ]
  },
  {
   "cell_type": "code",
   "execution_count": 9,
   "id": "8417363c",
   "metadata": {},
   "outputs": [],
   "source": [
    "for i in range(len(df)):\n",
    "    if df['50EMA'][i] > df['200EMA'][i]:\n",
    "        if open_pos == False:\n",
    "            \n",
    "            buys.append(i)\n",
    "            buydates.append(df.iloc[i].name)\n",
    "            \n",
    "            open_pos = True\n",
    "            \n",
    "    elif df['50EMA'][i] < df['200EMA'][i]:\n",
    "        if open_pos == True:\n",
    "            \n",
    "            sells.append(i)\n",
    "            selldates.append(df.iloc[i].name)\n",
    "            \n",
    "            open_pos = False"
   ]
  },
  {
   "cell_type": "code",
   "execution_count": 10,
   "id": "ead7558b",
   "metadata": {},
   "outputs": [
    {
     "data": {
      "text/plain": [
       "<matplotlib.collections.PathCollection at 0x7fcd89cd9a00>"
      ]
     },
     "execution_count": 10,
     "metadata": {},
     "output_type": "execute_result"
    },
    {
     "data": {
      "image/png": "[encoded data removed]",
      "text/plain": [
       "<Figure size 1440x720 with 1 Axes>"
      ]
     },
     "metadata": {
      "needs_background": "light"
     },
     "output_type": "display_data"
    }
   ],
   "source": [
    "plt.figure(figsize=(20,10))\n",
    "plt.plot(df[['Close','50EMA','200EMA']])\n",
    "plt.legend(['Close','50EMA','200EMA'])\n",
    "\n",
    "#plotting buy signals\n",
    "\n",
    "plt.scatter(buydates, df.iloc[buys].Close - 50, marker='^',color='g', s = 150)\n",
    "plt.scatter(selldates, df.iloc[sells].Close + 50, marker='v',color='r', s = 150)\n"
   ]
  },
  {
   "cell_type": "markdown",
   "id": "bfaa1661",
   "metadata": {},
   "source": [
    "## Calculating the PnL Statement"
   ]
  },
  {
   "cell_type": "code",
   "execution_count": 11,
   "id": "3ef6d89b",
   "metadata": {
    "scrolled": true
   },
   "outputs": [
    {
     "data": {
      "text/plain": [
       "[87, 233]"
      ]
     },
     "execution_count": 11,
     "metadata": {},
     "output_type": "execute_result"
    }
   ],
   "source": [
    "sells"
   ]
  },
  {
   "cell_type": "code",
   "execution_count": 12,
   "id": "cb4eb95a",
   "metadata": {},
   "outputs": [],
   "source": [
    "buys = buys[:-1]"
   ]
  },
  {
   "cell_type": "code",
   "execution_count": 13,
   "id": "adb39dac",
   "metadata": {
    "scrolled": true
   },
   "outputs": [],
   "source": [
    "buyprice, sellprice = [], []\n",
    "\n",
    "# Because next day open we buy!\n",
    "for i in buys:\n",
    "    buyprice.append(df.iloc[i+1].Close)\n",
    "    \n",
    "for i in sells:\n",
    "    sellprice.append(df.iloc[i+1].Close)"
   ]
  },
  {
   "cell_type": "code",
   "execution_count": 14,
   "id": "02b91cb9",
   "metadata": {},
   "outputs": [],
   "source": [
    "profitdf = pd.DataFrame()"
   ]
  },
  {
   "cell_type": "code",
   "execution_count": 15,
   "id": "67fde818",
   "metadata": {},
   "outputs": [],
   "source": [
    "profitdf['SellPrice'] = sellprice\n",
    "profitdf['BuyPrice'] = buyprice\n",
    "profitdf['Profit'] = profitdf['SellPrice']-profitdf['BuyPrice']"
   ]
  },
  {
   "cell_type": "code",
   "execution_count": 16,
   "id": "200aa6d1",
   "metadata": {
    "scrolled": true
   },
   "outputs": [
    {
     "data": {
      "text/plain": [
       "0   -203.770752\n",
       "1   -267.178467\n",
       "Name: Profit, dtype: float64"
      ]
     },
     "execution_count": 16,
     "metadata": {},
     "output_type": "execute_result"
    }
   ],
   "source": [
    "profitdf.Profit"
   ]
  },
  {
   "cell_type": "code",
   "execution_count": 17,
   "id": "67fec6d1",
   "metadata": {},
   "outputs": [
    {
     "data": {
      "text/plain": [
       "-470.94921875"
      ]
     },
     "execution_count": 17,
     "metadata": {},
     "output_type": "execute_result"
    }
   ],
   "source": [
    "profitdf.Profit.sum()"
   ]
  },
  {
   "cell_type": "code",
   "execution_count": 18,
   "id": "9610cbc4",
   "metadata": {},
   "outputs": [
    {
     "data": {
      "text/plain": [
       "-16.819614955357142"
      ]
     },
     "execution_count": 18,
     "metadata": {},
     "output_type": "execute_result"
    }
   ],
   "source": [
    "profitdf.Profit.sum()/2800*100"
   ]
  },
  {
   "cell_type": "code",
   "execution_count": 19,
   "id": "39028e3c",
   "metadata": {},
   "outputs": [
    {
     "data": {
      "text/plain": [
       "0    False\n",
       "1    False\n",
       "Name: Profit, dtype: bool"
      ]
     },
     "execution_count": 19,
     "metadata": {},
     "output_type": "execute_result"
    }
   ],
   "source": [
    "#Winrate\n",
    "\n",
    "profitdf.Profit > 0"
   ]
  },
  {
   "cell_type": "code",
   "execution_count": 20,
   "id": "2a1b2227",
   "metadata": {},
   "outputs": [
    {
     "name": "stdout",
     "output_type": "stream",
     "text": [
      "You have a : 0.0% Winrate!!!\n"
     ]
    }
   ],
   "source": [
    "print(\"You have a : \" + str(round(sum(profitdf.Profit > 0)/len(profitdf.Profit)*100,2)) + '% Winrate!!!')"
   ]
  },
  {
   "cell_type": "code",
   "execution_count": null,
   "id": "f49aa806",
   "metadata": {},
   "outputs": [],
   "source": []
  }
 ],
 "metadata": {
  "kernelspec": {
   "display_name": "Python 3",
   "language": "python",
   "name": "python3"
  },
  "language_info": {
   "codemirror_mode": {
    "name": "ipython",
    "version": 3
   },
   "file_extension": ".py",
   "mimetype": "text/x-python",
   "name": "python",
   "nbconvert_exporter": "python",
   "pygments_lexer": "ipython3",
   "version": "3.8.8"
  }
 },
 "nbformat": 4,
 "nbformat_minor": 5
}

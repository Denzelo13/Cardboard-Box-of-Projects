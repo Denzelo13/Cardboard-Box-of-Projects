{
 "cells": [
  {
   "cell_type": "markdown",
   "metadata": {},
   "source": [
    "# Assignment 1: Data Parsing, Cleansing and Integration\n",
    "## Task 3\n",
    "#### Student Name: DENZEL TAN\n",
    "#### Student ID: s3900098\n",
    "\n",
    "Date: 31/08.2021\n",
    "\n",
    "Version: 1.0\n",
    "\n",
    "Environment: Python 3 and Jupyter notebook\n",
    "\n",
    "Libraries used: please include the main libraries you used in your assignment, e.g.,:\n",
    "* pandas\n",
    "* re\n",
    "* numpy\n",
    "\n",
    "\n",
    "## Introduction\n",
    "Give general information of this assessment here, e.g., what problems you encounter in integration, general steps and solutions you've taken to integrate the data. \n",
    "\n",
    "<span style=\"color: red\"> Note that this is a sample notebook only. You will need to fill in the proper markdown and code blocks. You might also want to make necessary changes to the structure to meet your own needs. Note also that any generic comments written in this notebook are to be removed and replace with your own words.</span>\n"
   ]
  },
  {
   "cell_type": "markdown",
   "metadata": {},
   "source": [
    "##  Import libraries "
   ]
  },
  {
   "cell_type": "code",
   "execution_count": 1,
   "metadata": {},
   "outputs": [],
   "source": [
    "# Code to import libraries as you need in this assessment\n",
    "import numpy as np\n",
    "import pandas as pd\n",
    "import datetime\n",
    "import re"
   ]
  },
  {
   "cell_type": "markdown",
   "metadata": {},
   "source": [
    "### 1. Examining and loading data\n",
    "Examine \"\\<student\\_id\\>_dataset2.csv\" the structure and schema. "
   ]
  },
  {
   "cell_type": "code",
   "execution_count": 2,
   "metadata": {},
   "outputs": [],
   "source": [
    "# Code to inspect the provided data file\n",
    "# Couple of notes for all code block in this notebook\n",
    "## please provide proper comment on your code\n",
    "## Please re-start and run all cells to make sure codes are runable and include your output in the submission"
   ]
  },
  {
   "cell_type": "code",
   "execution_count": 3,
   "metadata": {},
   "outputs": [
    {
     "name": "stdout",
     "output_type": "stream",
     "text": [
      "S1:(50699, 11)\n"
     ]
    },
    {
     "data": {
      "text/html": [
       "<div>\n",
       "<style scoped>\n",
       "    .dataframe tbody tr th:only-of-type {\n",
       "        vertical-align: middle;\n",
       "    }\n",
       "\n",
       "    .dataframe tbody tr th {\n",
       "        vertical-align: top;\n",
       "    }\n",
       "\n",
       "    .dataframe thead th {\n",
       "        text-align: right;\n",
       "    }\n",
       "</style>\n",
       "<table border=\"1\" class=\"dataframe\">\n",
       "  <thead>\n",
       "    <tr style=\"text-align: right;\">\n",
       "      <th></th>\n",
       "      <th>Id</th>\n",
       "      <th>Title</th>\n",
       "      <th>Location</th>\n",
       "      <th>Company</th>\n",
       "      <th>ContractType</th>\n",
       "      <th>ContractTime</th>\n",
       "      <th>Category</th>\n",
       "      <th>Salary</th>\n",
       "      <th>OpenDate</th>\n",
       "      <th>CloseDate</th>\n",
       "      <th>SourceName</th>\n",
       "    </tr>\n",
       "  </thead>\n",
       "  <tbody>\n",
       "    <tr>\n",
       "      <th>0</th>\n",
       "      <td>71338111</td>\n",
       "      <td>Allied Health Care Professional : Nurse Manage...</td>\n",
       "      <td>Cornwall</td>\n",
       "      <td>non-specified</td>\n",
       "      <td>non-specified</td>\n",
       "      <td>non-specified</td>\n",
       "      <td>Healthcare &amp; Nursing Jobs</td>\n",
       "      <td>32000.0</td>\n",
       "      <td>2012-05-31 15:00:00</td>\n",
       "      <td>2012-06-14 15:00:00</td>\n",
       "      <td>jobs4medical.co.uk</td>\n",
       "    </tr>\n",
       "    <tr>\n",
       "      <th>1</th>\n",
       "      <td>71353268</td>\n",
       "      <td>Dental : Registered General Nurse Jobs in Stev...</td>\n",
       "      <td>Hertfordshire</td>\n",
       "      <td>non-specified</td>\n",
       "      <td>non-specified</td>\n",
       "      <td>non-specified</td>\n",
       "      <td>Healthcare &amp; Nursing Jobs</td>\n",
       "      <td>22950.0</td>\n",
       "      <td>2013-11-19 00:00:00</td>\n",
       "      <td>2014-01-18 00:00:00</td>\n",
       "      <td>jobs4medical.co.uk</td>\n",
       "    </tr>\n",
       "    <tr>\n",
       "      <th>2</th>\n",
       "      <td>69117049</td>\n",
       "      <td>Allied Health Care Professional : Optometrists...</td>\n",
       "      <td>Aberdeenshire</td>\n",
       "      <td>non-specified</td>\n",
       "      <td>non-specified</td>\n",
       "      <td>non-specified</td>\n",
       "      <td>Healthcare &amp; Nursing Jobs</td>\n",
       "      <td>34452.2</td>\n",
       "      <td>2013-12-11 15:00:00</td>\n",
       "      <td>2013-12-25 15:00:00</td>\n",
       "      <td>jobs4medical.co.uk</td>\n",
       "    </tr>\n",
       "    <tr>\n",
       "      <th>3</th>\n",
       "      <td>68562480</td>\n",
       "      <td>Allied Health Care Professional : Care Home Ma...</td>\n",
       "      <td>Essex</td>\n",
       "      <td>non-specified</td>\n",
       "      <td>non-specified</td>\n",
       "      <td>non-specified</td>\n",
       "      <td>Healthcare &amp; Nursing Jobs</td>\n",
       "      <td>50000.0</td>\n",
       "      <td>2012-03-01 00:00:00</td>\n",
       "      <td>2012-03-15 00:00:00</td>\n",
       "      <td>jobs4medical.co.uk</td>\n",
       "    </tr>\n",
       "    <tr>\n",
       "      <th>4</th>\n",
       "      <td>69783035</td>\n",
       "      <td>Allied Health Care Professional : Optical Clin...</td>\n",
       "      <td>Aberdeenshire</td>\n",
       "      <td>non-specified</td>\n",
       "      <td>non-specified</td>\n",
       "      <td>non-specified</td>\n",
       "      <td>Healthcare &amp; Nursing Jobs</td>\n",
       "      <td>14500.0</td>\n",
       "      <td>2013-11-24 12:00:00</td>\n",
       "      <td>2013-12-08 12:00:00</td>\n",
       "      <td>jobs4medical.co.uk</td>\n",
       "    </tr>\n",
       "  </tbody>\n",
       "</table>\n",
       "</div>"
      ],
      "text/plain": [
       "         Id                                              Title       Location  \\\n",
       "0  71338111  Allied Health Care Professional : Nurse Manage...       Cornwall   \n",
       "1  71353268  Dental : Registered General Nurse Jobs in Stev...  Hertfordshire   \n",
       "2  69117049  Allied Health Care Professional : Optometrists...  Aberdeenshire   \n",
       "3  68562480  Allied Health Care Professional : Care Home Ma...          Essex   \n",
       "4  69783035  Allied Health Care Professional : Optical Clin...  Aberdeenshire   \n",
       "\n",
       "         Company   ContractType   ContractTime                   Category  \\\n",
       "0  non-specified  non-specified  non-specified  Healthcare & Nursing Jobs   \n",
       "1  non-specified  non-specified  non-specified  Healthcare & Nursing Jobs   \n",
       "2  non-specified  non-specified  non-specified  Healthcare & Nursing Jobs   \n",
       "3  non-specified  non-specified  non-specified  Healthcare & Nursing Jobs   \n",
       "4  non-specified  non-specified  non-specified  Healthcare & Nursing Jobs   \n",
       "\n",
       "    Salary             OpenDate            CloseDate          SourceName  \n",
       "0  32000.0  2012-05-31 15:00:00  2012-06-14 15:00:00  jobs4medical.co.uk  \n",
       "1  22950.0  2013-11-19 00:00:00  2014-01-18 00:00:00  jobs4medical.co.uk  \n",
       "2  34452.2  2013-12-11 15:00:00  2013-12-25 15:00:00  jobs4medical.co.uk  \n",
       "3  50000.0  2012-03-01 00:00:00  2012-03-15 00:00:00  jobs4medical.co.uk  \n",
       "4  14500.0  2013-11-24 12:00:00  2013-12-08 12:00:00  jobs4medical.co.uk  "
      ]
     },
     "metadata": {},
     "output_type": "display_data"
    },
    {
     "name": "stdout",
     "output_type": "stream",
     "text": [
      "S2:(5000, 9)\n"
     ]
    },
    {
     "data": {
      "text/html": [
       "<div>\n",
       "<style scoped>\n",
       "    .dataframe tbody tr th:only-of-type {\n",
       "        vertical-align: middle;\n",
       "    }\n",
       "\n",
       "    .dataframe tbody tr th {\n",
       "        vertical-align: top;\n",
       "    }\n",
       "\n",
       "    .dataframe thead th {\n",
       "        text-align: right;\n",
       "    }\n",
       "</style>\n",
       "<table border=\"1\" class=\"dataframe\">\n",
       "  <thead>\n",
       "    <tr style=\"text-align: right;\">\n",
       "      <th></th>\n",
       "      <th>Job Title</th>\n",
       "      <th>Organisation</th>\n",
       "      <th>Monthly Payment</th>\n",
       "      <th>Contract Type</th>\n",
       "      <th>Category</th>\n",
       "      <th>Closing</th>\n",
       "      <th>Location</th>\n",
       "      <th>Full-Time Equivalent (FTE)</th>\n",
       "      <th>Opening</th>\n",
       "    </tr>\n",
       "  </thead>\n",
       "  <tbody>\n",
       "    <tr>\n",
       "      <th>0</th>\n",
       "      <td>Nursing Home Manager  Thames Ditton</td>\n",
       "      <td>Liquid Personnel Ltd</td>\n",
       "      <td>2750.00</td>\n",
       "      <td>NaN</td>\n",
       "      <td>Healthcare and Nursing</td>\n",
       "      <td>2013-02-22 15:00:00</td>\n",
       "      <td>Thames Ditton</td>\n",
       "      <td>FULL TIME</td>\n",
       "      <td>2012-12-24 15:00:00</td>\n",
       "    </tr>\n",
       "    <tr>\n",
       "      <th>1</th>\n",
       "      <td>Deputy Manager  Nursing Home  RGN  Shrewsbury</td>\n",
       "      <td>Liquid Personnel Ltd</td>\n",
       "      <td>2583.33</td>\n",
       "      <td>NaN</td>\n",
       "      <td>Healthcare and Nursing</td>\n",
       "      <td>2012-11-14 15:00:00</td>\n",
       "      <td>Shrewsbury</td>\n",
       "      <td>FULL TIME</td>\n",
       "      <td>2012-10-15 15:00:00</td>\n",
       "    </tr>\n",
       "    <tr>\n",
       "      <th>2</th>\n",
       "      <td>Deputy Manager  Nursing Home (RGN)  London</td>\n",
       "      <td>Liquid Personnel Ltd</td>\n",
       "      <td>3000.00</td>\n",
       "      <td>NaN</td>\n",
       "      <td>Healthcare and Nursing</td>\n",
       "      <td>2012-12-08 00:00:00</td>\n",
       "      <td>London</td>\n",
       "      <td>FULL TIME</td>\n",
       "      <td>2012-11-08 00:00:00</td>\n",
       "    </tr>\n",
       "    <tr>\n",
       "      <th>3</th>\n",
       "      <td>Deputy Manager (RGN)  Nursing Home  Bristol</td>\n",
       "      <td>Liquid Personnel Ltd</td>\n",
       "      <td>2791.67</td>\n",
       "      <td>NaN</td>\n",
       "      <td>Healthcare and Nursing</td>\n",
       "      <td>2013-01-13 15:00:00</td>\n",
       "      <td>Bristol</td>\n",
       "      <td>FULL TIME</td>\n",
       "      <td>2012-11-14 15:00:00</td>\n",
       "    </tr>\n",
       "    <tr>\n",
       "      <th>4</th>\n",
       "      <td>RGN or RMN  Wigan</td>\n",
       "      <td>Eden Brown</td>\n",
       "      <td>2240.00</td>\n",
       "      <td>NaN</td>\n",
       "      <td>Healthcare and Nursing</td>\n",
       "      <td>2013-01-24 15:00:00</td>\n",
       "      <td>Wigan</td>\n",
       "      <td>FULL TIME</td>\n",
       "      <td>2012-11-25 15:00:00</td>\n",
       "    </tr>\n",
       "  </tbody>\n",
       "</table>\n",
       "</div>"
      ],
      "text/plain": [
       "                                       Job Title          Organisation  \\\n",
       "0            Nursing Home Manager  Thames Ditton  Liquid Personnel Ltd   \n",
       "1  Deputy Manager  Nursing Home  RGN  Shrewsbury  Liquid Personnel Ltd   \n",
       "2     Deputy Manager  Nursing Home (RGN)  London  Liquid Personnel Ltd   \n",
       "3    Deputy Manager (RGN)  Nursing Home  Bristol  Liquid Personnel Ltd   \n",
       "4                              RGN or RMN  Wigan            Eden Brown   \n",
       "\n",
       "   Monthly Payment Contract Type                Category              Closing  \\\n",
       "0          2750.00           NaN  Healthcare and Nursing  2013-02-22 15:00:00   \n",
       "1          2583.33           NaN  Healthcare and Nursing  2012-11-14 15:00:00   \n",
       "2          3000.00           NaN  Healthcare and Nursing  2012-12-08 00:00:00   \n",
       "3          2791.67           NaN  Healthcare and Nursing  2013-01-13 15:00:00   \n",
       "4          2240.00           NaN  Healthcare and Nursing  2013-01-24 15:00:00   \n",
       "\n",
       "        Location Full-Time Equivalent (FTE)              Opening  \n",
       "0  Thames Ditton                  FULL TIME  2012-12-24 15:00:00  \n",
       "1     Shrewsbury                  FULL TIME  2012-10-15 15:00:00  \n",
       "2         London                  FULL TIME  2012-11-08 00:00:00  \n",
       "3        Bristol                  FULL TIME  2012-11-14 15:00:00  \n",
       "4          Wigan                  FULL TIME  2012-11-25 15:00:00  "
      ]
     },
     "metadata": {},
     "output_type": "display_data"
    }
   ],
   "source": [
    "# Read in the data\n",
    "df1 = pd.read_csv('s3900098_dataset1_solution.csv')\n",
    "df2 = pd.read_csv('S3900098_dataset2.csv')\n",
    "# Show shape and dataframe\n",
    "print('S1:' + str(df1.shape))\n",
    "display(df1.head())\n",
    "print('S2:' + str(df2.shape))\n",
    "display(df2.head())"
   ]
  },
  {
   "cell_type": "code",
   "execution_count": 4,
   "metadata": {},
   "outputs": [
    {
     "name": "stdout",
     "output_type": "stream",
     "text": [
      "<class 'pandas.core.frame.DataFrame'>\n",
      "RangeIndex: 50699 entries, 0 to 50698\n",
      "Data columns (total 11 columns):\n",
      " #   Column        Non-Null Count  Dtype  \n",
      "---  ------        --------------  -----  \n",
      " 0   Id            50699 non-null  int64  \n",
      " 1   Title         50699 non-null  object \n",
      " 2   Location      50699 non-null  object \n",
      " 3   Company       50699 non-null  object \n",
      " 4   ContractType  50699 non-null  object \n",
      " 5   ContractTime  50699 non-null  object \n",
      " 6   Category      50699 non-null  object \n",
      " 7   Salary        50699 non-null  float64\n",
      " 8   OpenDate      50699 non-null  object \n",
      " 9   CloseDate     50699 non-null  object \n",
      " 10  SourceName    50699 non-null  object \n",
      "dtypes: float64(1), int64(1), object(9)\n",
      "memory usage: 4.3+ MB\n",
      "None\n",
      "<class 'pandas.core.frame.DataFrame'>\n",
      "RangeIndex: 5000 entries, 0 to 4999\n",
      "Data columns (total 9 columns):\n",
      " #   Column                      Non-Null Count  Dtype  \n",
      "---  ------                      --------------  -----  \n",
      " 0   Job Title                   5000 non-null   object \n",
      " 1   Organisation                4937 non-null   object \n",
      " 2   Monthly Payment             5000 non-null   float64\n",
      " 3   Contract Type               4312 non-null   object \n",
      " 4   Category                    5000 non-null   object \n",
      " 5   Closing                     5000 non-null   object \n",
      " 6   Location                    5000 non-null   object \n",
      " 7   Full-Time Equivalent (FTE)  643 non-null    object \n",
      " 8   Opening                     5000 non-null   object \n",
      "dtypes: float64(1), object(8)\n",
      "memory usage: 351.7+ KB\n",
      "None\n"
     ]
    }
   ],
   "source": [
    "print (df1.info())\n",
    "print (df2.info())"
   ]
  },
  {
   "cell_type": "markdown",
   "metadata": {},
   "source": [
    "### 2. Resolving schema conflicts\n",
    "Give some general information about the conflicts you found in two schemas and steps you taken to resolve them.\n",
    "\n",
    "<span style=\"color: red\"> You might have complex notebook structure in this section, please feel free to create your own notebook structure. </span>"
   ]
  },
  {
   "cell_type": "markdown",
   "metadata": {},
   "source": [
    "#### Conflict 1: XXXX (e.g. naming conflicts in xx column and xx column)\n",
    "Here give some general information about this conflict."
   ]
  },
  {
   "cell_type": "code",
   "execution_count": 5,
   "metadata": {
    "scrolled": false
   },
   "outputs": [],
   "source": [
    "# Code to inspect data and identify conflicts in schema\n"
   ]
  },
  {
   "cell_type": "markdown",
   "metadata": {},
   "source": [
    "Tell me about how you fix the conflict here"
   ]
  },
  {
   "cell_type": "code",
   "execution_count": 6,
   "metadata": {},
   "outputs": [],
   "source": [
    "# Code to fix the conflict"
   ]
  },
  {
   "cell_type": "markdown",
   "metadata": {},
   "source": [
    "#### Conflict 2: Title Column\n",
    "\n",
    "Need to make sure the column is named correctly"
   ]
  },
  {
   "cell_type": "code",
   "execution_count": 7,
   "metadata": {},
   "outputs": [
    {
     "data": {
      "text/plain": [
       "'Job Title'"
      ]
     },
     "execution_count": 7,
     "metadata": {},
     "output_type": "execute_result"
    }
   ],
   "source": [
    "df2.columns[0]"
   ]
  },
  {
   "cell_type": "code",
   "execution_count": 8,
   "metadata": {},
   "outputs": [],
   "source": [
    "# Renaming\n",
    "df2.rename(columns = {'Job Title':'Title'}, inplace = True)"
   ]
  },
  {
   "cell_type": "code",
   "execution_count": 9,
   "metadata": {},
   "outputs": [
    {
     "data": {
      "text/plain": [
       "0"
      ]
     },
     "execution_count": 9,
     "metadata": {},
     "output_type": "execute_result"
    }
   ],
   "source": [
    "# No null values\n",
    "df2[\"Title\"].isna().sum()"
   ]
  },
  {
   "cell_type": "markdown",
   "metadata": {},
   "source": [
    "#### Conflict 3: Organization/Company Column\n",
    "\n",
    "Need to make sure the column is named correctly to company"
   ]
  },
  {
   "cell_type": "code",
   "execution_count": 10,
   "metadata": {},
   "outputs": [
    {
     "data": {
      "text/plain": [
       "'Organisation'"
      ]
     },
     "execution_count": 10,
     "metadata": {},
     "output_type": "execute_result"
    }
   ],
   "source": [
    "df2.columns[1]"
   ]
  },
  {
   "cell_type": "code",
   "execution_count": 11,
   "metadata": {},
   "outputs": [
    {
     "name": "stdout",
     "output_type": "stream",
     "text": [
      "<class 'pandas.core.frame.DataFrame'>\n",
      "RangeIndex: 5000 entries, 0 to 4999\n",
      "Data columns (total 9 columns):\n",
      " #   Column                      Non-Null Count  Dtype  \n",
      "---  ------                      --------------  -----  \n",
      " 0   Title                       5000 non-null   object \n",
      " 1   Organisation                4937 non-null   object \n",
      " 2   Monthly Payment             5000 non-null   float64\n",
      " 3   Contract Type               4312 non-null   object \n",
      " 4   Category                    5000 non-null   object \n",
      " 5   Closing                     5000 non-null   object \n",
      " 6   Location                    5000 non-null   object \n",
      " 7   Full-Time Equivalent (FTE)  643 non-null    object \n",
      " 8   Opening                     5000 non-null   object \n",
      "dtypes: float64(1), object(8)\n",
      "memory usage: 351.7+ KB\n"
     ]
    }
   ],
   "source": [
    "df2.info()\n",
    "# So Organization has 50+ missing values"
   ]
  },
  {
   "cell_type": "code",
   "execution_count": 12,
   "metadata": {},
   "outputs": [
    {
     "name": "stdout",
     "output_type": "stream",
     "text": [
      "There are this many nulls: 63\n"
     ]
    },
    {
     "data": {
      "text/html": [
       "<div>\n",
       "<style scoped>\n",
       "    .dataframe tbody tr th:only-of-type {\n",
       "        vertical-align: middle;\n",
       "    }\n",
       "\n",
       "    .dataframe tbody tr th {\n",
       "        vertical-align: top;\n",
       "    }\n",
       "\n",
       "    .dataframe thead th {\n",
       "        text-align: right;\n",
       "    }\n",
       "</style>\n",
       "<table border=\"1\" class=\"dataframe\">\n",
       "  <thead>\n",
       "    <tr style=\"text-align: right;\">\n",
       "      <th></th>\n",
       "      <th>Title</th>\n",
       "      <th>Organisation</th>\n",
       "      <th>Monthly Payment</th>\n",
       "      <th>Contract Type</th>\n",
       "      <th>Category</th>\n",
       "      <th>Closing</th>\n",
       "      <th>Location</th>\n",
       "      <th>Full-Time Equivalent (FTE)</th>\n",
       "      <th>Opening</th>\n",
       "    </tr>\n",
       "  </thead>\n",
       "  <tbody>\n",
       "    <tr>\n",
       "      <th>44</th>\n",
       "      <td>Senior Engineer of Entrance Systems</td>\n",
       "      <td>NaN</td>\n",
       "      <td>4583.33</td>\n",
       "      <td>Permanent</td>\n",
       "      <td>Engineering</td>\n",
       "      <td>2013-09-08 15:00:00</td>\n",
       "      <td>Derbyshire</td>\n",
       "      <td>NaN</td>\n",
       "      <td>2013-08-09 15:00:00</td>\n",
       "    </tr>\n",
       "    <tr>\n",
       "      <th>45</th>\n",
       "      <td>Mechanical Design Draftsman</td>\n",
       "      <td>NaN</td>\n",
       "      <td>2291.67</td>\n",
       "      <td>Permanent</td>\n",
       "      <td>Engineering</td>\n",
       "      <td>2013-08-31 00:00:00</td>\n",
       "      <td>Greater Manchester</td>\n",
       "      <td>NaN</td>\n",
       "      <td>2013-07-02 00:00:00</td>\n",
       "    </tr>\n",
       "    <tr>\n",
       "      <th>46</th>\n",
       "      <td>ASPnet C Snr Developer</td>\n",
       "      <td>NaN</td>\n",
       "      <td>3666.67</td>\n",
       "      <td>Permanent</td>\n",
       "      <td>Information Technology</td>\n",
       "      <td>2012-05-26 00:00:00</td>\n",
       "      <td>Hampshire</td>\n",
       "      <td>NaN</td>\n",
       "      <td>2012-02-26 00:00:00</td>\n",
       "    </tr>\n",
       "    <tr>\n",
       "      <th>47</th>\n",
       "      <td>Procurement Subcontracts Manager</td>\n",
       "      <td>NaN</td>\n",
       "      <td>4791.67</td>\n",
       "      <td>Permanent</td>\n",
       "      <td>Engineering</td>\n",
       "      <td>2013-12-28 12:00:00</td>\n",
       "      <td>Hampshire</td>\n",
       "      <td>NaN</td>\n",
       "      <td>2013-09-29 12:00:00</td>\n",
       "    </tr>\n",
       "    <tr>\n",
       "      <th>48</th>\n",
       "      <td>Business Development Coordinator  Sussex</td>\n",
       "      <td>NaN</td>\n",
       "      <td>1916.67</td>\n",
       "      <td>Permanent</td>\n",
       "      <td>Teaching</td>\n",
       "      <td>2012-07-29 12:00:00</td>\n",
       "      <td>West Sussex</td>\n",
       "      <td>NaN</td>\n",
       "      <td>2012-04-30 12:00:00</td>\n",
       "    </tr>\n",
       "  </tbody>\n",
       "</table>\n",
       "</div>"
      ],
      "text/plain": [
       "                                       Title Organisation  Monthly Payment  \\\n",
       "44       Senior Engineer of Entrance Systems          NaN          4583.33   \n",
       "45               Mechanical Design Draftsman          NaN          2291.67   \n",
       "46                    ASPnet C Snr Developer          NaN          3666.67   \n",
       "47          Procurement Subcontracts Manager          NaN          4791.67   \n",
       "48  Business Development Coordinator  Sussex          NaN          1916.67   \n",
       "\n",
       "   Contract Type                Category              Closing  \\\n",
       "44     Permanent             Engineering  2013-09-08 15:00:00   \n",
       "45     Permanent             Engineering  2013-08-31 00:00:00   \n",
       "46     Permanent  Information Technology  2012-05-26 00:00:00   \n",
       "47     Permanent             Engineering  2013-12-28 12:00:00   \n",
       "48     Permanent                Teaching  2012-07-29 12:00:00   \n",
       "\n",
       "              Location Full-Time Equivalent (FTE)              Opening  \n",
       "44          Derbyshire                        NaN  2013-08-09 15:00:00  \n",
       "45  Greater Manchester                        NaN  2013-07-02 00:00:00  \n",
       "46           Hampshire                        NaN  2012-02-26 00:00:00  \n",
       "47           Hampshire                        NaN  2013-09-29 12:00:00  \n",
       "48         West Sussex                        NaN  2012-04-30 12:00:00  "
      ]
     },
     "execution_count": 12,
     "metadata": {},
     "output_type": "execute_result"
    }
   ],
   "source": [
    "# 63 to be exact\n",
    "print(\"There are this many nulls:\",df2[\"Organisation\"].isna().sum())\n",
    "df2[df2[\"Organisation\"].isna()].head()"
   ]
  },
  {
   "cell_type": "markdown",
   "metadata": {},
   "source": [
    "Lets change replace all of it with \"non-specified\" according to the requirements of the global schema."
   ]
  },
  {
   "cell_type": "code",
   "execution_count": 13,
   "metadata": {},
   "outputs": [
    {
     "name": "stdout",
     "output_type": "stream",
     "text": [
      "There are this many nulls: 0\n"
     ]
    }
   ],
   "source": [
    "df2[\"Organisation\"].fillna('non-specified', inplace = True)\n",
    "print(\"There are this many nulls:\",df2[\"Organisation\"].isna().sum())"
   ]
  },
  {
   "cell_type": "markdown",
   "metadata": {},
   "source": [
    "Nice it worked. Now lets just change the column name."
   ]
  },
  {
   "cell_type": "code",
   "execution_count": 14,
   "metadata": {},
   "outputs": [],
   "source": [
    "# Renaming\n",
    "df2.rename(columns = {'Organisation':'Company'}, inplace = True)"
   ]
  },
  {
   "cell_type": "markdown",
   "metadata": {},
   "source": [
    "#### Conflict 4: Monthly Pay Column\n",
    "\n",
    "Looks like its in monthly... We want annual salary so lets convert that."
   ]
  },
  {
   "cell_type": "code",
   "execution_count": 15,
   "metadata": {},
   "outputs": [
    {
     "name": "stdout",
     "output_type": "stream",
     "text": [
      "<class 'numpy.float64'>\n",
      "0    2750.00\n",
      "1    2583.33\n",
      "2    3000.00\n",
      "3    2791.67\n",
      "4    2240.00\n",
      "Name: Monthly Payment, dtype: float64\n"
     ]
    }
   ],
   "source": [
    "# So its already in float format. Good.\n",
    "print(type(df2[\"Monthly Payment\"][0]))\n",
    "print(df2[\"Monthly Payment\"].head())"
   ]
  },
  {
   "cell_type": "code",
   "execution_count": 16,
   "metadata": {},
   "outputs": [
    {
     "data": {
      "text/plain": [
       "0"
      ]
     },
     "execution_count": 16,
     "metadata": {},
     "output_type": "execute_result"
    }
   ],
   "source": [
    "# Nice no missing values\n",
    "df2[\"Monthly Payment\"].isna().sum()"
   ]
  },
  {
   "cell_type": "code",
   "execution_count": 17,
   "metadata": {},
   "outputs": [],
   "source": [
    "df2[\"Monthly Payment\"] = df2[\"Monthly Payment\"].apply(lambda x: x*12)"
   ]
  },
  {
   "cell_type": "code",
   "execution_count": 18,
   "metadata": {},
   "outputs": [
    {
     "data": {
      "text/plain": [
       "0    33000.00\n",
       "1    30999.96\n",
       "2    36000.00\n",
       "3    33500.04\n",
       "4    26880.00\n",
       "Name: Monthly Payment, dtype: float64"
      ]
     },
     "execution_count": 18,
     "metadata": {},
     "output_type": "execute_result"
    }
   ],
   "source": [
    "# Round to 2 d.p\n",
    "round(df2[\"Monthly Payment\"],2)\n",
    "df2[\"Monthly Payment\"].head()"
   ]
  },
  {
   "cell_type": "markdown",
   "metadata": {},
   "source": [
    "Nice. Lets just rename the columns now"
   ]
  },
  {
   "cell_type": "code",
   "execution_count": 19,
   "metadata": {},
   "outputs": [],
   "source": [
    "# Renaming\n",
    "df2.rename(columns = {'Monthly Payment':'Salary'}, inplace = True)"
   ]
  },
  {
   "cell_type": "markdown",
   "metadata": {},
   "source": [
    "#### Conflict 5: Contract Type (ContractTime)\n",
    "\n",
    "Should be ContractTime, by the contents of the column."
   ]
  },
  {
   "cell_type": "code",
   "execution_count": 20,
   "metadata": {},
   "outputs": [
    {
     "name": "stdout",
     "output_type": "stream",
     "text": [
      "<class 'pandas.core.frame.DataFrame'>\n",
      "RangeIndex: 5000 entries, 0 to 4999\n",
      "Data columns (total 9 columns):\n",
      " #   Column                      Non-Null Count  Dtype  \n",
      "---  ------                      --------------  -----  \n",
      " 0   Title                       5000 non-null   object \n",
      " 1   Company                     5000 non-null   object \n",
      " 2   Salary                      5000 non-null   float64\n",
      " 3   Contract Type               4312 non-null   object \n",
      " 4   Category                    5000 non-null   object \n",
      " 5   Closing                     5000 non-null   object \n",
      " 6   Location                    5000 non-null   object \n",
      " 7   Full-Time Equivalent (FTE)  643 non-null    object \n",
      " 8   Opening                     5000 non-null   object \n",
      "dtypes: float64(1), object(8)\n",
      "memory usage: 351.7+ KB\n"
     ]
    }
   ],
   "source": [
    "df2.info()"
   ]
  },
  {
   "cell_type": "code",
   "execution_count": 21,
   "metadata": {},
   "outputs": [
    {
     "data": {
      "text/plain": [
       "688"
      ]
     },
     "execution_count": 21,
     "metadata": {},
     "output_type": "execute_result"
    }
   ],
   "source": [
    "df2[\"Contract Type\"].isna().sum()"
   ]
  },
  {
   "cell_type": "code",
   "execution_count": 22,
   "metadata": {},
   "outputs": [
    {
     "data": {
      "text/plain": [
       "Permanent              3720\n",
       "Fixed Term Contract     592\n",
       "Name: Contract Type, dtype: int64"
      ]
     },
     "execution_count": 22,
     "metadata": {},
     "output_type": "execute_result"
    }
   ],
   "source": [
    "df2[\"Contract Type\"].value_counts()"
   ]
  },
  {
   "cell_type": "markdown",
   "metadata": {},
   "source": [
    "So its alrady a String.\n",
    "\n",
    "We can keep \"Permanent\". We just change \"Fixed Term Contract\" to \"contract\" and make the rest of the nulls \"non-specified\"."
   ]
  },
  {
   "cell_type": "code",
   "execution_count": 23,
   "metadata": {},
   "outputs": [
    {
     "data": {
      "text/plain": [
       "Permanent    3720\n",
       "contract      592\n",
       "Name: Contract Type, dtype: int64"
      ]
     },
     "execution_count": 23,
     "metadata": {},
     "output_type": "execute_result"
    }
   ],
   "source": [
    "# Replacing Fixed Term Contract\n",
    "\n",
    "df2[\"Contract Type\"].replace('Fixed Term Contract','contract', inplace = True)\n",
    "df2[\"Contract Type\"].value_counts()"
   ]
  },
  {
   "cell_type": "code",
   "execution_count": 24,
   "metadata": {},
   "outputs": [
    {
     "data": {
      "text/plain": [
       "0"
      ]
     },
     "execution_count": 24,
     "metadata": {},
     "output_type": "execute_result"
    }
   ],
   "source": [
    "# Replacing the nulls\n",
    "df2[\"Contract Type\"].fillna('non-specified', inplace = True)\n",
    "df2[\"Contract Type\"].isna().sum()"
   ]
  },
  {
   "cell_type": "markdown",
   "metadata": {},
   "source": [
    "Beautiful. Lets just change the column names now."
   ]
  },
  {
   "cell_type": "code",
   "execution_count": 25,
   "metadata": {},
   "outputs": [],
   "source": [
    "# Renaming\n",
    "df2.rename(columns = {'Contract Type':'ContractTime'}, inplace = True)"
   ]
  },
  {
   "cell_type": "markdown",
   "metadata": {},
   "source": [
    "#### Conflict 6: Category Column\n",
    "\n",
    "Make sure category column has only the valid values in the cells."
   ]
  },
  {
   "cell_type": "code",
   "execution_count": 26,
   "metadata": {},
   "outputs": [
    {
     "name": "stdout",
     "output_type": "stream",
     "text": [
      "<class 'pandas.core.frame.DataFrame'>\n",
      "RangeIndex: 5000 entries, 0 to 4999\n",
      "Data columns (total 9 columns):\n",
      " #   Column                      Non-Null Count  Dtype  \n",
      "---  ------                      --------------  -----  \n",
      " 0   Title                       5000 non-null   object \n",
      " 1   Company                     5000 non-null   object \n",
      " 2   Salary                      5000 non-null   float64\n",
      " 3   ContractTime                5000 non-null   object \n",
      " 4   Category                    5000 non-null   object \n",
      " 5   Closing                     5000 non-null   object \n",
      " 6   Location                    5000 non-null   object \n",
      " 7   Full-Time Equivalent (FTE)  643 non-null    object \n",
      " 8   Opening                     5000 non-null   object \n",
      "dtypes: float64(1), object(8)\n",
      "memory usage: 351.7+ KB\n"
     ]
    }
   ],
   "source": [
    "df2.info()"
   ]
  },
  {
   "cell_type": "code",
   "execution_count": 27,
   "metadata": {},
   "outputs": [
    {
     "data": {
      "text/plain": [
       "Information Technology           1286\n",
       "Engineering                      1066\n",
       "Healthcare and Nursing            655\n",
       "Finance and Accounting            637\n",
       "Sales                             630\n",
       "Hospitality and Catering          275\n",
       "Teaching                          234\n",
       "PR, Advertising and Marketing     217\n",
       "Name: Category, dtype: int64"
      ]
     },
     "execution_count": 27,
     "metadata": {},
     "output_type": "execute_result"
    }
   ],
   "source": [
    "df2[\"Category\"].value_counts()"
   ]
  },
  {
   "cell_type": "markdown",
   "metadata": {},
   "source": [
    "There are only 8 possible categories:\n",
    "- IT Jobs \n",
    "- Healthcare & Nursing Jobs\n",
    "- Engineering Jobs\n",
    "- Accounting & Finance Jobs\n",
    "- Sales Jobs\n",
    "- Hospitality & Catering Jobs\n",
    "- Teaching Jobs\n",
    "- PR, Advertising & Marketing Jobs\n",
    "\n",
    "They are correct, but it just looks like we just need to help with a little renaming.\n",
    "\n",
    "Lets start."
   ]
  },
  {
   "cell_type": "code",
   "execution_count": 28,
   "metadata": {},
   "outputs": [],
   "source": [
    "df2[\"Category\"].replace('Information Technology','IT Jobs', inplace = True)\n",
    "df2[\"Category\"].replace('Healthcare and Nursing','Healthcare & Nursing Jobs', inplace = True)\n",
    "df2[\"Category\"].replace('Engineering','Engineering Jobs', inplace = True)\n",
    "df2[\"Category\"].replace('Finance and Accounting','Accounting & Finance Jobs', inplace = True)\n",
    "df2[\"Category\"].replace('Sales','Sales Jobs', inplace = True)\n",
    "df2[\"Category\"].replace('Hospitality and Catering','Hospitality & Catering Jobs', inplace = True)\n",
    "df2[\"Category\"].replace('Teaching','Teaching Jobs', inplace = True)\n",
    "df2[\"Category\"].replace('PR, Advertising and Marketing','PR, Advertising & Marketing Jobs', inplace = True)"
   ]
  },
  {
   "cell_type": "code",
   "execution_count": 29,
   "metadata": {},
   "outputs": [
    {
     "data": {
      "text/plain": [
       "IT Jobs                             1286\n",
       "Engineering Jobs                    1066\n",
       "Healthcare & Nursing Jobs            655\n",
       "Accounting & Finance Jobs            637\n",
       "Sales Jobs                           630\n",
       "Hospitality & Catering Jobs          275\n",
       "Teaching Jobs                        234\n",
       "PR, Advertising & Marketing Jobs     217\n",
       "Name: Category, dtype: int64"
      ]
     },
     "execution_count": 29,
     "metadata": {},
     "output_type": "execute_result"
    }
   ],
   "source": [
    "df2[\"Category\"].value_counts()"
   ]
  },
  {
   "cell_type": "markdown",
   "metadata": {},
   "source": [
    "Nice."
   ]
  },
  {
   "cell_type": "code",
   "execution_count": 30,
   "metadata": {},
   "outputs": [
    {
     "data": {
      "text/plain": [
       "0"
      ]
     },
     "execution_count": 30,
     "metadata": {},
     "output_type": "execute_result"
    }
   ],
   "source": [
    "df2[\"Category\"].isna().sum()"
   ]
  },
  {
   "cell_type": "markdown",
   "metadata": {},
   "source": [
    "And since the name is already identical to the correct schema, we won't need to change anything!"
   ]
  },
  {
   "cell_type": "markdown",
   "metadata": {},
   "source": [
    "#### Conflict 7: Opening/Closing Column (OpenDate/CloseDate)\n",
    "\n",
    "Change strings to datetime format, and check integrity constraints."
   ]
  },
  {
   "cell_type": "code",
   "execution_count": 31,
   "metadata": {},
   "outputs": [
    {
     "name": "stdout",
     "output_type": "stream",
     "text": [
      "<class 'pandas.core.frame.DataFrame'>\n",
      "RangeIndex: 5000 entries, 0 to 4999\n",
      "Data columns (total 9 columns):\n",
      " #   Column                      Non-Null Count  Dtype  \n",
      "---  ------                      --------------  -----  \n",
      " 0   Title                       5000 non-null   object \n",
      " 1   Company                     5000 non-null   object \n",
      " 2   Salary                      5000 non-null   float64\n",
      " 3   ContractTime                5000 non-null   object \n",
      " 4   Category                    5000 non-null   object \n",
      " 5   Closing                     5000 non-null   object \n",
      " 6   Location                    5000 non-null   object \n",
      " 7   Full-Time Equivalent (FTE)  643 non-null    object \n",
      " 8   Opening                     5000 non-null   object \n",
      "dtypes: float64(1), object(8)\n",
      "memory usage: 351.7+ KB\n"
     ]
    }
   ],
   "source": [
    "df2.info()"
   ]
  },
  {
   "cell_type": "code",
   "execution_count": 32,
   "metadata": {},
   "outputs": [
    {
     "name": "stdout",
     "output_type": "stream",
     "text": [
      "<class 'str'>\n"
     ]
    },
    {
     "data": {
      "text/plain": [
       "'2012-12-24 15:00:00'"
      ]
     },
     "execution_count": 32,
     "metadata": {},
     "output_type": "execute_result"
    }
   ],
   "source": [
    "print(type(df2[\"Opening\"][0]))\n",
    "df2[\"Opening\"][0]"
   ]
  },
  {
   "cell_type": "code",
   "execution_count": 33,
   "metadata": {},
   "outputs": [],
   "source": [
    "df2[\"Opening\"] = pd.to_datetime(df2[\"Opening\"])\n",
    "df2[\"Closing\"] = pd.to_datetime(df2[\"Closing\"])"
   ]
  },
  {
   "cell_type": "code",
   "execution_count": 34,
   "metadata": {},
   "outputs": [
    {
     "name": "stdout",
     "output_type": "stream",
     "text": [
      "<class 'pandas.core.frame.DataFrame'>\n",
      "RangeIndex: 5000 entries, 0 to 4999\n",
      "Data columns (total 9 columns):\n",
      " #   Column                      Non-Null Count  Dtype         \n",
      "---  ------                      --------------  -----         \n",
      " 0   Title                       5000 non-null   object        \n",
      " 1   Company                     5000 non-null   object        \n",
      " 2   Salary                      5000 non-null   float64       \n",
      " 3   ContractTime                5000 non-null   object        \n",
      " 4   Category                    5000 non-null   object        \n",
      " 5   Closing                     5000 non-null   datetime64[ns]\n",
      " 6   Location                    5000 non-null   object        \n",
      " 7   Full-Time Equivalent (FTE)  643 non-null    object        \n",
      " 8   Opening                     5000 non-null   datetime64[ns]\n",
      "dtypes: datetime64[ns](2), float64(1), object(6)\n",
      "memory usage: 351.7+ KB\n"
     ]
    }
   ],
   "source": [
    "df2.info()"
   ]
  },
  {
   "cell_type": "markdown",
   "metadata": {},
   "source": [
    "Perfect. The columns are now in the correct DateTime format.\n",
    "\n",
    "Lets check for integrity constraints now!"
   ]
  },
  {
   "cell_type": "code",
   "execution_count": 35,
   "metadata": {},
   "outputs": [
    {
     "name": "stdout",
     "output_type": "stream",
     "text": [
      "2013-02-22 15:00:00\n",
      "2012-12-24 15:00:00\n"
     ]
    }
   ],
   "source": [
    "# Example of how closing date should always be bigger than opening date\n",
    "print(df2[\"Closing\"][0])\n",
    "print(df2[\"Opening\"][0])"
   ]
  },
  {
   "cell_type": "code",
   "execution_count": 36,
   "metadata": {},
   "outputs": [],
   "source": [
    "# Correct condition\n",
    "condition = df2[\"Closing\"]>df2[\"Opening\"]"
   ]
  },
  {
   "cell_type": "code",
   "execution_count": 37,
   "metadata": {},
   "outputs": [
    {
     "data": {
      "text/html": [
       "<div>\n",
       "<style scoped>\n",
       "    .dataframe tbody tr th:only-of-type {\n",
       "        vertical-align: middle;\n",
       "    }\n",
       "\n",
       "    .dataframe tbody tr th {\n",
       "        vertical-align: top;\n",
       "    }\n",
       "\n",
       "    .dataframe thead th {\n",
       "        text-align: right;\n",
       "    }\n",
       "</style>\n",
       "<table border=\"1\" class=\"dataframe\">\n",
       "  <thead>\n",
       "    <tr style=\"text-align: right;\">\n",
       "      <th></th>\n",
       "      <th>Title</th>\n",
       "      <th>Company</th>\n",
       "      <th>Salary</th>\n",
       "      <th>ContractTime</th>\n",
       "      <th>Category</th>\n",
       "      <th>Closing</th>\n",
       "      <th>Location</th>\n",
       "      <th>Full-Time Equivalent (FTE)</th>\n",
       "      <th>Opening</th>\n",
       "    </tr>\n",
       "  </thead>\n",
       "  <tbody>\n",
       "  </tbody>\n",
       "</table>\n",
       "</div>"
      ],
      "text/plain": [
       "Empty DataFrame\n",
       "Columns: [Title, Company, Salary, ContractTime, Category, Closing, Location, Full-Time Equivalent (FTE), Opening]\n",
       "Index: []"
      ]
     },
     "execution_count": 37,
     "metadata": {},
     "output_type": "execute_result"
    }
   ],
   "source": [
    "# Anything that doesn't match the correct condition\n",
    "df2[~condition]"
   ]
  },
  {
   "cell_type": "markdown",
   "metadata": {},
   "source": [
    "Great. Lets just rename the columns now"
   ]
  },
  {
   "cell_type": "code",
   "execution_count": 38,
   "metadata": {},
   "outputs": [],
   "source": [
    "# Renaming\n",
    "df2.rename(columns = {'Closing':'CloseDate'}, inplace = True)\n",
    "# Renaming\n",
    "df2.rename(columns = {'Opening':'OpenDate'}, inplace = True)"
   ]
  },
  {
   "cell_type": "markdown",
   "metadata": {},
   "source": [
    "#### Conflict 8: Location (Location)\n",
    "\n",
    "Check if location is in correct datatype"
   ]
  },
  {
   "cell_type": "code",
   "execution_count": 39,
   "metadata": {},
   "outputs": [
    {
     "name": "stdout",
     "output_type": "stream",
     "text": [
      "<class 'pandas.core.frame.DataFrame'>\n",
      "RangeIndex: 5000 entries, 0 to 4999\n",
      "Data columns (total 9 columns):\n",
      " #   Column                      Non-Null Count  Dtype         \n",
      "---  ------                      --------------  -----         \n",
      " 0   Title                       5000 non-null   object        \n",
      " 1   Company                     5000 non-null   object        \n",
      " 2   Salary                      5000 non-null   float64       \n",
      " 3   ContractTime                5000 non-null   object        \n",
      " 4   Category                    5000 non-null   object        \n",
      " 5   CloseDate                   5000 non-null   datetime64[ns]\n",
      " 6   Location                    5000 non-null   object        \n",
      " 7   Full-Time Equivalent (FTE)  643 non-null    object        \n",
      " 8   OpenDate                    5000 non-null   datetime64[ns]\n",
      "dtypes: datetime64[ns](2), float64(1), object(6)\n",
      "memory usage: 351.7+ KB\n"
     ]
    }
   ],
   "source": [
    "df2.info()"
   ]
  },
  {
   "cell_type": "markdown",
   "metadata": {},
   "source": [
    "Looks all good. No changes need to be made."
   ]
  },
  {
   "attachments": {},
   "cell_type": "markdown",
   "metadata": {},
   "source": [
    "#### Conflict 9: Full-Time Equivalent (ContractType)\n",
    "\n",
    "Change column name. Convert values to valid values. Fill in missing cells with valid value."
   ]
  },
  {
   "cell_type": "code",
   "execution_count": 40,
   "metadata": {},
   "outputs": [
    {
     "name": "stdout",
     "output_type": "stream",
     "text": [
      "<class 'pandas.core.frame.DataFrame'>\n",
      "RangeIndex: 5000 entries, 0 to 4999\n",
      "Data columns (total 9 columns):\n",
      " #   Column                      Non-Null Count  Dtype         \n",
      "---  ------                      --------------  -----         \n",
      " 0   Title                       5000 non-null   object        \n",
      " 1   Company                     5000 non-null   object        \n",
      " 2   Salary                      5000 non-null   float64       \n",
      " 3   ContractTime                5000 non-null   object        \n",
      " 4   Category                    5000 non-null   object        \n",
      " 5   CloseDate                   5000 non-null   datetime64[ns]\n",
      " 6   Location                    5000 non-null   object        \n",
      " 7   Full-Time Equivalent (FTE)  643 non-null    object        \n",
      " 8   OpenDate                    5000 non-null   datetime64[ns]\n",
      "dtypes: datetime64[ns](2), float64(1), object(6)\n",
      "memory usage: 351.7+ KB\n"
     ]
    }
   ],
   "source": [
    "df2.info()"
   ]
  },
  {
   "cell_type": "code",
   "execution_count": 41,
   "metadata": {},
   "outputs": [
    {
     "data": {
      "text/plain": [
       "FULL TIME    583\n",
       "0.2 FTE       16\n",
       "0.6 FTE       15\n",
       "0.4 FTE       15\n",
       "0.8 FTE       14\n",
       "Name: Full-Time Equivalent (FTE), dtype: int64"
      ]
     },
     "execution_count": 41,
     "metadata": {},
     "output_type": "execute_result"
    }
   ],
   "source": [
    "df2['Full-Time Equivalent (FTE)'].value_counts()"
   ]
  },
  {
   "cell_type": "markdown",
   "metadata": {},
   "source": [
    "So we need to convert it to 'full_time' for the FULL TIME values, 'part_time' for any of the FTE values, and then 'non-specified' for the Null values."
   ]
  },
  {
   "cell_type": "code",
   "execution_count": 42,
   "metadata": {},
   "outputs": [],
   "source": [
    "# Replacing FULL TIME\n",
    "df2['Full-Time Equivalent (FTE)'].replace('FULL TIME', 'full_time', inplace=True)"
   ]
  },
  {
   "cell_type": "code",
   "execution_count": 43,
   "metadata": {},
   "outputs": [],
   "source": [
    "# Replacing all the 0.x FTE\n",
    "df2['Full-Time Equivalent (FTE)'].replace(['0.2 FTE','0.4 FTE','0.6 FTE','0.8 FTE'], 'part_time', inplace=True)"
   ]
  },
  {
   "cell_type": "code",
   "execution_count": 44,
   "metadata": {},
   "outputs": [
    {
     "data": {
      "text/plain": [
       "full_time    583\n",
       "part_time     60\n",
       "Name: Full-Time Equivalent (FTE), dtype: int64"
      ]
     },
     "execution_count": 44,
     "metadata": {},
     "output_type": "execute_result"
    }
   ],
   "source": [
    "df2['Full-Time Equivalent (FTE)'].value_counts()"
   ]
  },
  {
   "cell_type": "markdown",
   "metadata": {},
   "source": [
    "Lets full the Nulls now."
   ]
  },
  {
   "cell_type": "code",
   "execution_count": 45,
   "metadata": {},
   "outputs": [],
   "source": [
    "# Replaceing all the null values\n",
    "df2['Full-Time Equivalent (FTE)'].fillna('non-specified', inplace = True)"
   ]
  },
  {
   "cell_type": "code",
   "execution_count": 46,
   "metadata": {},
   "outputs": [
    {
     "data": {
      "text/plain": [
       "0"
      ]
     },
     "execution_count": 46,
     "metadata": {},
     "output_type": "execute_result"
    }
   ],
   "source": [
    "df2['Full-Time Equivalent (FTE)'].isna().sum()"
   ]
  },
  {
   "cell_type": "markdown",
   "metadata": {},
   "source": [
    "Now we just change the column name."
   ]
  },
  {
   "cell_type": "code",
   "execution_count": 47,
   "metadata": {},
   "outputs": [],
   "source": [
    "# Renaming\n",
    "df2.rename(columns = {'Full-Time Equivalent (FTE)':'ContractType'}, inplace = True)"
   ]
  },
  {
   "cell_type": "markdown",
   "metadata": {},
   "source": [
    "#### Conflict 10: Missing SourceName Column\n",
    "\n",
    "We need to create a source name column where all sources are `\"www.jobhuntlisting.com\"`"
   ]
  },
  {
   "cell_type": "code",
   "execution_count": 48,
   "metadata": {},
   "outputs": [
    {
     "data": {
      "text/plain": [
       "(5000, 9)"
      ]
     },
     "execution_count": 48,
     "metadata": {},
     "output_type": "execute_result"
    }
   ],
   "source": [
    "df2.shape"
   ]
  },
  {
   "cell_type": "markdown",
   "metadata": {},
   "source": [
    "So we need to create a column where there are 5000 rows of the string `\"www.jobhuntlisting.com\"`\n",
    "\n",
    "Lets create a list of 5000 strings first, then convert it to a dataframe, then append it."
   ]
  },
  {
   "cell_type": "code",
   "execution_count": null,
   "metadata": {},
   "outputs": [],
   "source": []
  },
  {
   "cell_type": "code",
   "execution_count": 49,
   "metadata": {},
   "outputs": [],
   "source": [
    "test = [\"www.jobhuntlisting.com\",\"www.jobhuntlisting.com\",\"www.jobhuntlisting.com\",\"www.jobhuntlisting.com\",\"www.jobhuntlisting.com\"]"
   ]
  },
  {
   "cell_type": "code",
   "execution_count": 50,
   "metadata": {},
   "outputs": [
    {
     "data": {
      "text/html": [
       "<div>\n",
       "<style scoped>\n",
       "    .dataframe tbody tr th:only-of-type {\n",
       "        vertical-align: middle;\n",
       "    }\n",
       "\n",
       "    .dataframe tbody tr th {\n",
       "        vertical-align: top;\n",
       "    }\n",
       "\n",
       "    .dataframe thead th {\n",
       "        text-align: right;\n",
       "    }\n",
       "</style>\n",
       "<table border=\"1\" class=\"dataframe\">\n",
       "  <thead>\n",
       "    <tr style=\"text-align: right;\">\n",
       "      <th></th>\n",
       "      <th>0</th>\n",
       "    </tr>\n",
       "  </thead>\n",
       "  <tbody>\n",
       "    <tr>\n",
       "      <th>0</th>\n",
       "      <td>www.jobhuntlisting.com</td>\n",
       "    </tr>\n",
       "    <tr>\n",
       "      <th>1</th>\n",
       "      <td>www.jobhuntlisting.com</td>\n",
       "    </tr>\n",
       "    <tr>\n",
       "      <th>2</th>\n",
       "      <td>www.jobhuntlisting.com</td>\n",
       "    </tr>\n",
       "    <tr>\n",
       "      <th>3</th>\n",
       "      <td>www.jobhuntlisting.com</td>\n",
       "    </tr>\n",
       "    <tr>\n",
       "      <th>4</th>\n",
       "      <td>www.jobhuntlisting.com</td>\n",
       "    </tr>\n",
       "  </tbody>\n",
       "</table>\n",
       "</div>"
      ],
      "text/plain": [
       "                        0\n",
       "0  www.jobhuntlisting.com\n",
       "1  www.jobhuntlisting.com\n",
       "2  www.jobhuntlisting.com\n",
       "3  www.jobhuntlisting.com\n",
       "4  www.jobhuntlisting.com"
      ]
     },
     "execution_count": 50,
     "metadata": {},
     "output_type": "execute_result"
    }
   ],
   "source": [
    "test_df = pd.DataFrame(test)\n",
    "test_df"
   ]
  },
  {
   "cell_type": "code",
   "execution_count": 51,
   "metadata": {},
   "outputs": [],
   "source": [
    "# Making the list\n",
    "source_list = []\n",
    "for i in range(5000):\n",
    "    source_list.append('www.jobhuntlisting.com')"
   ]
  },
  {
   "cell_type": "code",
   "execution_count": 52,
   "metadata": {},
   "outputs": [
    {
     "name": "stdout",
     "output_type": "stream",
     "text": [
      "5000\n"
     ]
    },
    {
     "data": {
      "text/plain": [
       "['www.jobhuntlisting.com',\n",
       " 'www.jobhuntlisting.com',\n",
       " 'www.jobhuntlisting.com',\n",
       " 'www.jobhuntlisting.com',\n",
       " 'www.jobhuntlisting.com']"
      ]
     },
     "execution_count": 52,
     "metadata": {},
     "output_type": "execute_result"
    }
   ],
   "source": [
    "print(len(source_list))\n",
    "source_list[:5]"
   ]
  },
  {
   "cell_type": "code",
   "execution_count": 53,
   "metadata": {},
   "outputs": [
    {
     "name": "stdout",
     "output_type": "stream",
     "text": [
      "(5000, 1)\n"
     ]
    },
    {
     "data": {
      "text/html": [
       "<div>\n",
       "<style scoped>\n",
       "    .dataframe tbody tr th:only-of-type {\n",
       "        vertical-align: middle;\n",
       "    }\n",
       "\n",
       "    .dataframe tbody tr th {\n",
       "        vertical-align: top;\n",
       "    }\n",
       "\n",
       "    .dataframe thead th {\n",
       "        text-align: right;\n",
       "    }\n",
       "</style>\n",
       "<table border=\"1\" class=\"dataframe\">\n",
       "  <thead>\n",
       "    <tr style=\"text-align: right;\">\n",
       "      <th></th>\n",
       "      <th>0</th>\n",
       "    </tr>\n",
       "  </thead>\n",
       "  <tbody>\n",
       "    <tr>\n",
       "      <th>0</th>\n",
       "      <td>www.jobhuntlisting.com</td>\n",
       "    </tr>\n",
       "    <tr>\n",
       "      <th>1</th>\n",
       "      <td>www.jobhuntlisting.com</td>\n",
       "    </tr>\n",
       "    <tr>\n",
       "      <th>2</th>\n",
       "      <td>www.jobhuntlisting.com</td>\n",
       "    </tr>\n",
       "    <tr>\n",
       "      <th>3</th>\n",
       "      <td>www.jobhuntlisting.com</td>\n",
       "    </tr>\n",
       "    <tr>\n",
       "      <th>4</th>\n",
       "      <td>www.jobhuntlisting.com</td>\n",
       "    </tr>\n",
       "  </tbody>\n",
       "</table>\n",
       "</div>"
      ],
      "text/plain": [
       "                        0\n",
       "0  www.jobhuntlisting.com\n",
       "1  www.jobhuntlisting.com\n",
       "2  www.jobhuntlisting.com\n",
       "3  www.jobhuntlisting.com\n",
       "4  www.jobhuntlisting.com"
      ]
     },
     "execution_count": 53,
     "metadata": {},
     "output_type": "execute_result"
    }
   ],
   "source": [
    "# Checking if DataFrame is correcet\n",
    "test = pd.DataFrame(source_list)\n",
    "print(test.shape)\n",
    "test.head()"
   ]
  },
  {
   "cell_type": "markdown",
   "metadata": {},
   "source": [
    "Looks good. Lets append it."
   ]
  },
  {
   "cell_type": "code",
   "execution_count": 54,
   "metadata": {},
   "outputs": [],
   "source": [
    "# Making the dataframe\n",
    "df2['SourceName'] = pd.DataFrame(source_list)"
   ]
  },
  {
   "cell_type": "code",
   "execution_count": 55,
   "metadata": {},
   "outputs": [
    {
     "data": {
      "text/html": [
       "<div>\n",
       "<style scoped>\n",
       "    .dataframe tbody tr th:only-of-type {\n",
       "        vertical-align: middle;\n",
       "    }\n",
       "\n",
       "    .dataframe tbody tr th {\n",
       "        vertical-align: top;\n",
       "    }\n",
       "\n",
       "    .dataframe thead th {\n",
       "        text-align: right;\n",
       "    }\n",
       "</style>\n",
       "<table border=\"1\" class=\"dataframe\">\n",
       "  <thead>\n",
       "    <tr style=\"text-align: right;\">\n",
       "      <th></th>\n",
       "      <th>Title</th>\n",
       "      <th>Company</th>\n",
       "      <th>Salary</th>\n",
       "      <th>ContractTime</th>\n",
       "      <th>Category</th>\n",
       "      <th>CloseDate</th>\n",
       "      <th>Location</th>\n",
       "      <th>ContractType</th>\n",
       "      <th>OpenDate</th>\n",
       "      <th>SourceName</th>\n",
       "    </tr>\n",
       "  </thead>\n",
       "  <tbody>\n",
       "    <tr>\n",
       "      <th>0</th>\n",
       "      <td>Nursing Home Manager  Thames Ditton</td>\n",
       "      <td>Liquid Personnel Ltd</td>\n",
       "      <td>33000.00</td>\n",
       "      <td>non-specified</td>\n",
       "      <td>Healthcare &amp; Nursing Jobs</td>\n",
       "      <td>2013-02-22 15:00:00</td>\n",
       "      <td>Thames Ditton</td>\n",
       "      <td>full_time</td>\n",
       "      <td>2012-12-24 15:00:00</td>\n",
       "      <td>www.jobhuntlisting.com</td>\n",
       "    </tr>\n",
       "    <tr>\n",
       "      <th>1</th>\n",
       "      <td>Deputy Manager  Nursing Home  RGN  Shrewsbury</td>\n",
       "      <td>Liquid Personnel Ltd</td>\n",
       "      <td>30999.96</td>\n",
       "      <td>non-specified</td>\n",
       "      <td>Healthcare &amp; Nursing Jobs</td>\n",
       "      <td>2012-11-14 15:00:00</td>\n",
       "      <td>Shrewsbury</td>\n",
       "      <td>full_time</td>\n",
       "      <td>2012-10-15 15:00:00</td>\n",
       "      <td>www.jobhuntlisting.com</td>\n",
       "    </tr>\n",
       "    <tr>\n",
       "      <th>2</th>\n",
       "      <td>Deputy Manager  Nursing Home (RGN)  London</td>\n",
       "      <td>Liquid Personnel Ltd</td>\n",
       "      <td>36000.00</td>\n",
       "      <td>non-specified</td>\n",
       "      <td>Healthcare &amp; Nursing Jobs</td>\n",
       "      <td>2012-12-08 00:00:00</td>\n",
       "      <td>London</td>\n",
       "      <td>full_time</td>\n",
       "      <td>2012-11-08 00:00:00</td>\n",
       "      <td>www.jobhuntlisting.com</td>\n",
       "    </tr>\n",
       "    <tr>\n",
       "      <th>3</th>\n",
       "      <td>Deputy Manager (RGN)  Nursing Home  Bristol</td>\n",
       "      <td>Liquid Personnel Ltd</td>\n",
       "      <td>33500.04</td>\n",
       "      <td>non-specified</td>\n",
       "      <td>Healthcare &amp; Nursing Jobs</td>\n",
       "      <td>2013-01-13 15:00:00</td>\n",
       "      <td>Bristol</td>\n",
       "      <td>full_time</td>\n",
       "      <td>2012-11-14 15:00:00</td>\n",
       "      <td>www.jobhuntlisting.com</td>\n",
       "    </tr>\n",
       "    <tr>\n",
       "      <th>4</th>\n",
       "      <td>RGN or RMN  Wigan</td>\n",
       "      <td>Eden Brown</td>\n",
       "      <td>26880.00</td>\n",
       "      <td>non-specified</td>\n",
       "      <td>Healthcare &amp; Nursing Jobs</td>\n",
       "      <td>2013-01-24 15:00:00</td>\n",
       "      <td>Wigan</td>\n",
       "      <td>full_time</td>\n",
       "      <td>2012-11-25 15:00:00</td>\n",
       "      <td>www.jobhuntlisting.com</td>\n",
       "    </tr>\n",
       "  </tbody>\n",
       "</table>\n",
       "</div>"
      ],
      "text/plain": [
       "                                           Title               Company  \\\n",
       "0            Nursing Home Manager  Thames Ditton  Liquid Personnel Ltd   \n",
       "1  Deputy Manager  Nursing Home  RGN  Shrewsbury  Liquid Personnel Ltd   \n",
       "2     Deputy Manager  Nursing Home (RGN)  London  Liquid Personnel Ltd   \n",
       "3    Deputy Manager (RGN)  Nursing Home  Bristol  Liquid Personnel Ltd   \n",
       "4                              RGN or RMN  Wigan            Eden Brown   \n",
       "\n",
       "     Salary   ContractTime                   Category           CloseDate  \\\n",
       "0  33000.00  non-specified  Healthcare & Nursing Jobs 2013-02-22 15:00:00   \n",
       "1  30999.96  non-specified  Healthcare & Nursing Jobs 2012-11-14 15:00:00   \n",
       "2  36000.00  non-specified  Healthcare & Nursing Jobs 2012-12-08 00:00:00   \n",
       "3  33500.04  non-specified  Healthcare & Nursing Jobs 2013-01-13 15:00:00   \n",
       "4  26880.00  non-specified  Healthcare & Nursing Jobs 2013-01-24 15:00:00   \n",
       "\n",
       "        Location ContractType            OpenDate              SourceName  \n",
       "0  Thames Ditton    full_time 2012-12-24 15:00:00  www.jobhuntlisting.com  \n",
       "1     Shrewsbury    full_time 2012-10-15 15:00:00  www.jobhuntlisting.com  \n",
       "2         London    full_time 2012-11-08 00:00:00  www.jobhuntlisting.com  \n",
       "3        Bristol    full_time 2012-11-14 15:00:00  www.jobhuntlisting.com  \n",
       "4          Wigan    full_time 2012-11-25 15:00:00  www.jobhuntlisting.com  "
      ]
     },
     "execution_count": 55,
     "metadata": {},
     "output_type": "execute_result"
    }
   ],
   "source": [
    "df2.head()"
   ]
  },
  {
   "cell_type": "markdown",
   "metadata": {},
   "source": [
    "#### Conflict 10: Generate an ID column that fits with the other Dataset\n",
    "\n",
    "We need to create an ID column for this dataset that has unique values and doesn't clash with the other dataset"
   ]
  },
  {
   "cell_type": "code",
   "execution_count": 56,
   "metadata": {},
   "outputs": [
    {
     "data": {
      "text/plain": [
       "(50699, 11)"
      ]
     },
     "execution_count": 56,
     "metadata": {},
     "output_type": "execute_result"
    }
   ],
   "source": [
    "df1.shape"
   ]
  },
  {
   "cell_type": "code",
   "execution_count": 57,
   "metadata": {},
   "outputs": [
    {
     "data": {
      "text/plain": [
       "0        71338111\n",
       "1        71353268\n",
       "2        69117049\n",
       "3        68562480\n",
       "4        69783035\n",
       "           ...   \n",
       "50694    68704692\n",
       "50695    70139229\n",
       "50696    70960558\n",
       "50697    72162924\n",
       "50698    66372417\n",
       "Name: Id, Length: 50699, dtype: int64"
      ]
     },
     "execution_count": 57,
     "metadata": {},
     "output_type": "execute_result"
    }
   ],
   "source": [
    "df1[\"Id\"]"
   ]
  },
  {
   "cell_type": "markdown",
   "metadata": {},
   "source": [
    "So it has to be 8 digits."
   ]
  },
  {
   "cell_type": "markdown",
   "metadata": {},
   "source": [
    "Explanation:\n",
    "\n",
    "We will make a list of 8 digit Id's which are NOT already taken up by the original ID column in df1\n",
    "\n",
    "So out of all the values from 00000000 and 99999999, we really only need to select 5000 values which are NOT taken up by df1's Id column. This means we can reduce our search down significently, taking much less time. \n",
    "\n",
    "We can just iterate through a range of values, and select all values which are not already in df1. \n",
    "\n",
    "Then we can use this list to act as the index for our new df2 Id's."
   ]
  },
  {
   "cell_type": "code",
   "execution_count": 58,
   "metadata": {},
   "outputs": [],
   "source": [
    "id_col = df1[\"Id\"].tolist()"
   ]
  },
  {
   "cell_type": "code",
   "execution_count": 59,
   "metadata": {
    "scrolled": true
   },
   "outputs": [],
   "source": [
    "# While a small gap in the range, we only need 5000, so this is more than enough\n",
    "taken_ids = []\n",
    "free_ids = []\n",
    "for i in range(12600000,12650000):\n",
    "    if i not in id_col:\n",
    "        free_ids.append(i)\n",
    "    elif i in id_col:\n",
    "        taken_ids.append(i)\n",
    "        "
   ]
  },
  {
   "cell_type": "code",
   "execution_count": 60,
   "metadata": {},
   "outputs": [
    {
     "name": "stdout",
     "output_type": "stream",
     "text": [
      "49995\n",
      "[12600000, 12600001, 12600002, 12600003, 12600004, 12600005, 12600006, 12600007, 12600008, 12600009]\n"
     ]
    }
   ],
   "source": [
    "# Lots of free Id's\n",
    "print(len(free_ids))\n",
    "print(free_ids[:10])"
   ]
  },
  {
   "cell_type": "code",
   "execution_count": 61,
   "metadata": {},
   "outputs": [
    {
     "data": {
      "text/plain": [
       "[12612628, 12612830, 12612844, 12613049, 12613647]"
      ]
     },
     "execution_count": 61,
     "metadata": {},
     "output_type": "execute_result"
    }
   ],
   "source": [
    "# Id's that are already taken\n",
    "taken_ids"
   ]
  },
  {
   "cell_type": "code",
   "execution_count": 62,
   "metadata": {},
   "outputs": [
    {
     "data": {
      "text/html": [
       "<div>\n",
       "<style scoped>\n",
       "    .dataframe tbody tr th:only-of-type {\n",
       "        vertical-align: middle;\n",
       "    }\n",
       "\n",
       "    .dataframe tbody tr th {\n",
       "        vertical-align: top;\n",
       "    }\n",
       "\n",
       "    .dataframe thead th {\n",
       "        text-align: right;\n",
       "    }\n",
       "</style>\n",
       "<table border=\"1\" class=\"dataframe\">\n",
       "  <thead>\n",
       "    <tr style=\"text-align: right;\">\n",
       "      <th></th>\n",
       "      <th>Id</th>\n",
       "      <th>Title</th>\n",
       "      <th>Location</th>\n",
       "      <th>Company</th>\n",
       "      <th>ContractType</th>\n",
       "      <th>ContractTime</th>\n",
       "      <th>Category</th>\n",
       "      <th>Salary</th>\n",
       "      <th>OpenDate</th>\n",
       "      <th>CloseDate</th>\n",
       "      <th>SourceName</th>\n",
       "    </tr>\n",
       "  </thead>\n",
       "  <tbody>\n",
       "    <tr>\n",
       "      <th>7709</th>\n",
       "      <td>12612628</td>\n",
       "      <td>Engineering Systems Analyst</td>\n",
       "      <td>Dorking</td>\n",
       "      <td>Gregory Martin International</td>\n",
       "      <td>non-specified</td>\n",
       "      <td>permanent</td>\n",
       "      <td>Engineering Jobs</td>\n",
       "      <td>25000.0</td>\n",
       "      <td>2012-11-03 00:00:00</td>\n",
       "      <td>2012-12-03 00:00:00</td>\n",
       "      <td>cv-library.co.uk</td>\n",
       "    </tr>\n",
       "  </tbody>\n",
       "</table>\n",
       "</div>"
      ],
      "text/plain": [
       "            Id                        Title Location  \\\n",
       "7709  12612628  Engineering Systems Analyst  Dorking   \n",
       "\n",
       "                           Company   ContractType ContractTime  \\\n",
       "7709  Gregory Martin International  non-specified    permanent   \n",
       "\n",
       "              Category   Salary             OpenDate            CloseDate  \\\n",
       "7709  Engineering Jobs  25000.0  2012-11-03 00:00:00  2012-12-03 00:00:00   \n",
       "\n",
       "            SourceName  \n",
       "7709  cv-library.co.uk  "
      ]
     },
     "execution_count": 62,
     "metadata": {},
     "output_type": "execute_result"
    }
   ],
   "source": [
    "df1[df1[\"Id\"] == 12612628]"
   ]
  },
  {
   "cell_type": "markdown",
   "metadata": {},
   "source": [
    "Ok so the taken_ids is verified to be working.\n",
    "\n",
    "Lets start creating the index now."
   ]
  },
  {
   "cell_type": "code",
   "execution_count": 63,
   "metadata": {},
   "outputs": [
    {
     "data": {
      "text/plain": [
       "5000"
      ]
     },
     "execution_count": 63,
     "metadata": {},
     "output_type": "execute_result"
    }
   ],
   "source": [
    "free_ids_5k = free_ids[:5000]\n",
    "len(free_ids_5k)"
   ]
  },
  {
   "cell_type": "code",
   "execution_count": 64,
   "metadata": {},
   "outputs": [
    {
     "data": {
      "text/html": [
       "<div>\n",
       "<style scoped>\n",
       "    .dataframe tbody tr th:only-of-type {\n",
       "        vertical-align: middle;\n",
       "    }\n",
       "\n",
       "    .dataframe tbody tr th {\n",
       "        vertical-align: top;\n",
       "    }\n",
       "\n",
       "    .dataframe thead th {\n",
       "        text-align: right;\n",
       "    }\n",
       "</style>\n",
       "<table border=\"1\" class=\"dataframe\">\n",
       "  <thead>\n",
       "    <tr style=\"text-align: right;\">\n",
       "      <th></th>\n",
       "      <th>Title</th>\n",
       "      <th>Company</th>\n",
       "      <th>Salary</th>\n",
       "      <th>ContractTime</th>\n",
       "      <th>Category</th>\n",
       "      <th>CloseDate</th>\n",
       "      <th>Location</th>\n",
       "      <th>ContractType</th>\n",
       "      <th>OpenDate</th>\n",
       "      <th>SourceName</th>\n",
       "      <th>Id</th>\n",
       "    </tr>\n",
       "  </thead>\n",
       "  <tbody>\n",
       "    <tr>\n",
       "      <th>0</th>\n",
       "      <td>Nursing Home Manager  Thames Ditton</td>\n",
       "      <td>Liquid Personnel Ltd</td>\n",
       "      <td>33000.00</td>\n",
       "      <td>non-specified</td>\n",
       "      <td>Healthcare &amp; Nursing Jobs</td>\n",
       "      <td>2013-02-22 15:00:00</td>\n",
       "      <td>Thames Ditton</td>\n",
       "      <td>full_time</td>\n",
       "      <td>2012-12-24 15:00:00</td>\n",
       "      <td>www.jobhuntlisting.com</td>\n",
       "      <td>12600000</td>\n",
       "    </tr>\n",
       "    <tr>\n",
       "      <th>1</th>\n",
       "      <td>Deputy Manager  Nursing Home  RGN  Shrewsbury</td>\n",
       "      <td>Liquid Personnel Ltd</td>\n",
       "      <td>30999.96</td>\n",
       "      <td>non-specified</td>\n",
       "      <td>Healthcare &amp; Nursing Jobs</td>\n",
       "      <td>2012-11-14 15:00:00</td>\n",
       "      <td>Shrewsbury</td>\n",
       "      <td>full_time</td>\n",
       "      <td>2012-10-15 15:00:00</td>\n",
       "      <td>www.jobhuntlisting.com</td>\n",
       "      <td>12600001</td>\n",
       "    </tr>\n",
       "    <tr>\n",
       "      <th>2</th>\n",
       "      <td>Deputy Manager  Nursing Home (RGN)  London</td>\n",
       "      <td>Liquid Personnel Ltd</td>\n",
       "      <td>36000.00</td>\n",
       "      <td>non-specified</td>\n",
       "      <td>Healthcare &amp; Nursing Jobs</td>\n",
       "      <td>2012-12-08 00:00:00</td>\n",
       "      <td>London</td>\n",
       "      <td>full_time</td>\n",
       "      <td>2012-11-08 00:00:00</td>\n",
       "      <td>www.jobhuntlisting.com</td>\n",
       "      <td>12600002</td>\n",
       "    </tr>\n",
       "    <tr>\n",
       "      <th>3</th>\n",
       "      <td>Deputy Manager (RGN)  Nursing Home  Bristol</td>\n",
       "      <td>Liquid Personnel Ltd</td>\n",
       "      <td>33500.04</td>\n",
       "      <td>non-specified</td>\n",
       "      <td>Healthcare &amp; Nursing Jobs</td>\n",
       "      <td>2013-01-13 15:00:00</td>\n",
       "      <td>Bristol</td>\n",
       "      <td>full_time</td>\n",
       "      <td>2012-11-14 15:00:00</td>\n",
       "      <td>www.jobhuntlisting.com</td>\n",
       "      <td>12600003</td>\n",
       "    </tr>\n",
       "    <tr>\n",
       "      <th>4</th>\n",
       "      <td>RGN or RMN  Wigan</td>\n",
       "      <td>Eden Brown</td>\n",
       "      <td>26880.00</td>\n",
       "      <td>non-specified</td>\n",
       "      <td>Healthcare &amp; Nursing Jobs</td>\n",
       "      <td>2013-01-24 15:00:00</td>\n",
       "      <td>Wigan</td>\n",
       "      <td>full_time</td>\n",
       "      <td>2012-11-25 15:00:00</td>\n",
       "      <td>www.jobhuntlisting.com</td>\n",
       "      <td>12600004</td>\n",
       "    </tr>\n",
       "  </tbody>\n",
       "</table>\n",
       "</div>"
      ],
      "text/plain": [
       "                                           Title               Company  \\\n",
       "0            Nursing Home Manager  Thames Ditton  Liquid Personnel Ltd   \n",
       "1  Deputy Manager  Nursing Home  RGN  Shrewsbury  Liquid Personnel Ltd   \n",
       "2     Deputy Manager  Nursing Home (RGN)  London  Liquid Personnel Ltd   \n",
       "3    Deputy Manager (RGN)  Nursing Home  Bristol  Liquid Personnel Ltd   \n",
       "4                              RGN or RMN  Wigan            Eden Brown   \n",
       "\n",
       "     Salary   ContractTime                   Category           CloseDate  \\\n",
       "0  33000.00  non-specified  Healthcare & Nursing Jobs 2013-02-22 15:00:00   \n",
       "1  30999.96  non-specified  Healthcare & Nursing Jobs 2012-11-14 15:00:00   \n",
       "2  36000.00  non-specified  Healthcare & Nursing Jobs 2012-12-08 00:00:00   \n",
       "3  33500.04  non-specified  Healthcare & Nursing Jobs 2013-01-13 15:00:00   \n",
       "4  26880.00  non-specified  Healthcare & Nursing Jobs 2013-01-24 15:00:00   \n",
       "\n",
       "        Location ContractType            OpenDate              SourceName  \\\n",
       "0  Thames Ditton    full_time 2012-12-24 15:00:00  www.jobhuntlisting.com   \n",
       "1     Shrewsbury    full_time 2012-10-15 15:00:00  www.jobhuntlisting.com   \n",
       "2         London    full_time 2012-11-08 00:00:00  www.jobhuntlisting.com   \n",
       "3        Bristol    full_time 2012-11-14 15:00:00  www.jobhuntlisting.com   \n",
       "4          Wigan    full_time 2012-11-25 15:00:00  www.jobhuntlisting.com   \n",
       "\n",
       "         Id  \n",
       "0  12600000  \n",
       "1  12600001  \n",
       "2  12600002  \n",
       "3  12600003  \n",
       "4  12600004  "
      ]
     },
     "execution_count": 64,
     "metadata": {},
     "output_type": "execute_result"
    }
   ],
   "source": [
    "# Now lets convert to DataFrame\n",
    "df2[\"Id\"] = pd.DataFrame(free_ids_5k)\n",
    "df2.head()"
   ]
  },
  {
   "cell_type": "markdown",
   "metadata": {},
   "source": [
    "Our DataFrame 2 is now complete!"
   ]
  },
  {
   "cell_type": "code",
   "execution_count": 65,
   "metadata": {},
   "outputs": [
    {
     "data": {
      "text/plain": [
       "Permanent        3720\n",
       "non-specified     688\n",
       "contract          592\n",
       "Name: ContractTime, dtype: int64"
      ]
     },
     "execution_count": 65,
     "metadata": {},
     "output_type": "execute_result"
    }
   ],
   "source": [
    "df2[\"ContractTime\"].value_counts()"
   ]
  },
  {
   "cell_type": "markdown",
   "metadata": {},
   "source": [
    "### Adapt Datatypes across schemas S1 and S2"
   ]
  },
  {
   "cell_type": "code",
   "execution_count": 66,
   "metadata": {
    "scrolled": true
   },
   "outputs": [
    {
     "name": "stdout",
     "output_type": "stream",
     "text": [
      "<class 'pandas.core.frame.DataFrame'>\n",
      "RangeIndex: 50699 entries, 0 to 50698\n",
      "Data columns (total 11 columns):\n",
      " #   Column        Non-Null Count  Dtype  \n",
      "---  ------        --------------  -----  \n",
      " 0   Id            50699 non-null  int64  \n",
      " 1   Title         50699 non-null  object \n",
      " 2   Location      50699 non-null  object \n",
      " 3   Company       50699 non-null  object \n",
      " 4   ContractType  50699 non-null  object \n",
      " 5   ContractTime  50699 non-null  object \n",
      " 6   Category      50699 non-null  object \n",
      " 7   Salary        50699 non-null  float64\n",
      " 8   OpenDate      50699 non-null  object \n",
      " 9   CloseDate     50699 non-null  object \n",
      " 10  SourceName    50699 non-null  object \n",
      "dtypes: float64(1), int64(1), object(9)\n",
      "memory usage: 4.3+ MB\n",
      "None\n",
      "<class 'pandas.core.frame.DataFrame'>\n",
      "RangeIndex: 5000 entries, 0 to 4999\n",
      "Data columns (total 11 columns):\n",
      " #   Column        Non-Null Count  Dtype         \n",
      "---  ------        --------------  -----         \n",
      " 0   Title         5000 non-null   object        \n",
      " 1   Company       5000 non-null   object        \n",
      " 2   Salary        5000 non-null   float64       \n",
      " 3   ContractTime  5000 non-null   object        \n",
      " 4   Category      5000 non-null   object        \n",
      " 5   CloseDate     5000 non-null   datetime64[ns]\n",
      " 6   Location      5000 non-null   object        \n",
      " 7   ContractType  5000 non-null   object        \n",
      " 8   OpenDate      5000 non-null   datetime64[ns]\n",
      " 9   SourceName    5000 non-null   object        \n",
      " 10  Id            5000 non-null   int64         \n",
      "dtypes: datetime64[ns](2), float64(1), int64(1), object(7)\n",
      "memory usage: 429.8+ KB\n",
      "None\n"
     ]
    }
   ],
   "source": [
    "print (df1.info())\n",
    "print (df2.info())"
   ]
  },
  {
   "cell_type": "markdown",
   "metadata": {},
   "source": [
    "Looks like we need to convert the OpenDate and CloseDate in df1 to DateTime format."
   ]
  },
  {
   "cell_type": "code",
   "execution_count": 67,
   "metadata": {},
   "outputs": [],
   "source": [
    "# Converting to DateTime\n",
    "df1[\"OpenDate\"] = pd.to_datetime(df1[\"OpenDate\"])\n",
    "df1[\"CloseDate\"] = pd.to_datetime(df1[\"CloseDate\"])"
   ]
  },
  {
   "cell_type": "code",
   "execution_count": 68,
   "metadata": {
    "scrolled": true
   },
   "outputs": [
    {
     "name": "stdout",
     "output_type": "stream",
     "text": [
      "<class 'pandas.core.frame.DataFrame'>\n",
      "RangeIndex: 50699 entries, 0 to 50698\n",
      "Data columns (total 11 columns):\n",
      " #   Column        Non-Null Count  Dtype         \n",
      "---  ------        --------------  -----         \n",
      " 0   Id            50699 non-null  int64         \n",
      " 1   Title         50699 non-null  object        \n",
      " 2   Location      50699 non-null  object        \n",
      " 3   Company       50699 non-null  object        \n",
      " 4   ContractType  50699 non-null  object        \n",
      " 5   ContractTime  50699 non-null  object        \n",
      " 6   Category      50699 non-null  object        \n",
      " 7   Salary        50699 non-null  float64       \n",
      " 8   OpenDate      50699 non-null  datetime64[ns]\n",
      " 9   CloseDate     50699 non-null  datetime64[ns]\n",
      " 10  SourceName    50699 non-null  object        \n",
      "dtypes: datetime64[ns](2), float64(1), int64(1), object(7)\n",
      "memory usage: 4.3+ MB\n"
     ]
    }
   ],
   "source": [
    "df1.info()"
   ]
  },
  {
   "cell_type": "code",
   "execution_count": 69,
   "metadata": {
    "scrolled": true
   },
   "outputs": [
    {
     "data": {
      "text/html": [
       "<div>\n",
       "<style scoped>\n",
       "    .dataframe tbody tr th:only-of-type {\n",
       "        vertical-align: middle;\n",
       "    }\n",
       "\n",
       "    .dataframe tbody tr th {\n",
       "        vertical-align: top;\n",
       "    }\n",
       "\n",
       "    .dataframe thead th {\n",
       "        text-align: right;\n",
       "    }\n",
       "</style>\n",
       "<table border=\"1\" class=\"dataframe\">\n",
       "  <thead>\n",
       "    <tr style=\"text-align: right;\">\n",
       "      <th></th>\n",
       "      <th>Id</th>\n",
       "      <th>Title</th>\n",
       "      <th>Location</th>\n",
       "      <th>Company</th>\n",
       "      <th>ContractType</th>\n",
       "      <th>ContractTime</th>\n",
       "      <th>Category</th>\n",
       "      <th>Salary</th>\n",
       "      <th>OpenDate</th>\n",
       "      <th>CloseDate</th>\n",
       "      <th>SourceName</th>\n",
       "    </tr>\n",
       "  </thead>\n",
       "  <tbody>\n",
       "    <tr>\n",
       "      <th>0</th>\n",
       "      <td>71338111</td>\n",
       "      <td>Allied Health Care Professional : Nurse Manage...</td>\n",
       "      <td>Cornwall</td>\n",
       "      <td>non-specified</td>\n",
       "      <td>non-specified</td>\n",
       "      <td>non-specified</td>\n",
       "      <td>Healthcare &amp; Nursing Jobs</td>\n",
       "      <td>32000.0</td>\n",
       "      <td>2012-05-31 15:00:00</td>\n",
       "      <td>2012-06-14 15:00:00</td>\n",
       "      <td>jobs4medical.co.uk</td>\n",
       "    </tr>\n",
       "    <tr>\n",
       "      <th>1</th>\n",
       "      <td>71353268</td>\n",
       "      <td>Dental : Registered General Nurse Jobs in Stev...</td>\n",
       "      <td>Hertfordshire</td>\n",
       "      <td>non-specified</td>\n",
       "      <td>non-specified</td>\n",
       "      <td>non-specified</td>\n",
       "      <td>Healthcare &amp; Nursing Jobs</td>\n",
       "      <td>22950.0</td>\n",
       "      <td>2013-11-19 00:00:00</td>\n",
       "      <td>2014-01-18 00:00:00</td>\n",
       "      <td>jobs4medical.co.uk</td>\n",
       "    </tr>\n",
       "    <tr>\n",
       "      <th>2</th>\n",
       "      <td>69117049</td>\n",
       "      <td>Allied Health Care Professional : Optometrists...</td>\n",
       "      <td>Aberdeenshire</td>\n",
       "      <td>non-specified</td>\n",
       "      <td>non-specified</td>\n",
       "      <td>non-specified</td>\n",
       "      <td>Healthcare &amp; Nursing Jobs</td>\n",
       "      <td>34452.2</td>\n",
       "      <td>2013-12-11 15:00:00</td>\n",
       "      <td>2013-12-25 15:00:00</td>\n",
       "      <td>jobs4medical.co.uk</td>\n",
       "    </tr>\n",
       "    <tr>\n",
       "      <th>3</th>\n",
       "      <td>68562480</td>\n",
       "      <td>Allied Health Care Professional : Care Home Ma...</td>\n",
       "      <td>Essex</td>\n",
       "      <td>non-specified</td>\n",
       "      <td>non-specified</td>\n",
       "      <td>non-specified</td>\n",
       "      <td>Healthcare &amp; Nursing Jobs</td>\n",
       "      <td>50000.0</td>\n",
       "      <td>2012-03-01 00:00:00</td>\n",
       "      <td>2012-03-15 00:00:00</td>\n",
       "      <td>jobs4medical.co.uk</td>\n",
       "    </tr>\n",
       "    <tr>\n",
       "      <th>4</th>\n",
       "      <td>69783035</td>\n",
       "      <td>Allied Health Care Professional : Optical Clin...</td>\n",
       "      <td>Aberdeenshire</td>\n",
       "      <td>non-specified</td>\n",
       "      <td>non-specified</td>\n",
       "      <td>non-specified</td>\n",
       "      <td>Healthcare &amp; Nursing Jobs</td>\n",
       "      <td>14500.0</td>\n",
       "      <td>2013-11-24 12:00:00</td>\n",
       "      <td>2013-12-08 12:00:00</td>\n",
       "      <td>jobs4medical.co.uk</td>\n",
       "    </tr>\n",
       "    <tr>\n",
       "      <th>...</th>\n",
       "      <td>...</td>\n",
       "      <td>...</td>\n",
       "      <td>...</td>\n",
       "      <td>...</td>\n",
       "      <td>...</td>\n",
       "      <td>...</td>\n",
       "      <td>...</td>\n",
       "      <td>...</td>\n",
       "      <td>...</td>\n",
       "      <td>...</td>\n",
       "      <td>...</td>\n",
       "    </tr>\n",
       "    <tr>\n",
       "      <th>50694</th>\n",
       "      <td>68704692</td>\n",
       "      <td>Graduate SoftwareWeb Developer</td>\n",
       "      <td>London</td>\n",
       "      <td>UNKNOWN  auto added by vacany import</td>\n",
       "      <td>non-specified</td>\n",
       "      <td>non-specified</td>\n",
       "      <td>IT Jobs</td>\n",
       "      <td>25000.0</td>\n",
       "      <td>2012-01-12 12:00:00</td>\n",
       "      <td>2012-03-12 12:00:00</td>\n",
       "      <td>grb.uk.com</td>\n",
       "    </tr>\n",
       "    <tr>\n",
       "      <th>50695</th>\n",
       "      <td>70139229</td>\n",
       "      <td>Health &amp; Social Care Tutor/Assessor Bristol</td>\n",
       "      <td>UK</td>\n",
       "      <td>Pursuit Training Ltd</td>\n",
       "      <td>non-specified</td>\n",
       "      <td>permanent</td>\n",
       "      <td>Teaching Jobs</td>\n",
       "      <td>18000.0</td>\n",
       "      <td>2012-08-11 00:00:00</td>\n",
       "      <td>2012-10-10 00:00:00</td>\n",
       "      <td>cvjobstore.com</td>\n",
       "    </tr>\n",
       "    <tr>\n",
       "      <th>50696</th>\n",
       "      <td>70960558</td>\n",
       "      <td>Principal Air Consultant Agriculture &amp; Environ...</td>\n",
       "      <td>London</td>\n",
       "      <td>W5 Recruitment</td>\n",
       "      <td>full_time</td>\n",
       "      <td>permanent</td>\n",
       "      <td>Engineering Jobs</td>\n",
       "      <td>52500.0</td>\n",
       "      <td>2012-07-29 15:00:00</td>\n",
       "      <td>2012-08-28 15:00:00</td>\n",
       "      <td>TotallyExec</td>\n",
       "    </tr>\n",
       "    <tr>\n",
       "      <th>50697</th>\n",
       "      <td>72162924</td>\n",
       "      <td>Process Engineer All levels</td>\n",
       "      <td>Surrey</td>\n",
       "      <td>Executive Recruitment Services</td>\n",
       "      <td>full_time</td>\n",
       "      <td>permanent</td>\n",
       "      <td>Engineering Jobs</td>\n",
       "      <td>47500.0</td>\n",
       "      <td>2012-03-09 15:00:00</td>\n",
       "      <td>2012-06-07 15:00:00</td>\n",
       "      <td>TotallyExec</td>\n",
       "    </tr>\n",
       "    <tr>\n",
       "      <th>50698</th>\n",
       "      <td>66372417</td>\n",
       "      <td>Graduate Engineer (Water industry)</td>\n",
       "      <td>South Lanarkshire</td>\n",
       "      <td>Carrington West Limited</td>\n",
       "      <td>full_time</td>\n",
       "      <td>contract</td>\n",
       "      <td>Engineering Jobs</td>\n",
       "      <td>20000.0</td>\n",
       "      <td>2013-01-19 00:00:00</td>\n",
       "      <td>2013-04-19 00:00:00</td>\n",
       "      <td>thegraduate.co.uk</td>\n",
       "    </tr>\n",
       "  </tbody>\n",
       "</table>\n",
       "<p>50699 rows × 11 columns</p>\n",
       "</div>"
      ],
      "text/plain": [
       "             Id                                              Title  \\\n",
       "0      71338111  Allied Health Care Professional : Nurse Manage...   \n",
       "1      71353268  Dental : Registered General Nurse Jobs in Stev...   \n",
       "2      69117049  Allied Health Care Professional : Optometrists...   \n",
       "3      68562480  Allied Health Care Professional : Care Home Ma...   \n",
       "4      69783035  Allied Health Care Professional : Optical Clin...   \n",
       "...         ...                                                ...   \n",
       "50694  68704692                     Graduate SoftwareWeb Developer   \n",
       "50695  70139229        Health & Social Care Tutor/Assessor Bristol   \n",
       "50696  70960558  Principal Air Consultant Agriculture & Environ...   \n",
       "50697  72162924                        Process Engineer All levels   \n",
       "50698  66372417                 Graduate Engineer (Water industry)   \n",
       "\n",
       "                Location                               Company   ContractType  \\\n",
       "0               Cornwall                         non-specified  non-specified   \n",
       "1          Hertfordshire                         non-specified  non-specified   \n",
       "2          Aberdeenshire                         non-specified  non-specified   \n",
       "3                  Essex                         non-specified  non-specified   \n",
       "4          Aberdeenshire                         non-specified  non-specified   \n",
       "...                  ...                                   ...            ...   \n",
       "50694             London  UNKNOWN  auto added by vacany import  non-specified   \n",
       "50695                 UK                  Pursuit Training Ltd  non-specified   \n",
       "50696             London                        W5 Recruitment      full_time   \n",
       "50697             Surrey        Executive Recruitment Services      full_time   \n",
       "50698  South Lanarkshire               Carrington West Limited      full_time   \n",
       "\n",
       "        ContractTime                   Category   Salary            OpenDate  \\\n",
       "0      non-specified  Healthcare & Nursing Jobs  32000.0 2012-05-31 15:00:00   \n",
       "1      non-specified  Healthcare & Nursing Jobs  22950.0 2013-11-19 00:00:00   \n",
       "2      non-specified  Healthcare & Nursing Jobs  34452.2 2013-12-11 15:00:00   \n",
       "3      non-specified  Healthcare & Nursing Jobs  50000.0 2012-03-01 00:00:00   \n",
       "4      non-specified  Healthcare & Nursing Jobs  14500.0 2013-11-24 12:00:00   \n",
       "...              ...                        ...      ...                 ...   \n",
       "50694  non-specified                    IT Jobs  25000.0 2012-01-12 12:00:00   \n",
       "50695      permanent              Teaching Jobs  18000.0 2012-08-11 00:00:00   \n",
       "50696      permanent           Engineering Jobs  52500.0 2012-07-29 15:00:00   \n",
       "50697      permanent           Engineering Jobs  47500.0 2012-03-09 15:00:00   \n",
       "50698       contract           Engineering Jobs  20000.0 2013-01-19 00:00:00   \n",
       "\n",
       "                CloseDate          SourceName  \n",
       "0     2012-06-14 15:00:00  jobs4medical.co.uk  \n",
       "1     2014-01-18 00:00:00  jobs4medical.co.uk  \n",
       "2     2013-12-25 15:00:00  jobs4medical.co.uk  \n",
       "3     2012-03-15 00:00:00  jobs4medical.co.uk  \n",
       "4     2013-12-08 12:00:00  jobs4medical.co.uk  \n",
       "...                   ...                 ...  \n",
       "50694 2012-03-12 12:00:00          grb.uk.com  \n",
       "50695 2012-10-10 00:00:00      cvjobstore.com  \n",
       "50696 2012-08-28 15:00:00         TotallyExec  \n",
       "50697 2012-06-07 15:00:00         TotallyExec  \n",
       "50698 2013-04-19 00:00:00   thegraduate.co.uk  \n",
       "\n",
       "[50699 rows x 11 columns]"
      ]
     },
     "execution_count": 69,
     "metadata": {},
     "output_type": "execute_result"
    }
   ],
   "source": [
    "df1"
   ]
  },
  {
   "cell_type": "markdown",
   "metadata": {},
   "source": [
    "Wonderful."
   ]
  },
  {
   "cell_type": "markdown",
   "metadata": {},
   "source": [
    "### 3. Merging data\n",
    "\n",
    "<span style=\"color: red\"> You might have complex notebook structure in this section, please feel free to create your own notebook structure. </span>"
   ]
  },
  {
   "cell_type": "code",
   "execution_count": 70,
   "metadata": {},
   "outputs": [
    {
     "name": "stdout",
     "output_type": "stream",
     "text": [
      "(50699, 11)\n",
      "(5000, 11)\n"
     ]
    }
   ],
   "source": [
    "# Checking for the shapes of the dataset. Looks like all the columns are identical!\n",
    "print(df1.shape)\n",
    "print(df2.shape)"
   ]
  },
  {
   "cell_type": "code",
   "execution_count": 71,
   "metadata": {},
   "outputs": [
    {
     "name": "stdout",
     "output_type": "stream",
     "text": [
      "(55699, 11)\n"
     ]
    },
    {
     "data": {
      "text/html": [
       "<div>\n",
       "<style scoped>\n",
       "    .dataframe tbody tr th:only-of-type {\n",
       "        vertical-align: middle;\n",
       "    }\n",
       "\n",
       "    .dataframe tbody tr th {\n",
       "        vertical-align: top;\n",
       "    }\n",
       "\n",
       "    .dataframe thead th {\n",
       "        text-align: right;\n",
       "    }\n",
       "</style>\n",
       "<table border=\"1\" class=\"dataframe\">\n",
       "  <thead>\n",
       "    <tr style=\"text-align: right;\">\n",
       "      <th></th>\n",
       "      <th>Id</th>\n",
       "      <th>Title</th>\n",
       "      <th>Location</th>\n",
       "      <th>Company</th>\n",
       "      <th>ContractType</th>\n",
       "      <th>ContractTime</th>\n",
       "      <th>Category</th>\n",
       "      <th>Salary</th>\n",
       "      <th>OpenDate</th>\n",
       "      <th>CloseDate</th>\n",
       "      <th>SourceName</th>\n",
       "    </tr>\n",
       "  </thead>\n",
       "  <tbody>\n",
       "    <tr>\n",
       "      <th>29272</th>\n",
       "      <td>68608609</td>\n",
       "      <td>Sous Chef Lounge, Bar Restaurant ****k</td>\n",
       "      <td>London</td>\n",
       "      <td>H C Solutions</td>\n",
       "      <td>non-specified</td>\n",
       "      <td>non-specified</td>\n",
       "      <td>Hospitality &amp; Catering Jobs</td>\n",
       "      <td>25000.0</td>\n",
       "      <td>2013-09-28 12:00:00</td>\n",
       "      <td>2013-10-28 12:00:00</td>\n",
       "      <td>MyUkJobs</td>\n",
       "    </tr>\n",
       "    <tr>\n",
       "      <th>34613</th>\n",
       "      <td>62114435</td>\n",
       "      <td>German Bilingual Client Services/Sales Executive</td>\n",
       "      <td>London</td>\n",
       "      <td>Language Recruitment Services.</td>\n",
       "      <td>full_time</td>\n",
       "      <td>permanent</td>\n",
       "      <td>Sales Jobs</td>\n",
       "      <td>27500.0</td>\n",
       "      <td>2013-10-29 15:00:00</td>\n",
       "      <td>2013-12-28 15:00:00</td>\n",
       "      <td>fish4.co.uk</td>\n",
       "    </tr>\n",
       "    <tr>\n",
       "      <th>26673</th>\n",
       "      <td>69817283</td>\n",
       "      <td>Domiciliary Care Coordinator Bromley London</td>\n",
       "      <td>London</td>\n",
       "      <td>Service Care Solutions</td>\n",
       "      <td>full_time</td>\n",
       "      <td>non-specified</td>\n",
       "      <td>Healthcare &amp; Nursing Jobs</td>\n",
       "      <td>20750.0</td>\n",
       "      <td>2013-05-13 12:00:00</td>\n",
       "      <td>2013-07-12 12:00:00</td>\n",
       "      <td>staffnurse.com</td>\n",
       "    </tr>\n",
       "    <tr>\n",
       "      <th>11028</th>\n",
       "      <td>71870406</td>\n",
       "      <td>Producer for leading photography agency</td>\n",
       "      <td>Central London</td>\n",
       "      <td>GRM RECRUITMENT</td>\n",
       "      <td>full_time</td>\n",
       "      <td>permanent</td>\n",
       "      <td>Teaching Jobs</td>\n",
       "      <td>25000.0</td>\n",
       "      <td>2012-01-26 00:00:00</td>\n",
       "      <td>2012-02-25 00:00:00</td>\n",
       "      <td>jobs.guardian.co.uk</td>\n",
       "    </tr>\n",
       "    <tr>\n",
       "      <th>20135</th>\n",
       "      <td>69803927</td>\n",
       "      <td>Exhibition Sales Executive International</td>\n",
       "      <td>Redhill</td>\n",
       "      <td>Elizabeth Arnold Associates</td>\n",
       "      <td>non-specified</td>\n",
       "      <td>permanent</td>\n",
       "      <td>PR, Advertising &amp; Marketing Jobs</td>\n",
       "      <td>30000.0</td>\n",
       "      <td>2013-11-18 00:00:00</td>\n",
       "      <td>2014-02-16 00:00:00</td>\n",
       "      <td>totaljobs.com</td>\n",
       "    </tr>\n",
       "    <tr>\n",
       "      <th>4941</th>\n",
       "      <td>70761656</td>\n",
       "      <td>English Language and Literature Teacher</td>\n",
       "      <td>East London</td>\n",
       "      <td>Coen Recruitment Ltd</td>\n",
       "      <td>non-specified</td>\n",
       "      <td>permanent</td>\n",
       "      <td>Teaching Jobs</td>\n",
       "      <td>35000.0</td>\n",
       "      <td>2012-03-11 15:00:00</td>\n",
       "      <td>2012-04-10 15:00:00</td>\n",
       "      <td>cv-library.co.uk</td>\n",
       "    </tr>\n",
       "    <tr>\n",
       "      <th>23596</th>\n",
       "      <td>71276705</td>\n",
       "      <td>Food &amp; Beverage Operative</td>\n",
       "      <td>London</td>\n",
       "      <td>Danubius Hotel</td>\n",
       "      <td>non-specified</td>\n",
       "      <td>non-specified</td>\n",
       "      <td>Hospitality &amp; Catering Jobs</td>\n",
       "      <td>12134.0</td>\n",
       "      <td>2013-12-03 00:00:00</td>\n",
       "      <td>2013-12-17 00:00:00</td>\n",
       "      <td>caterer.com</td>\n",
       "    </tr>\n",
       "    <tr>\n",
       "      <th>12676</th>\n",
       "      <td>69146204</td>\n",
       "      <td>Business Intelligence Developer Team Lead</td>\n",
       "      <td>London</td>\n",
       "      <td>Accenture</td>\n",
       "      <td>full_time</td>\n",
       "      <td>non-specified</td>\n",
       "      <td>IT Jobs</td>\n",
       "      <td>42502.0</td>\n",
       "      <td>2012-01-27 12:00:00</td>\n",
       "      <td>2012-03-27 12:00:00</td>\n",
       "      <td>Jobcentre Plus</td>\n",
       "    </tr>\n",
       "    <tr>\n",
       "      <th>35067</th>\n",
       "      <td>60430366</td>\n",
       "      <td>Home Manager, Nursing Home, Oakington</td>\n",
       "      <td>Cambridge</td>\n",
       "      <td>non-specified</td>\n",
       "      <td>non-specified</td>\n",
       "      <td>non-specified</td>\n",
       "      <td>Healthcare &amp; Nursing Jobs</td>\n",
       "      <td>34452.2</td>\n",
       "      <td>2013-09-29 00:00:00</td>\n",
       "      <td>2013-10-29 00:00:00</td>\n",
       "      <td>careworx.co.uk</td>\n",
       "    </tr>\n",
       "    <tr>\n",
       "      <th>11796</th>\n",
       "      <td>69743316</td>\n",
       "      <td>Statistics Administrator EC****</td>\n",
       "      <td>Central London</td>\n",
       "      <td>BENTLEY ASSOCIATES</td>\n",
       "      <td>full_time</td>\n",
       "      <td>permanent</td>\n",
       "      <td>Accounting &amp; Finance Jobs</td>\n",
       "      <td>34452.2</td>\n",
       "      <td>2012-11-28 12:00:00</td>\n",
       "      <td>2013-01-27 12:00:00</td>\n",
       "      <td>jobs.guardian.co.uk</td>\n",
       "    </tr>\n",
       "  </tbody>\n",
       "</table>\n",
       "</div>"
      ],
      "text/plain": [
       "             Id                                             Title  \\\n",
       "29272  68608609            Sous Chef Lounge, Bar Restaurant ****k   \n",
       "34613  62114435  German Bilingual Client Services/Sales Executive   \n",
       "26673  69817283       Domiciliary Care Coordinator Bromley London   \n",
       "11028  71870406           Producer for leading photography agency   \n",
       "20135  69803927          Exhibition Sales Executive International   \n",
       "4941   70761656           English Language and Literature Teacher   \n",
       "23596  71276705                         Food & Beverage Operative   \n",
       "12676  69146204         Business Intelligence Developer Team Lead   \n",
       "35067  60430366             Home Manager, Nursing Home, Oakington   \n",
       "11796  69743316                   Statistics Administrator EC****   \n",
       "\n",
       "             Location                         Company   ContractType  \\\n",
       "29272          London                   H C Solutions  non-specified   \n",
       "34613          London  Language Recruitment Services.      full_time   \n",
       "26673          London          Service Care Solutions      full_time   \n",
       "11028  Central London                 GRM RECRUITMENT      full_time   \n",
       "20135         Redhill     Elizabeth Arnold Associates  non-specified   \n",
       "4941      East London            Coen Recruitment Ltd  non-specified   \n",
       "23596          London                  Danubius Hotel  non-specified   \n",
       "12676          London                       Accenture      full_time   \n",
       "35067       Cambridge                   non-specified  non-specified   \n",
       "11796  Central London              BENTLEY ASSOCIATES      full_time   \n",
       "\n",
       "        ContractTime                          Category   Salary  \\\n",
       "29272  non-specified       Hospitality & Catering Jobs  25000.0   \n",
       "34613      permanent                        Sales Jobs  27500.0   \n",
       "26673  non-specified         Healthcare & Nursing Jobs  20750.0   \n",
       "11028      permanent                     Teaching Jobs  25000.0   \n",
       "20135      permanent  PR, Advertising & Marketing Jobs  30000.0   \n",
       "4941       permanent                     Teaching Jobs  35000.0   \n",
       "23596  non-specified       Hospitality & Catering Jobs  12134.0   \n",
       "12676  non-specified                           IT Jobs  42502.0   \n",
       "35067  non-specified         Healthcare & Nursing Jobs  34452.2   \n",
       "11796      permanent         Accounting & Finance Jobs  34452.2   \n",
       "\n",
       "                 OpenDate           CloseDate           SourceName  \n",
       "29272 2013-09-28 12:00:00 2013-10-28 12:00:00             MyUkJobs  \n",
       "34613 2013-10-29 15:00:00 2013-12-28 15:00:00          fish4.co.uk  \n",
       "26673 2013-05-13 12:00:00 2013-07-12 12:00:00       staffnurse.com  \n",
       "11028 2012-01-26 00:00:00 2012-02-25 00:00:00  jobs.guardian.co.uk  \n",
       "20135 2013-11-18 00:00:00 2014-02-16 00:00:00        totaljobs.com  \n",
       "4941  2012-03-11 15:00:00 2012-04-10 15:00:00     cv-library.co.uk  \n",
       "23596 2013-12-03 00:00:00 2013-12-17 00:00:00          caterer.com  \n",
       "12676 2012-01-27 12:00:00 2012-03-27 12:00:00       Jobcentre Plus  \n",
       "35067 2013-09-29 00:00:00 2013-10-29 00:00:00       careworx.co.uk  \n",
       "11796 2012-11-28 12:00:00 2013-01-27 12:00:00  jobs.guardian.co.uk  "
      ]
     },
     "execution_count": 71,
     "metadata": {},
     "output_type": "execute_result"
    }
   ],
   "source": [
    "# Code to merge two data sets\n",
    "df = pd.concat([df1,df2])\n",
    "print(df.shape)\n",
    "df.sample(10)"
   ]
  },
  {
   "cell_type": "markdown",
   "metadata": {},
   "source": [
    "Nice we got it merged!"
   ]
  },
  {
   "cell_type": "markdown",
   "metadata": {},
   "source": [
    "......"
   ]
  },
  {
   "cell_type": "markdown",
   "metadata": {},
   "source": [
    "#### Finding global key for the data\n",
    "Find a proper global key for the integrated data and give justification here."
   ]
  },
  {
   "cell_type": "code",
   "execution_count": 72,
   "metadata": {},
   "outputs": [],
   "source": [
    "# Code to identify global key\n"
   ]
  },
  {
   "cell_type": "markdown",
   "metadata": {},
   "source": [
    "......."
   ]
  },
  {
   "cell_type": "markdown",
   "metadata": {},
   "source": [
    "### 4. Resolving data conflicts:\n",
    "Give some general information about the data conflicts you found in the unified table and how you resolve them.\n",
    "\n",
    "<span style=\"color: red\"> You might have complex notebook structure in this section, please feel free to create your own notebook structure. </span>"
   ]
  },
  {
   "cell_type": "markdown",
   "metadata": {},
   "source": [
    "#### Conflict 1: Complete Duplications\n",
    "Here give some general information about this conflict."
   ]
  },
  {
   "cell_type": "code",
   "execution_count": 73,
   "metadata": {},
   "outputs": [],
   "source": [
    "# Code to inspect data and identify conflicts in data"
   ]
  },
  {
   "cell_type": "code",
   "execution_count": 74,
   "metadata": {},
   "outputs": [
    {
     "name": "stdout",
     "output_type": "stream",
     "text": [
      "There are 0 duplicate records found\n"
     ]
    },
    {
     "data": {
      "text/html": [
       "<div>\n",
       "<style scoped>\n",
       "    .dataframe tbody tr th:only-of-type {\n",
       "        vertical-align: middle;\n",
       "    }\n",
       "\n",
       "    .dataframe tbody tr th {\n",
       "        vertical-align: top;\n",
       "    }\n",
       "\n",
       "    .dataframe thead th {\n",
       "        text-align: right;\n",
       "    }\n",
       "</style>\n",
       "<table border=\"1\" class=\"dataframe\">\n",
       "  <thead>\n",
       "    <tr style=\"text-align: right;\">\n",
       "      <th></th>\n",
       "      <th>Id</th>\n",
       "      <th>Title</th>\n",
       "      <th>Location</th>\n",
       "      <th>Company</th>\n",
       "      <th>ContractType</th>\n",
       "      <th>ContractTime</th>\n",
       "      <th>Category</th>\n",
       "      <th>Salary</th>\n",
       "      <th>OpenDate</th>\n",
       "      <th>CloseDate</th>\n",
       "      <th>SourceName</th>\n",
       "    </tr>\n",
       "  </thead>\n",
       "  <tbody>\n",
       "  </tbody>\n",
       "</table>\n",
       "</div>"
      ],
      "text/plain": [
       "Empty DataFrame\n",
       "Columns: [Id, Title, Location, Company, ContractType, ContractTime, Category, Salary, OpenDate, CloseDate, SourceName]\n",
       "Index: []"
      ]
     },
     "execution_count": 74,
     "metadata": {},
     "output_type": "execute_result"
    }
   ],
   "source": [
    "### check duplication\n",
    "duplicates = df[df.duplicated(keep=False)] # showing all duplicated records\n",
    "print (\"There are \"+ str(len(duplicates)) + \" duplicate records found\")\n",
    "duplicates.sort_values(by=duplicates.columns.tolist()).head(10)"
   ]
  },
  {
   "cell_type": "markdown",
   "metadata": {},
   "source": [
    "Looks like we have 0 complete duplicates (where every column value is identical)!\n",
    "\n",
    "Very Nice. But we are not in the clear yet!"
   ]
  },
  {
   "cell_type": "markdown",
   "metadata": {},
   "source": [
    "\\------------------------------------"
   ]
  },
  {
   "cell_type": "markdown",
   "metadata": {},
   "source": [
    "#### Conflict 2: Other Duplications\n",
    "We need to check for duplicates based of two columns. The most logical columns that should be able to uniquely identify a row (besides the Id) is:\n",
    "- Title + OpenDate + CloseDate"
   ]
  },
  {
   "cell_type": "code",
   "execution_count": 75,
   "metadata": {},
   "outputs": [
    {
     "name": "stdout",
     "output_type": "stream",
     "text": [
      "There are 274 duplicate records found\n"
     ]
    },
    {
     "data": {
      "text/html": [
       "<div>\n",
       "<style scoped>\n",
       "    .dataframe tbody tr th:only-of-type {\n",
       "        vertical-align: middle;\n",
       "    }\n",
       "\n",
       "    .dataframe tbody tr th {\n",
       "        vertical-align: top;\n",
       "    }\n",
       "\n",
       "    .dataframe thead th {\n",
       "        text-align: right;\n",
       "    }\n",
       "</style>\n",
       "<table border=\"1\" class=\"dataframe\">\n",
       "  <thead>\n",
       "    <tr style=\"text-align: right;\">\n",
       "      <th></th>\n",
       "      <th>Id</th>\n",
       "      <th>Title</th>\n",
       "      <th>Location</th>\n",
       "      <th>Company</th>\n",
       "      <th>ContractType</th>\n",
       "      <th>ContractTime</th>\n",
       "      <th>Category</th>\n",
       "      <th>Salary</th>\n",
       "      <th>OpenDate</th>\n",
       "      <th>CloseDate</th>\n",
       "      <th>SourceName</th>\n",
       "    </tr>\n",
       "  </thead>\n",
       "  <tbody>\n",
       "    <tr>\n",
       "      <th>14283</th>\n",
       "      <td>72242973</td>\n",
       "      <td>**** x Inner Shield Welders Immediately Required</td>\n",
       "      <td>UK</td>\n",
       "      <td>Proactive Technical Recruitment</td>\n",
       "      <td>non-specified</td>\n",
       "      <td>contract</td>\n",
       "      <td>Engineering Jobs</td>\n",
       "      <td>28800.00</td>\n",
       "      <td>2012-11-24 15:00:00</td>\n",
       "      <td>2012-12-08 15:00:00</td>\n",
       "      <td>totaljobs.com</td>\n",
       "    </tr>\n",
       "    <tr>\n",
       "      <th>750</th>\n",
       "      <td>12600750</td>\n",
       "      <td>**** x Inner Shield Welders Immediately Required</td>\n",
       "      <td>UK</td>\n",
       "      <td>Proactive Technical Recruitment</td>\n",
       "      <td>non-specified</td>\n",
       "      <td>contract</td>\n",
       "      <td>Engineering Jobs</td>\n",
       "      <td>28800.00</td>\n",
       "      <td>2012-11-24 15:00:00</td>\n",
       "      <td>2012-12-08 15:00:00</td>\n",
       "      <td>www.jobhuntlisting.com</td>\n",
       "    </tr>\n",
       "    <tr>\n",
       "      <th>2901</th>\n",
       "      <td>72479948</td>\n",
       "      <td>3rd Line Support Network Wireless</td>\n",
       "      <td>Nottingham</td>\n",
       "      <td>Hays Corporate Accounts</td>\n",
       "      <td>non-specified</td>\n",
       "      <td>permanent</td>\n",
       "      <td>IT Jobs</td>\n",
       "      <td>42500.00</td>\n",
       "      <td>2013-09-16 12:00:00</td>\n",
       "      <td>2013-11-15 12:00:00</td>\n",
       "      <td>jobsite.co.uk</td>\n",
       "    </tr>\n",
       "    <tr>\n",
       "      <th>3240</th>\n",
       "      <td>12603240</td>\n",
       "      <td>3rd Line Support Network Wireless</td>\n",
       "      <td>Nottingham</td>\n",
       "      <td>Hays Corporate Accounts</td>\n",
       "      <td>non-specified</td>\n",
       "      <td>Permanent</td>\n",
       "      <td>IT Jobs</td>\n",
       "      <td>42500.04</td>\n",
       "      <td>2013-09-16 12:00:00</td>\n",
       "      <td>2013-11-15 12:00:00</td>\n",
       "      <td>www.jobhuntlisting.com</td>\n",
       "    </tr>\n",
       "    <tr>\n",
       "      <th>37515</th>\n",
       "      <td>72670050</td>\n",
       "      <td>AGM Big High Volume Restaurant London</td>\n",
       "      <td>London</td>\n",
       "      <td>Appetite4Recruitment  High End Restaurants, Pu...</td>\n",
       "      <td>non-specified</td>\n",
       "      <td>non-specified</td>\n",
       "      <td>Hospitality &amp; Catering Jobs</td>\n",
       "      <td>25000.00</td>\n",
       "      <td>2013-03-19 15:00:00</td>\n",
       "      <td>2013-04-02 15:00:00</td>\n",
       "      <td>jobs.catererandhotelkeeper.com</td>\n",
       "    </tr>\n",
       "    <tr>\n",
       "      <th>4388</th>\n",
       "      <td>12604388</td>\n",
       "      <td>AGM Big High Volume Restaurant London</td>\n",
       "      <td>London</td>\n",
       "      <td>Appetite4Recruitment   High End Restaurants, P...</td>\n",
       "      <td>non-specified</td>\n",
       "      <td>non-specified</td>\n",
       "      <td>Hospitality &amp; Catering Jobs</td>\n",
       "      <td>24999.96</td>\n",
       "      <td>2013-03-19 15:00:00</td>\n",
       "      <td>2013-04-02 15:00:00</td>\n",
       "      <td>www.jobhuntlisting.com</td>\n",
       "    </tr>\n",
       "    <tr>\n",
       "      <th>47237</th>\n",
       "      <td>72484204</td>\n",
       "      <td>ASPNet Developer / PERM / ****k</td>\n",
       "      <td>Cannock</td>\n",
       "      <td>Computer Futures</td>\n",
       "      <td>non-specified</td>\n",
       "      <td>non-specified</td>\n",
       "      <td>IT Jobs</td>\n",
       "      <td>40000.00</td>\n",
       "      <td>2013-04-28 15:00:00</td>\n",
       "      <td>2013-05-28 15:00:00</td>\n",
       "      <td>gojobsearch.co.uk</td>\n",
       "    </tr>\n",
       "    <tr>\n",
       "      <th>3365</th>\n",
       "      <td>12603365</td>\n",
       "      <td>ASPNet Developer / PERM / ****k</td>\n",
       "      <td>Cannock</td>\n",
       "      <td>Computer Futures</td>\n",
       "      <td>non-specified</td>\n",
       "      <td>non-specified</td>\n",
       "      <td>IT Jobs</td>\n",
       "      <td>39999.96</td>\n",
       "      <td>2013-04-28 15:00:00</td>\n",
       "      <td>2013-05-28 15:00:00</td>\n",
       "      <td>www.jobhuntlisting.com</td>\n",
       "    </tr>\n",
       "    <tr>\n",
       "      <th>48638</th>\n",
       "      <td>72192876</td>\n",
       "      <td>ASPnet C Snr Developer</td>\n",
       "      <td>Hampshire</td>\n",
       "      <td>non-specified</td>\n",
       "      <td>non-specified</td>\n",
       "      <td>permanent</td>\n",
       "      <td>IT Jobs</td>\n",
       "      <td>44000.00</td>\n",
       "      <td>2012-02-26 00:00:00</td>\n",
       "      <td>2012-05-26 00:00:00</td>\n",
       "      <td>jobs.telegraph.co.uk</td>\n",
       "    </tr>\n",
       "    <tr>\n",
       "      <th>46</th>\n",
       "      <td>12600046</td>\n",
       "      <td>ASPnet C Snr Developer</td>\n",
       "      <td>Hampshire</td>\n",
       "      <td>non-specified</td>\n",
       "      <td>non-specified</td>\n",
       "      <td>Permanent</td>\n",
       "      <td>IT Jobs</td>\n",
       "      <td>44000.04</td>\n",
       "      <td>2012-02-26 00:00:00</td>\n",
       "      <td>2012-05-26 00:00:00</td>\n",
       "      <td>www.jobhuntlisting.com</td>\n",
       "    </tr>\n",
       "  </tbody>\n",
       "</table>\n",
       "</div>"
      ],
      "text/plain": [
       "             Id                                             Title    Location  \\\n",
       "14283  72242973  **** x Inner Shield Welders Immediately Required          UK   \n",
       "750    12600750  **** x Inner Shield Welders Immediately Required          UK   \n",
       "2901   72479948                 3rd Line Support Network Wireless  Nottingham   \n",
       "3240   12603240                 3rd Line Support Network Wireless  Nottingham   \n",
       "37515  72670050             AGM Big High Volume Restaurant London      London   \n",
       "4388   12604388             AGM Big High Volume Restaurant London      London   \n",
       "47237  72484204                   ASPNet Developer / PERM / ****k     Cannock   \n",
       "3365   12603365                   ASPNet Developer / PERM / ****k     Cannock   \n",
       "48638  72192876                            ASPnet C Snr Developer   Hampshire   \n",
       "46     12600046                            ASPnet C Snr Developer   Hampshire   \n",
       "\n",
       "                                                 Company   ContractType  \\\n",
       "14283                    Proactive Technical Recruitment  non-specified   \n",
       "750                      Proactive Technical Recruitment  non-specified   \n",
       "2901                             Hays Corporate Accounts  non-specified   \n",
       "3240                             Hays Corporate Accounts  non-specified   \n",
       "37515  Appetite4Recruitment  High End Restaurants, Pu...  non-specified   \n",
       "4388   Appetite4Recruitment   High End Restaurants, P...  non-specified   \n",
       "47237                                   Computer Futures  non-specified   \n",
       "3365                                    Computer Futures  non-specified   \n",
       "48638                                      non-specified  non-specified   \n",
       "46                                         non-specified  non-specified   \n",
       "\n",
       "        ContractTime                     Category    Salary  \\\n",
       "14283       contract             Engineering Jobs  28800.00   \n",
       "750         contract             Engineering Jobs  28800.00   \n",
       "2901       permanent                      IT Jobs  42500.00   \n",
       "3240       Permanent                      IT Jobs  42500.04   \n",
       "37515  non-specified  Hospitality & Catering Jobs  25000.00   \n",
       "4388   non-specified  Hospitality & Catering Jobs  24999.96   \n",
       "47237  non-specified                      IT Jobs  40000.00   \n",
       "3365   non-specified                      IT Jobs  39999.96   \n",
       "48638      permanent                      IT Jobs  44000.00   \n",
       "46         Permanent                      IT Jobs  44000.04   \n",
       "\n",
       "                 OpenDate           CloseDate                      SourceName  \n",
       "14283 2012-11-24 15:00:00 2012-12-08 15:00:00                   totaljobs.com  \n",
       "750   2012-11-24 15:00:00 2012-12-08 15:00:00          www.jobhuntlisting.com  \n",
       "2901  2013-09-16 12:00:00 2013-11-15 12:00:00                   jobsite.co.uk  \n",
       "3240  2013-09-16 12:00:00 2013-11-15 12:00:00          www.jobhuntlisting.com  \n",
       "37515 2013-03-19 15:00:00 2013-04-02 15:00:00  jobs.catererandhotelkeeper.com  \n",
       "4388  2013-03-19 15:00:00 2013-04-02 15:00:00          www.jobhuntlisting.com  \n",
       "47237 2013-04-28 15:00:00 2013-05-28 15:00:00               gojobsearch.co.uk  \n",
       "3365  2013-04-28 15:00:00 2013-05-28 15:00:00          www.jobhuntlisting.com  \n",
       "48638 2012-02-26 00:00:00 2012-05-26 00:00:00            jobs.telegraph.co.uk  \n",
       "46    2012-02-26 00:00:00 2012-05-26 00:00:00          www.jobhuntlisting.com  "
      ]
     },
     "execution_count": 75,
     "metadata": {},
     "output_type": "execute_result"
    }
   ],
   "source": [
    "# Title \n",
    "cols = ['Title','OpenDate','CloseDate'] # this should uniquely identified a record, as the same bike could not be used by multiple trip started at the same time \n",
    "duplicates = df[df.duplicated(cols,keep=False)]\n",
    "print (\"There are \"+ str(len(duplicates)) + \" duplicate records found\")\n",
    "duplicates.sort_values(by=cols).head(10)"
   ]
  },
  {
   "cell_type": "code",
   "execution_count": 76,
   "metadata": {},
   "outputs": [
    {
     "data": {
      "text/plain": [
       "(55699, 11)"
      ]
     },
     "execution_count": 76,
     "metadata": {},
     "output_type": "execute_result"
    }
   ],
   "source": [
    "df.shape"
   ]
  },
  {
   "cell_type": "code",
   "execution_count": 77,
   "metadata": {},
   "outputs": [
    {
     "data": {
      "text/plain": [
       "(55562, 11)"
      ]
     },
     "execution_count": 77,
     "metadata": {},
     "output_type": "execute_result"
    }
   ],
   "source": [
    "df = df.drop_duplicates(cols, keep='last')\n",
    "df.shape"
   ]
  },
  {
   "cell_type": "markdown",
   "metadata": {},
   "source": [
    "### 5. Saving the integrated and reshaped data\n",
    "The last part of the integration process is to export our output data to csv format, named as:\n",
    "- '\\<student\\_id\\>_dataset_integrated.csv'"
   ]
  },
  {
   "cell_type": "code",
   "execution_count": 78,
   "metadata": {},
   "outputs": [],
   "source": [
    "# code to save output data\n",
    "df.to_csv('s3900098_dataset_integrated.csv', index=False)"
   ]
  },
  {
   "cell_type": "markdown",
   "metadata": {},
   "source": [
    "## Summary of the Assessment Task\n",
    "Give a short summary and anything you would like to talk about this assessment task here."
   ]
  },
  {
   "cell_type": "markdown",
   "metadata": {},
   "source": [
    "Overall, we successfully managed to integrate the data from the 2nd dataset with our original.\n",
    "\n",
    "Some of the errors solved included:\n",
    "- Wrong column names\n",
    "- Data in Alternate formats\n",
    "- Data spelt differently to global schema\n",
    "- Missing columns that needed to be generated\n",
    "\n",
    "However, the tricky aspect of this assignment lied in the creation of a new Id Column, which did not collide with the Original Dataset and also satisfied the required 8 digits.\n",
    "\n",
    "Thanks for reading and hope you enjoyed - Denzel\n"
   ]
  },
  {
   "cell_type": "code",
   "execution_count": null,
   "metadata": {},
   "outputs": [],
   "source": []
  }
 ],
 "metadata": {
  "kernelspec": {
   "display_name": "Python 3",
   "language": "python",
   "name": "python3"
  },
  "language_info": {
   "codemirror_mode": {
    "name": "ipython",
    "version": 3
   },
   "file_extension": ".py",
   "mimetype": "text/x-python",
   "name": "python",
   "nbconvert_exporter": "python",
   "pygments_lexer": "ipython3",
   "version": "3.8.8"
  }
 },
 "nbformat": 4,
 "nbformat_minor": 1
}

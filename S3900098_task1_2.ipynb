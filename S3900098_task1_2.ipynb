{
 "cells": [
  {
   "cell_type": "markdown",
   "metadata": {},
   "source": [
    "# Assignment 1: Data Parsing, Cleansing and Integration\n",
    "## Task 1 and 2\n",
    "#### Student Name: Denzel Tan\n",
    "#### Student ID: s3900098\n",
    "\n",
    "Date: 8/2021\n",
    "\n",
    "Version: 1.0\n",
    "\n",
    "Environment: Python 3 and Jupyter notebook\n",
    "\n",
    "Libraries used: please include the main libraries you used in your assignment, e.g.,:\n",
    "* pandas\n",
    "* re\n",
    "* numpy\n",
    "\n",
    "## Introduction\n",
    "We will be parsing data of Job Advertisements from a XML file. Once done, we will perform some Data Clensing.\n",
    "\n",
    "Alongside there will be an error list recorder, which records down all our changes and errors we found during the clensing process."
   ]
  },
  {
   "cell_type": "markdown",
   "metadata": {},
   "source": [
    "## Importing libraries "
   ]
  },
  {
   "cell_type": "code",
   "execution_count": 1,
   "metadata": {},
   "outputs": [],
   "source": [
    "# Code to import libraries as you need in this assessment, e.g.,\n",
    "import pandas as pd\n",
    "import re\n",
    "import numpy as np\n",
    "import xml.etree.ElementTree as etree\n",
    "from datetime import datetime\n",
    "\n",
    "# Visualisation tools\n",
    "import matplotlib as mpl\n",
    "import matplotlib.pyplot as plt\n",
    "import matplotlib.pylab as pylab\n"
   ]
  },
  {
   "cell_type": "markdown",
   "metadata": {},
   "source": [
    "## Task 1. Parsing Data"
   ]
  },
  {
   "cell_type": "markdown",
   "metadata": {},
   "source": [
    "### 1.1. Examining and loading data\n",
    "Examine \"\\<student\\_id\\>_dataset1.xml\" to determine its content and structure, then load it into Python. Explain your findings here, e.g., how are the records are stored? "
   ]
  },
  {
   "cell_type": "markdown",
   "metadata": {},
   "source": [
    "Lets do some initial Exploratry Data Analysis!"
   ]
  },
  {
   "cell_type": "code",
   "execution_count": 2,
   "metadata": {},
   "outputs": [],
   "source": [
    "# Code to inspect the provided data file\n",
    "# Couple of notes for all code block in this notebook\n",
    "## please provide proper comment on your code\n",
    "## Please re-start and run all cells to make sure codes are runable and include your output in the submission"
   ]
  },
  {
   "cell_type": "code",
   "execution_count": 3,
   "metadata": {},
   "outputs": [],
   "source": [
    "# Parsing the XML file via Element Tree (BSoup was very slow)\n",
    "tree = etree.parse(\"S3900098_dataset1.xml\")"
   ]
  },
  {
   "cell_type": "code",
   "execution_count": 4,
   "metadata": {
    "scrolled": true
   },
   "outputs": [
    {
     "data": {
      "text/plain": [
       "'JobAds'"
      ]
     },
     "execution_count": 4,
     "metadata": {},
     "output_type": "execute_result"
    }
   ],
   "source": [
    "# Finding the root of the entire XML, it all falls under JobAds\n",
    "root = tree.getroot()\n",
    "root.tag"
   ]
  },
  {
   "cell_type": "markdown",
   "metadata": {},
   "source": [
    "### Uncomment below if you want to see the tree.\n",
    "\n",
    "### It takes very long though...."
   ]
  },
  {
   "cell_type": "code",
   "execution_count": 5,
   "metadata": {},
   "outputs": [],
   "source": [
    "# HIT THE STOP BUTTON ON THIS IF JUPYTER IS NOT LOADING WHATS BELOW!!!!\n",
    "# Lets have a look at what the XML looks like:\n",
    "\n",
    "#for elem in tree.iter():\n",
    "    #print (elem.tag, elem.text, elem.attrib)"
   ]
  },
  {
   "cell_type": "code",
   "execution_count": 6,
   "metadata": {
    "scrolled": true
   },
   "outputs": [
    {
     "data": {
      "text/plain": [
       "[226, 2966, 359, 7384, 1149, 2058, 8372, 71, 814, 2319]"
      ]
     },
     "execution_count": 6,
     "metadata": {},
     "output_type": "execute_result"
    }
   ],
   "source": [
    "# Finding how many job records/listings in each \"source\" (which is the job website)\n",
    "[len(child) for child in root][:10]"
   ]
  },
  {
   "cell_type": "markdown",
   "metadata": {},
   "source": [
    "Alright nice. So we know that the Sources (job websites) have multiple records (job listings), but what are \n",
    "the children of the records (job details)? \n",
    "Lets find out all the different details that could take place!\n"
   ]
  },
  {
   "cell_type": "code",
   "execution_count": 7,
   "metadata": {},
   "outputs": [
    {
     "data": {
      "text/plain": [
       "[0, 6, 6, 5, 6, 6, 6, 6, 6, 6]"
      ]
     },
     "execution_count": 7,
     "metadata": {},
     "output_type": "execute_result"
    }
   ],
   "source": [
    "# Shows how many children for each of the records (how many job attributes) within the 1st source\n",
    "[len(child) for child in root[0]][:10]\n",
    "# So each listing may have different number of children (job attributes)!"
   ]
  },
  {
   "cell_type": "code",
   "execution_count": 8,
   "metadata": {},
   "outputs": [
    {
     "data": {
      "text/plain": [
       "{'Category', 'Date', 'Id', 'Location', 'Salary', 'Title'}"
      ]
     },
     "execution_count": 8,
     "metadata": {},
     "output_type": "execute_result"
    }
   ],
   "source": [
    "set([child.tag for child in root[0][1]]) # Shows tags of the 1st record of the 1st source"
   ]
  },
  {
   "cell_type": "code",
   "execution_count": 9,
   "metadata": {},
   "outputs": [
    {
     "data": {
      "text/plain": [
       "[{'Category', 'Date', 'Id', 'Location', 'Salary', 'Title'},\n",
       " {'Category',\n",
       "  'Company',\n",
       "  'ContractTime',\n",
       "  'ContractType',\n",
       "  'Date',\n",
       "  'Id',\n",
       "  'Location',\n",
       "  'Salary',\n",
       "  'Title'},\n",
       " {'Category',\n",
       "  'Company',\n",
       "  'ContractTime',\n",
       "  'ContractType',\n",
       "  'Date',\n",
       "  'Id',\n",
       "  'Location',\n",
       "  'Salary',\n",
       "  'Title'}]"
      ]
     },
     "execution_count": 9,
     "metadata": {},
     "output_type": "execute_result"
    }
   ],
   "source": [
    "# Now we iterate through all the sources and get a set of the children of records FOR EACH record.\n",
    "# Notice how the first only has 6, while most of the others have 9.\n",
    "\n",
    "[set([child.tag for child in root[i][1]]) for i in range(0, len(root))][:3]"
   ]
  },
  {
   "cell_type": "code",
   "execution_count": 10,
   "metadata": {},
   "outputs": [
    {
     "data": {
      "text/plain": [
       "{'Category',\n",
       " 'Company',\n",
       " 'ContractTime',\n",
       " 'ContractType',\n",
       " 'Date',\n",
       " 'Id',\n",
       " 'Location',\n",
       " 'Salary',\n",
       " 'Title'}"
      ]
     },
     "execution_count": 10,
     "metadata": {},
     "output_type": "execute_result"
    }
   ],
   "source": [
    "# Here we get the set of ALL POSSIBLE tags for the job details, collated into a single set. So we have a max\n",
    "# of 9 children per record, for all the records in the XML.\n",
    "# This basically takes every unique child from above and puts it into a set!\n",
    "from itertools import chain\n",
    "record_features = set(chain.from_iterable([[child.tag for child in root[i][1]] for i in range(0, len(root))]))\n",
    "record_features"
   ]
  },
  {
   "cell_type": "markdown",
   "metadata": {},
   "source": [
    "Alright initial analysis done! Now we have a better idea of whats in our data. Lets move onto parsing our data into a DataFrame\n",
    "."
   ]
  },
  {
   "cell_type": "markdown",
   "metadata": {},
   "source": [
    "### 1.2 Parsing data into the required format"
   ]
  },
  {
   "cell_type": "markdown",
   "metadata": {},
   "source": [
    "<span style=\"color: red\"> You might have complex notebook structure in this section, please feel free to create your own notebook structure. </span>"
   ]
  },
  {
   "cell_type": "code",
   "execution_count": 11,
   "metadata": {},
   "outputs": [],
   "source": [
    "# Code to parse data"
   ]
  },
  {
   "cell_type": "code",
   "execution_count": 12,
   "metadata": {},
   "outputs": [
    {
     "data": {
      "text/plain": [
       "{'Category',\n",
       " 'Company',\n",
       " 'ContractTime',\n",
       " 'ContractType',\n",
       " 'Date',\n",
       " 'Id',\n",
       " 'Location',\n",
       " 'Salary',\n",
       " 'Title'}"
      ]
     },
     "execution_count": 12,
     "metadata": {},
     "output_type": "execute_result"
    }
   ],
   "source": [
    "record_features"
   ]
  },
  {
   "cell_type": "markdown",
   "metadata": {},
   "source": [
    "So we have data in the SourceName + the record features listed above. Lets extract the data from these tags!\n",
    "We should have 10 columns in the DataFrame... Or is it more?"
   ]
  },
  {
   "cell_type": "markdown",
   "metadata": {},
   "source": [
    "Lets first tackle the dates, as this is the tricky one"
   ]
  },
  {
   "cell_type": "code",
   "execution_count": 13,
   "metadata": {},
   "outputs": [
    {
     "name": "stdout",
     "output_type": "stream",
     "text": [
      "Opendate: 50703\n"
     ]
    },
    {
     "data": {
      "text/plain": [
       "[{'Open': '20120531T150000', 'Close': '20120614T150000'},\n",
       " {'Open': '20131119T000000', 'Close': '20140118T000000'},\n",
       " {'Open': '20131211T150000', 'Close': '20131225T150000'},\n",
       " {'Open': '20120301T000000', 'Close': '20120315T000000'},\n",
       " {'Open': '20131124T120000', 'Close': '20131208T120000'}]"
      ]
     },
     "execution_count": 13,
     "metadata": {},
     "output_type": "execute_result"
    }
   ],
   "source": [
    "opendate_data = []\n",
    "for elem in tree.findall('Source/Record/Date'):\n",
    "    opendate_data.append(elem.attrib)\n",
    "    \n",
    "print('Opendate:',len(opendate_data))\n",
    "opendate_data[:5]"
   ]
  },
  {
   "cell_type": "code",
   "execution_count": 14,
   "metadata": {},
   "outputs": [
    {
     "name": "stdout",
     "output_type": "stream",
     "text": [
      "<class 'list'>\n",
      "{'Open': '20120531T150000', 'Close': '20120614T150000'}\n",
      "<class 'dict'>\n"
     ]
    }
   ],
   "source": [
    "print(type(opendate_data))\n",
    "print(opendate_data[0])\n",
    "print(type(opendate_data[0]))"
   ]
  },
  {
   "cell_type": "code",
   "execution_count": 15,
   "metadata": {},
   "outputs": [
    {
     "name": "stdout",
     "output_type": "stream",
     "text": [
      "20120531T150000\n",
      "20120614T150000\n",
      "<class 'str'>\n"
     ]
    }
   ],
   "source": [
    "print(opendate_data[0]['Open'])\n",
    "print(opendate_data[0][\"Close\"])\n",
    "print(type(opendate_data[0][\"Close\"]))"
   ]
  },
  {
   "cell_type": "markdown",
   "metadata": {},
   "source": [
    "Ohh. Each \"Date\" is actually a Dictionary, with the keys \"Open\" and \"Close\" corresponding to the Opening date and Close date respectively. Lets try seperating them."
   ]
  },
  {
   "cell_type": "code",
   "execution_count": 16,
   "metadata": {},
   "outputs": [
    {
     "name": "stdout",
     "output_type": "stream",
     "text": [
      "Opendate: 50703\n"
     ]
    },
    {
     "data": {
      "text/plain": [
       "['20120531T150000',\n",
       " '20131119T000000',\n",
       " '20131211T150000',\n",
       " '20120301T000000',\n",
       " '20131124T120000']"
      ]
     },
     "execution_count": 16,
     "metadata": {},
     "output_type": "execute_result"
    }
   ],
   "source": [
    "# Open Date\n",
    "opendate_data = []\n",
    "for elem in tree.findall('Source/Record/Date'):\n",
    "    opendate_data.append(elem.attrib['Open'])\n",
    "    \n",
    "print('Opendate:',len(opendate_data))\n",
    "opendate_data[:5]"
   ]
  },
  {
   "cell_type": "code",
   "execution_count": 17,
   "metadata": {},
   "outputs": [
    {
     "name": "stdout",
     "output_type": "stream",
     "text": [
      "Close date: 50703\n"
     ]
    },
    {
     "data": {
      "text/plain": [
       "['20120614T150000',\n",
       " '20140118T000000',\n",
       " '20131225T150000',\n",
       " '20120315T000000',\n",
       " '20131208T120000']"
      ]
     },
     "execution_count": 17,
     "metadata": {},
     "output_type": "execute_result"
    }
   ],
   "source": [
    "# Close Date\n",
    "closedate_data = []\n",
    "for elem in tree.findall('Source/Record/Date'):\n",
    "    closedate_data.append(elem.attrib['Close'])\n",
    "    \n",
    "print('Close date:',len(closedate_data))\n",
    "closedate_data[:5]"
   ]
  },
  {
   "cell_type": "markdown",
   "metadata": {},
   "source": [
    "So we are able to seperate it!\n",
    "\n",
    "This means there will be 11 columns in total now, since date is now split into Open and Close."
   ]
  },
  {
   "cell_type": "markdown",
   "metadata": {},
   "source": [
    "Lets put it in the dataframe now"
   ]
  },
  {
   "cell_type": "code",
   "execution_count": 18,
   "metadata": {},
   "outputs": [],
   "source": [
    "# We should have 11 columns\n",
    "columns = [\"Id\",\"Title\",\"Source\",\"Location\",\"Company\",\"Category\",\"Salary\",\"OpenDate\",\"CloseDate\",\"ContractType\",\"ContractTime\",]"
   ]
  },
  {
   "cell_type": "markdown",
   "metadata": {},
   "source": [
    "## Start by putting all our data into lists\n",
    "This is where we will store all our data into lists\n",
    "This part was especially tricky, since some records have a different nunber of children (job details), which means they don't carry equal information.\n",
    "\n",
    "If we just capture the data without taking in the missing children as null, our columns would be different length.\n",
    "\n",
    "This makes it quite hard, as this means each column in our dataframe would be out of order, and missing lots of data where the ordered null was meant to be.\n",
    "\n",
    "Hence, we must find a way to capture the missing children as null!\n",
    "\n",
    "We solve this by iterating through every single Job Detail, turning that data into a list, then appending it to a bigger list.\n",
    "This allows us to capture null Job Details of Records.\n",
    "Hence the length of all rows should be 50703! If that is the length, we can be sure all values, including the empty, are captured into the list"
   ]
  },
  {
   "cell_type": "code",
   "execution_count": 19,
   "metadata": {},
   "outputs": [
    {
     "name": "stdout",
     "output_type": "stream",
     "text": [
      "50703\n"
     ]
    },
    {
     "data": {
      "text/plain": [
       "[['71338111'], ['71353268'], ['69117049'], ['68562480'], ['69783035']]"
      ]
     },
     "execution_count": 19,
     "metadata": {},
     "output_type": "execute_result"
    }
   ],
   "source": [
    "# Id\n",
    "id_list = []\n",
    "for elem in tree.iter(tag = 'Record'):\n",
    "    id_list.append([child.text for child in elem.findall(\"Id\")])\n",
    "    \n",
    "        \n",
    "print(len(id_list))\n",
    "id_list[:5]"
   ]
  },
  {
   "cell_type": "code",
   "execution_count": 20,
   "metadata": {},
   "outputs": [
    {
     "name": "stdout",
     "output_type": "stream",
     "text": [
      "50703\n"
     ]
    },
    {
     "data": {
      "text/plain": [
       "[['32000'], ['22950'], [], ['50000'], ['14500']]"
      ]
     },
     "execution_count": 20,
     "metadata": {},
     "output_type": "execute_result"
    }
   ],
   "source": [
    "# Salary\n",
    "salary_list = []\n",
    "for elem in tree.iter(tag = 'Record'):\n",
    "    salary_list.append([child.text for child in elem.findall(\"Salary\")])\n",
    "    \n",
    "        \n",
    "print(len(salary_list))\n",
    "salary_list[:5]"
   ]
  },
  {
   "cell_type": "code",
   "execution_count": 21,
   "metadata": {},
   "outputs": [
    {
     "name": "stdout",
     "output_type": "stream",
     "text": [
      "50703\n"
     ]
    },
    {
     "data": {
      "text/plain": [
       "[['Allied Health Care Professional : Nurse Manager Jobs in Cornwall'],\n",
       " ['Dental : Registered General Nurse Jobs in Stevenage'],\n",
       " ['Allied Health Care Professional : Optometrists Jobs in Aberdeen'],\n",
       " ['Allied Health Care Professional : Care Home Managers Jobs in Essex'],\n",
       " ['Allied Health Care Professional : Optical Clinical Assistant Jobs in Aberdeen']]"
      ]
     },
     "execution_count": 21,
     "metadata": {},
     "output_type": "execute_result"
    }
   ],
   "source": [
    "# Title\n",
    "title_list = []\n",
    "for elem in tree.iter(tag = 'Record'):\n",
    "    title_list.append([child.text for child in elem.findall(\"Title\")])\n",
    "    \n",
    "        \n",
    "print(len(title_list))\n",
    "title_list[:5]"
   ]
  },
  {
   "cell_type": "code",
   "execution_count": 22,
   "metadata": {},
   "outputs": [
    {
     "name": "stdout",
     "output_type": "stream",
     "text": [
      "50703\n"
     ]
    },
    {
     "data": {
      "text/plain": [
       "['jobs4medical.co.uk',\n",
       " 'jobs4medical.co.uk',\n",
       " 'jobs4medical.co.uk',\n",
       " 'jobs4medical.co.uk',\n",
       " 'jobs4medical.co.uk']"
      ]
     },
     "execution_count": 22,
     "metadata": {},
     "output_type": "execute_result"
    }
   ],
   "source": [
    "# Source\n",
    "# This is different to the rest, as we need to append the same source multiple times, for each individual record \n",
    "# in the xml within that source.\n",
    "source_list = []\n",
    "\n",
    "for elem in root:\n",
    "    name = elem[0].text    \n",
    "    for job in elem.findall('Record'):\n",
    "        source_list.append(name)\n",
    "        \n",
    "print(len(source_list))\n",
    "source_list[:5]"
   ]
  },
  {
   "cell_type": "code",
   "execution_count": 23,
   "metadata": {},
   "outputs": [
    {
     "name": "stdout",
     "output_type": "stream",
     "text": [
      "50703\n"
     ]
    },
    {
     "data": {
      "text/plain": [
       "[['Cornwall'],\n",
       " ['Hertfordshire'],\n",
       " ['Aberdeenshire'],\n",
       " ['Essex'],\n",
       " ['Aberdeenshire']]"
      ]
     },
     "execution_count": 23,
     "metadata": {},
     "output_type": "execute_result"
    }
   ],
   "source": [
    "# Location\n",
    "location_list = []\n",
    "for elem in tree.iter(tag = 'Record'):\n",
    "    location_list.append([child.text for child in elem.findall(\"Location\")])\n",
    "    \n",
    "        \n",
    "print(len(location_list))\n",
    "location_list[:5]"
   ]
  },
  {
   "cell_type": "code",
   "execution_count": 24,
   "metadata": {},
   "outputs": [
    {
     "name": "stdout",
     "output_type": "stream",
     "text": [
      "50703\n"
     ]
    },
    {
     "data": {
      "text/plain": [
       "[[], [], [], [], []]"
      ]
     },
     "execution_count": 24,
     "metadata": {},
     "output_type": "execute_result"
    }
   ],
   "source": [
    "# Company\n",
    "company_list = []\n",
    "for elem in tree.iter(tag = 'Record'):\n",
    "    company_list.append([child.text for child in elem.findall(\"Company\")])\n",
    "    \n",
    "        \n",
    "print(len(company_list))\n",
    "company_list[:5]"
   ]
  },
  {
   "cell_type": "markdown",
   "metadata": {},
   "source": [
    "Ah, notice how above is blank? Thats because the first 5 listings (and many more) don't actually have a company value! It is blank, so this is not an error."
   ]
  },
  {
   "cell_type": "code",
   "execution_count": 25,
   "metadata": {},
   "outputs": [
    {
     "name": "stdout",
     "output_type": "stream",
     "text": [
      "50703\n"
     ]
    },
    {
     "data": {
      "text/plain": [
       "[['Healthcare & Nursing Jobs'],\n",
       " ['Healthcare & Nursing Jobs'],\n",
       " ['Healthcare & Nursing Jobs'],\n",
       " ['Healthcare & Nursing Jobs'],\n",
       " ['Healthcare & Nursing Jobs']]"
      ]
     },
     "execution_count": 25,
     "metadata": {},
     "output_type": "execute_result"
    }
   ],
   "source": [
    "# Category\n",
    "category_list = []\n",
    "for elem in tree.iter(tag = 'Record'):\n",
    "    category_list.append([child.text for child in elem.findall(\"Category\")])\n",
    "    \n",
    "        \n",
    "print(len(category_list))\n",
    "category_list[:5]"
   ]
  },
  {
   "cell_type": "code",
   "execution_count": 26,
   "metadata": {},
   "outputs": [
    {
     "name": "stdout",
     "output_type": "stream",
     "text": [
      "50703\n"
     ]
    },
    {
     "data": {
      "text/plain": [
       "[[], [], [], [], []]"
      ]
     },
     "execution_count": 26,
     "metadata": {},
     "output_type": "execute_result"
    }
   ],
   "source": [
    "# ContractType\n",
    "contractType_list = []\n",
    "for elem in tree.iter(tag = 'Record'):\n",
    "    contractType_list.append([child.text for child in elem.findall(\"ContractType\")])\n",
    "\n",
    "        \n",
    "print(len(contractType_list))\n",
    "contractType_list[:5]"
   ]
  },
  {
   "cell_type": "code",
   "execution_count": 27,
   "metadata": {},
   "outputs": [
    {
     "name": "stdout",
     "output_type": "stream",
     "text": [
      "50703\n"
     ]
    },
    {
     "data": {
      "text/plain": [
       "[[], [], [], [], []]"
      ]
     },
     "execution_count": 27,
     "metadata": {},
     "output_type": "execute_result"
    }
   ],
   "source": [
    "# ContractTime\n",
    "contractTime_list = []\n",
    "for elem in tree.iter(tag = 'Record'):\n",
    "    contractTime_list.append([child.text for child in elem.findall(\"ContractTime\")])\n",
    "\n",
    "        \n",
    "print(len(contractTime_list))\n",
    "contractTime_list[:5]"
   ]
  },
  {
   "cell_type": "markdown",
   "metadata": {},
   "source": [
    "Same thing with the company applies here. Not all listings have a contract start or end (likely because not all jobs are on a contract agreement)"
   ]
  },
  {
   "cell_type": "code",
   "execution_count": 28,
   "metadata": {},
   "outputs": [
    {
     "data": {
      "text/plain": [
       "['Id',\n",
       " 'Title',\n",
       " 'Source',\n",
       " 'Location',\n",
       " 'Company',\n",
       " 'Category',\n",
       " 'Salary',\n",
       " 'OpenDate',\n",
       " 'CloseDate',\n",
       " 'ContractType',\n",
       " 'ContractTime']"
      ]
     },
     "execution_count": 28,
     "metadata": {},
     "output_type": "execute_result"
    }
   ],
   "source": [
    "columns"
   ]
  },
  {
   "cell_type": "code",
   "execution_count": 29,
   "metadata": {},
   "outputs": [
    {
     "name": "stdout",
     "output_type": "stream",
     "text": [
      "50703\n"
     ]
    },
    {
     "data": {
      "text/plain": [
       "[['20120531T150000'],\n",
       " ['20131119T000000'],\n",
       " ['20131211T150000'],\n",
       " ['20120301T000000'],\n",
       " ['20131124T120000']]"
      ]
     },
     "execution_count": 29,
     "metadata": {},
     "output_type": "execute_result"
    }
   ],
   "source": [
    "# Open Date\n",
    "openDate_list = []\n",
    "for elem in tree.iter(tag = 'Record'):\n",
    "    openDate_list.append([child.attrib['Open'] for child in elem.findall(\"Date\")])\n",
    "\n",
    "        \n",
    "print(len(openDate_list))\n",
    "openDate_list[:5]"
   ]
  },
  {
   "cell_type": "code",
   "execution_count": 30,
   "metadata": {},
   "outputs": [
    {
     "name": "stdout",
     "output_type": "stream",
     "text": [
      "50703\n"
     ]
    },
    {
     "data": {
      "text/plain": [
       "[['20120614T150000'],\n",
       " ['20140118T000000'],\n",
       " ['20131225T150000'],\n",
       " ['20120315T000000'],\n",
       " ['20131208T120000']]"
      ]
     },
     "execution_count": 30,
     "metadata": {},
     "output_type": "execute_result"
    }
   ],
   "source": [
    "# Close Date\n",
    "closeDate_list = []\n",
    "for elem in tree.iter(tag = 'Record'):\n",
    "    closeDate_list.append([child.attrib['Close'] for child in elem.findall(\"Date\")])\n",
    "\n",
    "        \n",
    "print(len(closeDate_list))\n",
    "closeDate_list[:5]"
   ]
  },
  {
   "cell_type": "markdown",
   "metadata": {},
   "source": [
    "## Now we make the dataframe!"
   ]
  },
  {
   "cell_type": "code",
   "execution_count": 31,
   "metadata": {},
   "outputs": [],
   "source": [
    "# We have to tediously \"join\" all the dataframes seperately to get rid of the list brackets\n",
    "df = pd.DataFrame()"
   ]
  },
  {
   "cell_type": "code",
   "execution_count": 32,
   "metadata": {},
   "outputs": [],
   "source": [
    "# Making all of the columns a DataFrame\n",
    "df1 = pd.DataFrame(id_list, columns = ['Id'])\n",
    "df2 = pd.DataFrame(title_list, columns = ['Title'])\n",
    "df3 = pd.DataFrame(location_list, columns = ['Location'])\n",
    "df4 = pd.DataFrame(company_list, columns = ['Company'])\n",
    "df5 = pd.DataFrame(contractType_list, columns = ['ContractType'])\n",
    "df6 = pd.DataFrame(contractTime_list, columns = ['ContractTime'])\n",
    "df7 = pd.DataFrame(category_list, columns = ['Category'])\n",
    "df8 = pd.DataFrame(salary_list, columns = ['Salary'])\n",
    "df9 = pd.DataFrame(openDate_list, columns = ['OpenDate'])\n",
    "df10 = pd.DataFrame(closeDate_list, columns = ['CloseDate'])\n",
    "df11 = pd.DataFrame(source_list, columns = ['SourceName'])\n"
   ]
  },
  {
   "cell_type": "code",
   "execution_count": 33,
   "metadata": {
    "scrolled": true
   },
   "outputs": [],
   "source": [
    "# Now joining the DataFrame's\n",
    "df = pd.DataFrame()\n",
    "df = df1.join(df2)\n",
    "df = df.join(df3)\n",
    "df = df.join(df4)\n",
    "df = df.join(df5)\n",
    "df = df.join(df6)\n",
    "df = df.join(df7)\n",
    "df = df.join(df8)\n",
    "df = df.join(df9)\n",
    "df = df.join(df10)\n",
    "df = df.join(df11)\n"
   ]
  },
  {
   "cell_type": "code",
   "execution_count": 34,
   "metadata": {
    "scrolled": true
   },
   "outputs": [
    {
     "data": {
      "text/html": [
       "<div>\n",
       "<style scoped>\n",
       "    .dataframe tbody tr th:only-of-type {\n",
       "        vertical-align: middle;\n",
       "    }\n",
       "\n",
       "    .dataframe tbody tr th {\n",
       "        vertical-align: top;\n",
       "    }\n",
       "\n",
       "    .dataframe thead th {\n",
       "        text-align: right;\n",
       "    }\n",
       "</style>\n",
       "<table border=\"1\" class=\"dataframe\">\n",
       "  <thead>\n",
       "    <tr style=\"text-align: right;\">\n",
       "      <th></th>\n",
       "      <th>Id</th>\n",
       "      <th>Title</th>\n",
       "      <th>Location</th>\n",
       "      <th>Company</th>\n",
       "      <th>ContractType</th>\n",
       "      <th>ContractTime</th>\n",
       "      <th>Category</th>\n",
       "      <th>Salary</th>\n",
       "      <th>OpenDate</th>\n",
       "      <th>CloseDate</th>\n",
       "      <th>SourceName</th>\n",
       "    </tr>\n",
       "  </thead>\n",
       "  <tbody>\n",
       "    <tr>\n",
       "      <th>0</th>\n",
       "      <td>71338111</td>\n",
       "      <td>Allied Health Care Professional : Nurse Manage...</td>\n",
       "      <td>Cornwall</td>\n",
       "      <td>None</td>\n",
       "      <td>None</td>\n",
       "      <td>None</td>\n",
       "      <td>Healthcare &amp; Nursing Jobs</td>\n",
       "      <td>32000</td>\n",
       "      <td>20120531T150000</td>\n",
       "      <td>20120614T150000</td>\n",
       "      <td>jobs4medical.co.uk</td>\n",
       "    </tr>\n",
       "    <tr>\n",
       "      <th>1</th>\n",
       "      <td>71353268</td>\n",
       "      <td>Dental : Registered General Nurse Jobs in Stev...</td>\n",
       "      <td>Hertfordshire</td>\n",
       "      <td>None</td>\n",
       "      <td>None</td>\n",
       "      <td>None</td>\n",
       "      <td>Healthcare &amp; Nursing Jobs</td>\n",
       "      <td>22950</td>\n",
       "      <td>20131119T000000</td>\n",
       "      <td>20140118T000000</td>\n",
       "      <td>jobs4medical.co.uk</td>\n",
       "    </tr>\n",
       "    <tr>\n",
       "      <th>2</th>\n",
       "      <td>69117049</td>\n",
       "      <td>Allied Health Care Professional : Optometrists...</td>\n",
       "      <td>Aberdeenshire</td>\n",
       "      <td>None</td>\n",
       "      <td>None</td>\n",
       "      <td>None</td>\n",
       "      <td>Healthcare &amp; Nursing Jobs</td>\n",
       "      <td>None</td>\n",
       "      <td>20131211T150000</td>\n",
       "      <td>20131225T150000</td>\n",
       "      <td>jobs4medical.co.uk</td>\n",
       "    </tr>\n",
       "    <tr>\n",
       "      <th>3</th>\n",
       "      <td>68562480</td>\n",
       "      <td>Allied Health Care Professional : Care Home Ma...</td>\n",
       "      <td>Essex</td>\n",
       "      <td>None</td>\n",
       "      <td>None</td>\n",
       "      <td>None</td>\n",
       "      <td>Healthcare &amp; Nursing Jobs</td>\n",
       "      <td>50000</td>\n",
       "      <td>20120301T000000</td>\n",
       "      <td>20120315T000000</td>\n",
       "      <td>jobs4medical.co.uk</td>\n",
       "    </tr>\n",
       "    <tr>\n",
       "      <th>4</th>\n",
       "      <td>69783035</td>\n",
       "      <td>Allied Health Care Professional : Optical Clin...</td>\n",
       "      <td>Aberdeenshire</td>\n",
       "      <td>None</td>\n",
       "      <td>None</td>\n",
       "      <td>None</td>\n",
       "      <td>Healthcare &amp; Nursing Jobs</td>\n",
       "      <td>14500</td>\n",
       "      <td>20131124T120000</td>\n",
       "      <td>20131208T120000</td>\n",
       "      <td>jobs4medical.co.uk</td>\n",
       "    </tr>\n",
       "    <tr>\n",
       "      <th>...</th>\n",
       "      <td>...</td>\n",
       "      <td>...</td>\n",
       "      <td>...</td>\n",
       "      <td>...</td>\n",
       "      <td>...</td>\n",
       "      <td>...</td>\n",
       "      <td>...</td>\n",
       "      <td>...</td>\n",
       "      <td>...</td>\n",
       "      <td>...</td>\n",
       "      <td>...</td>\n",
       "    </tr>\n",
       "    <tr>\n",
       "      <th>50698</th>\n",
       "      <td>68704692</td>\n",
       "      <td>Graduate SoftwareWeb Developer</td>\n",
       "      <td>London</td>\n",
       "      <td>UNKNOWN   auto added by vacany import</td>\n",
       "      <td>N/A</td>\n",
       "      <td>N/A</td>\n",
       "      <td>IT Jobs</td>\n",
       "      <td>25000</td>\n",
       "      <td>20120112T120000</td>\n",
       "      <td>20120312T120000</td>\n",
       "      <td>grb.uk.com</td>\n",
       "    </tr>\n",
       "    <tr>\n",
       "      <th>50699</th>\n",
       "      <td>70139229</td>\n",
       "      <td>Health &amp; Social Care Tutor/Assessor  Bristol</td>\n",
       "      <td>UK</td>\n",
       "      <td>Pursuit Training Ltd</td>\n",
       "      <td>None</td>\n",
       "      <td>permanent</td>\n",
       "      <td>Teaching Jobs</td>\n",
       "      <td>18000</td>\n",
       "      <td>20120811T000000</td>\n",
       "      <td>20121010T000000</td>\n",
       "      <td>cvjobstore.com</td>\n",
       "    </tr>\n",
       "    <tr>\n",
       "      <th>50700</th>\n",
       "      <td>70960558</td>\n",
       "      <td>Principal Air Consultant  Agriculture &amp; Enviro...</td>\n",
       "      <td>London</td>\n",
       "      <td>W5 Recruitment</td>\n",
       "      <td>full_time</td>\n",
       "      <td>permanent</td>\n",
       "      <td>Engineering Jobs</td>\n",
       "      <td>52500</td>\n",
       "      <td>20120729T150000</td>\n",
       "      <td>20120828T150000</td>\n",
       "      <td>TotallyExec</td>\n",
       "    </tr>\n",
       "    <tr>\n",
       "      <th>50701</th>\n",
       "      <td>72162924</td>\n",
       "      <td>Process Engineer  All levels</td>\n",
       "      <td>Surrey</td>\n",
       "      <td>Executive Recruitment Services</td>\n",
       "      <td>full_time</td>\n",
       "      <td>permanent</td>\n",
       "      <td>Engineering Jobs</td>\n",
       "      <td>47500</td>\n",
       "      <td>20120309T150000</td>\n",
       "      <td>20120607T150000</td>\n",
       "      <td>TotallyExec</td>\n",
       "    </tr>\n",
       "    <tr>\n",
       "      <th>50702</th>\n",
       "      <td>66372417</td>\n",
       "      <td>Graduate Engineer (Water industry)</td>\n",
       "      <td>South Lanarkshire</td>\n",
       "      <td>Carrington West Limited</td>\n",
       "      <td>full_time</td>\n",
       "      <td>contract</td>\n",
       "      <td>Engineering Jobs</td>\n",
       "      <td>20000</td>\n",
       "      <td>20130119T000000</td>\n",
       "      <td>20130419T000000</td>\n",
       "      <td>thegraduate.co.uk</td>\n",
       "    </tr>\n",
       "  </tbody>\n",
       "</table>\n",
       "<p>50703 rows × 11 columns</p>\n",
       "</div>"
      ],
      "text/plain": [
       "             Id                                              Title  \\\n",
       "0      71338111  Allied Health Care Professional : Nurse Manage...   \n",
       "1      71353268  Dental : Registered General Nurse Jobs in Stev...   \n",
       "2      69117049  Allied Health Care Professional : Optometrists...   \n",
       "3      68562480  Allied Health Care Professional : Care Home Ma...   \n",
       "4      69783035  Allied Health Care Professional : Optical Clin...   \n",
       "...         ...                                                ...   \n",
       "50698  68704692                     Graduate SoftwareWeb Developer   \n",
       "50699  70139229       Health & Social Care Tutor/Assessor  Bristol   \n",
       "50700  70960558  Principal Air Consultant  Agriculture & Enviro...   \n",
       "50701  72162924                       Process Engineer  All levels   \n",
       "50702  66372417                 Graduate Engineer (Water industry)   \n",
       "\n",
       "                Location                                Company ContractType  \\\n",
       "0               Cornwall                                   None         None   \n",
       "1          Hertfordshire                                   None         None   \n",
       "2          Aberdeenshire                                   None         None   \n",
       "3                  Essex                                   None         None   \n",
       "4          Aberdeenshire                                   None         None   \n",
       "...                  ...                                    ...          ...   \n",
       "50698             London  UNKNOWN   auto added by vacany import          N/A   \n",
       "50699                 UK                   Pursuit Training Ltd         None   \n",
       "50700             London                         W5 Recruitment    full_time   \n",
       "50701             Surrey         Executive Recruitment Services    full_time   \n",
       "50702  South Lanarkshire                Carrington West Limited    full_time   \n",
       "\n",
       "      ContractTime                   Category Salary         OpenDate  \\\n",
       "0             None  Healthcare & Nursing Jobs  32000  20120531T150000   \n",
       "1             None  Healthcare & Nursing Jobs  22950  20131119T000000   \n",
       "2             None  Healthcare & Nursing Jobs   None  20131211T150000   \n",
       "3             None  Healthcare & Nursing Jobs  50000  20120301T000000   \n",
       "4             None  Healthcare & Nursing Jobs  14500  20131124T120000   \n",
       "...            ...                        ...    ...              ...   \n",
       "50698          N/A                    IT Jobs  25000  20120112T120000   \n",
       "50699    permanent              Teaching Jobs  18000  20120811T000000   \n",
       "50700    permanent           Engineering Jobs  52500  20120729T150000   \n",
       "50701    permanent           Engineering Jobs  47500  20120309T150000   \n",
       "50702     contract           Engineering Jobs  20000  20130119T000000   \n",
       "\n",
       "             CloseDate          SourceName  \n",
       "0      20120614T150000  jobs4medical.co.uk  \n",
       "1      20140118T000000  jobs4medical.co.uk  \n",
       "2      20131225T150000  jobs4medical.co.uk  \n",
       "3      20120315T000000  jobs4medical.co.uk  \n",
       "4      20131208T120000  jobs4medical.co.uk  \n",
       "...                ...                 ...  \n",
       "50698  20120312T120000          grb.uk.com  \n",
       "50699  20121010T000000      cvjobstore.com  \n",
       "50700  20120828T150000         TotallyExec  \n",
       "50701  20120607T150000         TotallyExec  \n",
       "50702  20130419T000000   thegraduate.co.uk  \n",
       "\n",
       "[50703 rows x 11 columns]"
      ]
     },
     "execution_count": 34,
     "metadata": {},
     "output_type": "execute_result"
    }
   ],
   "source": [
    "df"
   ]
  },
  {
   "cell_type": "code",
   "execution_count": 35,
   "metadata": {},
   "outputs": [
    {
     "data": {
      "text/plain": [
       "(50703, 11)"
      ]
     },
     "execution_count": 35,
     "metadata": {},
     "output_type": "execute_result"
    }
   ],
   "source": [
    "df.shape"
   ]
  },
  {
   "cell_type": "code",
   "execution_count": 36,
   "metadata": {},
   "outputs": [
    {
     "name": "stdout",
     "output_type": "stream",
     "text": [
      "<class 'pandas.core.frame.DataFrame'>\n",
      "RangeIndex: 50703 entries, 0 to 50702\n",
      "Data columns (total 11 columns):\n",
      " #   Column        Non-Null Count  Dtype \n",
      "---  ------        --------------  ----- \n",
      " 0   Id            50703 non-null  object\n",
      " 1   Title         50703 non-null  object\n",
      " 2   Location      50703 non-null  object\n",
      " 3   Company       49088 non-null  object\n",
      " 4   ContractType  36034 non-null  object\n",
      " 5   ContractTime  47476 non-null  object\n",
      " 6   Category      50703 non-null  object\n",
      " 7   Salary        50393 non-null  object\n",
      " 8   OpenDate      50703 non-null  object\n",
      " 9   CloseDate     50703 non-null  object\n",
      " 10  SourceName    50703 non-null  object\n",
      "dtypes: object(11)\n",
      "memory usage: 4.3+ MB\n"
     ]
    }
   ],
   "source": [
    "df.info()"
   ]
  },
  {
   "cell_type": "markdown",
   "metadata": {},
   "source": [
    "Amazing! The DataFrame is now set up! All 50703 rows of data from the XML are now in the DataFrame, and 11 columns is what we want!"
   ]
  },
  {
   "cell_type": "markdown",
   "metadata": {},
   "source": [
    "Now time to start clensing... I already know we need to get rid of the \"none\" and \"N/A\" values and make it into true nulls"
   ]
  },
  {
   "cell_type": "markdown",
   "metadata": {},
   "source": [
    "......"
   ]
  },
  {
   "cell_type": "markdown",
   "metadata": {},
   "source": [
    "## Task 2. Auditing and cleansing the loaded data\n",
    "\n",
    "Here, you should write your own code to audit data, identify data problems and to fix them. You are also required to record the errors found and fixings in an error list.\n",
    "\n",
    "<span style=\"color: red\"> You might have complex notebook structure in this section, please feel free to create your own notebook structure. </span>"
   ]
  },
  {
   "cell_type": "code",
   "execution_count": 37,
   "metadata": {
    "scrolled": false
   },
   "outputs": [],
   "source": [
    "# Code to audit data"
   ]
  },
  {
   "cell_type": "markdown",
   "metadata": {},
   "source": [
    "## Creating an Error Recorder\n",
    "Lets first create our error recorder.\n",
    "This will be a DataFrame (eventually csv) of 7 columns:\n",
    "- `indexOfdf`\n",
    "- `Id`\n",
    "- `ColumnName`\n",
    "- `Original`\n",
    "- `Modified`\n",
    "- `ErrorType`\n",
    "- `Fixing`"
   ]
  },
  {
   "cell_type": "code",
   "execution_count": 38,
   "metadata": {},
   "outputs": [
    {
     "data": {
      "text/html": [
       "<div>\n",
       "<style scoped>\n",
       "    .dataframe tbody tr th:only-of-type {\n",
       "        vertical-align: middle;\n",
       "    }\n",
       "\n",
       "    .dataframe tbody tr th {\n",
       "        vertical-align: top;\n",
       "    }\n",
       "\n",
       "    .dataframe thead th {\n",
       "        text-align: right;\n",
       "    }\n",
       "</style>\n",
       "<table border=\"1\" class=\"dataframe\">\n",
       "  <thead>\n",
       "    <tr style=\"text-align: right;\">\n",
       "      <th></th>\n",
       "      <th>indexOfdf</th>\n",
       "      <th>Id</th>\n",
       "      <th>ColumnName</th>\n",
       "      <th>Original</th>\n",
       "      <th>Modified</th>\n",
       "      <th>ErrorType</th>\n",
       "      <th>Fixing</th>\n",
       "    </tr>\n",
       "  </thead>\n",
       "  <tbody>\n",
       "  </tbody>\n",
       "</table>\n",
       "</div>"
      ],
      "text/plain": [
       "Empty DataFrame\n",
       "Columns: [indexOfdf, Id, ColumnName, Original, Modified, ErrorType, Fixing]\n",
       "Index: []"
      ]
     },
     "execution_count": 38,
     "metadata": {},
     "output_type": "execute_result"
    }
   ],
   "source": [
    "# create and error recorder (i.e. the erlist)\n",
    "itemlist = ['indexOfdf','Id','ColumnName', 'Original', 'Modified', 'ErrorType','Fixing']\n",
    "erlist = pd.DataFrame(columns=itemlist)\n",
    "erlist"
   ]
  },
  {
   "cell_type": "code",
   "execution_count": 39,
   "metadata": {},
   "outputs": [],
   "source": [
    "# update error list by attributes\n",
    "def updateErlist(indexOfdf, Id, ColumnName, Original, Modified, ErrorType, Fixing):\n",
    "    errItem=[indexOfdf, Id,ColumnName, Original, Modified, ErrorType,Fixing]\n",
    "    erlist.loc[len(erlist)]=errItem"
   ]
  },
  {
   "cell_type": "code",
   "execution_count": 40,
   "metadata": {},
   "outputs": [
    {
     "data": {
      "text/html": [
       "<div>\n",
       "<style scoped>\n",
       "    .dataframe tbody tr th:only-of-type {\n",
       "        vertical-align: middle;\n",
       "    }\n",
       "\n",
       "    .dataframe tbody tr th {\n",
       "        vertical-align: top;\n",
       "    }\n",
       "\n",
       "    .dataframe thead th {\n",
       "        text-align: right;\n",
       "    }\n",
       "</style>\n",
       "<table border=\"1\" class=\"dataframe\">\n",
       "  <thead>\n",
       "    <tr style=\"text-align: right;\">\n",
       "      <th></th>\n",
       "      <th>indexOfdf</th>\n",
       "      <th>Id</th>\n",
       "      <th>ColumnName</th>\n",
       "      <th>Original</th>\n",
       "      <th>Modified</th>\n",
       "      <th>ErrorType</th>\n",
       "      <th>Fixing</th>\n",
       "    </tr>\n",
       "  </thead>\n",
       "  <tbody>\n",
       "  </tbody>\n",
       "</table>\n",
       "</div>"
      ],
      "text/plain": [
       "Empty DataFrame\n",
       "Columns: [indexOfdf, Id, ColumnName, Original, Modified, ErrorType, Fixing]\n",
       "Index: []"
      ]
     },
     "execution_count": 40,
     "metadata": {},
     "output_type": "execute_result"
    }
   ],
   "source": [
    "erlist"
   ]
  },
  {
   "cell_type": "code",
   "execution_count": 41,
   "metadata": {},
   "outputs": [
    {
     "data": {
      "text/plain": [
       "RangeIndex(start=0, stop=50703, step=1)"
      ]
     },
     "execution_count": 41,
     "metadata": {},
     "output_type": "execute_result"
    }
   ],
   "source": [
    "indices = df.index\n",
    "indices"
   ]
  },
  {
   "cell_type": "markdown",
   "metadata": {},
   "source": [
    "# Summary of clensing tasks \n",
    "\n",
    "1. Replace Missing Values (N/A + Empty Strings + '-' + Single Whitespace) correctly\n",
    "1. (OPTIONAL to assignment for Title col; Commented out) Remove Typos in columns\n",
    "1. Remove incorrect Interior (inside) and Exterior (leading and trailing) Whitespaces\n",
    "1. Set Columns to correct DataType\n",
    "1. Remove Duplicates\n",
    "1. Dealing with Numeric Outliers\n",
    "1. Checking for Valid String Values\n",
    "1. Check Integrity Constraints\n",
    "1. Fill in missing numeric values"
   ]
  },
  {
   "cell_type": "markdown",
   "metadata": {},
   "source": [
    "## Step 1: Replace Missing Values (N/A + Empty Strings + '-' + Single Whitespace) correctly"
   ]
  },
  {
   "cell_type": "code",
   "execution_count": 42,
   "metadata": {},
   "outputs": [
    {
     "data": {
      "text/plain": [
       "Index(['Id', 'Title', 'Location', 'Company', 'ContractType', 'ContractTime',\n",
       "       'Category', 'Salary', 'OpenDate', 'CloseDate', 'SourceName'],\n",
       "      dtype='object')"
      ]
     },
     "execution_count": 42,
     "metadata": {},
     "output_type": "execute_result"
    }
   ],
   "source": [
    "# Setting mask where it only takes the string columns\n",
    "df_obj = df.select_dtypes(['object'])\n",
    "str_col = df_obj.columns\n",
    "str_col"
   ]
  },
  {
   "cell_type": "markdown",
   "metadata": {},
   "source": [
    "### 1.1 Lets find the columns with single whitespaces ' ' "
   ]
  },
  {
   "cell_type": "code",
   "execution_count": 43,
   "metadata": {},
   "outputs": [
    {
     "name": "stdout",
     "output_type": "stream",
     "text": [
      "Count of single whitespace in cells\n",
      "Id : 0\n",
      "Title : 39\n",
      "Location : 0\n",
      "Company : 377\n",
      "ContractType : 10300\n",
      "ContractTime : 3872\n",
      "Category : 0\n",
      "Salary : 726\n",
      "OpenDate : 0\n",
      "CloseDate : 0\n",
      "SourceName : 0\n"
     ]
    }
   ],
   "source": [
    "# Shows count for each column\n",
    "print('Count of single whitespace in cells')\n",
    "for i in str_col:\n",
    "    print(i,':',(df[str_col][i].str.match(r'(\\s)') == True).sum())"
   ]
  },
  {
   "cell_type": "code",
   "execution_count": 44,
   "metadata": {},
   "outputs": [],
   "source": [
    "# Alright lets work on recording this in the error list"
   ]
  },
  {
   "cell_type": "code",
   "execution_count": 45,
   "metadata": {},
   "outputs": [],
   "source": [
    "# Defining new error index for each of the columns\n",
    "err_index1 = df[df['Company'].str.match(r'(\\s)') == True].index\n",
    "err_index2 = df[df['ContractType'].str.match(r'(\\s)') == True].index\n",
    "err_index3 = df[df['ContractTime'].str.match(r'(\\s)') == True].index\n",
    "err_index4 = df[df['Salary'].str.match(r'(\\s)') == True].index"
   ]
  },
  {
   "cell_type": "markdown",
   "metadata": {},
   "source": [
    "Note: Company, ContractType, ContractTime will be set as 'non-specified' if empty!\n",
    "\n",
    "However, Salary will be set to 00.00"
   ]
  },
  {
   "cell_type": "code",
   "execution_count": 46,
   "metadata": {},
   "outputs": [],
   "source": [
    "# Error log for all\n",
    "for i in err_index1:\n",
    "    updateErlist(i, df.loc[i]['Id'], 'Company', df.loc[i]['Company'], df.loc[i]['Company'].replace(' ','non-specified'), 'Cell is Single Whitespace', \"Used .replace() to change single whitespace to 'non-specified'\")\n",
    "for i in err_index2:\n",
    "    updateErlist(i, df.loc[i]['Id'], 'ContractType', df.loc[i]['ContractType'], df.loc[i]['ContractType'].replace(' ','non-specified'), 'Cell is Single Whitespace', \"Used .replace() to change single whitespace to 'non-specified'\")\n",
    "for i in err_index3:\n",
    "    updateErlist(i, df.loc[i]['Id'], 'ContractTime', df.loc[i]['ContractTime'], df.loc[i]['ContractTime'].replace(' ','non-specified'), 'Cell is Single Whitespace', \"Used .replace() to change single whitespace to 'non-specified'\")\n",
    "for i in err_index4:\n",
    "    updateErlist(i, df.loc[i]['Id'], 'Salary', df.loc[i]['Salary'], df.loc[i]['Salary'].replace(' ','0'), 'Cell is Single Whitespace', \"Used .replace() to change single whitespace to '0.00'\")"
   ]
  },
  {
   "cell_type": "code",
   "execution_count": 47,
   "metadata": {},
   "outputs": [
    {
     "data": {
      "text/html": [
       "<div>\n",
       "<style scoped>\n",
       "    .dataframe tbody tr th:only-of-type {\n",
       "        vertical-align: middle;\n",
       "    }\n",
       "\n",
       "    .dataframe tbody tr th {\n",
       "        vertical-align: top;\n",
       "    }\n",
       "\n",
       "    .dataframe thead th {\n",
       "        text-align: right;\n",
       "    }\n",
       "</style>\n",
       "<table border=\"1\" class=\"dataframe\">\n",
       "  <thead>\n",
       "    <tr style=\"text-align: right;\">\n",
       "      <th></th>\n",
       "      <th>indexOfdf</th>\n",
       "      <th>Id</th>\n",
       "      <th>ColumnName</th>\n",
       "      <th>Original</th>\n",
       "      <th>Modified</th>\n",
       "      <th>ErrorType</th>\n",
       "      <th>Fixing</th>\n",
       "    </tr>\n",
       "  </thead>\n",
       "  <tbody>\n",
       "    <tr>\n",
       "      <th>15255</th>\n",
       "      <td>47389</td>\n",
       "      <td>68550567</td>\n",
       "      <td>Salary</td>\n",
       "      <td></td>\n",
       "      <td>0</td>\n",
       "      <td>Cell is Single Whitespace</td>\n",
       "      <td>Used .replace() to change single whitespace to...</td>\n",
       "    </tr>\n",
       "    <tr>\n",
       "      <th>15256</th>\n",
       "      <td>47393</td>\n",
       "      <td>68373618</td>\n",
       "      <td>Salary</td>\n",
       "      <td></td>\n",
       "      <td>0</td>\n",
       "      <td>Cell is Single Whitespace</td>\n",
       "      <td>Used .replace() to change single whitespace to...</td>\n",
       "    </tr>\n",
       "    <tr>\n",
       "      <th>15257</th>\n",
       "      <td>47397</td>\n",
       "      <td>69690255</td>\n",
       "      <td>Salary</td>\n",
       "      <td></td>\n",
       "      <td>0</td>\n",
       "      <td>Cell is Single Whitespace</td>\n",
       "      <td>Used .replace() to change single whitespace to...</td>\n",
       "    </tr>\n",
       "    <tr>\n",
       "      <th>15258</th>\n",
       "      <td>48584</td>\n",
       "      <td>68567674</td>\n",
       "      <td>Salary</td>\n",
       "      <td></td>\n",
       "      <td>0</td>\n",
       "      <td>Cell is Single Whitespace</td>\n",
       "      <td>Used .replace() to change single whitespace to...</td>\n",
       "    </tr>\n",
       "    <tr>\n",
       "      <th>15259</th>\n",
       "      <td>48617</td>\n",
       "      <td>71352534</td>\n",
       "      <td>Salary</td>\n",
       "      <td></td>\n",
       "      <td>0</td>\n",
       "      <td>Cell is Single Whitespace</td>\n",
       "      <td>Used .replace() to change single whitespace to...</td>\n",
       "    </tr>\n",
       "    <tr>\n",
       "      <th>15260</th>\n",
       "      <td>48638</td>\n",
       "      <td>66577011</td>\n",
       "      <td>Salary</td>\n",
       "      <td></td>\n",
       "      <td>0</td>\n",
       "      <td>Cell is Single Whitespace</td>\n",
       "      <td>Used .replace() to change single whitespace to...</td>\n",
       "    </tr>\n",
       "    <tr>\n",
       "      <th>15261</th>\n",
       "      <td>49149</td>\n",
       "      <td>70165970</td>\n",
       "      <td>Salary</td>\n",
       "      <td></td>\n",
       "      <td>0</td>\n",
       "      <td>Cell is Single Whitespace</td>\n",
       "      <td>Used .replace() to change single whitespace to...</td>\n",
       "    </tr>\n",
       "    <tr>\n",
       "      <th>15262</th>\n",
       "      <td>49189</td>\n",
       "      <td>71555636</td>\n",
       "      <td>Salary</td>\n",
       "      <td></td>\n",
       "      <td>0</td>\n",
       "      <td>Cell is Single Whitespace</td>\n",
       "      <td>Used .replace() to change single whitespace to...</td>\n",
       "    </tr>\n",
       "    <tr>\n",
       "      <th>15263</th>\n",
       "      <td>49194</td>\n",
       "      <td>68993651</td>\n",
       "      <td>Salary</td>\n",
       "      <td></td>\n",
       "      <td>0</td>\n",
       "      <td>Cell is Single Whitespace</td>\n",
       "      <td>Used .replace() to change single whitespace to...</td>\n",
       "    </tr>\n",
       "    <tr>\n",
       "      <th>15264</th>\n",
       "      <td>49247</td>\n",
       "      <td>68993672</td>\n",
       "      <td>Salary</td>\n",
       "      <td></td>\n",
       "      <td>0</td>\n",
       "      <td>Cell is Single Whitespace</td>\n",
       "      <td>Used .replace() to change single whitespace to...</td>\n",
       "    </tr>\n",
       "    <tr>\n",
       "      <th>15265</th>\n",
       "      <td>49254</td>\n",
       "      <td>70165988</td>\n",
       "      <td>Salary</td>\n",
       "      <td></td>\n",
       "      <td>0</td>\n",
       "      <td>Cell is Single Whitespace</td>\n",
       "      <td>Used .replace() to change single whitespace to...</td>\n",
       "    </tr>\n",
       "    <tr>\n",
       "      <th>15266</th>\n",
       "      <td>49277</td>\n",
       "      <td>70760055</td>\n",
       "      <td>Salary</td>\n",
       "      <td></td>\n",
       "      <td>0</td>\n",
       "      <td>Cell is Single Whitespace</td>\n",
       "      <td>Used .replace() to change single whitespace to...</td>\n",
       "    </tr>\n",
       "    <tr>\n",
       "      <th>15267</th>\n",
       "      <td>49284</td>\n",
       "      <td>72118538</td>\n",
       "      <td>Salary</td>\n",
       "      <td></td>\n",
       "      <td>0</td>\n",
       "      <td>Cell is Single Whitespace</td>\n",
       "      <td>Used .replace() to change single whitespace to...</td>\n",
       "    </tr>\n",
       "    <tr>\n",
       "      <th>15268</th>\n",
       "      <td>49313</td>\n",
       "      <td>71109981</td>\n",
       "      <td>Salary</td>\n",
       "      <td></td>\n",
       "      <td>0</td>\n",
       "      <td>Cell is Single Whitespace</td>\n",
       "      <td>Used .replace() to change single whitespace to...</td>\n",
       "    </tr>\n",
       "    <tr>\n",
       "      <th>15269</th>\n",
       "      <td>49319</td>\n",
       "      <td>69072620</td>\n",
       "      <td>Salary</td>\n",
       "      <td></td>\n",
       "      <td>0</td>\n",
       "      <td>Cell is Single Whitespace</td>\n",
       "      <td>Used .replace() to change single whitespace to...</td>\n",
       "    </tr>\n",
       "    <tr>\n",
       "      <th>15270</th>\n",
       "      <td>49337</td>\n",
       "      <td>68379109</td>\n",
       "      <td>Salary</td>\n",
       "      <td></td>\n",
       "      <td>0</td>\n",
       "      <td>Cell is Single Whitespace</td>\n",
       "      <td>Used .replace() to change single whitespace to...</td>\n",
       "    </tr>\n",
       "    <tr>\n",
       "      <th>15271</th>\n",
       "      <td>49358</td>\n",
       "      <td>71808624</td>\n",
       "      <td>Salary</td>\n",
       "      <td></td>\n",
       "      <td>0</td>\n",
       "      <td>Cell is Single Whitespace</td>\n",
       "      <td>Used .replace() to change single whitespace to...</td>\n",
       "    </tr>\n",
       "    <tr>\n",
       "      <th>15272</th>\n",
       "      <td>50231</td>\n",
       "      <td>69563949</td>\n",
       "      <td>Salary</td>\n",
       "      <td></td>\n",
       "      <td>0</td>\n",
       "      <td>Cell is Single Whitespace</td>\n",
       "      <td>Used .replace() to change single whitespace to...</td>\n",
       "    </tr>\n",
       "    <tr>\n",
       "      <th>15273</th>\n",
       "      <td>50253</td>\n",
       "      <td>66700221</td>\n",
       "      <td>Salary</td>\n",
       "      <td></td>\n",
       "      <td>0</td>\n",
       "      <td>Cell is Single Whitespace</td>\n",
       "      <td>Used .replace() to change single whitespace to...</td>\n",
       "    </tr>\n",
       "    <tr>\n",
       "      <th>15274</th>\n",
       "      <td>50644</td>\n",
       "      <td>70570237</td>\n",
       "      <td>Salary</td>\n",
       "      <td></td>\n",
       "      <td>0</td>\n",
       "      <td>Cell is Single Whitespace</td>\n",
       "      <td>Used .replace() to change single whitespace to...</td>\n",
       "    </tr>\n",
       "  </tbody>\n",
       "</table>\n",
       "</div>"
      ],
      "text/plain": [
       "      indexOfdf        Id ColumnName Original Modified  \\\n",
       "15255     47389  68550567     Salary                 0   \n",
       "15256     47393  68373618     Salary                 0   \n",
       "15257     47397  69690255     Salary                 0   \n",
       "15258     48584  68567674     Salary                 0   \n",
       "15259     48617  71352534     Salary                 0   \n",
       "15260     48638  66577011     Salary                 0   \n",
       "15261     49149  70165970     Salary                 0   \n",
       "15262     49189  71555636     Salary                 0   \n",
       "15263     49194  68993651     Salary                 0   \n",
       "15264     49247  68993672     Salary                 0   \n",
       "15265     49254  70165988     Salary                 0   \n",
       "15266     49277  70760055     Salary                 0   \n",
       "15267     49284  72118538     Salary                 0   \n",
       "15268     49313  71109981     Salary                 0   \n",
       "15269     49319  69072620     Salary                 0   \n",
       "15270     49337  68379109     Salary                 0   \n",
       "15271     49358  71808624     Salary                 0   \n",
       "15272     50231  69563949     Salary                 0   \n",
       "15273     50253  66700221     Salary                 0   \n",
       "15274     50644  70570237     Salary                 0   \n",
       "\n",
       "                       ErrorType  \\\n",
       "15255  Cell is Single Whitespace   \n",
       "15256  Cell is Single Whitespace   \n",
       "15257  Cell is Single Whitespace   \n",
       "15258  Cell is Single Whitespace   \n",
       "15259  Cell is Single Whitespace   \n",
       "15260  Cell is Single Whitespace   \n",
       "15261  Cell is Single Whitespace   \n",
       "15262  Cell is Single Whitespace   \n",
       "15263  Cell is Single Whitespace   \n",
       "15264  Cell is Single Whitespace   \n",
       "15265  Cell is Single Whitespace   \n",
       "15266  Cell is Single Whitespace   \n",
       "15267  Cell is Single Whitespace   \n",
       "15268  Cell is Single Whitespace   \n",
       "15269  Cell is Single Whitespace   \n",
       "15270  Cell is Single Whitespace   \n",
       "15271  Cell is Single Whitespace   \n",
       "15272  Cell is Single Whitespace   \n",
       "15273  Cell is Single Whitespace   \n",
       "15274  Cell is Single Whitespace   \n",
       "\n",
       "                                                  Fixing  \n",
       "15255  Used .replace() to change single whitespace to...  \n",
       "15256  Used .replace() to change single whitespace to...  \n",
       "15257  Used .replace() to change single whitespace to...  \n",
       "15258  Used .replace() to change single whitespace to...  \n",
       "15259  Used .replace() to change single whitespace to...  \n",
       "15260  Used .replace() to change single whitespace to...  \n",
       "15261  Used .replace() to change single whitespace to...  \n",
       "15262  Used .replace() to change single whitespace to...  \n",
       "15263  Used .replace() to change single whitespace to...  \n",
       "15264  Used .replace() to change single whitespace to...  \n",
       "15265  Used .replace() to change single whitespace to...  \n",
       "15266  Used .replace() to change single whitespace to...  \n",
       "15267  Used .replace() to change single whitespace to...  \n",
       "15268  Used .replace() to change single whitespace to...  \n",
       "15269  Used .replace() to change single whitespace to...  \n",
       "15270  Used .replace() to change single whitespace to...  \n",
       "15271  Used .replace() to change single whitespace to...  \n",
       "15272  Used .replace() to change single whitespace to...  \n",
       "15273  Used .replace() to change single whitespace to...  \n",
       "15274  Used .replace() to change single whitespace to...  "
      ]
     },
     "execution_count": 47,
     "metadata": {},
     "output_type": "execute_result"
    }
   ],
   "source": [
    "erlist.tail(20)"
   ]
  },
  {
   "cell_type": "code",
   "execution_count": 48,
   "metadata": {},
   "outputs": [],
   "source": [
    "for i in err_index1:\n",
    "    df['Company'] = df['Company'].replace(' ', 'non-specified')\n",
    "for i in err_index2:\n",
    "    df['ContractType'] = df['ContractType'].replace(' ', 'non-specified')\n",
    "for i in err_index3:\n",
    "    df['ContractTime'] = df['ContractTime'].replace(' ', 'non-specified')\n",
    "for i in err_index4:\n",
    "    df['Salary'] = df['Salary'].replace(' ', '00')"
   ]
  },
  {
   "cell_type": "code",
   "execution_count": 49,
   "metadata": {},
   "outputs": [
    {
     "name": "stdout",
     "output_type": "stream",
     "text": [
      "Count of single whitespace in cells\n",
      "Id : 0\n",
      "Title : 39\n",
      "Location : 0\n",
      "Company : 0\n",
      "ContractType : 0\n",
      "ContractTime : 0\n",
      "Category : 0\n",
      "Salary : 0\n",
      "OpenDate : 0\n",
      "CloseDate : 0\n",
      "SourceName : 0\n"
     ]
    }
   ],
   "source": [
    "# Shows count for each column\n",
    "print('Count of single whitespace in cells')\n",
    "for i in str_col:\n",
    "    print(i,':',(df[str_col][i].str.match(r'(\\s)') == True).sum())"
   ]
  },
  {
   "cell_type": "markdown",
   "metadata": {},
   "source": [
    "Nice it works! \n",
    "\n",
    "### 1.2 Lets move onto the other type: 'N/A'"
   ]
  },
  {
   "cell_type": "code",
   "execution_count": 50,
   "metadata": {},
   "outputs": [
    {
     "name": "stdout",
     "output_type": "stream",
     "text": [
      "Count of N/A in cells\n",
      "Id : 0\n",
      "Title : 0\n",
      "Location : 0\n",
      "Company : 1327\n",
      "ContractType : 8530\n",
      "ContractTime : 2783\n",
      "Category : 0\n",
      "Salary : 474\n",
      "OpenDate : 0\n",
      "CloseDate : 0\n",
      "SourceName : 0\n"
     ]
    }
   ],
   "source": [
    "# Regex search for variations of N/A\n",
    "print('Count of N/A in cells')\n",
    "for i in str_col:\n",
    "    print(i,':',(df[str_col][i].str.match(r'^([nN]/?[aA])$') == True).sum())"
   ]
  },
  {
   "cell_type": "code",
   "execution_count": 51,
   "metadata": {},
   "outputs": [
    {
     "name": "stdout",
     "output_type": "stream",
     "text": [
      "Count of N/A in cells\n",
      "Id : 0\n",
      "Title : 0\n",
      "Location : 0\n",
      "Company : 1327\n",
      "ContractType : 8530\n",
      "ContractTime : 2783\n",
      "Category : 0\n",
      "Salary : 474\n",
      "OpenDate : 0\n",
      "CloseDate : 0\n",
      "SourceName : 0\n"
     ]
    }
   ],
   "source": [
    "# Exact N/A\n",
    "print('Count of N/A in cells')\n",
    "for i in str_col:\n",
    "    print(i,':',(df[str_col][i].str.match(r'(N/A)') == True).sum())"
   ]
  },
  {
   "cell_type": "markdown",
   "metadata": {},
   "source": [
    "So looks like there is only 1 N/A string and that is \"N/A\". We can simplify by skipping regex and using exact replace."
   ]
  },
  {
   "cell_type": "code",
   "execution_count": 52,
   "metadata": {},
   "outputs": [
    {
     "data": {
      "text/plain": [
       "'N/A'"
      ]
     },
     "execution_count": 52,
     "metadata": {},
     "output_type": "execute_result"
    }
   ],
   "source": [
    "# Setting Error index\n",
    "err_index1 = indices[df['ContractType'] == 'N/A']\n",
    "err_index2 = indices[df['ContractTime'] == 'N/A']\n",
    "err_index3 = indices[df['Salary'] == 'N/A']\n",
    "err_index4 = indices[df['Company'] == 'N/A']\n",
    "df.loc[225]['ContractType']"
   ]
  },
  {
   "cell_type": "code",
   "execution_count": 53,
   "metadata": {},
   "outputs": [],
   "source": [
    "# Making the Error List\n",
    "# Error log for all\n",
    "for i in err_index1:\n",
    "    updateErlist(i, df.loc[i]['Id'], 'ContractType', df.loc[i]['ContractType'], df.loc[i]['ContractType'].replace('N/A','non-specified'), 'Cell is N/A', \"Used .replace() to change single whitespace to 'non-specified'\")\n",
    "for i in err_index2:\n",
    "    updateErlist(i, df.loc[i]['Id'], 'ContractTime', df.loc[i]['ContractTime'], df.loc[i]['ContractTime'].replace('N/A','non-specified'), 'Cell is N/A', \"Used .replace() to change single whitespace to 'non-specified'\")\n",
    "for i in err_index3:\n",
    "    updateErlist(i, df.loc[i]['Id'], 'Salary', df.loc[i]['Salary'], df.loc[i]['Salary'].replace('N/A','00'), 'Cell is N/A', \"Used .replace() to change single whitespace to '0.00'\")\n",
    "for i in err_index4:\n",
    "    updateErlist(i, df.loc[i]['Id'], 'Company', df.loc[i]['Company'], df.loc[i]['Company'].replace('N/A','non-specified'), 'Cell is N/A', \"Used .replace() to change single whitespace to 'non-specified'\")"
   ]
  },
  {
   "cell_type": "code",
   "execution_count": 54,
   "metadata": {},
   "outputs": [
    {
     "data": {
      "text/html": [
       "<div>\n",
       "<style scoped>\n",
       "    .dataframe tbody tr th:only-of-type {\n",
       "        vertical-align: middle;\n",
       "    }\n",
       "\n",
       "    .dataframe tbody tr th {\n",
       "        vertical-align: top;\n",
       "    }\n",
       "\n",
       "    .dataframe thead th {\n",
       "        text-align: right;\n",
       "    }\n",
       "</style>\n",
       "<table border=\"1\" class=\"dataframe\">\n",
       "  <thead>\n",
       "    <tr style=\"text-align: right;\">\n",
       "      <th></th>\n",
       "      <th>indexOfdf</th>\n",
       "      <th>Id</th>\n",
       "      <th>ColumnName</th>\n",
       "      <th>Original</th>\n",
       "      <th>Modified</th>\n",
       "      <th>ErrorType</th>\n",
       "      <th>Fixing</th>\n",
       "    </tr>\n",
       "  </thead>\n",
       "  <tbody>\n",
       "    <tr>\n",
       "      <th>0</th>\n",
       "      <td>26032</td>\n",
       "      <td>70265300</td>\n",
       "      <td>Company</td>\n",
       "      <td></td>\n",
       "      <td>non-specified</td>\n",
       "      <td>Cell is Single Whitespace</td>\n",
       "      <td>Used .replace() to change single whitespace to...</td>\n",
       "    </tr>\n",
       "    <tr>\n",
       "      <th>1</th>\n",
       "      <td>26135</td>\n",
       "      <td>70265515</td>\n",
       "      <td>Company</td>\n",
       "      <td></td>\n",
       "      <td>non-specified</td>\n",
       "      <td>Cell is Single Whitespace</td>\n",
       "      <td>Used .replace() to change single whitespace to...</td>\n",
       "    </tr>\n",
       "    <tr>\n",
       "      <th>2</th>\n",
       "      <td>26508</td>\n",
       "      <td>70265383</td>\n",
       "      <td>Company</td>\n",
       "      <td></td>\n",
       "      <td>non-specified</td>\n",
       "      <td>Cell is Single Whitespace</td>\n",
       "      <td>Used .replace() to change single whitespace to...</td>\n",
       "    </tr>\n",
       "    <tr>\n",
       "      <th>3</th>\n",
       "      <td>27226</td>\n",
       "      <td>70474471</td>\n",
       "      <td>Company</td>\n",
       "      <td></td>\n",
       "      <td>non-specified</td>\n",
       "      <td>Cell is Single Whitespace</td>\n",
       "      <td>Used .replace() to change single whitespace to...</td>\n",
       "    </tr>\n",
       "    <tr>\n",
       "      <th>4</th>\n",
       "      <td>27528</td>\n",
       "      <td>71614781</td>\n",
       "      <td>Company</td>\n",
       "      <td></td>\n",
       "      <td>non-specified</td>\n",
       "      <td>Cell is Single Whitespace</td>\n",
       "      <td>Used .replace() to change single whitespace to...</td>\n",
       "    </tr>\n",
       "    <tr>\n",
       "      <th>...</th>\n",
       "      <td>...</td>\n",
       "      <td>...</td>\n",
       "      <td>...</td>\n",
       "      <td>...</td>\n",
       "      <td>...</td>\n",
       "      <td>...</td>\n",
       "      <td>...</td>\n",
       "    </tr>\n",
       "    <tr>\n",
       "      <th>28384</th>\n",
       "      <td>49617</td>\n",
       "      <td>71342846</td>\n",
       "      <td>Company</td>\n",
       "      <td>N/A</td>\n",
       "      <td>non-specified</td>\n",
       "      <td>Cell is N/A</td>\n",
       "      <td>Used .replace() to change single whitespace to...</td>\n",
       "    </tr>\n",
       "    <tr>\n",
       "      <th>28385</th>\n",
       "      <td>50685</td>\n",
       "      <td>68223651</td>\n",
       "      <td>Company</td>\n",
       "      <td>N/A</td>\n",
       "      <td>non-specified</td>\n",
       "      <td>Cell is N/A</td>\n",
       "      <td>Used .replace() to change single whitespace to...</td>\n",
       "    </tr>\n",
       "    <tr>\n",
       "      <th>28386</th>\n",
       "      <td>50686</td>\n",
       "      <td>72121207</td>\n",
       "      <td>Company</td>\n",
       "      <td>N/A</td>\n",
       "      <td>non-specified</td>\n",
       "      <td>Cell is N/A</td>\n",
       "      <td>Used .replace() to change single whitespace to...</td>\n",
       "    </tr>\n",
       "    <tr>\n",
       "      <th>28387</th>\n",
       "      <td>50687</td>\n",
       "      <td>70769728</td>\n",
       "      <td>Company</td>\n",
       "      <td>N/A</td>\n",
       "      <td>non-specified</td>\n",
       "      <td>Cell is N/A</td>\n",
       "      <td>Used .replace() to change single whitespace to...</td>\n",
       "    </tr>\n",
       "    <tr>\n",
       "      <th>28388</th>\n",
       "      <td>50688</td>\n",
       "      <td>69005978</td>\n",
       "      <td>Company</td>\n",
       "      <td>N/A</td>\n",
       "      <td>non-specified</td>\n",
       "      <td>Cell is N/A</td>\n",
       "      <td>Used .replace() to change single whitespace to...</td>\n",
       "    </tr>\n",
       "  </tbody>\n",
       "</table>\n",
       "<p>28389 rows × 7 columns</p>\n",
       "</div>"
      ],
      "text/plain": [
       "      indexOfdf        Id ColumnName Original       Modified  \\\n",
       "0         26032  70265300    Company           non-specified   \n",
       "1         26135  70265515    Company           non-specified   \n",
       "2         26508  70265383    Company           non-specified   \n",
       "3         27226  70474471    Company           non-specified   \n",
       "4         27528  71614781    Company           non-specified   \n",
       "...         ...       ...        ...      ...            ...   \n",
       "28384     49617  71342846    Company      N/A  non-specified   \n",
       "28385     50685  68223651    Company      N/A  non-specified   \n",
       "28386     50686  72121207    Company      N/A  non-specified   \n",
       "28387     50687  70769728    Company      N/A  non-specified   \n",
       "28388     50688  69005978    Company      N/A  non-specified   \n",
       "\n",
       "                       ErrorType  \\\n",
       "0      Cell is Single Whitespace   \n",
       "1      Cell is Single Whitespace   \n",
       "2      Cell is Single Whitespace   \n",
       "3      Cell is Single Whitespace   \n",
       "4      Cell is Single Whitespace   \n",
       "...                          ...   \n",
       "28384                Cell is N/A   \n",
       "28385                Cell is N/A   \n",
       "28386                Cell is N/A   \n",
       "28387                Cell is N/A   \n",
       "28388                Cell is N/A   \n",
       "\n",
       "                                                  Fixing  \n",
       "0      Used .replace() to change single whitespace to...  \n",
       "1      Used .replace() to change single whitespace to...  \n",
       "2      Used .replace() to change single whitespace to...  \n",
       "3      Used .replace() to change single whitespace to...  \n",
       "4      Used .replace() to change single whitespace to...  \n",
       "...                                                  ...  \n",
       "28384  Used .replace() to change single whitespace to...  \n",
       "28385  Used .replace() to change single whitespace to...  \n",
       "28386  Used .replace() to change single whitespace to...  \n",
       "28387  Used .replace() to change single whitespace to...  \n",
       "28388  Used .replace() to change single whitespace to...  \n",
       "\n",
       "[28389 rows x 7 columns]"
      ]
     },
     "execution_count": 54,
     "metadata": {},
     "output_type": "execute_result"
    }
   ],
   "source": [
    "erlist"
   ]
  },
  {
   "cell_type": "code",
   "execution_count": 55,
   "metadata": {},
   "outputs": [],
   "source": [
    "# We can use simple replace, since we know all pre and post values will be consistent\n",
    "df.loc[df.ContractType == 'N/A','ContractType'] = 'non-specified'\n",
    "df.loc[df.ContractTime == 'N/A','ContractTime'] = 'non-specified'\n",
    "df.loc[df.Salary == 'N/A','Salary'] = 0\n",
    "df.loc[df.Company == 'N/A','Company'] = 'non-specified'"
   ]
  },
  {
   "cell_type": "code",
   "execution_count": 56,
   "metadata": {
    "scrolled": true
   },
   "outputs": [
    {
     "name": "stdout",
     "output_type": "stream",
     "text": [
      "Count of N/A in cells\n",
      "Id : 0\n",
      "Title : 0\n",
      "Location : 0\n",
      "Company : 0\n",
      "ContractType : 0\n",
      "ContractTime : 0\n",
      "Category : 0\n",
      "Salary : 0\n",
      "OpenDate : 0\n",
      "CloseDate : 0\n",
      "SourceName : 0\n"
     ]
    }
   ],
   "source": [
    "# Exact N/A\n",
    "print('Count of N/A in cells')\n",
    "for i in str_col:\n",
    "    print(i,':',(df[str_col][i].str.match(r'(N/A)') == True).sum())"
   ]
  },
  {
   "cell_type": "markdown",
   "metadata": {},
   "source": [
    "Nice we got it fixed!"
   ]
  },
  {
   "cell_type": "markdown",
   "metadata": {},
   "source": [
    "### 1.3 Now onto fixing '-'"
   ]
  },
  {
   "cell_type": "code",
   "execution_count": 57,
   "metadata": {},
   "outputs": [
    {
     "name": "stdout",
     "output_type": "stream",
     "text": [
      "Count of - in cells\n",
      "Id : 0\n",
      "Title : 0\n",
      "Location : 0\n",
      "Company : 2012\n",
      "ContractType : 3935\n",
      "ContractTime : 4918\n",
      "Category : 0\n",
      "Salary : 302\n",
      "OpenDate : 0\n",
      "CloseDate : 0\n",
      "SourceName : 0\n"
     ]
    }
   ],
   "source": [
    "# Exact '-'\n",
    "print('Count of - in cells')\n",
    "for i in str_col:\n",
    "    print(i,':',(df[str_col][i].str.match(r'(-)') == True).sum())"
   ]
  },
  {
   "cell_type": "code",
   "execution_count": 58,
   "metadata": {},
   "outputs": [],
   "source": [
    "err_index1 = indices[df['ContractType'] == '-']\n",
    "err_index2 = indices[df['ContractTime'] == '-']\n",
    "err_index3 = indices[df['Salary'] == '-']\n",
    "err_index4 = indices[df['Company'] == '-']"
   ]
  },
  {
   "cell_type": "code",
   "execution_count": 59,
   "metadata": {},
   "outputs": [
    {
     "name": "stdout",
     "output_type": "stream",
     "text": [
      "23390\n",
      "-\n"
     ]
    }
   ],
   "source": [
    "print(err_index1[0])\n",
    "print(df.loc[23390]['ContractType'])"
   ]
  },
  {
   "cell_type": "code",
   "execution_count": 60,
   "metadata": {},
   "outputs": [],
   "source": [
    "# Making the Error List\n",
    "# Error log for all\n",
    "for i in err_index1:\n",
    "    updateErlist(i, df.loc[i]['Id'], 'ContractType', df.loc[i]['ContractType'], df.loc[i]['ContractType'].replace('-','non-specified'), 'Cell is -', \"Used .replace() to change - to 'non-specified'\")\n",
    "for i in err_index2:\n",
    "    updateErlist(i, df.loc[i]['Id'], 'ContractTime', df.loc[i]['ContractTime'], df.loc[i]['ContractTime'].replace('-','non-specified'), 'Cell is -', \"Used .replace() to change - to 'non-specified'\")\n",
    "for i in err_index3:\n",
    "    updateErlist(i, df.loc[i]['Id'], 'Salary', df.loc[i]['Salary'], df.loc[i]['Salary'].replace('-','00'), 'Cell is -', \"Used .replace() to change - to '0.00'\")\n",
    "for i in err_index4:\n",
    "    updateErlist(i, df.loc[i]['Id'], 'Company', df.loc[i]['Company'], df.loc[i]['Company'].replace('-','non-specified'), 'Cell is -', \"Used .replace() to change - to 'non-specified'\")"
   ]
  },
  {
   "cell_type": "code",
   "execution_count": 61,
   "metadata": {},
   "outputs": [
    {
     "data": {
      "text/html": [
       "<div>\n",
       "<style scoped>\n",
       "    .dataframe tbody tr th:only-of-type {\n",
       "        vertical-align: middle;\n",
       "    }\n",
       "\n",
       "    .dataframe tbody tr th {\n",
       "        vertical-align: top;\n",
       "    }\n",
       "\n",
       "    .dataframe thead th {\n",
       "        text-align: right;\n",
       "    }\n",
       "</style>\n",
       "<table border=\"1\" class=\"dataframe\">\n",
       "  <thead>\n",
       "    <tr style=\"text-align: right;\">\n",
       "      <th></th>\n",
       "      <th>indexOfdf</th>\n",
       "      <th>Id</th>\n",
       "      <th>ColumnName</th>\n",
       "      <th>Original</th>\n",
       "      <th>Modified</th>\n",
       "      <th>ErrorType</th>\n",
       "      <th>Fixing</th>\n",
       "    </tr>\n",
       "  </thead>\n",
       "  <tbody>\n",
       "    <tr>\n",
       "      <th>39551</th>\n",
       "      <td>48129</td>\n",
       "      <td>68849709</td>\n",
       "      <td>Company</td>\n",
       "      <td>-</td>\n",
       "      <td>non-specified</td>\n",
       "      <td>Cell is -</td>\n",
       "      <td>Used .replace() to change - to 'non-specified'</td>\n",
       "    </tr>\n",
       "    <tr>\n",
       "      <th>39552</th>\n",
       "      <td>48130</td>\n",
       "      <td>71737463</td>\n",
       "      <td>Company</td>\n",
       "      <td>-</td>\n",
       "      <td>non-specified</td>\n",
       "      <td>Cell is -</td>\n",
       "      <td>Used .replace() to change - to 'non-specified'</td>\n",
       "    </tr>\n",
       "    <tr>\n",
       "      <th>39553</th>\n",
       "      <td>48131</td>\n",
       "      <td>66575512</td>\n",
       "      <td>Company</td>\n",
       "      <td>-</td>\n",
       "      <td>non-specified</td>\n",
       "      <td>Cell is -</td>\n",
       "      <td>Used .replace() to change - to 'non-specified'</td>\n",
       "    </tr>\n",
       "    <tr>\n",
       "      <th>39554</th>\n",
       "      <td>48136</td>\n",
       "      <td>70140734</td>\n",
       "      <td>Company</td>\n",
       "      <td>-</td>\n",
       "      <td>non-specified</td>\n",
       "      <td>Cell is -</td>\n",
       "      <td>Used .replace() to change - to 'non-specified'</td>\n",
       "    </tr>\n",
       "    <tr>\n",
       "      <th>39555</th>\n",
       "      <td>48137</td>\n",
       "      <td>71501380</td>\n",
       "      <td>Company</td>\n",
       "      <td>-</td>\n",
       "      <td>non-specified</td>\n",
       "      <td>Cell is -</td>\n",
       "      <td>Used .replace() to change - to 'non-specified'</td>\n",
       "    </tr>\n",
       "  </tbody>\n",
       "</table>\n",
       "</div>"
      ],
      "text/plain": [
       "      indexOfdf        Id ColumnName Original       Modified  ErrorType  \\\n",
       "39551     48129  68849709    Company        -  non-specified  Cell is -   \n",
       "39552     48130  71737463    Company        -  non-specified  Cell is -   \n",
       "39553     48131  66575512    Company        -  non-specified  Cell is -   \n",
       "39554     48136  70140734    Company        -  non-specified  Cell is -   \n",
       "39555     48137  71501380    Company        -  non-specified  Cell is -   \n",
       "\n",
       "                                               Fixing  \n",
       "39551  Used .replace() to change - to 'non-specified'  \n",
       "39552  Used .replace() to change - to 'non-specified'  \n",
       "39553  Used .replace() to change - to 'non-specified'  \n",
       "39554  Used .replace() to change - to 'non-specified'  \n",
       "39555  Used .replace() to change - to 'non-specified'  "
      ]
     },
     "execution_count": 61,
     "metadata": {},
     "output_type": "execute_result"
    }
   ],
   "source": [
    "erlist.tail()"
   ]
  },
  {
   "cell_type": "code",
   "execution_count": 62,
   "metadata": {},
   "outputs": [],
   "source": [
    "# We can use simple replace, since we know all pre and post values will be consistent\n",
    "df.loc[df.ContractType == '-','ContractType'] = 'non-specified'\n",
    "df.loc[df.ContractTime == '-','ContractTime'] = 'non-specified'\n",
    "df.loc[df.Salary == '-','Salary'] = 0\n",
    "df.loc[df.Company == '-','Company'] = 'non-specified'"
   ]
  },
  {
   "cell_type": "code",
   "execution_count": 63,
   "metadata": {},
   "outputs": [
    {
     "name": "stdout",
     "output_type": "stream",
     "text": [
      "Count of - in cells\n",
      "Id : 0\n",
      "Title : 0\n",
      "Location : 0\n",
      "Company : 0\n",
      "ContractType : 0\n",
      "ContractTime : 0\n",
      "Category : 0\n",
      "Salary : 0\n",
      "OpenDate : 0\n",
      "CloseDate : 0\n",
      "SourceName : 0\n"
     ]
    }
   ],
   "source": [
    "# Exact '-'\n",
    "print('Count of - in cells')\n",
    "for i in str_col:\n",
    "    print(i,':',(df[str_col][i].str.match(r'(-)') == True).sum())"
   ]
  },
  {
   "cell_type": "markdown",
   "metadata": {},
   "source": [
    "Beautiful. It works."
   ]
  },
  {
   "cell_type": "markdown",
   "metadata": {},
   "source": [
    "### 1.4 Missing Columns (Empty Strings)"
   ]
  },
  {
   "cell_type": "code",
   "execution_count": 64,
   "metadata": {},
   "outputs": [
    {
     "name": "stdout",
     "output_type": "stream",
     "text": [
      "Count of  in cells\n",
      "Id : 0\n",
      "Title : 0\n",
      "Location : 0\n",
      "Company : 1615\n",
      "ContractType : 14669\n",
      "ContractTime : 3227\n",
      "Category : 0\n",
      "Salary : 310\n",
      "OpenDate : 0\n",
      "CloseDate : 0\n",
      "SourceName : 0\n"
     ]
    }
   ],
   "source": [
    "# Amount of empty cells\n",
    "print('Count of  in cells')\n",
    "for i in str_col:\n",
    "    print(i,':',(df[str_col][i].isna() == True).sum())"
   ]
  },
  {
   "cell_type": "code",
   "execution_count": 65,
   "metadata": {},
   "outputs": [],
   "source": [
    "err_index1 = indices[df['ContractType'].isna()]\n",
    "err_index2 = indices[df['ContractTime'].isna()]\n",
    "err_index3 = indices[df['Salary'].isna()]\n",
    "err_index4 = indices[df['Company'].isna()]"
   ]
  },
  {
   "cell_type": "code",
   "execution_count": 66,
   "metadata": {},
   "outputs": [],
   "source": [
    "# Making the Error List\n",
    "# Error log for all\n",
    "for i in err_index1:\n",
    "    updateErlist(i, df.loc[i]['Id'], 'ContractType', df.loc[i]['ContractType'], 'non-specified', 'Cell is empty', \"Used .fillna() to make it 'non-specified'\")\n",
    "for i in err_index2:\n",
    "    updateErlist(i, df.loc[i]['Id'], 'ContractTime', df.loc[i]['ContractTime'], 'non-specified', 'Cell is empty', \"Used .fillna() to make it 'non-specified'\")\n",
    "for i in err_index3:\n",
    "    updateErlist(i, df.loc[i]['Id'], 'Salary', df.loc[i]['Salary'], 0, 'Cell is empty', \"Used .fillna() to make it '0.00'\")\n",
    "for i in err_index4:\n",
    "    updateErlist(i, df.loc[i]['Id'], 'Company', df.loc[i]['Company'], 'non-specified', 'Cell is empty', \"Used .fillna() to make it 'non-specified'\")"
   ]
  },
  {
   "cell_type": "code",
   "execution_count": 67,
   "metadata": {},
   "outputs": [],
   "source": [
    "df['ContractType'].fillna(value='non-specified', inplace = True)\n",
    "df['ContractTime'].fillna(value='non-specified', inplace = True)\n",
    "df['Salary'].fillna(value=0, inplace = True)\n",
    "df['Company'].fillna(value='non-specified', inplace = True)"
   ]
  },
  {
   "cell_type": "code",
   "execution_count": 68,
   "metadata": {},
   "outputs": [
    {
     "name": "stdout",
     "output_type": "stream",
     "text": [
      "Count of empty cells\n",
      "Id : 0\n",
      "Title : 0\n",
      "Location : 0\n",
      "Company : 0\n",
      "ContractType : 0\n",
      "ContractTime : 0\n",
      "Category : 0\n",
      "Salary : 0\n",
      "OpenDate : 0\n",
      "CloseDate : 0\n",
      "SourceName : 0\n"
     ]
    }
   ],
   "source": [
    "# Amount of empty cells\n",
    "print('Count of empty cells')\n",
    "for i in str_col:\n",
    "    print(i,':',(df[str_col][i].isna() == True).sum())"
   ]
  },
  {
   "cell_type": "markdown",
   "metadata": {},
   "source": [
    "Nice it works!"
   ]
  },
  {
   "cell_type": "markdown",
   "metadata": {},
   "source": [
    "## Step 2: Get rid of Typos in columns\n",
    "\n",
    "### Note: Because it is not required, the typo correction for the Title Column has been commented out..."
   ]
  },
  {
   "cell_type": "markdown",
   "metadata": {},
   "source": [
    "### 2.1 Title"
   ]
  },
  {
   "cell_type": "code",
   "execution_count": 69,
   "metadata": {},
   "outputs": [],
   "source": [
    "#Define original df for using as our \"original\" for the error log\n",
    "ori_df = df.copy()\n",
    "# Define test df for testing\n",
    "test_df = df.copy()"
   ]
  },
  {
   "cell_type": "code",
   "execution_count": 70,
   "metadata": {},
   "outputs": [],
   "source": [
    "#### Lets find the special characters first"
   ]
  },
  {
   "cell_type": "code",
   "execution_count": 71,
   "metadata": {},
   "outputs": [],
   "source": [
    "# # Finding for ****k or just ****\n",
    "# for i in str_col:\n",
    "#     print(i,':',(df[str_col][i].str.contains(r'\\*+[k,K]?') == True).sum())"
   ]
  },
  {
   "cell_type": "code",
   "execution_count": 72,
   "metadata": {},
   "outputs": [],
   "source": [
    "# err_index = df[(df[\"Title\"].str.contains(r'\\*+[k,K]?') == True)].index\n",
    "# err_index"
   ]
  },
  {
   "cell_type": "code",
   "execution_count": 73,
   "metadata": {},
   "outputs": [],
   "source": [
    "# df['Title'].replace(r'\\*+[k,K]?', '', regex = True, inplace = True)"
   ]
  },
  {
   "cell_type": "code",
   "execution_count": 74,
   "metadata": {},
   "outputs": [],
   "source": [
    "# # Using test_df as an \"original\" value holder, while df is my \"modifed\" value holder\n",
    "# # This is because updateErlist doesn't work with a .replace with regex\n",
    "\n",
    "# for i in err_index:\n",
    "#     updateErlist(i, df.loc[i]['Id'], 'Title',ori_df.loc[i][\"Title\"], df.loc[i]['Title'], 'Cell has typo of *', \"Used .replace() to delete it\")"
   ]
  },
  {
   "cell_type": "code",
   "execution_count": 75,
   "metadata": {
    "scrolled": true
   },
   "outputs": [],
   "source": [
    "# erlist.tail()"
   ]
  },
  {
   "cell_type": "code",
   "execution_count": 76,
   "metadata": {},
   "outputs": [],
   "source": [
    "# # Finding for ****k or just ****\n",
    "# for i in str_col:\n",
    "#     print(i,':',(df[str_col][i].str.contains(r'\\*+[k,K]?') == True).sum())"
   ]
  },
  {
   "cell_type": "markdown",
   "metadata": {},
   "source": [
    "Nice!"
   ]
  },
  {
   "cell_type": "markdown",
   "metadata": {},
   "source": [
    "Lets do the same for p/h, per annum and ph"
   ]
  },
  {
   "cell_type": "code",
   "execution_count": 77,
   "metadata": {},
   "outputs": [],
   "source": [
    "# # Finding for p/h, per annum, and ph in Title\n",
    "# for i in str_col:\n",
    "#     print(i,':',(df[str_col][i].str.contains(r'[pP]\\/[Hh]|per annum|\\b[pP][hH]\\b') == True).sum())"
   ]
  },
  {
   "cell_type": "code",
   "execution_count": 78,
   "metadata": {},
   "outputs": [],
   "source": [
    "# err_index = df[(df[\"Title\"].str.contains(r'[pP]\\/[Hh]|per annum|\\b[pP][hH]\\b') == True)].index\n",
    "# err_index"
   ]
  },
  {
   "cell_type": "code",
   "execution_count": 79,
   "metadata": {},
   "outputs": [],
   "source": [
    "# df['Title'].replace(r'[pP]\\/[Hh]|per annum|\\b[pP][hH]\\b|ph$', '', regex = True, inplace = True)"
   ]
  },
  {
   "cell_type": "code",
   "execution_count": 80,
   "metadata": {},
   "outputs": [],
   "source": [
    "# df.loc[47210]['Title']"
   ]
  },
  {
   "cell_type": "code",
   "execution_count": 81,
   "metadata": {},
   "outputs": [],
   "source": [
    "# # Using test_df as an \"original\" value holder, while df is my \"modifed\" value holder\n",
    "# # This is because updateErlist doesn't work with a .replace with regex\n",
    "\n",
    "# for i in err_index:\n",
    "#     updateErlist(i, df.loc[i]['Id'], 'Title',ori_df.loc[i][\"Title\"], df.loc[i]['Title'], 'Irrelevent in Title', \"Used .replace() to delete it\")"
   ]
  },
  {
   "cell_type": "code",
   "execution_count": 82,
   "metadata": {},
   "outputs": [],
   "source": [
    "# erlist.tail()"
   ]
  },
  {
   "cell_type": "markdown",
   "metadata": {},
   "source": [
    "Nice lets get the ? in titles now"
   ]
  },
  {
   "cell_type": "code",
   "execution_count": 83,
   "metadata": {},
   "outputs": [],
   "source": [
    "# # Finding for p/h, per annum, and ph in Title\n",
    "# for i in str_col:\n",
    "#     print(i,':',(df[str_col][i].str.contains(r'\\?') == True).sum())"
   ]
  },
  {
   "cell_type": "code",
   "execution_count": 84,
   "metadata": {},
   "outputs": [],
   "source": [
    "# err_index = df[(df[\"Title\"].str.contains(r'\\?') == True)].index\n",
    "# err_index"
   ]
  },
  {
   "cell_type": "code",
   "execution_count": 85,
   "metadata": {},
   "outputs": [],
   "source": [
    "# df.loc[err_index[1]]['Title']"
   ]
  },
  {
   "cell_type": "code",
   "execution_count": 86,
   "metadata": {},
   "outputs": [],
   "source": [
    "# df['Title'].replace(r'\\?', '', regex = True, inplace = True)"
   ]
  },
  {
   "cell_type": "code",
   "execution_count": 87,
   "metadata": {},
   "outputs": [],
   "source": [
    "# # Using test_df as an \"original\" value holder, while df is my \"modifed\" value holder\n",
    "# # This is because updateErlist doesn't work with a .replace with regex\n",
    "\n",
    "# for i in err_index:\n",
    "#     updateErlist(i, df.loc[i]['Id'], 'Title',ori_df.loc[i][\"Title\"], df.loc[i]['Title'], \"'?'Typo in Title\", \"Used .replace() to delete it\")"
   ]
  },
  {
   "cell_type": "code",
   "execution_count": 88,
   "metadata": {},
   "outputs": [],
   "source": [
    "# # Finding for p/h, per annum, and ph in Title\n",
    "# for i in str_col:\n",
    "#     print(i,':',(df[str_col][i].str.contains(r'\\?') == True).sum())"
   ]
  },
  {
   "cell_type": "markdown",
   "metadata": {},
   "source": [
    "### 2.2 Salary"
   ]
  },
  {
   "cell_type": "code",
   "execution_count": 89,
   "metadata": {},
   "outputs": [
    {
     "data": {
      "text/plain": [
       "0        32000\n",
       "1        22950\n",
       "2            0\n",
       "3        50000\n",
       "4        14500\n",
       "         ...  \n",
       "50698    25000\n",
       "50699    18000\n",
       "50700    52500\n",
       "50701    47500\n",
       "50702    20000\n",
       "Name: Salary, Length: 50703, dtype: object"
      ]
     },
     "execution_count": 89,
     "metadata": {},
     "output_type": "execute_result"
    }
   ],
   "source": [
    "df[\"Salary\"]"
   ]
  },
  {
   "cell_type": "markdown",
   "metadata": {},
   "source": [
    "Oh so there are some errors"
   ]
  },
  {
   "cell_type": "code",
   "execution_count": 90,
   "metadata": {},
   "outputs": [
    {
     "data": {
      "text/plain": [
       "879"
      ]
     },
     "execution_count": 90,
     "metadata": {},
     "output_type": "execute_result"
    }
   ],
   "source": [
    "(df[\"Salary\"].str.contains(r'\\D+') == True).sum()"
   ]
  },
  {
   "cell_type": "code",
   "execution_count": 91,
   "metadata": {},
   "outputs": [
    {
     "data": {
      "text/plain": [
       "27500 pa      9\n",
       "35000/Year    8\n",
       "35000 pa      8\n",
       "40000/Year    6\n",
       "32500 pa      6\n",
       "             ..\n",
       "31200/Year    1\n",
       "19000/Year    1\n",
       "26500/Year    1\n",
       "31250/Year    1\n",
       "30624/Year    1\n",
       "Name: Salary, Length: 138, dtype: int64"
      ]
     },
     "execution_count": 91,
     "metadata": {},
     "output_type": "execute_result"
    }
   ],
   "source": [
    "df[\"Salary\"][df[\"Salary\"].str.contains(r'\\D+$') == True].value_counts()"
   ]
  },
  {
   "cell_type": "markdown",
   "metadata": {},
   "source": [
    "It looks like we need to get rid of:\n",
    "- \"K\"\n",
    "- \"/Year\"\n",
    "- \"pa\"\n",
    "\n",
    "And with salaries with 30000 to 35000, we will replace with the avg pay later on.\n",
    "\n",
    "With this, we will convert it to an annual Salary assuming the average UK worker works 1730 hours per year.\n",
    "\n",
    "We will convert later on.\n",
    "\n",
    "- \"p/h\"\n",
    "- \"per hour\""
   ]
  },
  {
   "cell_type": "markdown",
   "metadata": {},
   "source": [
    "#### Deleting"
   ]
  },
  {
   "cell_type": "code",
   "execution_count": 92,
   "metadata": {},
   "outputs": [
    {
     "data": {
      "text/plain": [
       "Int64Index([  102,   412,   511,   671,  1148,  1191,  1227,  1780,  1827,\n",
       "             2620,\n",
       "            ...\n",
       "            48535, 48642, 49429, 49601, 49727, 49788, 50030, 50174, 50265,\n",
       "            50479],\n",
       "           dtype='int64', length=255)"
      ]
     },
     "execution_count": 92,
     "metadata": {},
     "output_type": "execute_result"
    }
   ],
   "source": [
    "err_index = df[(df[\"Salary\"].str.contains(r'\\D+$') == True)].index\n",
    "err_index"
   ]
  },
  {
   "cell_type": "code",
   "execution_count": 93,
   "metadata": {
    "scrolled": true
   },
   "outputs": [],
   "source": [
    "df['Salary'].replace(r'\\D+$', '', regex = True, inplace = True)"
   ]
  },
  {
   "cell_type": "code",
   "execution_count": 94,
   "metadata": {},
   "outputs": [
    {
     "data": {
      "text/plain": [
       "32    5\n",
       "50    5\n",
       "35    4\n",
       "26    3\n",
       "28    3\n",
       "24    3\n",
       "29    3\n",
       "34    2\n",
       "23    2\n",
       "36    2\n",
       "30    2\n",
       "22    2\n",
       "25    2\n",
       "40    1\n",
       "42    1\n",
       "55    1\n",
       "27    1\n",
       "45    1\n",
       "18    1\n",
       "39    1\n",
       "43    1\n",
       "20    1\n",
       "48    1\n",
       "21    1\n",
       "52    1\n",
       "Name: Salary, dtype: int64"
      ]
     },
     "execution_count": 94,
     "metadata": {},
     "output_type": "execute_result"
    }
   ],
   "source": [
    "df[\"Salary\"][test_df[\"Salary\"].str.contains(r'K') == True].value_counts()"
   ]
  },
  {
   "cell_type": "code",
   "execution_count": 95,
   "metadata": {},
   "outputs": [],
   "source": [
    "# Recording Error\n",
    "for i in err_index:\n",
    "    updateErlist(i, df.loc[i]['Id'], 'Salary',ori_df.loc[i][\"Salary\"], df.loc[i]['Salary'], \"Irrigularities ending the Salary\", \"Used .replace() to delete it\")"
   ]
  },
  {
   "cell_type": "markdown",
   "metadata": {},
   "source": [
    "Hooray! Thats the typo errors cleaned!!!"
   ]
  },
  {
   "cell_type": "markdown",
   "metadata": {},
   "source": [
    "## Step 3: Remove incorrect Whitespaces"
   ]
  },
  {
   "cell_type": "markdown",
   "metadata": {},
   "source": [
    "Lets start with Leading/Trailing Whitespaces"
   ]
  },
  {
   "cell_type": "code",
   "execution_count": 96,
   "metadata": {},
   "outputs": [
    {
     "name": "stdout",
     "output_type": "stream",
     "text": [
      "Rows with whitespaces in them\n",
      "Id : 0\n",
      "Title : 28\n",
      "Location : 0\n",
      "Company : 0\n",
      "ContractType : 0\n",
      "ContractTime : 0\n",
      "Category : 0\n",
      "Salary : 0\n",
      "OpenDate : 0\n",
      "CloseDate : 0\n",
      "SourceName : 0\n"
     ]
    }
   ],
   "source": [
    "# Shows how many whitespace rows in each column\n",
    "print('Rows with whitespaces in them')\n",
    "for i in str_col:\n",
    "    print(i,':',(df[str_col][i].str.match(r'(^\\s+.+\\s+$)') == True).sum())"
   ]
  },
  {
   "cell_type": "markdown",
   "metadata": {},
   "source": [
    "Looks like the 'Title' Column only has whitespaces"
   ]
  },
  {
   "cell_type": "code",
   "execution_count": 97,
   "metadata": {},
   "outputs": [
    {
     "data": {
      "text/plain": [
       "791                 Linux Systems Administrator  New role \n",
       "2394                Ruby / JavaScript Developers required \n",
       "18228            Digital Marketing Manager (Social Media) \n",
       "23699     PASTRY CHEF  CHRISTCHURCH  **** STAR  **** RO...\n",
       "23721     JUNIOR SOUS  **** ROSETTE  **** STAR HOTEL  D...\n",
       "23846     SOUS CHEF  CORNWALL  **** STAR  QUALITY GROUP...\n",
       "23873     COMMIS CHEF  **** ROSETTE  WELL KNOWN COUNTRY...\n",
       "24129     CHEF DE PARTIE  CHRISTCHURCH  RESTAURANT  HIG...\n",
       "24208     CHEF DE PARTIE  **** ROSETTE  **** STAR HOTEL...\n",
       "24362     CHEF DE PARTIE  ****/**** ROESTTE  **** STAR ...\n",
       "24472     SOUS CHEF  **** ROSETTE  WINDSOR  QUALITY GRO...\n",
       "24940     CHEF DE PARTIE  DORKING  **** ROSETTE  **** S...\n",
       "25025     JUNIOR SOUS CHEF  **** STAR HOTEL  SEAS SIDE ...\n",
       "25081                            TEMPORARY CHEFS REQUIRED \n",
       "25125     CHEF DE PARTIE  **** ROSETTE  **** STAR  ****...\n",
       "25159     CHEF DE PARTEI  **** ROSETTE  **** RED STAR  ...\n",
       "25407     SOUS CHEF  **** STAR  **** ROSETTE  SURREY  H...\n",
       "31885        Head of Ad Ops (Technology/Media Publishing) \n",
       "36878     DEMI CHEF DE PARTIE  **** ROSETTE  **** STAR ...\n",
       "37391     CHEF DE PARTIE  CHICHESTER  PRIVATE MEMBERS C...\n",
       "37524     BREAKFAST CHEF  KNIGHTSBRIDGE  **** STAR HOTE...\n",
       "37693     JUNIOR SOUS CHEF  **** RED STAR  **** ROSETTE...\n",
       "48427              Business Development Manager  IT Sales \n",
       "49514            Digital Marketing Executive  SEO and PPC \n",
       "49534         Communications Executive (3 month contract) \n",
       "49557                               SEO and PPC Executive \n",
       "50406              Newly Qualified Assistant Manager Role \n",
       "50600                    Design Engineer  Aberdeen  ****k \n",
       "Name: Title, dtype: object"
      ]
     },
     "execution_count": 97,
     "metadata": {},
     "output_type": "execute_result"
    }
   ],
   "source": [
    "# Lets Take a look\n",
    "df['Title'][df[str_col]['Title'].str.match(r'(^\\s+.+\\s+$)') == True]"
   ]
  },
  {
   "cell_type": "markdown",
   "metadata": {},
   "source": [
    "It seems like there are also Whitespaces inside, along with Asterisks '***' which shouldnt be there!\n",
    "\n",
    "We'll deal with that later\n",
    "\n",
    "Lets just record the errors here now"
   ]
  },
  {
   "cell_type": "code",
   "execution_count": 98,
   "metadata": {},
   "outputs": [
    {
     "data": {
      "text/plain": [
       "Int64Index([  791,  2394, 18228, 23699, 23721, 23846, 23873, 24129, 24208,\n",
       "            24362, 24472, 24940, 25025, 25081, 25125, 25159, 25407, 31885,\n",
       "            36878, 37391, 37524, 37693, 48427, 49514, 49534, 49557, 50406,\n",
       "            50600],\n",
       "           dtype='int64')"
      ]
     },
     "execution_count": 98,
     "metadata": {},
     "output_type": "execute_result"
    }
   ],
   "source": [
    "err_index = df[df['Title'].str.match(r'(^\\s+.+\\s+$)') == True].index\n",
    "err_index"
   ]
  },
  {
   "cell_type": "code",
   "execution_count": 99,
   "metadata": {},
   "outputs": [],
   "source": [
    "for i in err_index:\n",
    "    updateErlist(i, df.loc[i]['Id'], 'Title', df.loc[i]['Title'], df.loc[i]['Title'].strip(), 'Leading/Trailing Whitespace', 'Used .Strip() to get rid of Leading/Trailing Whitespaces')"
   ]
  },
  {
   "cell_type": "code",
   "execution_count": 100,
   "metadata": {
    "scrolled": true
   },
   "outputs": [
    {
     "data": {
      "text/html": [
       "<div>\n",
       "<style scoped>\n",
       "    .dataframe tbody tr th:only-of-type {\n",
       "        vertical-align: middle;\n",
       "    }\n",
       "\n",
       "    .dataframe tbody tr th {\n",
       "        vertical-align: top;\n",
       "    }\n",
       "\n",
       "    .dataframe thead th {\n",
       "        text-align: right;\n",
       "    }\n",
       "</style>\n",
       "<table border=\"1\" class=\"dataframe\">\n",
       "  <thead>\n",
       "    <tr style=\"text-align: right;\">\n",
       "      <th></th>\n",
       "      <th>indexOfdf</th>\n",
       "      <th>Id</th>\n",
       "      <th>ColumnName</th>\n",
       "      <th>Original</th>\n",
       "      <th>Modified</th>\n",
       "      <th>ErrorType</th>\n",
       "      <th>Fixing</th>\n",
       "    </tr>\n",
       "  </thead>\n",
       "  <tbody>\n",
       "    <tr>\n",
       "      <th>0</th>\n",
       "      <td>26032</td>\n",
       "      <td>70265300</td>\n",
       "      <td>Company</td>\n",
       "      <td></td>\n",
       "      <td>non-specified</td>\n",
       "      <td>Cell is Single Whitespace</td>\n",
       "      <td>Used .replace() to change single whitespace to...</td>\n",
       "    </tr>\n",
       "    <tr>\n",
       "      <th>1</th>\n",
       "      <td>26135</td>\n",
       "      <td>70265515</td>\n",
       "      <td>Company</td>\n",
       "      <td></td>\n",
       "      <td>non-specified</td>\n",
       "      <td>Cell is Single Whitespace</td>\n",
       "      <td>Used .replace() to change single whitespace to...</td>\n",
       "    </tr>\n",
       "    <tr>\n",
       "      <th>2</th>\n",
       "      <td>26508</td>\n",
       "      <td>70265383</td>\n",
       "      <td>Company</td>\n",
       "      <td></td>\n",
       "      <td>non-specified</td>\n",
       "      <td>Cell is Single Whitespace</td>\n",
       "      <td>Used .replace() to change single whitespace to...</td>\n",
       "    </tr>\n",
       "    <tr>\n",
       "      <th>3</th>\n",
       "      <td>27226</td>\n",
       "      <td>70474471</td>\n",
       "      <td>Company</td>\n",
       "      <td></td>\n",
       "      <td>non-specified</td>\n",
       "      <td>Cell is Single Whitespace</td>\n",
       "      <td>Used .replace() to change single whitespace to...</td>\n",
       "    </tr>\n",
       "    <tr>\n",
       "      <th>4</th>\n",
       "      <td>27528</td>\n",
       "      <td>71614781</td>\n",
       "      <td>Company</td>\n",
       "      <td></td>\n",
       "      <td>non-specified</td>\n",
       "      <td>Cell is Single Whitespace</td>\n",
       "      <td>Used .replace() to change single whitespace to...</td>\n",
       "    </tr>\n",
       "    <tr>\n",
       "      <th>...</th>\n",
       "      <td>...</td>\n",
       "      <td>...</td>\n",
       "      <td>...</td>\n",
       "      <td>...</td>\n",
       "      <td>...</td>\n",
       "      <td>...</td>\n",
       "      <td>...</td>\n",
       "    </tr>\n",
       "    <tr>\n",
       "      <th>59655</th>\n",
       "      <td>49514</td>\n",
       "      <td>70437107</td>\n",
       "      <td>Title</td>\n",
       "      <td>Digital Marketing Executive  SEO and PPC</td>\n",
       "      <td>Digital Marketing Executive  SEO and PPC</td>\n",
       "      <td>Leading/Trailing Whitespace</td>\n",
       "      <td>Used .Strip() to get rid of Leading/Trailing W...</td>\n",
       "    </tr>\n",
       "    <tr>\n",
       "      <th>59656</th>\n",
       "      <td>49534</td>\n",
       "      <td>68379459</td>\n",
       "      <td>Title</td>\n",
       "      <td>Communications Executive (3 month contract)</td>\n",
       "      <td>Communications Executive (3 month contract)</td>\n",
       "      <td>Leading/Trailing Whitespace</td>\n",
       "      <td>Used .Strip() to get rid of Leading/Trailing W...</td>\n",
       "    </tr>\n",
       "    <tr>\n",
       "      <th>59657</th>\n",
       "      <td>49557</td>\n",
       "      <td>68602943</td>\n",
       "      <td>Title</td>\n",
       "      <td>SEO and PPC Executive</td>\n",
       "      <td>SEO and PPC Executive</td>\n",
       "      <td>Leading/Trailing Whitespace</td>\n",
       "      <td>Used .Strip() to get rid of Leading/Trailing W...</td>\n",
       "    </tr>\n",
       "    <tr>\n",
       "      <th>59658</th>\n",
       "      <td>50406</td>\n",
       "      <td>69247637</td>\n",
       "      <td>Title</td>\n",
       "      <td>Newly Qualified Assistant Manager Role</td>\n",
       "      <td>Newly Qualified Assistant Manager Role</td>\n",
       "      <td>Leading/Trailing Whitespace</td>\n",
       "      <td>Used .Strip() to get rid of Leading/Trailing W...</td>\n",
       "    </tr>\n",
       "    <tr>\n",
       "      <th>59659</th>\n",
       "      <td>50600</td>\n",
       "      <td>71802297</td>\n",
       "      <td>Title</td>\n",
       "      <td>Design Engineer  Aberdeen  ****k</td>\n",
       "      <td>Design Engineer  Aberdeen  ****k</td>\n",
       "      <td>Leading/Trailing Whitespace</td>\n",
       "      <td>Used .Strip() to get rid of Leading/Trailing W...</td>\n",
       "    </tr>\n",
       "  </tbody>\n",
       "</table>\n",
       "<p>59660 rows × 7 columns</p>\n",
       "</div>"
      ],
      "text/plain": [
       "      indexOfdf        Id ColumnName  \\\n",
       "0         26032  70265300    Company   \n",
       "1         26135  70265515    Company   \n",
       "2         26508  70265383    Company   \n",
       "3         27226  70474471    Company   \n",
       "4         27528  71614781    Company   \n",
       "...         ...       ...        ...   \n",
       "59655     49514  70437107      Title   \n",
       "59656     49534  68379459      Title   \n",
       "59657     49557  68602943      Title   \n",
       "59658     50406  69247637      Title   \n",
       "59659     50600  71802297      Title   \n",
       "\n",
       "                                            Original  \\\n",
       "0                                                      \n",
       "1                                                      \n",
       "2                                                      \n",
       "3                                                      \n",
       "4                                                      \n",
       "...                                              ...   \n",
       "59655      Digital Marketing Executive  SEO and PPC    \n",
       "59656   Communications Executive (3 month contract)    \n",
       "59657                         SEO and PPC Executive    \n",
       "59658        Newly Qualified Assistant Manager Role    \n",
       "59659              Design Engineer  Aberdeen  ****k    \n",
       "\n",
       "                                          Modified  \\\n",
       "0                                    non-specified   \n",
       "1                                    non-specified   \n",
       "2                                    non-specified   \n",
       "3                                    non-specified   \n",
       "4                                    non-specified   \n",
       "...                                            ...   \n",
       "59655     Digital Marketing Executive  SEO and PPC   \n",
       "59656  Communications Executive (3 month contract)   \n",
       "59657                        SEO and PPC Executive   \n",
       "59658       Newly Qualified Assistant Manager Role   \n",
       "59659             Design Engineer  Aberdeen  ****k   \n",
       "\n",
       "                         ErrorType  \\\n",
       "0        Cell is Single Whitespace   \n",
       "1        Cell is Single Whitespace   \n",
       "2        Cell is Single Whitespace   \n",
       "3        Cell is Single Whitespace   \n",
       "4        Cell is Single Whitespace   \n",
       "...                            ...   \n",
       "59655  Leading/Trailing Whitespace   \n",
       "59656  Leading/Trailing Whitespace   \n",
       "59657  Leading/Trailing Whitespace   \n",
       "59658  Leading/Trailing Whitespace   \n",
       "59659  Leading/Trailing Whitespace   \n",
       "\n",
       "                                                  Fixing  \n",
       "0      Used .replace() to change single whitespace to...  \n",
       "1      Used .replace() to change single whitespace to...  \n",
       "2      Used .replace() to change single whitespace to...  \n",
       "3      Used .replace() to change single whitespace to...  \n",
       "4      Used .replace() to change single whitespace to...  \n",
       "...                                                  ...  \n",
       "59655  Used .Strip() to get rid of Leading/Trailing W...  \n",
       "59656  Used .Strip() to get rid of Leading/Trailing W...  \n",
       "59657  Used .Strip() to get rid of Leading/Trailing W...  \n",
       "59658  Used .Strip() to get rid of Leading/Trailing W...  \n",
       "59659  Used .Strip() to get rid of Leading/Trailing W...  \n",
       "\n",
       "[59660 rows x 7 columns]"
      ]
     },
     "execution_count": 100,
     "metadata": {},
     "output_type": "execute_result"
    }
   ],
   "source": [
    "erlist"
   ]
  },
  {
   "cell_type": "code",
   "execution_count": 101,
   "metadata": {
    "scrolled": true
   },
   "outputs": [
    {
     "data": {
      "text/plain": [
       "' Linux Systems Administrator  New role '"
      ]
     },
     "execution_count": 101,
     "metadata": {},
     "output_type": "execute_result"
    }
   ],
   "source": [
    "df.loc[791]['Title']"
   ]
  },
  {
   "cell_type": "code",
   "execution_count": 102,
   "metadata": {},
   "outputs": [],
   "source": [
    "# Lets remove the leading and trailing Whitespace First for String Columns"
   ]
  },
  {
   "cell_type": "code",
   "execution_count": 103,
   "metadata": {},
   "outputs": [],
   "source": [
    "df['Title'] = df['Title'].apply(lambda x: x.strip())"
   ]
  },
  {
   "cell_type": "code",
   "execution_count": 104,
   "metadata": {},
   "outputs": [
    {
     "data": {
      "text/plain": [
       "'Linux Systems Administrator  New role'"
      ]
     },
     "execution_count": 104,
     "metadata": {},
     "output_type": "execute_result"
    }
   ],
   "source": [
    "# Testing if the exterior strip worked\n",
    "df.loc[791]['Title']"
   ]
  },
  {
   "cell_type": "markdown",
   "metadata": {},
   "source": [
    "Nice so the Leading/Trailing Strip worked. But we are not done yet.\n",
    "\n",
    "Lets work on the double whitespaces on the inside now!"
   ]
  },
  {
   "cell_type": "code",
   "execution_count": 105,
   "metadata": {
    "scrolled": true
   },
   "outputs": [
    {
     "name": "stdout",
     "output_type": "stream",
     "text": [
      "Rows with >1 Whitespaces within them\n",
      "Id : 0\n",
      "Title : 20335\n",
      "Location : 0\n",
      "Company : 1466\n",
      "ContractType : 0\n",
      "ContractTime : 0\n",
      "Category : 0\n",
      "Salary : 0\n",
      "OpenDate : 0\n",
      "CloseDate : 0\n",
      "SourceName : 0\n"
     ]
    }
   ],
   "source": [
    "# Shows all rows with more than 1 whitespace in the string between words\n",
    "print('Rows with >1 Whitespaces within them')\n",
    "for i in str_col:\n",
    "    print(i,':',(df[str_col][i].str.match(r'(^.+\\s{2,}.+$)') == True).sum())"
   ]
  },
  {
   "cell_type": "markdown",
   "metadata": {},
   "source": [
    "Wow that is quite a lot in the Title and Company Column."
   ]
  },
  {
   "cell_type": "code",
   "execution_count": 106,
   "metadata": {},
   "outputs": [
    {
     "name": "stdout",
     "output_type": "stream",
     "text": [
      "Old: Health & Social Care Tutor/Assessor  Bristol\n",
      "New: Health & Social Care Tutor/Assessor Bristol\n"
     ]
    }
   ],
   "source": [
    "# Here we test the .replace function with the whitespaces. It works well!\n",
    "print('Old:',df.Title[50699])\n",
    "print('New:',df.Title[50699].replace('  ',' '))"
   ]
  },
  {
   "cell_type": "code",
   "execution_count": 107,
   "metadata": {},
   "outputs": [
    {
     "name": "stdout",
     "output_type": "stream",
     "text": [
      "Cornwall \n",
      "\n"
     ]
    },
    {
     "data": {
      "text/plain": [
       "0        Berlin [Corn]wall\n",
       "1            Hertfordshire\n",
       "2            Aberdeenshire\n",
       "3                    Essex\n",
       "4            Aberdeenshire\n",
       "               ...        \n",
       "50698               London\n",
       "50699                   UK\n",
       "50700               London\n",
       "50701               Surrey\n",
       "50702    South Lanarkshire\n",
       "Name: Location, Length: 50703, dtype: object"
      ]
     },
     "execution_count": 107,
     "metadata": {},
     "output_type": "execute_result"
    }
   ],
   "source": [
    "# Lets test the apply function\n",
    "print(df['Location'][0],'\\n')\n",
    "df['Location'].apply(lambda x: x.replace(\"Corn\", 'Berlin [Corn]'))\n",
    "# Yup its working great!"
   ]
  },
  {
   "cell_type": "code",
   "execution_count": 108,
   "metadata": {},
   "outputs": [
    {
     "name": "stdout",
     "output_type": "stream",
     "text": [
      "Title Index: 20335\n",
      "Company Index: 1466\n"
     ]
    }
   ],
   "source": [
    "# Before we proceed, lets record the errors\n",
    "# Getting the indexes of the errors\n",
    "err_index1 = df[df['Title'].str.match(r'(^.+\\s{2,}.+$)') == True].index\n",
    "print('Title Index:',len(err_index1))\n",
    "err_index2 = df[df['Company'].str.match(r'(^.+\\s{2,}.+$)') == True].index\n",
    "print('Company Index:',len(err_index2))\n"
   ]
  },
  {
   "cell_type": "code",
   "execution_count": 109,
   "metadata": {},
   "outputs": [],
   "source": [
    "# Error log for Title\n",
    "for i in err_index1:\n",
    "    updateErlist(i, df.loc[i]['Id'], 'Title', df.loc[i]['Title'], df.loc[i]['Title'].replace('  ',' '), 'Multiple Whitespace inside', 'Used .replace() to get rid of multiple whitespaces inside')"
   ]
  },
  {
   "cell_type": "code",
   "execution_count": 110,
   "metadata": {},
   "outputs": [],
   "source": [
    "# Error log for Company\n",
    "for i in err_index2:\n",
    "    updateErlist(i, df.loc[i]['Id'], 'Company', df.loc[i]['Company'], df.loc[i]['Company'].replace('  ',' '), 'Multiple Whitespace inside', 'Used .replace() to get rid of multiple whitespaces inside')"
   ]
  },
  {
   "cell_type": "code",
   "execution_count": 111,
   "metadata": {},
   "outputs": [
    {
     "data": {
      "text/plain": [
       "81461"
      ]
     },
     "execution_count": 111,
     "metadata": {},
     "output_type": "execute_result"
    }
   ],
   "source": [
    "len(erlist)"
   ]
  },
  {
   "cell_type": "code",
   "execution_count": 112,
   "metadata": {},
   "outputs": [],
   "source": [
    "# Applying the change\n",
    "\n",
    "# We get rid of 2 or 3 whitespaces\n",
    "df['Title'] = df['Title'].apply(lambda x: x.replace(\"  \", ' '))"
   ]
  },
  {
   "cell_type": "code",
   "execution_count": 113,
   "metadata": {},
   "outputs": [],
   "source": [
    "df['Title'] = df['Title'].apply(lambda x: x.replace(\"   \", ' '))"
   ]
  },
  {
   "cell_type": "code",
   "execution_count": 114,
   "metadata": {},
   "outputs": [],
   "source": [
    "# Also 2 or 3 whitespaces\n",
    "# Have to loop through known error indexes, as full table scan will not work as replace brings error when\n",
    "# used on a null value\n",
    "for i in err_index2:\n",
    "    df.loc[i]['Company'] = df.loc[i]['Company'].replace('  ',' ')\n",
    "    df.loc[i]['Company'] = df.loc[i]['Company'].replace('   ',' ')"
   ]
  },
  {
   "cell_type": "code",
   "execution_count": 115,
   "metadata": {},
   "outputs": [
    {
     "name": "stdout",
     "output_type": "stream",
     "text": [
      "Rows with >1 Whitespaces within them\n",
      "Id : 0\n",
      "Title : 20\n",
      "Location : 0\n",
      "Company : 951\n",
      "ContractType : 0\n",
      "ContractTime : 0\n",
      "Category : 0\n",
      "Salary : 0\n",
      "OpenDate : 0\n",
      "CloseDate : 0\n",
      "SourceName : 0\n"
     ]
    }
   ],
   "source": [
    "# Shows all rows with more than 1 whitespace in the string between words\n",
    "print('Rows with >1 Whitespaces within them')\n",
    "for i in str_col:\n",
    "    print(i,':',(df[str_col][i].str.match(r'(^.+\\s{2,}.+$)') == True).sum())"
   ]
  },
  {
   "cell_type": "markdown",
   "metadata": {},
   "source": [
    "LETS GOO!!! NO More Whitespace Errors!!!"
   ]
  },
  {
   "cell_type": "markdown",
   "metadata": {},
   "source": [
    "## Step 4: Set columns types to correct DataType"
   ]
  },
  {
   "cell_type": "code",
   "execution_count": 116,
   "metadata": {},
   "outputs": [],
   "source": [
    "#Define original df for using as our \"original\" for the error log\n",
    "ori_df = df.copy()\n",
    "# Define test df for testing\n",
    "test_df = df.copy()"
   ]
  },
  {
   "cell_type": "code",
   "execution_count": 117,
   "metadata": {
    "scrolled": true
   },
   "outputs": [
    {
     "name": "stdout",
     "output_type": "stream",
     "text": [
      "(50703, 11)\n",
      "<class 'pandas.core.frame.DataFrame'>\n",
      "RangeIndex: 50703 entries, 0 to 50702\n",
      "Data columns (total 11 columns):\n",
      " #   Column        Non-Null Count  Dtype \n",
      "---  ------        --------------  ----- \n",
      " 0   Id            50703 non-null  object\n",
      " 1   Title         50703 non-null  object\n",
      " 2   Location      50703 non-null  object\n",
      " 3   Company       50703 non-null  object\n",
      " 4   ContractType  50703 non-null  object\n",
      " 5   ContractTime  50703 non-null  object\n",
      " 6   Category      50703 non-null  object\n",
      " 7   Salary        50703 non-null  object\n",
      " 8   OpenDate      50703 non-null  object\n",
      " 9   CloseDate     50703 non-null  object\n",
      " 10  SourceName    50703 non-null  object\n",
      "dtypes: object(11)\n",
      "memory usage: 4.3+ MB\n",
      "None\n"
     ]
    },
    {
     "data": {
      "text/html": [
       "<div>\n",
       "<style scoped>\n",
       "    .dataframe tbody tr th:only-of-type {\n",
       "        vertical-align: middle;\n",
       "    }\n",
       "\n",
       "    .dataframe tbody tr th {\n",
       "        vertical-align: top;\n",
       "    }\n",
       "\n",
       "    .dataframe thead th {\n",
       "        text-align: right;\n",
       "    }\n",
       "</style>\n",
       "<table border=\"1\" class=\"dataframe\">\n",
       "  <thead>\n",
       "    <tr style=\"text-align: right;\">\n",
       "      <th></th>\n",
       "      <th>Id</th>\n",
       "      <th>Title</th>\n",
       "      <th>Location</th>\n",
       "      <th>Company</th>\n",
       "      <th>ContractType</th>\n",
       "      <th>ContractTime</th>\n",
       "      <th>Category</th>\n",
       "      <th>Salary</th>\n",
       "      <th>OpenDate</th>\n",
       "      <th>CloseDate</th>\n",
       "      <th>SourceName</th>\n",
       "    </tr>\n",
       "  </thead>\n",
       "  <tbody>\n",
       "    <tr>\n",
       "      <th>count</th>\n",
       "      <td>50703</td>\n",
       "      <td>50703</td>\n",
       "      <td>50703</td>\n",
       "      <td>50703</td>\n",
       "      <td>50703</td>\n",
       "      <td>50703</td>\n",
       "      <td>50703</td>\n",
       "      <td>50703</td>\n",
       "      <td>50703</td>\n",
       "      <td>50703</td>\n",
       "      <td>50703</td>\n",
       "    </tr>\n",
       "    <tr>\n",
       "      <th>unique</th>\n",
       "      <td>50703</td>\n",
       "      <td>50699</td>\n",
       "      <td>489</td>\n",
       "      <td>8663</td>\n",
       "      <td>3</td>\n",
       "      <td>3</td>\n",
       "      <td>8</td>\n",
       "      <td>3338</td>\n",
       "      <td>2194</td>\n",
       "      <td>2416</td>\n",
       "      <td>107</td>\n",
       "    </tr>\n",
       "    <tr>\n",
       "      <th>top</th>\n",
       "      <td>71857257</td>\n",
       "      <td>PMO Lead/PMO Manager Financial Services</td>\n",
       "      <td>UK</td>\n",
       "      <td>non-specified</td>\n",
       "      <td>non-specified</td>\n",
       "      <td>permanent</td>\n",
       "      <td>IT Jobs</td>\n",
       "      <td>35000</td>\n",
       "      <td>20120408T120000</td>\n",
       "      <td>20130420T000000</td>\n",
       "      <td>totaljobs.com</td>\n",
       "    </tr>\n",
       "    <tr>\n",
       "      <th>freq</th>\n",
       "      <td>1</td>\n",
       "      <td>2</td>\n",
       "      <td>7622</td>\n",
       "      <td>5331</td>\n",
       "      <td>37434</td>\n",
       "      <td>30324</td>\n",
       "      <td>13132</td>\n",
       "      <td>1734</td>\n",
       "      <td>42</td>\n",
       "      <td>38</td>\n",
       "      <td>8371</td>\n",
       "    </tr>\n",
       "  </tbody>\n",
       "</table>\n",
       "</div>"
      ],
      "text/plain": [
       "              Id                                    Title Location  \\\n",
       "count      50703                                    50703    50703   \n",
       "unique     50703                                    50699      489   \n",
       "top     71857257  PMO Lead/PMO Manager Financial Services       UK   \n",
       "freq           1                                        2     7622   \n",
       "\n",
       "              Company   ContractType ContractTime Category Salary  \\\n",
       "count           50703          50703        50703    50703  50703   \n",
       "unique           8663              3            3        8   3338   \n",
       "top     non-specified  non-specified    permanent  IT Jobs  35000   \n",
       "freq             5331          37434        30324    13132   1734   \n",
       "\n",
       "               OpenDate        CloseDate     SourceName  \n",
       "count             50703            50703          50703  \n",
       "unique             2194             2416            107  \n",
       "top     20120408T120000  20130420T000000  totaljobs.com  \n",
       "freq                 42               38           8371  "
      ]
     },
     "execution_count": 117,
     "metadata": {},
     "output_type": "execute_result"
    }
   ],
   "source": [
    "# Lets do the usual checks\n",
    "print(df.shape)\n",
    "print(df.info())\n",
    "df.describe()"
   ]
  },
  {
   "cell_type": "markdown",
   "metadata": {},
   "source": [
    "So it appears that Python can't actually calculate basic stats like Mean, because all the data is in string!\n",
    "\n",
    "We must convert it to the appropriate datatype for each column before we can proceed."
   ]
  },
  {
   "cell_type": "markdown",
   "metadata": {},
   "source": [
    "-   Id            --> Integer\n",
    "-   Title         --> String (Already)\n",
    "-   Location      --> String (Already)\n",
    "-   Company       --> String (Already)\n",
    "-   ContractType  --> String (Already)\n",
    "-   ContractTime  --> String (Already)\n",
    "-   Category      --> String (Already)\n",
    "-   Salary        --> Float\n",
    "-   OpenDate      --> Datetime\n",
    "-   CloseDate     --> Datetime\n",
    "-   SourceName    --> String (Already)"
   ]
  },
  {
   "cell_type": "markdown",
   "metadata": {},
   "source": [
    "### 4.1 Id Column"
   ]
  },
  {
   "cell_type": "code",
   "execution_count": 118,
   "metadata": {},
   "outputs": [
    {
     "data": {
      "text/plain": [
       "str"
      ]
     },
     "execution_count": 118,
     "metadata": {},
     "output_type": "execute_result"
    }
   ],
   "source": [
    "# Id Column is a string\n",
    "type(df[\"Id\"][0])"
   ]
  },
  {
   "cell_type": "code",
   "execution_count": 119,
   "metadata": {},
   "outputs": [],
   "source": [
    "df.Id = df.Id.astype(int)"
   ]
  },
  {
   "cell_type": "code",
   "execution_count": 120,
   "metadata": {},
   "outputs": [
    {
     "data": {
      "text/plain": [
       "numpy.int64"
      ]
     },
     "execution_count": 120,
     "metadata": {},
     "output_type": "execute_result"
    }
   ],
   "source": [
    "# Id Column is now Integer\n",
    "type(df[\"Id\"][0])"
   ]
  },
  {
   "cell_type": "code",
   "execution_count": 121,
   "metadata": {},
   "outputs": [],
   "source": [
    "# Record Error\n",
    "updateErlist('ALL', 'ALL', 'Id', 'ALL', 'ALL', \"Wrong String Datatype\", \"Converted to Integer\")"
   ]
  },
  {
   "cell_type": "markdown",
   "metadata": {},
   "source": [
    "### 4.2 Salary Column"
   ]
  },
  {
   "cell_type": "code",
   "execution_count": 122,
   "metadata": {},
   "outputs": [
    {
     "data": {
      "text/plain": [
       "str"
      ]
     },
     "execution_count": 122,
     "metadata": {},
     "output_type": "execute_result"
    }
   ],
   "source": [
    "# Lets do Salary \n",
    "type(df[\"Salary\"][0])"
   ]
  },
  {
   "cell_type": "code",
   "execution_count": 123,
   "metadata": {},
   "outputs": [
    {
     "data": {
      "text/plain": [
       "'26100 To 31100'"
      ]
     },
     "execution_count": 123,
     "metadata": {},
     "output_type": "execute_result"
    }
   ],
   "source": [
    "df[\"Salary\"][99]"
   ]
  },
  {
   "cell_type": "markdown",
   "metadata": {},
   "source": [
    "#### Looks like not all Salaries are in pure number format! We will have to deal with this.\n",
    "\n",
    "We'll get every salary thats not a full set of digits, and make that 0"
   ]
  },
  {
   "cell_type": "code",
   "execution_count": 124,
   "metadata": {},
   "outputs": [
    {
     "data": {
      "text/plain": [
       "Int64Index([   99,   119,   355,   906,  1052,  1205,  1570,  1583,  1625,\n",
       "             2021,\n",
       "            ...\n",
       "            49975, 49976, 49977, 49978, 49979, 49980, 49981, 49982, 50256,\n",
       "            50617],\n",
       "           dtype='int64', length=629)"
      ]
     },
     "execution_count": 124,
     "metadata": {},
     "output_type": "execute_result"
    }
   ],
   "source": [
    "err_index = df[(df[\"Salary\"].str.match(r'(^\\d+$)') == False)].index\n",
    "err_index"
   ]
  },
  {
   "cell_type": "markdown",
   "metadata": {},
   "source": [
    "#### Right now, we'll just set all incorrect values to zero. Later we'll convert that to the average pay (once the outliers have been taken out)"
   ]
  },
  {
   "cell_type": "code",
   "execution_count": 125,
   "metadata": {},
   "outputs": [
    {
     "data": {
      "text/plain": [
       "'26100 To 31100'"
      ]
     },
     "execution_count": 125,
     "metadata": {},
     "output_type": "execute_result"
    }
   ],
   "source": [
    "df[\"Salary\"][99]"
   ]
  },
  {
   "cell_type": "code",
   "execution_count": 126,
   "metadata": {},
   "outputs": [
    {
     "name": "stderr",
     "output_type": "stream",
     "text": [
      "<ipython-input-126-0fcc89ecc129>:3: SettingWithCopyWarning: \n",
      "A value is trying to be set on a copy of a slice from a DataFrame\n",
      "\n",
      "See the caveats in the documentation: https://pandas.pydata.org/pandas-docs/stable/user_guide/indexing.html#returning-a-view-versus-a-copy\n",
      "  df[\"Salary\"][i] = 0\n"
     ]
    }
   ],
   "source": [
    "# Making every error zero\n",
    "for i in err_index:\n",
    "    df[\"Salary\"][i] = 0"
   ]
  },
  {
   "cell_type": "code",
   "execution_count": 127,
   "metadata": {},
   "outputs": [
    {
     "data": {
      "text/plain": [
       "0"
      ]
     },
     "execution_count": 127,
     "metadata": {},
     "output_type": "execute_result"
    }
   ],
   "source": [
    "df[\"Salary\"][99]"
   ]
  },
  {
   "cell_type": "code",
   "execution_count": 128,
   "metadata": {},
   "outputs": [],
   "source": [
    "# Lets record errors now\n",
    "for i in err_index:\n",
    "    updateErlist(i, df.loc[i]['Id'], 'Salary',ori_df.loc[i][\"Salary\"], df.loc[i]['Salary'], \"Invalid Salary Value\", \"Used .replace() to replace with the Average Salary\")"
   ]
  },
  {
   "cell_type": "code",
   "execution_count": 129,
   "metadata": {},
   "outputs": [
    {
     "data": {
      "text/html": [
       "<div>\n",
       "<style scoped>\n",
       "    .dataframe tbody tr th:only-of-type {\n",
       "        vertical-align: middle;\n",
       "    }\n",
       "\n",
       "    .dataframe tbody tr th {\n",
       "        vertical-align: top;\n",
       "    }\n",
       "\n",
       "    .dataframe thead th {\n",
       "        text-align: right;\n",
       "    }\n",
       "</style>\n",
       "<table border=\"1\" class=\"dataframe\">\n",
       "  <thead>\n",
       "    <tr style=\"text-align: right;\">\n",
       "      <th></th>\n",
       "      <th>indexOfdf</th>\n",
       "      <th>Id</th>\n",
       "      <th>ColumnName</th>\n",
       "      <th>Original</th>\n",
       "      <th>Modified</th>\n",
       "      <th>ErrorType</th>\n",
       "      <th>Fixing</th>\n",
       "    </tr>\n",
       "  </thead>\n",
       "  <tbody>\n",
       "    <tr>\n",
       "      <th>82086</th>\n",
       "      <td>49980</td>\n",
       "      <td>68855272</td>\n",
       "      <td>Salary</td>\n",
       "      <td>44296.0</td>\n",
       "      <td>0</td>\n",
       "      <td>Invalid Salary Value</td>\n",
       "      <td>Used .replace() to replace with the Average Sa...</td>\n",
       "    </tr>\n",
       "    <tr>\n",
       "      <th>82087</th>\n",
       "      <td>49981</td>\n",
       "      <td>71738602</td>\n",
       "      <td>Salary</td>\n",
       "      <td>19000.0</td>\n",
       "      <td>0</td>\n",
       "      <td>Invalid Salary Value</td>\n",
       "      <td>Used .replace() to replace with the Average Sa...</td>\n",
       "    </tr>\n",
       "    <tr>\n",
       "      <th>82088</th>\n",
       "      <td>49982</td>\n",
       "      <td>71947420</td>\n",
       "      <td>Salary</td>\n",
       "      <td>65000.0</td>\n",
       "      <td>0</td>\n",
       "      <td>Invalid Salary Value</td>\n",
       "      <td>Used .replace() to replace with the Average Sa...</td>\n",
       "    </tr>\n",
       "    <tr>\n",
       "      <th>82089</th>\n",
       "      <td>50256</td>\n",
       "      <td>66553357</td>\n",
       "      <td>Salary</td>\n",
       "      <td>21500 - 26500</td>\n",
       "      <td>0</td>\n",
       "      <td>Invalid Salary Value</td>\n",
       "      <td>Used .replace() to replace with the Average Sa...</td>\n",
       "    </tr>\n",
       "    <tr>\n",
       "      <th>82090</th>\n",
       "      <td>50617</td>\n",
       "      <td>66614313</td>\n",
       "      <td>Salary</td>\n",
       "      <td>32500 To 37500</td>\n",
       "      <td>0</td>\n",
       "      <td>Invalid Salary Value</td>\n",
       "      <td>Used .replace() to replace with the Average Sa...</td>\n",
       "    </tr>\n",
       "  </tbody>\n",
       "</table>\n",
       "</div>"
      ],
      "text/plain": [
       "      indexOfdf        Id ColumnName        Original Modified  \\\n",
       "82086     49980  68855272     Salary         44296.0        0   \n",
       "82087     49981  71738602     Salary         19000.0        0   \n",
       "82088     49982  71947420     Salary         65000.0        0   \n",
       "82089     50256  66553357     Salary   21500 - 26500        0   \n",
       "82090     50617  66614313     Salary  32500 To 37500        0   \n",
       "\n",
       "                  ErrorType                                             Fixing  \n",
       "82086  Invalid Salary Value  Used .replace() to replace with the Average Sa...  \n",
       "82087  Invalid Salary Value  Used .replace() to replace with the Average Sa...  \n",
       "82088  Invalid Salary Value  Used .replace() to replace with the Average Sa...  \n",
       "82089  Invalid Salary Value  Used .replace() to replace with the Average Sa...  \n",
       "82090  Invalid Salary Value  Used .replace() to replace with the Average Sa...  "
      ]
     },
     "execution_count": 129,
     "metadata": {},
     "output_type": "execute_result"
    }
   ],
   "source": [
    "erlist.tail()"
   ]
  },
  {
   "cell_type": "markdown",
   "metadata": {},
   "source": [
    "Great so the non-acceptable values are dealt with."
   ]
  },
  {
   "cell_type": "markdown",
   "metadata": {},
   "source": [
    "### Converting to Float"
   ]
  },
  {
   "cell_type": "code",
   "execution_count": 130,
   "metadata": {},
   "outputs": [],
   "source": [
    "# Setting to float\n",
    "df[\"Salary\"] = df[\"Salary\"].astype(float)"
   ]
  },
  {
   "cell_type": "code",
   "execution_count": 131,
   "metadata": {
    "scrolled": true
   },
   "outputs": [
    {
     "name": "stdout",
     "output_type": "stream",
     "text": [
      "<class 'pandas.core.frame.DataFrame'>\n",
      "RangeIndex: 50703 entries, 0 to 50702\n",
      "Data columns (total 11 columns):\n",
      " #   Column        Non-Null Count  Dtype  \n",
      "---  ------        --------------  -----  \n",
      " 0   Id            50703 non-null  int64  \n",
      " 1   Title         50703 non-null  object \n",
      " 2   Location      50703 non-null  object \n",
      " 3   Company       50703 non-null  object \n",
      " 4   ContractType  50703 non-null  object \n",
      " 5   ContractTime  50703 non-null  object \n",
      " 6   Category      50703 non-null  object \n",
      " 7   Salary        50703 non-null  float64\n",
      " 8   OpenDate      50703 non-null  object \n",
      " 9   CloseDate     50703 non-null  object \n",
      " 10  SourceName    50703 non-null  object \n",
      "dtypes: float64(1), int64(1), object(9)\n",
      "memory usage: 4.3+ MB\n"
     ]
    }
   ],
   "source": [
    "df.info()"
   ]
  },
  {
   "cell_type": "markdown",
   "metadata": {},
   "source": [
    "### (Additional) Converting Hourly pay to Annual pay\n",
    "\n",
    "Lets find all the hourly pay. We can assume that all hourly pay is below 200 (unrealistically high) and above 7.83 (England minimum wage).\n",
    "\n",
    "We also know via https://clockify.me/working-hours that the average amount of hours worked is 1730 hours per year in the UK."
   ]
  },
  {
   "cell_type": "code",
   "execution_count": 132,
   "metadata": {},
   "outputs": [
    {
     "data": {
      "text/plain": [
       "Int64Index([  102,  1780,  6010,  7482,  8420,  9057,  9622, 12108, 14692,\n",
       "            15018, 15447, 15968, 17281, 18046, 18463, 19639, 19646, 20245,\n",
       "            21021, 21192, 22007, 22030, 23377, 24227, 24683, 26760, 26960,\n",
       "            28594, 29973, 30658, 31923, 31940, 32033, 32688, 33619, 34815,\n",
       "            35531, 39395, 39893, 40511, 41733, 43541, 45340, 45370, 45938,\n",
       "            46031, 46193, 46299, 46687, 49788],\n",
       "           dtype='int64')"
      ]
     },
     "execution_count": 132,
     "metadata": {},
     "output_type": "execute_result"
    }
   ],
   "source": [
    "err_index = df[(df[\"Salary\"]<200)&(df[\"Salary\"]>7.83)].index\n",
    "err_index"
   ]
  },
  {
   "cell_type": "code",
   "execution_count": 133,
   "metadata": {},
   "outputs": [
    {
     "data": {
      "text/plain": [
       "25.0"
      ]
     },
     "execution_count": 133,
     "metadata": {},
     "output_type": "execute_result"
    }
   ],
   "source": [
    "df[\"Salary\"][6010]"
   ]
  },
  {
   "cell_type": "code",
   "execution_count": 134,
   "metadata": {
    "scrolled": true
   },
   "outputs": [
    {
     "name": "stderr",
     "output_type": "stream",
     "text": [
      "<ipython-input-134-fa4e8073fba5>:2: SettingWithCopyWarning: \n",
      "A value is trying to be set on a copy of a slice from a DataFrame\n",
      "\n",
      "See the caveats in the documentation: https://pandas.pydata.org/pandas-docs/stable/user_guide/indexing.html#returning-a-view-versus-a-copy\n",
      "  df[\"Salary\"][i] = (df[\"Salary\"][i])*1730\n"
     ]
    }
   ],
   "source": [
    "for i in err_index:\n",
    "    df[\"Salary\"][i] = (df[\"Salary\"][i])*1730"
   ]
  },
  {
   "cell_type": "code",
   "execution_count": 135,
   "metadata": {
    "scrolled": true
   },
   "outputs": [
    {
     "data": {
      "text/plain": [
       "43250.0"
      ]
     },
     "execution_count": 135,
     "metadata": {},
     "output_type": "execute_result"
    }
   ],
   "source": [
    "df[\"Salary\"][6010]"
   ]
  },
  {
   "cell_type": "code",
   "execution_count": 136,
   "metadata": {},
   "outputs": [],
   "source": [
    "# Lets record errors now\n",
    "for i in err_index:\n",
    "    updateErlist(i, df.loc[i]['Id'], 'Salary',ori_df.loc[i][\"Salary\"], df.loc[i]['Salary'], \"Salary in Hourly value\", \"Converted hourly wage to annual wage\")"
   ]
  },
  {
   "cell_type": "markdown",
   "metadata": {},
   "source": [
    "#### Rounding to 2 d.p"
   ]
  },
  {
   "cell_type": "code",
   "execution_count": 137,
   "metadata": {},
   "outputs": [
    {
     "data": {
      "text/plain": [
       "62280.0"
      ]
     },
     "execution_count": 137,
     "metadata": {},
     "output_type": "execute_result"
    }
   ],
   "source": [
    "df['Salary'][102]"
   ]
  },
  {
   "cell_type": "code",
   "execution_count": 138,
   "metadata": {},
   "outputs": [],
   "source": [
    "df[\"Salary\"] = round(df[\"Salary\"],2)"
   ]
  },
  {
   "cell_type": "code",
   "execution_count": 139,
   "metadata": {},
   "outputs": [
    {
     "data": {
      "text/plain": [
       "62280.0"
      ]
     },
     "execution_count": 139,
     "metadata": {},
     "output_type": "execute_result"
    }
   ],
   "source": [
    "df['Salary'][102]"
   ]
  },
  {
   "cell_type": "code",
   "execution_count": 140,
   "metadata": {},
   "outputs": [],
   "source": [
    "# Record Error\n",
    "updateErlist('ALL', 'ALL', 'Salary', 'ALL', 'ALL', \"Wrong String Datatype\", \"Converted to Float with 2 d.p\")"
   ]
  },
  {
   "cell_type": "markdown",
   "metadata": {},
   "source": [
    "Yup all rounded and good to go!"
   ]
  },
  {
   "cell_type": "markdown",
   "metadata": {},
   "source": [
    "### 4.3 Date"
   ]
  },
  {
   "cell_type": "code",
   "execution_count": 141,
   "metadata": {},
   "outputs": [],
   "source": [
    "# Converting the Date"
   ]
  },
  {
   "cell_type": "code",
   "execution_count": 142,
   "metadata": {
    "scrolled": true
   },
   "outputs": [
    {
     "name": "stdout",
     "output_type": "stream",
     "text": [
      "<class 'pandas.core.frame.DataFrame'>\n",
      "RangeIndex: 50703 entries, 0 to 50702\n",
      "Data columns (total 11 columns):\n",
      " #   Column        Non-Null Count  Dtype  \n",
      "---  ------        --------------  -----  \n",
      " 0   Id            50703 non-null  int64  \n",
      " 1   Title         50703 non-null  object \n",
      " 2   Location      50703 non-null  object \n",
      " 3   Company       50703 non-null  object \n",
      " 4   ContractType  50703 non-null  object \n",
      " 5   ContractTime  50703 non-null  object \n",
      " 6   Category      50703 non-null  object \n",
      " 7   Salary        50703 non-null  float64\n",
      " 8   OpenDate      50703 non-null  object \n",
      " 9   CloseDate     50703 non-null  object \n",
      " 10  SourceName    50703 non-null  object \n",
      "dtypes: float64(1), int64(1), object(9)\n",
      "memory usage: 4.3+ MB\n"
     ]
    }
   ],
   "source": [
    "df.info()"
   ]
  },
  {
   "cell_type": "code",
   "execution_count": 143,
   "metadata": {},
   "outputs": [
    {
     "name": "stdout",
     "output_type": "stream",
     "text": [
      "2012-05-31 15:00:00\n",
      "<class 'datetime.datetime'>\n"
     ]
    }
   ],
   "source": [
    "# Convert to actual datetime format\n",
    "test = '20120531T150000'\n",
    "date_test = datetime.strptime(test, '%Y%m%dT%H%M%S')\n",
    "print(date_test)\n",
    "print(type(date_test))\n"
   ]
  },
  {
   "cell_type": "code",
   "execution_count": 144,
   "metadata": {},
   "outputs": [
    {
     "data": {
      "text/plain": [
       "'20120531T150000'"
      ]
     },
     "execution_count": 144,
     "metadata": {},
     "output_type": "execute_result"
    }
   ],
   "source": [
    "test_df[\"OpenDate\"][0]"
   ]
  },
  {
   "cell_type": "code",
   "execution_count": 145,
   "metadata": {
    "scrolled": true
   },
   "outputs": [],
   "source": [
    "# Gives error\n",
    "#pd.to_datetime(test_df[\"OpenDate\"], format = '%Y%m%dT%H%M%S')"
   ]
  },
  {
   "cell_type": "markdown",
   "metadata": {},
   "source": [
    "Oh an error! Hmm this one has the Month as 20... I think they got the month and day swapped. Lets swap it back for them."
   ]
  },
  {
   "cell_type": "code",
   "execution_count": 146,
   "metadata": {},
   "outputs": [
    {
     "data": {
      "text/html": [
       "<div>\n",
       "<style scoped>\n",
       "    .dataframe tbody tr th:only-of-type {\n",
       "        vertical-align: middle;\n",
       "    }\n",
       "\n",
       "    .dataframe tbody tr th {\n",
       "        vertical-align: top;\n",
       "    }\n",
       "\n",
       "    .dataframe thead th {\n",
       "        text-align: right;\n",
       "    }\n",
       "</style>\n",
       "<table border=\"1\" class=\"dataframe\">\n",
       "  <thead>\n",
       "    <tr style=\"text-align: right;\">\n",
       "      <th></th>\n",
       "      <th>Id</th>\n",
       "      <th>Title</th>\n",
       "      <th>Location</th>\n",
       "      <th>Company</th>\n",
       "      <th>ContractType</th>\n",
       "      <th>ContractTime</th>\n",
       "      <th>Category</th>\n",
       "      <th>Salary</th>\n",
       "      <th>OpenDate</th>\n",
       "      <th>CloseDate</th>\n",
       "      <th>SourceName</th>\n",
       "    </tr>\n",
       "  </thead>\n",
       "  <tbody>\n",
       "    <tr>\n",
       "      <th>36622</th>\n",
       "      <td>52784801</td>\n",
       "      <td>RGN/RMN Home Manager, Leicester ****</td>\n",
       "      <td>Leicester</td>\n",
       "      <td>non-specified</td>\n",
       "      <td>non-specified</td>\n",
       "      <td>non-specified</td>\n",
       "      <td>Healthcare &amp; Nursing Jobs</td>\n",
       "      <td>35000.0</td>\n",
       "      <td>20132006T120000</td>\n",
       "      <td>20130720T120000</td>\n",
       "      <td>careworx.co.uk</td>\n",
       "    </tr>\n",
       "  </tbody>\n",
       "</table>\n",
       "</div>"
      ],
      "text/plain": [
       "             Id                                 Title   Location  \\\n",
       "36622  52784801  RGN/RMN Home Manager, Leicester ****  Leicester   \n",
       "\n",
       "             Company   ContractType   ContractTime                   Category  \\\n",
       "36622  non-specified  non-specified  non-specified  Healthcare & Nursing Jobs   \n",
       "\n",
       "        Salary         OpenDate        CloseDate      SourceName  \n",
       "36622  35000.0  20132006T120000  20130720T120000  careworx.co.uk  "
      ]
     },
     "execution_count": 146,
     "metadata": {},
     "output_type": "execute_result"
    }
   ],
   "source": [
    "df[df[\"OpenDate\"] == '20132006T120000']"
   ]
  },
  {
   "cell_type": "code",
   "execution_count": 147,
   "metadata": {},
   "outputs": [],
   "source": [
    "# They must have meant 20130620T120000\n",
    "df.at[36622, \"OpenDate\"] = '20130620T120000'"
   ]
  },
  {
   "cell_type": "code",
   "execution_count": 148,
   "metadata": {},
   "outputs": [
    {
     "data": {
      "text/plain": [
       "0       2012-05-31 15:00:00\n",
       "1       2013-11-19 00:00:00\n",
       "2       2013-12-11 15:00:00\n",
       "3       2012-03-01 00:00:00\n",
       "4       2013-11-24 12:00:00\n",
       "                ...        \n",
       "50698   2012-01-12 12:00:00\n",
       "50699   2012-08-11 00:00:00\n",
       "50700   2012-07-29 15:00:00\n",
       "50701   2012-03-09 15:00:00\n",
       "50702   2013-01-19 00:00:00\n",
       "Name: OpenDate, Length: 50703, dtype: datetime64[ns]"
      ]
     },
     "execution_count": 148,
     "metadata": {},
     "output_type": "execute_result"
    }
   ],
   "source": [
    "# Lets try it now\n",
    "df[\"OpenDate\"] = pd.to_datetime(df[\"OpenDate\"], format = '%Y%m%dT%H%M%S')\n",
    "df[\"OpenDate\"]"
   ]
  },
  {
   "cell_type": "markdown",
   "metadata": {},
   "source": [
    "Beautiful. It worked. Lets do the same for the Closedate column"
   ]
  },
  {
   "cell_type": "code",
   "execution_count": 149,
   "metadata": {},
   "outputs": [
    {
     "data": {
      "text/plain": [
       "0       2012-06-14 15:00:00\n",
       "1       2014-01-18 00:00:00\n",
       "2       2013-12-25 15:00:00\n",
       "3       2012-03-15 00:00:00\n",
       "4       2013-12-08 12:00:00\n",
       "                ...        \n",
       "50698   2012-03-12 12:00:00\n",
       "50699   2012-10-10 00:00:00\n",
       "50700   2012-08-28 15:00:00\n",
       "50701   2012-06-07 15:00:00\n",
       "50702   2013-04-19 00:00:00\n",
       "Name: CloseDate, Length: 50703, dtype: datetime64[ns]"
      ]
     },
     "execution_count": 149,
     "metadata": {},
     "output_type": "execute_result"
    }
   ],
   "source": [
    "df[\"CloseDate\"] = pd.to_datetime(df[\"CloseDate\"], format = '%Y%m%dT%H%M%S')\n",
    "df[\"CloseDate\"]"
   ]
  },
  {
   "cell_type": "code",
   "execution_count": 150,
   "metadata": {},
   "outputs": [],
   "source": [
    "# Record Error\n",
    "updateErlist('36622', '52784801', 'OpenDate', '20132006T120000','20130620T120000' , \"Wrong DateTime Format\", \"Swapped Month and Day to correct DateTime Format\")"
   ]
  },
  {
   "cell_type": "code",
   "execution_count": 151,
   "metadata": {},
   "outputs": [],
   "source": [
    "# Record Error\n",
    "updateErlist('ALL', 'ALL', 'OpenDate', 'ALL', 'ALL', \"Wrong Datatype (String)\", \"Converted to DateTime with to_datetime()\")"
   ]
  },
  {
   "cell_type": "code",
   "execution_count": 152,
   "metadata": {},
   "outputs": [],
   "source": [
    "# Record Error\n",
    "updateErlist('ALL', 'ALL', 'CloseDate', 'ALL', 'ALL', \"Wrong Datatype (String)\", \"Converted to DateTime with to_datetime()\")"
   ]
  },
  {
   "cell_type": "markdown",
   "metadata": {},
   "source": [
    "## Step 5: Check for Duplicates"
   ]
  },
  {
   "cell_type": "markdown",
   "metadata": {},
   "source": [
    "The only columns where duplicates would be unacceptable would be the Id, and Title Column."
   ]
  },
  {
   "cell_type": "markdown",
   "metadata": {},
   "source": [
    "### 5.1 Id"
   ]
  },
  {
   "cell_type": "code",
   "execution_count": 153,
   "metadata": {},
   "outputs": [],
   "source": [
    "#Define original df for using as our \"original\" for the error log\n",
    "ori_df = df.copy()\n",
    "# Define test df for testing\n",
    "test_df = df.copy()"
   ]
  },
  {
   "cell_type": "code",
   "execution_count": 154,
   "metadata": {},
   "outputs": [
    {
     "data": {
      "text/html": [
       "<div>\n",
       "<style scoped>\n",
       "    .dataframe tbody tr th:only-of-type {\n",
       "        vertical-align: middle;\n",
       "    }\n",
       "\n",
       "    .dataframe tbody tr th {\n",
       "        vertical-align: top;\n",
       "    }\n",
       "\n",
       "    .dataframe thead th {\n",
       "        text-align: right;\n",
       "    }\n",
       "</style>\n",
       "<table border=\"1\" class=\"dataframe\">\n",
       "  <thead>\n",
       "    <tr style=\"text-align: right;\">\n",
       "      <th></th>\n",
       "      <th>Id</th>\n",
       "      <th>Title</th>\n",
       "      <th>Location</th>\n",
       "      <th>Company</th>\n",
       "      <th>ContractType</th>\n",
       "      <th>ContractTime</th>\n",
       "      <th>Category</th>\n",
       "      <th>Salary</th>\n",
       "      <th>OpenDate</th>\n",
       "      <th>CloseDate</th>\n",
       "      <th>SourceName</th>\n",
       "    </tr>\n",
       "  </thead>\n",
       "  <tbody>\n",
       "  </tbody>\n",
       "</table>\n",
       "</div>"
      ],
      "text/plain": [
       "Empty DataFrame\n",
       "Columns: [Id, Title, Location, Company, ContractType, ContractTime, Category, Salary, OpenDate, CloseDate, SourceName]\n",
       "Index: []"
      ]
     },
     "execution_count": 154,
     "metadata": {},
     "output_type": "execute_result"
    }
   ],
   "source": [
    "# Id duplicates\n",
    "df[df.duplicated(['Id']) == True]"
   ]
  },
  {
   "cell_type": "markdown",
   "metadata": {},
   "source": [
    "No duplicates here. Onto the Title."
   ]
  },
  {
   "cell_type": "markdown",
   "metadata": {},
   "source": [
    "### 5.2 Title"
   ]
  },
  {
   "cell_type": "code",
   "execution_count": 155,
   "metadata": {},
   "outputs": [
    {
     "data": {
      "text/plain": [
       "4"
      ]
     },
     "execution_count": 155,
     "metadata": {},
     "output_type": "execute_result"
    }
   ],
   "source": [
    "# Num of Title duplicates\n",
    "(df.duplicated(['Title']) == True).sum()"
   ]
  },
  {
   "cell_type": "code",
   "execution_count": 156,
   "metadata": {},
   "outputs": [
    {
     "data": {
      "text/html": [
       "<div>\n",
       "<style scoped>\n",
       "    .dataframe tbody tr th:only-of-type {\n",
       "        vertical-align: middle;\n",
       "    }\n",
       "\n",
       "    .dataframe tbody tr th {\n",
       "        vertical-align: top;\n",
       "    }\n",
       "\n",
       "    .dataframe thead th {\n",
       "        text-align: right;\n",
       "    }\n",
       "</style>\n",
       "<table border=\"1\" class=\"dataframe\">\n",
       "  <thead>\n",
       "    <tr style=\"text-align: right;\">\n",
       "      <th></th>\n",
       "      <th>Id</th>\n",
       "      <th>Title</th>\n",
       "      <th>Location</th>\n",
       "      <th>Company</th>\n",
       "      <th>ContractType</th>\n",
       "      <th>ContractTime</th>\n",
       "      <th>Category</th>\n",
       "      <th>Salary</th>\n",
       "      <th>OpenDate</th>\n",
       "      <th>CloseDate</th>\n",
       "      <th>SourceName</th>\n",
       "    </tr>\n",
       "  </thead>\n",
       "  <tbody>\n",
       "    <tr>\n",
       "      <th>46093</th>\n",
       "      <td>68496346</td>\n",
       "      <td>KS**** Year 2 Teacher To Start Immediately</td>\n",
       "      <td>Derbyshire</td>\n",
       "      <td>The London Teaching Pool Ltd</td>\n",
       "      <td>full_time</td>\n",
       "      <td>permanent</td>\n",
       "      <td>Teaching Jobs</td>\n",
       "      <td>30600.0</td>\n",
       "      <td>2012-03-20 00:00:00</td>\n",
       "      <td>2012-05-19 00:00:00</td>\n",
       "      <td>jobsineducation.co.uk</td>\n",
       "    </tr>\n",
       "    <tr>\n",
       "      <th>46229</th>\n",
       "      <td>68496364</td>\n",
       "      <td>Direct Reinsurance Technical Underwriting Assi...</td>\n",
       "      <td>London</td>\n",
       "      <td>Insight Recruitment Solutions Ltd.</td>\n",
       "      <td>non-specified</td>\n",
       "      <td>permanent</td>\n",
       "      <td>Accounting &amp; Finance Jobs</td>\n",
       "      <td>30000.0</td>\n",
       "      <td>2012-09-21 15:00:00</td>\n",
       "      <td>2012-11-20 15:00:00</td>\n",
       "      <td>onlineinsurancejobs.co.uk</td>\n",
       "    </tr>\n",
       "    <tr>\n",
       "      <th>49852</th>\n",
       "      <td>68496400</td>\n",
       "      <td>PMO Lead/PMO Manager Financial Services</td>\n",
       "      <td>Cambridge</td>\n",
       "      <td>Lawrence Harvey Search Selection</td>\n",
       "      <td>non-specified</td>\n",
       "      <td>permanent</td>\n",
       "      <td>Accounting &amp; Finance Jobs</td>\n",
       "      <td>37500.0</td>\n",
       "      <td>2013-04-11 00:00:00</td>\n",
       "      <td>2013-06-10 00:00:00</td>\n",
       "      <td>tntjobs.co.uk</td>\n",
       "    </tr>\n",
       "    <tr>\n",
       "      <th>50665</th>\n",
       "      <td>68496382</td>\n",
       "      <td>Registered Estate Manager</td>\n",
       "      <td>West Sussex</td>\n",
       "      <td>Forces Recruitment Services Ltd</td>\n",
       "      <td>full_time</td>\n",
       "      <td>permanent</td>\n",
       "      <td>Healthcare &amp; Nursing Jobs</td>\n",
       "      <td>28500.0</td>\n",
       "      <td>2013-05-02 00:00:00</td>\n",
       "      <td>2013-06-01 00:00:00</td>\n",
       "      <td>jobsinsocialwork.co.uk</td>\n",
       "    </tr>\n",
       "  </tbody>\n",
       "</table>\n",
       "</div>"
      ],
      "text/plain": [
       "             Id                                              Title  \\\n",
       "46093  68496346         KS**** Year 2 Teacher To Start Immediately   \n",
       "46229  68496364  Direct Reinsurance Technical Underwriting Assi...   \n",
       "49852  68496400            PMO Lead/PMO Manager Financial Services   \n",
       "50665  68496382                          Registered Estate Manager   \n",
       "\n",
       "          Location                             Company   ContractType  \\\n",
       "46093   Derbyshire        The London Teaching Pool Ltd      full_time   \n",
       "46229       London  Insight Recruitment Solutions Ltd.  non-specified   \n",
       "49852    Cambridge    Lawrence Harvey Search Selection  non-specified   \n",
       "50665  West Sussex     Forces Recruitment Services Ltd      full_time   \n",
       "\n",
       "      ContractTime                   Category   Salary            OpenDate  \\\n",
       "46093    permanent              Teaching Jobs  30600.0 2012-03-20 00:00:00   \n",
       "46229    permanent  Accounting & Finance Jobs  30000.0 2012-09-21 15:00:00   \n",
       "49852    permanent  Accounting & Finance Jobs  37500.0 2013-04-11 00:00:00   \n",
       "50665    permanent  Healthcare & Nursing Jobs  28500.0 2013-05-02 00:00:00   \n",
       "\n",
       "                CloseDate                 SourceName  \n",
       "46093 2012-05-19 00:00:00      jobsineducation.co.uk  \n",
       "46229 2012-11-20 15:00:00  onlineinsurancejobs.co.uk  \n",
       "49852 2013-06-10 00:00:00              tntjobs.co.uk  \n",
       "50665 2013-06-01 00:00:00     jobsinsocialwork.co.uk  "
      ]
     },
     "execution_count": 156,
     "metadata": {},
     "output_type": "execute_result"
    }
   ],
   "source": [
    "# Find ID of rows where there are duplicates\n",
    "test_df[test_df.duplicated(['Title']) == True]"
   ]
  },
  {
   "cell_type": "markdown",
   "metadata": {},
   "source": [
    "The 4 below are true duplicates, as every single detail is the same. This indicates a high chance of data entry error, hence we will get rid of it. This was most likely an accident by the data entry clerk."
   ]
  },
  {
   "cell_type": "code",
   "execution_count": 157,
   "metadata": {},
   "outputs": [
    {
     "data": {
      "text/html": [
       "<div>\n",
       "<style scoped>\n",
       "    .dataframe tbody tr th:only-of-type {\n",
       "        vertical-align: middle;\n",
       "    }\n",
       "\n",
       "    .dataframe tbody tr th {\n",
       "        vertical-align: top;\n",
       "    }\n",
       "\n",
       "    .dataframe thead th {\n",
       "        text-align: right;\n",
       "    }\n",
       "</style>\n",
       "<table border=\"1\" class=\"dataframe\">\n",
       "  <thead>\n",
       "    <tr style=\"text-align: right;\">\n",
       "      <th></th>\n",
       "      <th>Id</th>\n",
       "      <th>Title</th>\n",
       "      <th>Location</th>\n",
       "      <th>Company</th>\n",
       "      <th>ContractType</th>\n",
       "      <th>ContractTime</th>\n",
       "      <th>Category</th>\n",
       "      <th>Salary</th>\n",
       "      <th>OpenDate</th>\n",
       "      <th>CloseDate</th>\n",
       "      <th>SourceName</th>\n",
       "    </tr>\n",
       "  </thead>\n",
       "  <tbody>\n",
       "    <tr>\n",
       "      <th>46070</th>\n",
       "      <td>71597483</td>\n",
       "      <td>KS**** Year 2 Teacher To Start Immediately</td>\n",
       "      <td>Derbyshire</td>\n",
       "      <td>The London Teaching Pool Ltd</td>\n",
       "      <td>full_time</td>\n",
       "      <td>permanent</td>\n",
       "      <td>Teaching Jobs</td>\n",
       "      <td>30600.0</td>\n",
       "      <td>2012-03-20</td>\n",
       "      <td>2012-05-19</td>\n",
       "      <td>jobsineducation.co.uk</td>\n",
       "    </tr>\n",
       "    <tr>\n",
       "      <th>46093</th>\n",
       "      <td>68496346</td>\n",
       "      <td>KS**** Year 2 Teacher To Start Immediately</td>\n",
       "      <td>Derbyshire</td>\n",
       "      <td>The London Teaching Pool Ltd</td>\n",
       "      <td>full_time</td>\n",
       "      <td>permanent</td>\n",
       "      <td>Teaching Jobs</td>\n",
       "      <td>30600.0</td>\n",
       "      <td>2012-03-20</td>\n",
       "      <td>2012-05-19</td>\n",
       "      <td>jobsineducation.co.uk</td>\n",
       "    </tr>\n",
       "  </tbody>\n",
       "</table>\n",
       "</div>"
      ],
      "text/plain": [
       "             Id                                       Title    Location  \\\n",
       "46070  71597483  KS**** Year 2 Teacher To Start Immediately  Derbyshire   \n",
       "46093  68496346  KS**** Year 2 Teacher To Start Immediately  Derbyshire   \n",
       "\n",
       "                            Company ContractType ContractTime       Category  \\\n",
       "46070  The London Teaching Pool Ltd    full_time    permanent  Teaching Jobs   \n",
       "46093  The London Teaching Pool Ltd    full_time    permanent  Teaching Jobs   \n",
       "\n",
       "        Salary   OpenDate  CloseDate             SourceName  \n",
       "46070  30600.0 2012-03-20 2012-05-19  jobsineducation.co.uk  \n",
       "46093  30600.0 2012-03-20 2012-05-19  jobsineducation.co.uk  "
      ]
     },
     "execution_count": 157,
     "metadata": {},
     "output_type": "execute_result"
    }
   ],
   "source": [
    "# 1\n",
    "df[df[\"Title\"] == df[\"Title\"][46093]]"
   ]
  },
  {
   "cell_type": "code",
   "execution_count": 158,
   "metadata": {},
   "outputs": [
    {
     "data": {
      "text/html": [
       "<div>\n",
       "<style scoped>\n",
       "    .dataframe tbody tr th:only-of-type {\n",
       "        vertical-align: middle;\n",
       "    }\n",
       "\n",
       "    .dataframe tbody tr th {\n",
       "        vertical-align: top;\n",
       "    }\n",
       "\n",
       "    .dataframe thead th {\n",
       "        text-align: right;\n",
       "    }\n",
       "</style>\n",
       "<table border=\"1\" class=\"dataframe\">\n",
       "  <thead>\n",
       "    <tr style=\"text-align: right;\">\n",
       "      <th></th>\n",
       "      <th>Id</th>\n",
       "      <th>Title</th>\n",
       "      <th>Location</th>\n",
       "      <th>Company</th>\n",
       "      <th>ContractType</th>\n",
       "      <th>ContractTime</th>\n",
       "      <th>Category</th>\n",
       "      <th>Salary</th>\n",
       "      <th>OpenDate</th>\n",
       "      <th>CloseDate</th>\n",
       "      <th>SourceName</th>\n",
       "    </tr>\n",
       "  </thead>\n",
       "  <tbody>\n",
       "    <tr>\n",
       "      <th>46180</th>\n",
       "      <td>69035650</td>\n",
       "      <td>Direct Reinsurance Technical Underwriting Assi...</td>\n",
       "      <td>London</td>\n",
       "      <td>Insight Recruitment Solutions Ltd</td>\n",
       "      <td>non-specified</td>\n",
       "      <td>permanent</td>\n",
       "      <td>Accounting &amp; Finance Jobs</td>\n",
       "      <td>30000.0</td>\n",
       "      <td>2012-09-21 15:00:00</td>\n",
       "      <td>2012-11-20 15:00:00</td>\n",
       "      <td>onlineinsurancejobs.co.uk</td>\n",
       "    </tr>\n",
       "    <tr>\n",
       "      <th>46229</th>\n",
       "      <td>68496364</td>\n",
       "      <td>Direct Reinsurance Technical Underwriting Assi...</td>\n",
       "      <td>London</td>\n",
       "      <td>Insight Recruitment Solutions Ltd.</td>\n",
       "      <td>non-specified</td>\n",
       "      <td>permanent</td>\n",
       "      <td>Accounting &amp; Finance Jobs</td>\n",
       "      <td>30000.0</td>\n",
       "      <td>2012-09-21 15:00:00</td>\n",
       "      <td>2012-11-20 15:00:00</td>\n",
       "      <td>onlineinsurancejobs.co.uk</td>\n",
       "    </tr>\n",
       "  </tbody>\n",
       "</table>\n",
       "</div>"
      ],
      "text/plain": [
       "             Id                                              Title Location  \\\n",
       "46180  69035650  Direct Reinsurance Technical Underwriting Assi...   London   \n",
       "46229  68496364  Direct Reinsurance Technical Underwriting Assi...   London   \n",
       "\n",
       "                                  Company   ContractType ContractTime  \\\n",
       "46180   Insight Recruitment Solutions Ltd  non-specified    permanent   \n",
       "46229  Insight Recruitment Solutions Ltd.  non-specified    permanent   \n",
       "\n",
       "                        Category   Salary            OpenDate  \\\n",
       "46180  Accounting & Finance Jobs  30000.0 2012-09-21 15:00:00   \n",
       "46229  Accounting & Finance Jobs  30000.0 2012-09-21 15:00:00   \n",
       "\n",
       "                CloseDate                 SourceName  \n",
       "46180 2012-11-20 15:00:00  onlineinsurancejobs.co.uk  \n",
       "46229 2012-11-20 15:00:00  onlineinsurancejobs.co.uk  "
      ]
     },
     "execution_count": 158,
     "metadata": {},
     "output_type": "execute_result"
    }
   ],
   "source": [
    "# 2\n",
    "df[df[\"Title\"] == df[\"Title\"][46229]]"
   ]
  },
  {
   "cell_type": "code",
   "execution_count": 159,
   "metadata": {},
   "outputs": [
    {
     "data": {
      "text/html": [
       "<div>\n",
       "<style scoped>\n",
       "    .dataframe tbody tr th:only-of-type {\n",
       "        vertical-align: middle;\n",
       "    }\n",
       "\n",
       "    .dataframe tbody tr th {\n",
       "        vertical-align: top;\n",
       "    }\n",
       "\n",
       "    .dataframe thead th {\n",
       "        text-align: right;\n",
       "    }\n",
       "</style>\n",
       "<table border=\"1\" class=\"dataframe\">\n",
       "  <thead>\n",
       "    <tr style=\"text-align: right;\">\n",
       "      <th></th>\n",
       "      <th>Id</th>\n",
       "      <th>Title</th>\n",
       "      <th>Location</th>\n",
       "      <th>Company</th>\n",
       "      <th>ContractType</th>\n",
       "      <th>ContractTime</th>\n",
       "      <th>Category</th>\n",
       "      <th>Salary</th>\n",
       "      <th>OpenDate</th>\n",
       "      <th>CloseDate</th>\n",
       "      <th>SourceName</th>\n",
       "    </tr>\n",
       "  </thead>\n",
       "  <tbody>\n",
       "    <tr>\n",
       "      <th>49831</th>\n",
       "      <td>71592036</td>\n",
       "      <td>PMO Lead/PMO Manager Financial Services</td>\n",
       "      <td>Cambridge</td>\n",
       "      <td>Lawrence Harvey Search Selection</td>\n",
       "      <td>non-specified</td>\n",
       "      <td>permanent</td>\n",
       "      <td>Accounting &amp; Finance Jobs</td>\n",
       "      <td>37500.0</td>\n",
       "      <td>2013-04-11</td>\n",
       "      <td>2013-06-10</td>\n",
       "      <td>tntjobs.co.uk</td>\n",
       "    </tr>\n",
       "    <tr>\n",
       "      <th>49852</th>\n",
       "      <td>68496400</td>\n",
       "      <td>PMO Lead/PMO Manager Financial Services</td>\n",
       "      <td>Cambridge</td>\n",
       "      <td>Lawrence Harvey Search Selection</td>\n",
       "      <td>non-specified</td>\n",
       "      <td>permanent</td>\n",
       "      <td>Accounting &amp; Finance Jobs</td>\n",
       "      <td>37500.0</td>\n",
       "      <td>2013-04-11</td>\n",
       "      <td>2013-06-10</td>\n",
       "      <td>tntjobs.co.uk</td>\n",
       "    </tr>\n",
       "  </tbody>\n",
       "</table>\n",
       "</div>"
      ],
      "text/plain": [
       "             Id                                    Title   Location  \\\n",
       "49831  71592036  PMO Lead/PMO Manager Financial Services  Cambridge   \n",
       "49852  68496400  PMO Lead/PMO Manager Financial Services  Cambridge   \n",
       "\n",
       "                                Company   ContractType ContractTime  \\\n",
       "49831  Lawrence Harvey Search Selection  non-specified    permanent   \n",
       "49852  Lawrence Harvey Search Selection  non-specified    permanent   \n",
       "\n",
       "                        Category   Salary   OpenDate  CloseDate     SourceName  \n",
       "49831  Accounting & Finance Jobs  37500.0 2013-04-11 2013-06-10  tntjobs.co.uk  \n",
       "49852  Accounting & Finance Jobs  37500.0 2013-04-11 2013-06-10  tntjobs.co.uk  "
      ]
     },
     "execution_count": 159,
     "metadata": {},
     "output_type": "execute_result"
    }
   ],
   "source": [
    "# 3\n",
    "df[df[\"Title\"] == df[\"Title\"][49852]]"
   ]
  },
  {
   "cell_type": "code",
   "execution_count": 160,
   "metadata": {},
   "outputs": [
    {
     "data": {
      "text/html": [
       "<div>\n",
       "<style scoped>\n",
       "    .dataframe tbody tr th:only-of-type {\n",
       "        vertical-align: middle;\n",
       "    }\n",
       "\n",
       "    .dataframe tbody tr th {\n",
       "        vertical-align: top;\n",
       "    }\n",
       "\n",
       "    .dataframe thead th {\n",
       "        text-align: right;\n",
       "    }\n",
       "</style>\n",
       "<table border=\"1\" class=\"dataframe\">\n",
       "  <thead>\n",
       "    <tr style=\"text-align: right;\">\n",
       "      <th></th>\n",
       "      <th>Id</th>\n",
       "      <th>Title</th>\n",
       "      <th>Location</th>\n",
       "      <th>Company</th>\n",
       "      <th>ContractType</th>\n",
       "      <th>ContractTime</th>\n",
       "      <th>Category</th>\n",
       "      <th>Salary</th>\n",
       "      <th>OpenDate</th>\n",
       "      <th>CloseDate</th>\n",
       "      <th>SourceName</th>\n",
       "    </tr>\n",
       "  </thead>\n",
       "  <tbody>\n",
       "    <tr>\n",
       "      <th>50663</th>\n",
       "      <td>69266023</td>\n",
       "      <td>Registered Estate Manager</td>\n",
       "      <td>West Sussex</td>\n",
       "      <td>Forces Recruitment Services Ltd</td>\n",
       "      <td>full_time</td>\n",
       "      <td>permanent</td>\n",
       "      <td>Healthcare &amp; Nursing Jobs</td>\n",
       "      <td>28500.0</td>\n",
       "      <td>2013-05-02</td>\n",
       "      <td>2013-06-01</td>\n",
       "      <td>jobsinsocialwork.co.uk</td>\n",
       "    </tr>\n",
       "    <tr>\n",
       "      <th>50665</th>\n",
       "      <td>68496382</td>\n",
       "      <td>Registered Estate Manager</td>\n",
       "      <td>West Sussex</td>\n",
       "      <td>Forces Recruitment Services Ltd</td>\n",
       "      <td>full_time</td>\n",
       "      <td>permanent</td>\n",
       "      <td>Healthcare &amp; Nursing Jobs</td>\n",
       "      <td>28500.0</td>\n",
       "      <td>2013-05-02</td>\n",
       "      <td>2013-06-01</td>\n",
       "      <td>jobsinsocialwork.co.uk</td>\n",
       "    </tr>\n",
       "  </tbody>\n",
       "</table>\n",
       "</div>"
      ],
      "text/plain": [
       "             Id                      Title     Location  \\\n",
       "50663  69266023  Registered Estate Manager  West Sussex   \n",
       "50665  68496382  Registered Estate Manager  West Sussex   \n",
       "\n",
       "                               Company ContractType ContractTime  \\\n",
       "50663  Forces Recruitment Services Ltd    full_time    permanent   \n",
       "50665  Forces Recruitment Services Ltd    full_time    permanent   \n",
       "\n",
       "                        Category   Salary   OpenDate  CloseDate  \\\n",
       "50663  Healthcare & Nursing Jobs  28500.0 2013-05-02 2013-06-01   \n",
       "50665  Healthcare & Nursing Jobs  28500.0 2013-05-02 2013-06-01   \n",
       "\n",
       "                   SourceName  \n",
       "50663  jobsinsocialwork.co.uk  \n",
       "50665  jobsinsocialwork.co.uk  "
      ]
     },
     "execution_count": 160,
     "metadata": {},
     "output_type": "execute_result"
    }
   ],
   "source": [
    "# 4\n",
    "df[df[\"Title\"] == df[\"Title\"][50665]]"
   ]
  },
  {
   "cell_type": "markdown",
   "metadata": {},
   "source": [
    "We need to get rid of the 4 row indexs:\n",
    "- 46070\n",
    "- 46180\n",
    "- 49831\n",
    "- 50663"
   ]
  },
  {
   "cell_type": "code",
   "execution_count": 161,
   "metadata": {
    "scrolled": true
   },
   "outputs": [],
   "source": [
    "df.drop(46070, inplace = True)\n",
    "df.drop(46180, inplace = True)\n",
    "df.drop(49831, inplace = True)\n",
    "df.drop(50663, inplace = True)"
   ]
  },
  {
   "cell_type": "code",
   "execution_count": 162,
   "metadata": {},
   "outputs": [],
   "source": [
    "# Making a list because I can't be bothered doing the errors manually\n",
    "lis = [46070,46180,49831,50663]"
   ]
  },
  {
   "cell_type": "code",
   "execution_count": 163,
   "metadata": {},
   "outputs": [],
   "source": [
    "# Record Error\n",
    "for i in lis:\n",
    "    updateErlist(i, ori_df.loc[i]['Id'], 'Title', ori_df.loc[i][\"Title\"], '', \"Duplicate row\", \"Dropped duplicate row\")"
   ]
  },
  {
   "cell_type": "markdown",
   "metadata": {},
   "source": [
    "Nice we're done for duplicates"
   ]
  },
  {
   "cell_type": "markdown",
   "metadata": {},
   "source": [
    "## Step 6: Get rid of Numeric Outliars"
   ]
  },
  {
   "cell_type": "markdown",
   "metadata": {},
   "source": [
    "We only can check outliars on the Salary, as it is the only Numeric Column.\n",
    "Lets find it"
   ]
  },
  {
   "cell_type": "markdown",
   "metadata": {},
   "source": [
    "### 6.1 Exploratry Data Analysis"
   ]
  },
  {
   "cell_type": "code",
   "execution_count": 164,
   "metadata": {},
   "outputs": [],
   "source": [
    "# To make .describe() to 2 decimal places\n",
    "pd.options.display.float_format = \"{:.2f}\".format"
   ]
  },
  {
   "cell_type": "code",
   "execution_count": 165,
   "metadata": {},
   "outputs": [
    {
     "data": {
      "text/plain": [
       "count      50699.00\n",
       "mean       32720.39\n",
       "std        65022.52\n",
       "min            0.00\n",
       "25%        21120.00\n",
       "50%        30000.00\n",
       "75%        41500.00\n",
       "max     10000000.00\n",
       "Name: Salary, dtype: float64"
      ]
     },
     "execution_count": 165,
     "metadata": {},
     "output_type": "execute_result"
    }
   ],
   "source": [
    "df.Salary.describe()"
   ]
  },
  {
   "cell_type": "markdown",
   "metadata": {},
   "source": [
    "Hmm our max value is a very high number... Lets get it checked out"
   ]
  },
  {
   "cell_type": "code",
   "execution_count": 166,
   "metadata": {},
   "outputs": [
    {
     "data": {
      "text/plain": [
       "<AxesSubplot:>"
      ]
     },
     "execution_count": 166,
     "metadata": {},
     "output_type": "execute_result"
    },
    {
     "data": {
      "image/png": "[encoded data removed]",
      "text/plain": [
       "<Figure size 432x288 with 1 Axes>"
      ]
     },
     "metadata": {
      "needs_background": "light"
     },
     "output_type": "display_data"
    }
   ],
   "source": [
    "# With Outliars\n",
    "df.boxplot(column = \"Salary\")"
   ]
  },
  {
   "cell_type": "code",
   "execution_count": 167,
   "metadata": {},
   "outputs": [
    {
     "data": {
      "text/plain": [
       "<AxesSubplot:>"
      ]
     },
     "execution_count": 167,
     "metadata": {},
     "output_type": "execute_result"
    },
    {
     "data": {
      "image/png": "[encoded data removed]",
      "text/plain": [
       "<Figure size 432x288 with 1 Axes>"
      ]
     },
     "metadata": {
      "needs_background": "light"
     },
     "output_type": "display_data"
    }
   ],
   "source": [
    "# Without Outliars\n",
    "df.boxplot(column = \"Salary\", sym = '')"
   ]
  },
  {
   "cell_type": "code",
   "execution_count": 168,
   "metadata": {},
   "outputs": [
    {
     "data": {
      "text/html": [
       "<div>\n",
       "<style scoped>\n",
       "    .dataframe tbody tr th:only-of-type {\n",
       "        vertical-align: middle;\n",
       "    }\n",
       "\n",
       "    .dataframe tbody tr th {\n",
       "        vertical-align: top;\n",
       "    }\n",
       "\n",
       "    .dataframe thead th {\n",
       "        text-align: right;\n",
       "    }\n",
       "</style>\n",
       "<table border=\"1\" class=\"dataframe\">\n",
       "  <thead>\n",
       "    <tr style=\"text-align: right;\">\n",
       "      <th></th>\n",
       "      <th>Id</th>\n",
       "      <th>Title</th>\n",
       "      <th>Location</th>\n",
       "      <th>Company</th>\n",
       "      <th>ContractType</th>\n",
       "      <th>ContractTime</th>\n",
       "      <th>Category</th>\n",
       "      <th>Salary</th>\n",
       "      <th>OpenDate</th>\n",
       "      <th>CloseDate</th>\n",
       "      <th>SourceName</th>\n",
       "    </tr>\n",
       "  </thead>\n",
       "  <tbody>\n",
       "    <tr>\n",
       "      <th>12885</th>\n",
       "      <td>70187048</td>\n",
       "      <td>Temporary Permanent Vehicle Technician</td>\n",
       "      <td>Yeovil</td>\n",
       "      <td>non-specified</td>\n",
       "      <td>full_time</td>\n",
       "      <td>non-specified</td>\n",
       "      <td>Engineering Jobs</td>\n",
       "      <td>10000000.00</td>\n",
       "      <td>2012-01-26 15:00:00</td>\n",
       "      <td>2012-03-26 15:00:00</td>\n",
       "      <td>Jobcentre Plus</td>\n",
       "    </tr>\n",
       "    <tr>\n",
       "      <th>28158</th>\n",
       "      <td>68536767</td>\n",
       "      <td>Deputy Manager Rotherham</td>\n",
       "      <td>Rotherham</td>\n",
       "      <td>Populus Healthcare</td>\n",
       "      <td>full_time</td>\n",
       "      <td>non-specified</td>\n",
       "      <td>Healthcare &amp; Nursing Jobs</td>\n",
       "      <td>10000000.00</td>\n",
       "      <td>2012-04-27 00:00:00</td>\n",
       "      <td>2012-05-27 00:00:00</td>\n",
       "      <td>staffnurse.com</td>\n",
       "    </tr>\n",
       "    <tr>\n",
       "      <th>30191</th>\n",
       "      <td>69546028</td>\n",
       "      <td>Principle SQL Database Engineer DTS OLTP SSIS</td>\n",
       "      <td>South East London</td>\n",
       "      <td>Mortimer Spinks</td>\n",
       "      <td>non-specified</td>\n",
       "      <td>permanent</td>\n",
       "      <td>IT Jobs</td>\n",
       "      <td>150000.00</td>\n",
       "      <td>2012-12-16 12:00:00</td>\n",
       "      <td>2013-02-14 12:00:00</td>\n",
       "      <td>cwjobs.co.uk</td>\n",
       "    </tr>\n",
       "    <tr>\n",
       "      <th>45190</th>\n",
       "      <td>71138843</td>\n",
       "      <td>Global Portfolio Manager Renewable Energy</td>\n",
       "      <td>London</td>\n",
       "      <td>RSA</td>\n",
       "      <td>non-specified</td>\n",
       "      <td>permanent</td>\n",
       "      <td>Accounting &amp; Finance Jobs</td>\n",
       "      <td>120000.00</td>\n",
       "      <td>2012-06-20 15:00:00</td>\n",
       "      <td>2012-09-18 15:00:00</td>\n",
       "      <td>insurancejobs.co.uk</td>\n",
       "    </tr>\n",
       "  </tbody>\n",
       "</table>\n",
       "</div>"
      ],
      "text/plain": [
       "             Id                                          Title  \\\n",
       "12885  70187048         Temporary Permanent Vehicle Technician   \n",
       "28158  68536767                       Deputy Manager Rotherham   \n",
       "30191  69546028  Principle SQL Database Engineer DTS OLTP SSIS   \n",
       "45190  71138843      Global Portfolio Manager Renewable Energy   \n",
       "\n",
       "                Location             Company   ContractType   ContractTime  \\\n",
       "12885             Yeovil       non-specified      full_time  non-specified   \n",
       "28158          Rotherham  Populus Healthcare      full_time  non-specified   \n",
       "30191  South East London     Mortimer Spinks  non-specified      permanent   \n",
       "45190             London                RSA   non-specified      permanent   \n",
       "\n",
       "                        Category      Salary            OpenDate  \\\n",
       "12885           Engineering Jobs 10000000.00 2012-01-26 15:00:00   \n",
       "28158  Healthcare & Nursing Jobs 10000000.00 2012-04-27 00:00:00   \n",
       "30191                    IT Jobs   150000.00 2012-12-16 12:00:00   \n",
       "45190  Accounting & Finance Jobs   120000.00 2012-06-20 15:00:00   \n",
       "\n",
       "                CloseDate           SourceName  \n",
       "12885 2012-03-26 15:00:00       Jobcentre Plus  \n",
       "28158 2012-05-27 00:00:00       staffnurse.com  \n",
       "30191 2013-02-14 12:00:00         cwjobs.co.uk  \n",
       "45190 2012-09-18 15:00:00  insurancejobs.co.uk  "
      ]
     },
     "execution_count": 168,
     "metadata": {},
     "output_type": "execute_result"
    }
   ],
   "source": [
    "# Max values\n",
    "df.loc[df[\"Salary\"] > 100000]"
   ]
  },
  {
   "cell_type": "code",
   "execution_count": 169,
   "metadata": {},
   "outputs": [
    {
     "data": {
      "text/plain": [
       "(0, 11)"
      ]
     },
     "execution_count": 169,
     "metadata": {},
     "output_type": "execute_result"
    }
   ],
   "source": [
    "# No negative Salaries. Good.\n",
    "df.loc[df[\"Salary\"] < 0].shape"
   ]
  },
  {
   "cell_type": "code",
   "execution_count": 170,
   "metadata": {},
   "outputs": [
    {
     "data": {
      "text/plain": [
       "0.00    3127\n",
       "Name: Salary, dtype: int64"
      ]
     },
     "execution_count": 170,
     "metadata": {},
     "output_type": "execute_result"
    }
   ],
   "source": [
    "# So every Salary under 5000 is actually 0. \n",
    "df.loc[df[\"Salary\"] < 5000].Salary.value_counts()"
   ]
  },
  {
   "cell_type": "markdown",
   "metadata": {},
   "source": [
    "Lets now consider the outliars to be anything > 500k and anything < 1k.\n",
    "\n",
    "Lets replace these with the average value."
   ]
  },
  {
   "cell_type": "markdown",
   "metadata": {},
   "source": [
    "### 6.2 Finding Average Pay"
   ]
  },
  {
   "cell_type": "markdown",
   "metadata": {},
   "source": [
    "Lets first find the average pay of everyone, then we can use that to replace the non-acceptable values"
   ]
  },
  {
   "cell_type": "code",
   "execution_count": 171,
   "metadata": {},
   "outputs": [
    {
     "data": {
      "text/plain": [
       "32000.0"
      ]
     },
     "execution_count": 171,
     "metadata": {},
     "output_type": "execute_result"
    }
   ],
   "source": [
    "# Filtering all the Salaries without Outliers\n",
    "clean_salary = df[\"Salary\"][(df[\"Salary\"] > 1000)&(df[\"Salary\"] < 500000)]\n",
    "clean_salary[0]"
   ]
  },
  {
   "cell_type": "code",
   "execution_count": 172,
   "metadata": {},
   "outputs": [
    {
     "data": {
      "text/plain": [
       "34452.197204120246"
      ]
     },
     "execution_count": 172,
     "metadata": {},
     "output_type": "execute_result"
    }
   ],
   "source": [
    "# Making Avg Salary\n",
    "avg_pay = clean_salary.sum()/clean_salary.notna().sum()\n",
    "avg_pay"
   ]
  },
  {
   "cell_type": "code",
   "execution_count": 173,
   "metadata": {},
   "outputs": [],
   "source": [
    "err_index = df.loc[(df.Salary >500000)|(df.Salary <1000),'Salary'].index"
   ]
  },
  {
   "cell_type": "code",
   "execution_count": 174,
   "metadata": {},
   "outputs": [],
   "source": [
    "df.loc[(df.Salary >500000)|(df.Salary <1000),'Salary'] = avg_pay"
   ]
  },
  {
   "cell_type": "code",
   "execution_count": 175,
   "metadata": {},
   "outputs": [
    {
     "data": {
      "text/plain": [
       "34452.197204120246"
      ]
     },
     "execution_count": 175,
     "metadata": {},
     "output_type": "execute_result"
    }
   ],
   "source": [
    "df.loc[12885][\"Salary\"]"
   ]
  },
  {
   "cell_type": "code",
   "execution_count": 176,
   "metadata": {},
   "outputs": [
    {
     "data": {
      "text/plain": [
       "34452.2"
      ]
     },
     "execution_count": 176,
     "metadata": {},
     "output_type": "execute_result"
    }
   ],
   "source": [
    "# Don't forget to round it again since we added new values to Salary\n",
    "df[\"Salary\"] = round(df[\"Salary\"],2)\n",
    "df.loc[12885][\"Salary\"]"
   ]
  },
  {
   "cell_type": "code",
   "execution_count": 177,
   "metadata": {},
   "outputs": [],
   "source": [
    "# Record the errors\n",
    "for i in err_index:\n",
    "    updateErlist(i, df.loc[i]['Id'], 'Salary', ori_df.loc[i][\"Salary\"], df.loc[i]['Salary'], \"Salary was Abnormal Outlier\", \"Replaced with the average pay\")"
   ]
  },
  {
   "cell_type": "markdown",
   "metadata": {},
   "source": [
    "## 7 Checking for valid values"
   ]
  },
  {
   "cell_type": "code",
   "execution_count": 178,
   "metadata": {},
   "outputs": [
    {
     "data": {
      "text/plain": [
       "IT Jobs                             13132\n",
       "Healthcare & Nursing Jobs            8183\n",
       "Engineering Jobs                     7200\n",
       "Accounting & Finance Jobs            6801\n",
       "Sales Jobs                           4743\n",
       "Hospitality & Catering Jobs          4530\n",
       "Teaching Jobs                        3558\n",
       "PR, Advertising & Marketing Jobs     2552\n",
       "Name: Category, dtype: int64"
      ]
     },
     "execution_count": 178,
     "metadata": {},
     "output_type": "execute_result"
    }
   ],
   "source": [
    "df.Category.value_counts()"
   ]
  },
  {
   "cell_type": "code",
   "execution_count": 179,
   "metadata": {},
   "outputs": [
    {
     "data": {
      "text/plain": [
       "permanent        30320\n",
       "non-specified    14800\n",
       "contract          5579\n",
       "Name: ContractTime, dtype: int64"
      ]
     },
     "execution_count": 179,
     "metadata": {},
     "output_type": "execute_result"
    }
   ],
   "source": [
    "df.ContractTime.value_counts()"
   ]
  },
  {
   "cell_type": "code",
   "execution_count": 180,
   "metadata": {},
   "outputs": [
    {
     "data": {
      "text/plain": [
       "non-specified    37432\n",
       "full_time        11752\n",
       "part_time         1515\n",
       "Name: ContractType, dtype: int64"
      ]
     },
     "execution_count": 180,
     "metadata": {},
     "output_type": "execute_result"
    }
   ],
   "source": [
    "df.ContractType.value_counts()"
   ]
  },
  {
   "cell_type": "markdown",
   "metadata": {},
   "source": [
    "All columns are valid, as they all fit into the possible valid values."
   ]
  },
  {
   "cell_type": "markdown",
   "metadata": {},
   "source": [
    "## 8 Integrity Constraints"
   ]
  },
  {
   "cell_type": "markdown",
   "metadata": {},
   "source": [
    "Lets check if any CloseDates are smaller than OpenDates, which shouldn't be possible."
   ]
  },
  {
   "cell_type": "code",
   "execution_count": 181,
   "metadata": {},
   "outputs": [
    {
     "data": {
      "text/html": [
       "<div>\n",
       "<style scoped>\n",
       "    .dataframe tbody tr th:only-of-type {\n",
       "        vertical-align: middle;\n",
       "    }\n",
       "\n",
       "    .dataframe tbody tr th {\n",
       "        vertical-align: top;\n",
       "    }\n",
       "\n",
       "    .dataframe thead th {\n",
       "        text-align: right;\n",
       "    }\n",
       "</style>\n",
       "<table border=\"1\" class=\"dataframe\">\n",
       "  <thead>\n",
       "    <tr style=\"text-align: right;\">\n",
       "      <th></th>\n",
       "      <th>Id</th>\n",
       "      <th>Title</th>\n",
       "      <th>Location</th>\n",
       "      <th>Company</th>\n",
       "      <th>ContractType</th>\n",
       "      <th>ContractTime</th>\n",
       "      <th>Category</th>\n",
       "      <th>Salary</th>\n",
       "      <th>OpenDate</th>\n",
       "      <th>CloseDate</th>\n",
       "      <th>SourceName</th>\n",
       "    </tr>\n",
       "  </thead>\n",
       "  <tbody>\n",
       "    <tr>\n",
       "      <th>8562</th>\n",
       "      <td>71554931</td>\n",
       "      <td>Property Underwriter</td>\n",
       "      <td>Gloucestershire</td>\n",
       "      <td>Search Consultancy</td>\n",
       "      <td>non-specified</td>\n",
       "      <td>permanent</td>\n",
       "      <td>Accounting &amp; Finance Jobs</td>\n",
       "      <td>30000.00</td>\n",
       "      <td>2013-12-15 12:00:00</td>\n",
       "      <td>2013-09-16 12:00:00</td>\n",
       "      <td>cv-library.co.uk</td>\n",
       "    </tr>\n",
       "    <tr>\n",
       "      <th>10680</th>\n",
       "      <td>71369315</td>\n",
       "      <td>Geotechnical Engineer / Geologist</td>\n",
       "      <td>Manchester</td>\n",
       "      <td>Peritus Green Associates Ltd</td>\n",
       "      <td>non-specified</td>\n",
       "      <td>permanent</td>\n",
       "      <td>Engineering Jobs</td>\n",
       "      <td>22500.00</td>\n",
       "      <td>2013-12-17 15:00:00</td>\n",
       "      <td>2013-11-17 15:00:00</td>\n",
       "      <td>cv-library.co.uk</td>\n",
       "    </tr>\n",
       "    <tr>\n",
       "      <th>24511</th>\n",
       "      <td>69731856</td>\n",
       "      <td>ASSISTANT FINANCIAL CONTROLLER CENTRAL LONDON</td>\n",
       "      <td>South East London</td>\n",
       "      <td>Kerry Robert Associates</td>\n",
       "      <td>non-specified</td>\n",
       "      <td>non-specified</td>\n",
       "      <td>Hospitality &amp; Catering Jobs</td>\n",
       "      <td>35000.00</td>\n",
       "      <td>2013-10-28 00:00:00</td>\n",
       "      <td>2013-10-14 00:00:00</td>\n",
       "      <td>caterer.com</td>\n",
       "    </tr>\n",
       "    <tr>\n",
       "      <th>24534</th>\n",
       "      <td>69895838</td>\n",
       "      <td>Head Bartender The Haymarket Hotel</td>\n",
       "      <td>London</td>\n",
       "      <td>Firmdale</td>\n",
       "      <td>non-specified</td>\n",
       "      <td>non-specified</td>\n",
       "      <td>Hospitality &amp; Catering Jobs</td>\n",
       "      <td>17500.00</td>\n",
       "      <td>2013-03-09 00:00:00</td>\n",
       "      <td>2013-01-08 00:00:00</td>\n",
       "      <td>caterer.com</td>\n",
       "    </tr>\n",
       "    <tr>\n",
       "      <th>25633</th>\n",
       "      <td>67378781</td>\n",
       "      <td>Commis chef Great Chance to learn in a Award w...</td>\n",
       "      <td>Chesterfield</td>\n",
       "      <td>Peaks &amp; Dales Recruitment</td>\n",
       "      <td>non-specified</td>\n",
       "      <td>non-specified</td>\n",
       "      <td>Hospitality &amp; Catering Jobs</td>\n",
       "      <td>13750.00</td>\n",
       "      <td>2013-06-04 15:00:00</td>\n",
       "      <td>2013-05-05 15:00:00</td>\n",
       "      <td>caterer.com</td>\n",
       "    </tr>\n",
       "  </tbody>\n",
       "</table>\n",
       "</div>"
      ],
      "text/plain": [
       "             Id                                              Title  \\\n",
       "8562   71554931                               Property Underwriter   \n",
       "10680  71369315                  Geotechnical Engineer / Geologist   \n",
       "24511  69731856      ASSISTANT FINANCIAL CONTROLLER CENTRAL LONDON   \n",
       "24534  69895838                 Head Bartender The Haymarket Hotel   \n",
       "25633  67378781  Commis chef Great Chance to learn in a Award w...   \n",
       "\n",
       "                Location                       Company   ContractType  \\\n",
       "8562     Gloucestershire            Search Consultancy  non-specified   \n",
       "10680         Manchester  Peritus Green Associates Ltd  non-specified   \n",
       "24511  South East London       Kerry Robert Associates  non-specified   \n",
       "24534             London                      Firmdale  non-specified   \n",
       "25633       Chesterfield     Peaks & Dales Recruitment  non-specified   \n",
       "\n",
       "        ContractTime                     Category   Salary  \\\n",
       "8562       permanent    Accounting & Finance Jobs 30000.00   \n",
       "10680      permanent             Engineering Jobs 22500.00   \n",
       "24511  non-specified  Hospitality & Catering Jobs 35000.00   \n",
       "24534  non-specified  Hospitality & Catering Jobs 17500.00   \n",
       "25633  non-specified  Hospitality & Catering Jobs 13750.00   \n",
       "\n",
       "                 OpenDate           CloseDate        SourceName  \n",
       "8562  2013-12-15 12:00:00 2013-09-16 12:00:00  cv-library.co.uk  \n",
       "10680 2013-12-17 15:00:00 2013-11-17 15:00:00  cv-library.co.uk  \n",
       "24511 2013-10-28 00:00:00 2013-10-14 00:00:00       caterer.com  \n",
       "24534 2013-03-09 00:00:00 2013-01-08 00:00:00       caterer.com  \n",
       "25633 2013-06-04 15:00:00 2013-05-05 15:00:00       caterer.com  "
      ]
     },
     "execution_count": 181,
     "metadata": {},
     "output_type": "execute_result"
    }
   ],
   "source": [
    "df[df[\"OpenDate\"]>df[\"CloseDate\"]]"
   ]
  },
  {
   "cell_type": "markdown",
   "metadata": {},
   "source": [
    "Oh interesting so these errors do exist!\n",
    "\n",
    "Lets swap the OpenDate and CloseDate around, as thats probably what the entry meant, and we can save the rest of the data!"
   ]
  },
  {
   "cell_type": "code",
   "execution_count": 182,
   "metadata": {},
   "outputs": [
    {
     "data": {
      "text/plain": [
       "Int64Index([8562, 10680, 24511, 24534, 25633], dtype='int64')"
      ]
     },
     "execution_count": 182,
     "metadata": {},
     "output_type": "execute_result"
    }
   ],
   "source": [
    "err_index = df[df[\"OpenDate\"]>df[\"CloseDate\"]].index\n",
    "err_index"
   ]
  },
  {
   "cell_type": "code",
   "execution_count": 183,
   "metadata": {},
   "outputs": [
    {
     "name": "stderr",
     "output_type": "stream",
     "text": [
      "<ipython-input-183-0640d1eb628c>:6: SettingWithCopyWarning: \n",
      "A value is trying to be set on a copy of a slice from a DataFrame\n",
      "\n",
      "See the caveats in the documentation: https://pandas.pydata.org/pandas-docs/stable/user_guide/indexing.html#returning-a-view-versus-a-copy\n",
      "  df[\"CloseDate\"][i] = ope\n",
      "<ipython-input-183-0640d1eb628c>:7: SettingWithCopyWarning: \n",
      "A value is trying to be set on a copy of a slice from a DataFrame\n",
      "\n",
      "See the caveats in the documentation: https://pandas.pydata.org/pandas-docs/stable/user_guide/indexing.html#returning-a-view-versus-a-copy\n",
      "  df[\"OpenDate\"][i] = clo\n"
     ]
    }
   ],
   "source": [
    "for i in err_index:\n",
    "    # Lets store the dates as variables so we can swap them\n",
    "    clo = df.loc[i][\"CloseDate\"]\n",
    "    ope = df.loc[i][\"OpenDate\"]\n",
    "    # Now lets do the swap\n",
    "    df[\"CloseDate\"][i] = ope\n",
    "    df[\"OpenDate\"][i] = clo"
   ]
  },
  {
   "cell_type": "code",
   "execution_count": 184,
   "metadata": {},
   "outputs": [
    {
     "data": {
      "text/plain": [
       "Id                               71554931\n",
       "Title                Property Underwriter\n",
       "Location                  Gloucestershire\n",
       "Company                Search Consultancy\n",
       "ContractType                non-specified\n",
       "ContractTime                    permanent\n",
       "Category        Accounting & Finance Jobs\n",
       "Salary                           30000.00\n",
       "OpenDate              2013-09-16 12:00:00\n",
       "CloseDate             2013-12-15 12:00:00\n",
       "SourceName               cv-library.co.uk\n",
       "Name: 8562, dtype: object"
      ]
     },
     "execution_count": 184,
     "metadata": {},
     "output_type": "execute_result"
    }
   ],
   "source": [
    "df.loc[8562]"
   ]
  },
  {
   "cell_type": "code",
   "execution_count": 185,
   "metadata": {},
   "outputs": [],
   "source": [
    "# Record Errors\n",
    "for i in err_index:\n",
    "    updateErlist(i, df.loc[i]['Id'], 'OpenDate, CloseDate', ori_df.loc[i][\"OpenDate\"], df.loc[i][\"OpenDate\"], \"CloseDate earlier than OpenDate\", \"OpenDate and CloseDate swapped\")"
   ]
  },
  {
   "cell_type": "code",
   "execution_count": 186,
   "metadata": {},
   "outputs": [
    {
     "data": {
      "text/html": [
       "<div>\n",
       "<style scoped>\n",
       "    .dataframe tbody tr th:only-of-type {\n",
       "        vertical-align: middle;\n",
       "    }\n",
       "\n",
       "    .dataframe tbody tr th {\n",
       "        vertical-align: top;\n",
       "    }\n",
       "\n",
       "    .dataframe thead th {\n",
       "        text-align: right;\n",
       "    }\n",
       "</style>\n",
       "<table border=\"1\" class=\"dataframe\">\n",
       "  <thead>\n",
       "    <tr style=\"text-align: right;\">\n",
       "      <th></th>\n",
       "      <th>indexOfdf</th>\n",
       "      <th>Id</th>\n",
       "      <th>ColumnName</th>\n",
       "      <th>Original</th>\n",
       "      <th>Modified</th>\n",
       "      <th>ErrorType</th>\n",
       "      <th>Fixing</th>\n",
       "    </tr>\n",
       "  </thead>\n",
       "  <tbody>\n",
       "    <tr>\n",
       "      <th>85278</th>\n",
       "      <td>8562</td>\n",
       "      <td>71554931</td>\n",
       "      <td>OpenDate, CloseDate</td>\n",
       "      <td>2013-12-15 12:00:00</td>\n",
       "      <td>2013-09-16 12:00:00</td>\n",
       "      <td>CloseDate earlier than OpenDate</td>\n",
       "      <td>OpenDate and CloseDate swapped</td>\n",
       "    </tr>\n",
       "    <tr>\n",
       "      <th>85279</th>\n",
       "      <td>10680</td>\n",
       "      <td>71369315</td>\n",
       "      <td>OpenDate, CloseDate</td>\n",
       "      <td>2013-12-17 15:00:00</td>\n",
       "      <td>2013-11-17 15:00:00</td>\n",
       "      <td>CloseDate earlier than OpenDate</td>\n",
       "      <td>OpenDate and CloseDate swapped</td>\n",
       "    </tr>\n",
       "    <tr>\n",
       "      <th>85280</th>\n",
       "      <td>24511</td>\n",
       "      <td>69731856</td>\n",
       "      <td>OpenDate, CloseDate</td>\n",
       "      <td>2013-10-28 00:00:00</td>\n",
       "      <td>2013-10-14 00:00:00</td>\n",
       "      <td>CloseDate earlier than OpenDate</td>\n",
       "      <td>OpenDate and CloseDate swapped</td>\n",
       "    </tr>\n",
       "    <tr>\n",
       "      <th>85281</th>\n",
       "      <td>24534</td>\n",
       "      <td>69895838</td>\n",
       "      <td>OpenDate, CloseDate</td>\n",
       "      <td>2013-03-09 00:00:00</td>\n",
       "      <td>2013-01-08 00:00:00</td>\n",
       "      <td>CloseDate earlier than OpenDate</td>\n",
       "      <td>OpenDate and CloseDate swapped</td>\n",
       "    </tr>\n",
       "    <tr>\n",
       "      <th>85282</th>\n",
       "      <td>25633</td>\n",
       "      <td>67378781</td>\n",
       "      <td>OpenDate, CloseDate</td>\n",
       "      <td>2013-06-04 15:00:00</td>\n",
       "      <td>2013-05-05 15:00:00</td>\n",
       "      <td>CloseDate earlier than OpenDate</td>\n",
       "      <td>OpenDate and CloseDate swapped</td>\n",
       "    </tr>\n",
       "  </tbody>\n",
       "</table>\n",
       "</div>"
      ],
      "text/plain": [
       "      indexOfdf        Id           ColumnName             Original  \\\n",
       "85278      8562  71554931  OpenDate, CloseDate  2013-12-15 12:00:00   \n",
       "85279     10680  71369315  OpenDate, CloseDate  2013-12-17 15:00:00   \n",
       "85280     24511  69731856  OpenDate, CloseDate  2013-10-28 00:00:00   \n",
       "85281     24534  69895838  OpenDate, CloseDate  2013-03-09 00:00:00   \n",
       "85282     25633  67378781  OpenDate, CloseDate  2013-06-04 15:00:00   \n",
       "\n",
       "                  Modified                        ErrorType  \\\n",
       "85278  2013-09-16 12:00:00  CloseDate earlier than OpenDate   \n",
       "85279  2013-11-17 15:00:00  CloseDate earlier than OpenDate   \n",
       "85280  2013-10-14 00:00:00  CloseDate earlier than OpenDate   \n",
       "85281  2013-01-08 00:00:00  CloseDate earlier than OpenDate   \n",
       "85282  2013-05-05 15:00:00  CloseDate earlier than OpenDate   \n",
       "\n",
       "                               Fixing  \n",
       "85278  OpenDate and CloseDate swapped  \n",
       "85279  OpenDate and CloseDate swapped  \n",
       "85280  OpenDate and CloseDate swapped  \n",
       "85281  OpenDate and CloseDate swapped  \n",
       "85282  OpenDate and CloseDate swapped  "
      ]
     },
     "execution_count": 186,
     "metadata": {},
     "output_type": "execute_result"
    }
   ],
   "source": [
    "erlist.tail()"
   ]
  },
  {
   "cell_type": "markdown",
   "metadata": {},
   "source": [
    "Wonderful. "
   ]
  },
  {
   "cell_type": "code",
   "execution_count": 187,
   "metadata": {},
   "outputs": [
    {
     "data": {
      "text/html": [
       "<div>\n",
       "<style scoped>\n",
       "    .dataframe tbody tr th:only-of-type {\n",
       "        vertical-align: middle;\n",
       "    }\n",
       "\n",
       "    .dataframe tbody tr th {\n",
       "        vertical-align: top;\n",
       "    }\n",
       "\n",
       "    .dataframe thead th {\n",
       "        text-align: right;\n",
       "    }\n",
       "</style>\n",
       "<table border=\"1\" class=\"dataframe\">\n",
       "  <thead>\n",
       "    <tr style=\"text-align: right;\">\n",
       "      <th></th>\n",
       "      <th>Id</th>\n",
       "      <th>Title</th>\n",
       "      <th>Location</th>\n",
       "      <th>Company</th>\n",
       "      <th>ContractType</th>\n",
       "      <th>ContractTime</th>\n",
       "      <th>Category</th>\n",
       "      <th>Salary</th>\n",
       "      <th>OpenDate</th>\n",
       "      <th>CloseDate</th>\n",
       "      <th>SourceName</th>\n",
       "    </tr>\n",
       "  </thead>\n",
       "  <tbody>\n",
       "    <tr>\n",
       "      <th>15250</th>\n",
       "      <td>68691017</td>\n",
       "      <td>Controls Analyst</td>\n",
       "      <td>South East London</td>\n",
       "      <td>Badenoch &amp; Clark  London</td>\n",
       "      <td>non-specified</td>\n",
       "      <td>contract</td>\n",
       "      <td>Accounting &amp; Finance Jobs</td>\n",
       "      <td>84000.00</td>\n",
       "      <td>2013-10-29 00:00:00</td>\n",
       "      <td>2013-11-12 00:00:00</td>\n",
       "      <td>totaljobs.com</td>\n",
       "    </tr>\n",
       "    <tr>\n",
       "      <th>18633</th>\n",
       "      <td>68671209</td>\n",
       "      <td>Web Analyst Programmer</td>\n",
       "      <td>UK</td>\n",
       "      <td>Morgan Ryder.</td>\n",
       "      <td>non-specified</td>\n",
       "      <td>permanent</td>\n",
       "      <td>IT Jobs</td>\n",
       "      <td>32500.00</td>\n",
       "      <td>2013-01-07 12:00:00</td>\n",
       "      <td>2013-03-08 12:00:00</td>\n",
       "      <td>totaljobs.com</td>\n",
       "    </tr>\n",
       "    <tr>\n",
       "      <th>27390</th>\n",
       "      <td>70265210</td>\n",
       "      <td>Home Manager Elderly and Dementia Bedford</td>\n",
       "      <td>Bedford</td>\n",
       "      <td>Compass Associates Ltd</td>\n",
       "      <td>full_time</td>\n",
       "      <td>non-specified</td>\n",
       "      <td>Healthcare &amp; Nursing Jobs</td>\n",
       "      <td>37000.00</td>\n",
       "      <td>2013-11-08 12:00:00</td>\n",
       "      <td>2014-01-07 12:00:00</td>\n",
       "      <td>staffnurse.com</td>\n",
       "    </tr>\n",
       "    <tr>\n",
       "      <th>9286</th>\n",
       "      <td>67299003</td>\n",
       "      <td>Estate Agents Administration Sales CAREER AS A...</td>\n",
       "      <td>Crawley</td>\n",
       "      <td>Sequence</td>\n",
       "      <td>non-specified</td>\n",
       "      <td>permanent</td>\n",
       "      <td>Sales Jobs</td>\n",
       "      <td>18500.00</td>\n",
       "      <td>2013-12-09 15:00:00</td>\n",
       "      <td>2014-02-07 15:00:00</td>\n",
       "      <td>cv-library.co.uk</td>\n",
       "    </tr>\n",
       "    <tr>\n",
       "      <th>36188</th>\n",
       "      <td>68186699</td>\n",
       "      <td>Registered Nurses Ipswich</td>\n",
       "      <td>Ipswich</td>\n",
       "      <td>non-specified</td>\n",
       "      <td>non-specified</td>\n",
       "      <td>non-specified</td>\n",
       "      <td>Healthcare &amp; Nursing Jobs</td>\n",
       "      <td>33600.00</td>\n",
       "      <td>2012-03-31 15:00:00</td>\n",
       "      <td>2012-05-30 15:00:00</td>\n",
       "      <td>careworx.co.uk</td>\n",
       "    </tr>\n",
       "    <tr>\n",
       "      <th>36270</th>\n",
       "      <td>51285943</td>\n",
       "      <td>RGN Staff Nurse</td>\n",
       "      <td>Norwich</td>\n",
       "      <td>non-specified</td>\n",
       "      <td>full_time</td>\n",
       "      <td>non-specified</td>\n",
       "      <td>Healthcare &amp; Nursing Jobs</td>\n",
       "      <td>28500.00</td>\n",
       "      <td>2012-10-08 00:00:00</td>\n",
       "      <td>2013-01-06 00:00:00</td>\n",
       "      <td>careworx.co.uk</td>\n",
       "    </tr>\n",
       "    <tr>\n",
       "      <th>40813</th>\n",
       "      <td>72161125</td>\n",
       "      <td>API Developer</td>\n",
       "      <td>Central London</td>\n",
       "      <td>Testing Circle Limited</td>\n",
       "      <td>non-specified</td>\n",
       "      <td>permanent</td>\n",
       "      <td>IT Jobs</td>\n",
       "      <td>45000.00</td>\n",
       "      <td>2013-11-15 15:00:00</td>\n",
       "      <td>2013-12-15 15:00:00</td>\n",
       "      <td>jobserve.com</td>\n",
       "    </tr>\n",
       "    <tr>\n",
       "      <th>33685</th>\n",
       "      <td>69220493</td>\n",
       "      <td>Credit Controller with German, Italian or Polish</td>\n",
       "      <td>Birmingham</td>\n",
       "      <td>French Selection</td>\n",
       "      <td>full_time</td>\n",
       "      <td>permanent</td>\n",
       "      <td>Accounting &amp; Finance Jobs</td>\n",
       "      <td>24000.00</td>\n",
       "      <td>2013-12-27 00:00:00</td>\n",
       "      <td>2014-03-27 00:00:00</td>\n",
       "      <td>fish4.co.uk</td>\n",
       "    </tr>\n",
       "    <tr>\n",
       "      <th>30963</th>\n",
       "      <td>64831487</td>\n",
       "      <td>C / ASPnet Developer – Bolton</td>\n",
       "      <td>Bolton Le Sands</td>\n",
       "      <td>Recital Consulting</td>\n",
       "      <td>non-specified</td>\n",
       "      <td>permanent</td>\n",
       "      <td>IT Jobs</td>\n",
       "      <td>29500.00</td>\n",
       "      <td>2012-11-30 12:00:00</td>\n",
       "      <td>2013-02-28 12:00:00</td>\n",
       "      <td>cwjobs.co.uk</td>\n",
       "    </tr>\n",
       "    <tr>\n",
       "      <th>21228</th>\n",
       "      <td>68684353</td>\n",
       "      <td>Embedded C Software Engineer South Wales</td>\n",
       "      <td>UK</td>\n",
       "      <td>Redline Group Ltd</td>\n",
       "      <td>non-specified</td>\n",
       "      <td>permanent</td>\n",
       "      <td>Engineering Jobs</td>\n",
       "      <td>33000.00</td>\n",
       "      <td>2012-03-13 00:00:00</td>\n",
       "      <td>2012-06-11 00:00:00</td>\n",
       "      <td>totaljobs.com</td>\n",
       "    </tr>\n",
       "  </tbody>\n",
       "</table>\n",
       "</div>"
      ],
      "text/plain": [
       "             Id                                              Title  \\\n",
       "15250  68691017                                   Controls Analyst   \n",
       "18633  68671209                             Web Analyst Programmer   \n",
       "27390  70265210          Home Manager Elderly and Dementia Bedford   \n",
       "9286   67299003  Estate Agents Administration Sales CAREER AS A...   \n",
       "36188  68186699                          Registered Nurses Ipswich   \n",
       "36270  51285943                                    RGN Staff Nurse   \n",
       "40813  72161125                                      API Developer   \n",
       "33685  69220493   Credit Controller with German, Italian or Polish   \n",
       "30963  64831487                      C / ASPnet Developer – Bolton   \n",
       "21228  68684353           Embedded C Software Engineer South Wales   \n",
       "\n",
       "                Location                    Company   ContractType  \\\n",
       "15250  South East London  Badenoch & Clark  London   non-specified   \n",
       "18633                 UK              Morgan Ryder.  non-specified   \n",
       "27390            Bedford     Compass Associates Ltd      full_time   \n",
       "9286             Crawley                   Sequence  non-specified   \n",
       "36188            Ipswich              non-specified  non-specified   \n",
       "36270            Norwich              non-specified      full_time   \n",
       "40813     Central London     Testing Circle Limited  non-specified   \n",
       "33685         Birmingham           French Selection      full_time   \n",
       "30963    Bolton Le Sands         Recital Consulting  non-specified   \n",
       "21228                 UK          Redline Group Ltd  non-specified   \n",
       "\n",
       "        ContractTime                   Category   Salary            OpenDate  \\\n",
       "15250       contract  Accounting & Finance Jobs 84000.00 2013-10-29 00:00:00   \n",
       "18633      permanent                    IT Jobs 32500.00 2013-01-07 12:00:00   \n",
       "27390  non-specified  Healthcare & Nursing Jobs 37000.00 2013-11-08 12:00:00   \n",
       "9286       permanent                 Sales Jobs 18500.00 2013-12-09 15:00:00   \n",
       "36188  non-specified  Healthcare & Nursing Jobs 33600.00 2012-03-31 15:00:00   \n",
       "36270  non-specified  Healthcare & Nursing Jobs 28500.00 2012-10-08 00:00:00   \n",
       "40813      permanent                    IT Jobs 45000.00 2013-11-15 15:00:00   \n",
       "33685      permanent  Accounting & Finance Jobs 24000.00 2013-12-27 00:00:00   \n",
       "30963      permanent                    IT Jobs 29500.00 2012-11-30 12:00:00   \n",
       "21228      permanent           Engineering Jobs 33000.00 2012-03-13 00:00:00   \n",
       "\n",
       "                CloseDate        SourceName  \n",
       "15250 2013-11-12 00:00:00     totaljobs.com  \n",
       "18633 2013-03-08 12:00:00     totaljobs.com  \n",
       "27390 2014-01-07 12:00:00    staffnurse.com  \n",
       "9286  2014-02-07 15:00:00  cv-library.co.uk  \n",
       "36188 2012-05-30 15:00:00    careworx.co.uk  \n",
       "36270 2013-01-06 00:00:00    careworx.co.uk  \n",
       "40813 2013-12-15 15:00:00      jobserve.com  \n",
       "33685 2014-03-27 00:00:00       fish4.co.uk  \n",
       "30963 2013-02-28 12:00:00      cwjobs.co.uk  \n",
       "21228 2012-06-11 00:00:00     totaljobs.com  "
      ]
     },
     "execution_count": 187,
     "metadata": {},
     "output_type": "execute_result"
    }
   ],
   "source": [
    "df.sample(10)"
   ]
  },
  {
   "cell_type": "markdown",
   "metadata": {},
   "source": [
    "## Saving data\n",
    "Save the parsed and cleaned data as well as the error list, named as:\n",
    "- \\<student\\_id\\>_dataset1_solution.csv\n",
    "- \\<student\\_id\\>_errorlist.csv"
   ]
  },
  {
   "cell_type": "code",
   "execution_count": 188,
   "metadata": {},
   "outputs": [],
   "source": [
    "# code to save output data\n",
    "df.to_csv('s3900098_dataset1_solution.csv', index = False)\n",
    "erlist.to_csv('s3900098_errorlist.csv')"
   ]
  },
  {
   "cell_type": "markdown",
   "metadata": {},
   "source": [
    "## Summary"
   ]
  },
  {
   "cell_type": "markdown",
   "metadata": {},
   "source": [
    "Overall, we managed to successfully Parse the Data from XML format, and then further clean that data along with an error list recording every error.\n",
    "\n",
    "During the XML Parsing stage, a particularly annoying aspect was how every Source had Records with differing amount of children (job details). This meant that if we captured it normally, each column would be of different lengths, which would mess with the DataFrame. The solution is to iterate through every single known child, for each and every record, regardless of whether they have the child or not. This allows Python to capture non-existnt children as empty cells, and all column names will be the same.\n",
    "\n",
    "Another hard aspect was the cleaning of columns where strings contained certain characters we did not want. This required the use of Regex to properly solve.\n",
    "\n",
    "Initially, because no message had been given, I assumed we had to clean the Title column, since there were multiple \\**** and special characters that did not seem right. Turns out we didn't need to clean them, so that was 5+ hours gone. I suspect that is why we were given an extention...\n",
    "\n",
    "Overall, this task has been a good learning experience, and I have learnt lots of new tricks used in the Lectures, and now remember them because I have applied them. \n",
    "\n",
    "\n",
    "I hope you enjoy - Denzel"
   ]
  },
  {
   "cell_type": "code",
   "execution_count": null,
   "metadata": {},
   "outputs": [],
   "source": []
  }
 ],
 "metadata": {
  "kernelspec": {
   "display_name": "Python 3",
   "language": "python",
   "name": "python3"
  },
  "language_info": {
   "codemirror_mode": {
    "name": "ipython",
    "version": 3
   },
   "file_extension": ".py",
   "mimetype": "text/x-python",
   "name": "python",
   "nbconvert_exporter": "python",
   "pygments_lexer": "ipython3",
   "version": "3.8.8"
  }
 },
 "nbformat": 4,
 "nbformat_minor": 1
}

{
 "cells": [
  {
   "cell_type": "code",
   "execution_count": 27,
   "id": "3029572b",
   "metadata": {},
   "outputs": [],
   "source": [
    "import yfinance as yf\n",
    "import numpy as np\n",
    "import ta\n",
    "import pandas as pd\n",
    "import matplotlib.pyplot as plt"
   ]
  },
  {
   "cell_type": "markdown",
   "id": "e14f70fe",
   "metadata": {},
   "source": [
    "# Loading Asset Data"
   ]
  },
  {
   "cell_type": "code",
   "execution_count": 28,
   "id": "3f8b1fc9",
   "metadata": {},
   "outputs": [
    {
     "name": "stdout",
     "output_type": "stream",
     "text": [
      "[*********************100%***********************]  1 of 1 completed\n"
     ]
    }
   ],
   "source": [
    "df = yf.download('BTC-USD', start='2022-02-10', interval='15m')"
   ]
  },
  {
   "cell_type": "code",
   "execution_count": 29,
   "id": "c713ab87",
   "metadata": {},
   "outputs": [
    {
     "data": {
      "text/html": [
       "<div>\n",
       "<style scoped>\n",
       "    .dataframe tbody tr th:only-of-type {\n",
       "        vertical-align: middle;\n",
       "    }\n",
       "\n",
       "    .dataframe tbody tr th {\n",
       "        vertical-align: top;\n",
       "    }\n",
       "\n",
       "    .dataframe thead th {\n",
       "        text-align: right;\n",
       "    }\n",
       "</style>\n",
       "<table border=\"1\" class=\"dataframe\">\n",
       "  <thead>\n",
       "    <tr style=\"text-align: right;\">\n",
       "      <th></th>\n",
       "      <th>Open</th>\n",
       "      <th>High</th>\n",
       "      <th>Low</th>\n",
       "      <th>Close</th>\n",
       "      <th>Adj Close</th>\n",
       "      <th>Volume</th>\n",
       "    </tr>\n",
       "    <tr>\n",
       "      <th>Datetime</th>\n",
       "      <th></th>\n",
       "      <th></th>\n",
       "      <th></th>\n",
       "      <th></th>\n",
       "      <th></th>\n",
       "      <th></th>\n",
       "    </tr>\n",
       "  </thead>\n",
       "  <tbody>\n",
       "    <tr>\n",
       "      <th>2022-02-09 13:00:00+00:00</th>\n",
       "      <td>44123.996094</td>\n",
       "      <td>44336.648438</td>\n",
       "      <td>44109.746094</td>\n",
       "      <td>44336.648438</td>\n",
       "      <td>44336.648438</td>\n",
       "      <td>3702784</td>\n",
       "    </tr>\n",
       "    <tr>\n",
       "      <th>2022-02-09 13:15:00+00:00</th>\n",
       "      <td>44335.632812</td>\n",
       "      <td>44371.847656</td>\n",
       "      <td>44254.617188</td>\n",
       "      <td>44254.617188</td>\n",
       "      <td>44254.617188</td>\n",
       "      <td>138008576</td>\n",
       "    </tr>\n",
       "    <tr>\n",
       "      <th>2022-02-09 13:30:00+00:00</th>\n",
       "      <td>44257.800781</td>\n",
       "      <td>44263.570312</td>\n",
       "      <td>44152.886719</td>\n",
       "      <td>44163.847656</td>\n",
       "      <td>44163.847656</td>\n",
       "      <td>37529600</td>\n",
       "    </tr>\n",
       "    <tr>\n",
       "      <th>2022-02-09 13:45:00+00:00</th>\n",
       "      <td>44168.714844</td>\n",
       "      <td>44205.894531</td>\n",
       "      <td>44023.250000</td>\n",
       "      <td>44023.250000</td>\n",
       "      <td>44023.250000</td>\n",
       "      <td>41517056</td>\n",
       "    </tr>\n",
       "    <tr>\n",
       "      <th>2022-02-09 14:00:00+00:00</th>\n",
       "      <td>44035.363281</td>\n",
       "      <td>44035.363281</td>\n",
       "      <td>43887.265625</td>\n",
       "      <td>43964.222656</td>\n",
       "      <td>43964.222656</td>\n",
       "      <td>83402752</td>\n",
       "    </tr>\n",
       "    <tr>\n",
       "      <th>...</th>\n",
       "      <td>...</td>\n",
       "      <td>...</td>\n",
       "      <td>...</td>\n",
       "      <td>...</td>\n",
       "      <td>...</td>\n",
       "      <td>...</td>\n",
       "    </tr>\n",
       "    <tr>\n",
       "      <th>2022-02-15 04:15:00+00:00</th>\n",
       "      <td>43569.589844</td>\n",
       "      <td>43586.250000</td>\n",
       "      <td>43546.527344</td>\n",
       "      <td>43586.250000</td>\n",
       "      <td>43586.250000</td>\n",
       "      <td>33863680</td>\n",
       "    </tr>\n",
       "    <tr>\n",
       "      <th>2022-02-15 04:30:00+00:00</th>\n",
       "      <td>43573.089844</td>\n",
       "      <td>43573.089844</td>\n",
       "      <td>43528.921875</td>\n",
       "      <td>43542.070312</td>\n",
       "      <td>43542.070312</td>\n",
       "      <td>38789120</td>\n",
       "    </tr>\n",
       "    <tr>\n",
       "      <th>2022-02-15 04:45:00+00:00</th>\n",
       "      <td>43540.425781</td>\n",
       "      <td>43542.890625</td>\n",
       "      <td>43496.019531</td>\n",
       "      <td>43507.281250</td>\n",
       "      <td>43507.281250</td>\n",
       "      <td>41115648</td>\n",
       "    </tr>\n",
       "    <tr>\n",
       "      <th>2022-02-15 05:00:00+00:00</th>\n",
       "      <td>43504.554688</td>\n",
       "      <td>43505.664062</td>\n",
       "      <td>43466.535156</td>\n",
       "      <td>43466.535156</td>\n",
       "      <td>43466.535156</td>\n",
       "      <td>12451840</td>\n",
       "    </tr>\n",
       "    <tr>\n",
       "      <th>2022-02-15 05:10:00+00:00</th>\n",
       "      <td>43471.812500</td>\n",
       "      <td>43471.812500</td>\n",
       "      <td>43471.812500</td>\n",
       "      <td>43471.812500</td>\n",
       "      <td>43471.812500</td>\n",
       "      <td>0</td>\n",
       "    </tr>\n",
       "  </tbody>\n",
       "</table>\n",
       "<p>546 rows × 6 columns</p>\n",
       "</div>"
      ],
      "text/plain": [
       "                                   Open          High           Low  \\\n",
       "Datetime                                                              \n",
       "2022-02-09 13:00:00+00:00  44123.996094  44336.648438  44109.746094   \n",
       "2022-02-09 13:15:00+00:00  44335.632812  44371.847656  44254.617188   \n",
       "2022-02-09 13:30:00+00:00  44257.800781  44263.570312  44152.886719   \n",
       "2022-02-09 13:45:00+00:00  44168.714844  44205.894531  44023.250000   \n",
       "2022-02-09 14:00:00+00:00  44035.363281  44035.363281  43887.265625   \n",
       "...                                 ...           ...           ...   \n",
       "2022-02-15 04:15:00+00:00  43569.589844  43586.250000  43546.527344   \n",
       "2022-02-15 04:30:00+00:00  43573.089844  43573.089844  43528.921875   \n",
       "2022-02-15 04:45:00+00:00  43540.425781  43542.890625  43496.019531   \n",
       "2022-02-15 05:00:00+00:00  43504.554688  43505.664062  43466.535156   \n",
       "2022-02-15 05:10:00+00:00  43471.812500  43471.812500  43471.812500   \n",
       "\n",
       "                                  Close     Adj Close     Volume  \n",
       "Datetime                                                          \n",
       "2022-02-09 13:00:00+00:00  44336.648438  44336.648438    3702784  \n",
       "2022-02-09 13:15:00+00:00  44254.617188  44254.617188  138008576  \n",
       "2022-02-09 13:30:00+00:00  44163.847656  44163.847656   37529600  \n",
       "2022-02-09 13:45:00+00:00  44023.250000  44023.250000   41517056  \n",
       "2022-02-09 14:00:00+00:00  43964.222656  43964.222656   83402752  \n",
       "...                                 ...           ...        ...  \n",
       "2022-02-15 04:15:00+00:00  43586.250000  43586.250000   33863680  \n",
       "2022-02-15 04:30:00+00:00  43542.070312  43542.070312   38789120  \n",
       "2022-02-15 04:45:00+00:00  43507.281250  43507.281250   41115648  \n",
       "2022-02-15 05:00:00+00:00  43466.535156  43466.535156   12451840  \n",
       "2022-02-15 05:10:00+00:00  43471.812500  43471.812500          0  \n",
       "\n",
       "[546 rows x 6 columns]"
      ]
     },
     "execution_count": 29,
     "metadata": {},
     "output_type": "execute_result"
    }
   ],
   "source": [
    "df"
   ]
  },
  {
   "cell_type": "markdown",
   "id": "0045e58e",
   "metadata": {},
   "source": [
    "# Create your Indicators"
   ]
  },
  {
   "cell_type": "code",
   "execution_count": 30,
   "id": "641a4f8d",
   "metadata": {},
   "outputs": [],
   "source": [
    "df['Stoch'] = ta.momentum.StochasticOscillator(df.High,df.Low,df.Close, window=14, smooth_window=7).stoch_signal()"
   ]
  },
  {
   "cell_type": "code",
   "execution_count": 31,
   "id": "0b21cdb1",
   "metadata": {},
   "outputs": [
    {
     "data": {
      "text/plain": [
       "Datetime\n",
       "2022-02-09 13:00:00+00:00          NaN\n",
       "2022-02-09 13:15:00+00:00          NaN\n",
       "2022-02-09 13:30:00+00:00          NaN\n",
       "2022-02-09 13:45:00+00:00          NaN\n",
       "2022-02-09 14:00:00+00:00          NaN\n",
       "                               ...    \n",
       "2022-02-15 04:15:00+00:00    95.952326\n",
       "2022-02-15 04:30:00+00:00    94.929936\n",
       "2022-02-15 04:45:00+00:00    93.042454\n",
       "2022-02-15 05:00:00+00:00    81.720348\n",
       "2022-02-15 05:10:00+00:00    69.447429\n",
       "Name: Stoch, Length: 546, dtype: float64"
      ]
     },
     "execution_count": 31,
     "metadata": {},
     "output_type": "execute_result"
    }
   ],
   "source": [
    "df['Stoch']"
   ]
  },
  {
   "cell_type": "code",
   "execution_count": 32,
   "id": "fa4164f5",
   "metadata": {},
   "outputs": [],
   "source": [
    "df['UpBB'] = ta.volatility.BollingerBands(df.Close, window=20,window_dev=2).bollinger_hband()\n",
    "df['LowBB'] = ta.volatility.BollingerBands(df.Close, window=20,window_dev=2).bollinger_lband()"
   ]
  },
  {
   "cell_type": "markdown",
   "id": "5ee066cd",
   "metadata": {},
   "source": [
    "# Clearing NAN"
   ]
  },
  {
   "cell_type": "code",
   "execution_count": 33,
   "id": "58403f95",
   "metadata": {},
   "outputs": [
    {
     "data": {
      "text/plain": [
       "Open          0\n",
       "High          0\n",
       "Low           0\n",
       "Close         0\n",
       "Adj Close     0\n",
       "Volume        0\n",
       "Stoch        19\n",
       "UpBB         19\n",
       "LowBB        19\n",
       "dtype: int64"
      ]
     },
     "execution_count": 33,
     "metadata": {},
     "output_type": "execute_result"
    }
   ],
   "source": [
    "df.isna().sum()"
   ]
  },
  {
   "cell_type": "code",
   "execution_count": 34,
   "id": "9efd89d8",
   "metadata": {
    "scrolled": true
   },
   "outputs": [
    {
     "data": {
      "text/html": [
       "<div>\n",
       "<style scoped>\n",
       "    .dataframe tbody tr th:only-of-type {\n",
       "        vertical-align: middle;\n",
       "    }\n",
       "\n",
       "    .dataframe tbody tr th {\n",
       "        vertical-align: top;\n",
       "    }\n",
       "\n",
       "    .dataframe thead th {\n",
       "        text-align: right;\n",
       "    }\n",
       "</style>\n",
       "<table border=\"1\" class=\"dataframe\">\n",
       "  <thead>\n",
       "    <tr style=\"text-align: right;\">\n",
       "      <th></th>\n",
       "      <th>Open</th>\n",
       "      <th>High</th>\n",
       "      <th>Low</th>\n",
       "      <th>Close</th>\n",
       "      <th>Adj Close</th>\n",
       "      <th>Volume</th>\n",
       "      <th>Stoch</th>\n",
       "      <th>UpBB</th>\n",
       "      <th>LowBB</th>\n",
       "    </tr>\n",
       "    <tr>\n",
       "      <th>Datetime</th>\n",
       "      <th></th>\n",
       "      <th></th>\n",
       "      <th></th>\n",
       "      <th></th>\n",
       "      <th></th>\n",
       "      <th></th>\n",
       "      <th></th>\n",
       "      <th></th>\n",
       "      <th></th>\n",
       "    </tr>\n",
       "  </thead>\n",
       "  <tbody>\n",
       "    <tr>\n",
       "      <th>2022-02-09 13:00:00+00:00</th>\n",
       "      <td>44123.996094</td>\n",
       "      <td>44336.648438</td>\n",
       "      <td>44109.746094</td>\n",
       "      <td>44336.648438</td>\n",
       "      <td>44336.648438</td>\n",
       "      <td>3702784</td>\n",
       "      <td>NaN</td>\n",
       "      <td>NaN</td>\n",
       "      <td>NaN</td>\n",
       "    </tr>\n",
       "    <tr>\n",
       "      <th>2022-02-09 13:15:00+00:00</th>\n",
       "      <td>44335.632812</td>\n",
       "      <td>44371.847656</td>\n",
       "      <td>44254.617188</td>\n",
       "      <td>44254.617188</td>\n",
       "      <td>44254.617188</td>\n",
       "      <td>138008576</td>\n",
       "      <td>NaN</td>\n",
       "      <td>NaN</td>\n",
       "      <td>NaN</td>\n",
       "    </tr>\n",
       "    <tr>\n",
       "      <th>2022-02-09 13:30:00+00:00</th>\n",
       "      <td>44257.800781</td>\n",
       "      <td>44263.570312</td>\n",
       "      <td>44152.886719</td>\n",
       "      <td>44163.847656</td>\n",
       "      <td>44163.847656</td>\n",
       "      <td>37529600</td>\n",
       "      <td>NaN</td>\n",
       "      <td>NaN</td>\n",
       "      <td>NaN</td>\n",
       "    </tr>\n",
       "    <tr>\n",
       "      <th>2022-02-09 13:45:00+00:00</th>\n",
       "      <td>44168.714844</td>\n",
       "      <td>44205.894531</td>\n",
       "      <td>44023.250000</td>\n",
       "      <td>44023.250000</td>\n",
       "      <td>44023.250000</td>\n",
       "      <td>41517056</td>\n",
       "      <td>NaN</td>\n",
       "      <td>NaN</td>\n",
       "      <td>NaN</td>\n",
       "    </tr>\n",
       "    <tr>\n",
       "      <th>2022-02-09 14:00:00+00:00</th>\n",
       "      <td>44035.363281</td>\n",
       "      <td>44035.363281</td>\n",
       "      <td>43887.265625</td>\n",
       "      <td>43964.222656</td>\n",
       "      <td>43964.222656</td>\n",
       "      <td>83402752</td>\n",
       "      <td>NaN</td>\n",
       "      <td>NaN</td>\n",
       "      <td>NaN</td>\n",
       "    </tr>\n",
       "  </tbody>\n",
       "</table>\n",
       "</div>"
      ],
      "text/plain": [
       "                                   Open          High           Low  \\\n",
       "Datetime                                                              \n",
       "2022-02-09 13:00:00+00:00  44123.996094  44336.648438  44109.746094   \n",
       "2022-02-09 13:15:00+00:00  44335.632812  44371.847656  44254.617188   \n",
       "2022-02-09 13:30:00+00:00  44257.800781  44263.570312  44152.886719   \n",
       "2022-02-09 13:45:00+00:00  44168.714844  44205.894531  44023.250000   \n",
       "2022-02-09 14:00:00+00:00  44035.363281  44035.363281  43887.265625   \n",
       "\n",
       "                                  Close     Adj Close     Volume  Stoch  UpBB  \\\n",
       "Datetime                                                                        \n",
       "2022-02-09 13:00:00+00:00  44336.648438  44336.648438    3702784    NaN   NaN   \n",
       "2022-02-09 13:15:00+00:00  44254.617188  44254.617188  138008576    NaN   NaN   \n",
       "2022-02-09 13:30:00+00:00  44163.847656  44163.847656   37529600    NaN   NaN   \n",
       "2022-02-09 13:45:00+00:00  44023.250000  44023.250000   41517056    NaN   NaN   \n",
       "2022-02-09 14:00:00+00:00  43964.222656  43964.222656   83402752    NaN   NaN   \n",
       "\n",
       "                           LowBB  \n",
       "Datetime                          \n",
       "2022-02-09 13:00:00+00:00    NaN  \n",
       "2022-02-09 13:15:00+00:00    NaN  \n",
       "2022-02-09 13:30:00+00:00    NaN  \n",
       "2022-02-09 13:45:00+00:00    NaN  \n",
       "2022-02-09 14:00:00+00:00    NaN  "
      ]
     },
     "execution_count": 34,
     "metadata": {},
     "output_type": "execute_result"
    }
   ],
   "source": [
    "df.head()"
   ]
  },
  {
   "cell_type": "code",
   "execution_count": 35,
   "id": "f39cf35b",
   "metadata": {},
   "outputs": [],
   "source": [
    "df.dropna(inplace=True)"
   ]
  },
  {
   "cell_type": "code",
   "execution_count": 36,
   "id": "ef75afa6",
   "metadata": {},
   "outputs": [],
   "source": [
    "df['No'] = range(len(df))"
   ]
  },
  {
   "cell_type": "markdown",
   "id": "583911ee",
   "metadata": {},
   "source": [
    "# Condition(s)"
   ]
  },
  {
   "cell_type": "markdown",
   "id": "3e7bbcbc",
   "metadata": {},
   "source": [
    "### Stoch Trigger"
   ]
  },
  {
   "cell_type": "code",
   "execution_count": 57,
   "id": "cb5c9aa5",
   "metadata": {},
   "outputs": [],
   "source": [
    "# def gettriggers(df, buy=True):\n",
    "#     dfx = pd.DataFrame()\n",
    "#     for i in range(1,2):\n",
    "#         if buy:\n",
    "#             mask = (df.Stoch.shift(i) <= 10) & (df.Stoch > 10)\n",
    "#         else:\n",
    "#             mask = (df.Stoch.shift(i) >= 90) & (df.Stoch < 90)\n",
    "        \n",
    "#         dfx = dfx.append(mask, ignore_index=True)\n",
    "#     return dfx.sum(axis=0)\n",
    "\n",
    "\n",
    "def gettriggers(df, buy=True):\n",
    "    dfx = pd.DataFrame()\n",
    "\n",
    "    if buy:\n",
    "        mask = (df.Stoch < 10)\n",
    "    else:\n",
    "        mask = (df.Stoch > 90)\n",
    "        \n",
    "    dfx = dfx.append(mask, ignore_index=True)\n",
    "    return dfx.sum(axis=0)"
   ]
  },
  {
   "cell_type": "code",
   "execution_count": 58,
   "id": "14e7160f",
   "metadata": {
    "scrolled": true
   },
   "outputs": [],
   "source": [
    "# Buy Stoch Trigger\n",
    "buystoch = np.where(gettriggers(df),1,0)"
   ]
  },
  {
   "cell_type": "code",
   "execution_count": 59,
   "id": "4b14ecee",
   "metadata": {},
   "outputs": [],
   "source": [
    "# Sell Stoch Trigger\n",
    "sellstoch = np.where(gettriggers(df,buy=False),1,0)"
   ]
  },
  {
   "cell_type": "markdown",
   "id": "32faaebe",
   "metadata": {},
   "source": [
    "buylist = list(df[df['Buy']==1].No)\n",
    "\n",
    "for i in buylist:\n",
    "    print(df.iloc[i].Close)\n",
    "    buyprice = df.iloc[i].Close\n",
    "    \n",
    "    sl = buyprice - 1 * (buyprice/100)\n",
    "    tp = buyprice + 2 * (buyprice/100)\n",
    "    \n",
    "    print('Stop:', sl)\n",
    "    print('Take Profit:', tp)\n",
    "    \n",
    "    if "
   ]
  },
  {
   "cell_type": "code",
   "execution_count": null,
   "id": "71226f1e",
   "metadata": {},
   "outputs": [],
   "source": []
  },
  {
   "cell_type": "markdown",
   "id": "3c348e1b",
   "metadata": {},
   "source": [
    "## [ALL] Combined TRIGGERS"
   ]
  },
  {
   "cell_type": "code",
   "execution_count": null,
   "id": "0b6f550b",
   "metadata": {},
   "outputs": [],
   "source": []
  },
  {
   "cell_type": "code",
   "execution_count": 60,
   "id": "d84c9b88",
   "metadata": {},
   "outputs": [],
   "source": [
    "# Combined Buy Trigger\n",
    "# Note: to add more conditions, just put '& ()' and insert condition\n",
    "df['Buy'] = np.where(\n",
    "    \n",
    "    # INSERT CONDITIONS HERE\n",
    "    (buystoch) \n",
    "    # END\n",
    "    \n",
    ",1,0)\n",
    "\n",
    "df['Sell'] = np.where(\n",
    "    \n",
    "    # INSERT CONDITIONS HERE\n",
    "    (sellstoch) \n",
    "    # END\n",
    "    \n",
    ",1,0)"
   ]
  },
  {
   "cell_type": "code",
   "execution_count": null,
   "id": "b52bfab6",
   "metadata": {},
   "outputs": [],
   "source": []
  },
  {
   "cell_type": "markdown",
   "id": "047820fd",
   "metadata": {},
   "source": [
    "# Capturing Buy/Sell Dates"
   ]
  },
  {
   "cell_type": "code",
   "execution_count": 61,
   "id": "13504237",
   "metadata": {},
   "outputs": [],
   "source": [
    "BuyDates, SellDates = [],[]"
   ]
  },
  {
   "cell_type": "code",
   "execution_count": 62,
   "id": "86e43ba7",
   "metadata": {},
   "outputs": [],
   "source": [
    "# Recording the buy Dates and Sell dates provided we bought (not just generating triggers)\n",
    "# Making buying dates on the period (open price) after signal was triggered\n",
    "\n",
    "\n",
    "for i in range(len(df)-1): # For every row in df\n",
    "    \n",
    "    if df.Buy.iloc[i]: #If we bought\n",
    "        BuyDates.append(df.iloc[i+1].name) # Record buy date\n",
    "        for num,j in enumerate(df.Sell[i:]): # Find the nearest selling date AFTER the day we bought\n",
    "            if j: # if we Sold\n",
    "                SellDates.append(df.iloc[i + num + 1].name) # append date; plus 'num' because i was the day we bought \n",
    "                # and plus 1 because we realistically sell 1 day after it is triggered\n",
    "                break"
   ]
  },
  {
   "cell_type": "markdown",
   "id": "a25456e3",
   "metadata": {},
   "source": [
    "## Equalizing the dates"
   ]
  },
  {
   "cell_type": "code",
   "execution_count": 63,
   "id": "f1a04895",
   "metadata": {},
   "outputs": [],
   "source": [
    "cutit = len(BuyDates) - len(SellDates)"
   ]
  },
  {
   "cell_type": "code",
   "execution_count": 64,
   "id": "20f15967",
   "metadata": {},
   "outputs": [],
   "source": [
    "if cutit:\n",
    "    BuyDates = BuyDates[:-cutit]"
   ]
  },
  {
   "cell_type": "code",
   "execution_count": 65,
   "id": "0529d4dc",
   "metadata": {},
   "outputs": [],
   "source": [
    "frame = pd.DataFrame({'Buying_Dates':BuyDates, 'Selling_Dates':SellDates})"
   ]
  },
  {
   "cell_type": "code",
   "execution_count": 66,
   "id": "19e22b6e",
   "metadata": {
    "scrolled": true
   },
   "outputs": [
    {
     "data": {
      "text/html": [
       "<div>\n",
       "<style scoped>\n",
       "    .dataframe tbody tr th:only-of-type {\n",
       "        vertical-align: middle;\n",
       "    }\n",
       "\n",
       "    .dataframe tbody tr th {\n",
       "        vertical-align: top;\n",
       "    }\n",
       "\n",
       "    .dataframe thead th {\n",
       "        text-align: right;\n",
       "    }\n",
       "</style>\n",
       "<table border=\"1\" class=\"dataframe\">\n",
       "  <thead>\n",
       "    <tr style=\"text-align: right;\">\n",
       "      <th></th>\n",
       "      <th>Buying_Dates</th>\n",
       "      <th>Selling_Dates</th>\n",
       "    </tr>\n",
       "  </thead>\n",
       "  <tbody>\n",
       "    <tr>\n",
       "      <th>0</th>\n",
       "      <td>2022-02-10 01:00:00+00:00</td>\n",
       "      <td>2022-02-10 08:00:00+00:00</td>\n",
       "    </tr>\n",
       "    <tr>\n",
       "      <th>1</th>\n",
       "      <td>2022-02-10 01:15:00+00:00</td>\n",
       "      <td>2022-02-10 08:00:00+00:00</td>\n",
       "    </tr>\n",
       "    <tr>\n",
       "      <th>2</th>\n",
       "      <td>2022-02-10 01:30:00+00:00</td>\n",
       "      <td>2022-02-10 08:00:00+00:00</td>\n",
       "    </tr>\n",
       "    <tr>\n",
       "      <th>3</th>\n",
       "      <td>2022-02-10 20:30:00+00:00</td>\n",
       "      <td>2022-02-11 08:30:00+00:00</td>\n",
       "    </tr>\n",
       "    <tr>\n",
       "      <th>4</th>\n",
       "      <td>2022-02-10 20:45:00+00:00</td>\n",
       "      <td>2022-02-11 08:30:00+00:00</td>\n",
       "    </tr>\n",
       "    <tr>\n",
       "      <th>5</th>\n",
       "      <td>2022-02-10 21:00:00+00:00</td>\n",
       "      <td>2022-02-11 08:30:00+00:00</td>\n",
       "    </tr>\n",
       "    <tr>\n",
       "      <th>6</th>\n",
       "      <td>2022-02-10 21:15:00+00:00</td>\n",
       "      <td>2022-02-11 08:30:00+00:00</td>\n",
       "    </tr>\n",
       "    <tr>\n",
       "      <th>7</th>\n",
       "      <td>2022-02-10 21:30:00+00:00</td>\n",
       "      <td>2022-02-11 08:30:00+00:00</td>\n",
       "    </tr>\n",
       "    <tr>\n",
       "      <th>8</th>\n",
       "      <td>2022-02-10 22:00:00+00:00</td>\n",
       "      <td>2022-02-11 08:30:00+00:00</td>\n",
       "    </tr>\n",
       "    <tr>\n",
       "      <th>9</th>\n",
       "      <td>2022-02-10 22:15:00+00:00</td>\n",
       "      <td>2022-02-11 08:30:00+00:00</td>\n",
       "    </tr>\n",
       "    <tr>\n",
       "      <th>10</th>\n",
       "      <td>2022-02-11 00:45:00+00:00</td>\n",
       "      <td>2022-02-11 08:30:00+00:00</td>\n",
       "    </tr>\n",
       "    <tr>\n",
       "      <th>11</th>\n",
       "      <td>2022-02-11 01:00:00+00:00</td>\n",
       "      <td>2022-02-11 08:30:00+00:00</td>\n",
       "    </tr>\n",
       "    <tr>\n",
       "      <th>12</th>\n",
       "      <td>2022-02-11 19:30:00+00:00</td>\n",
       "      <td>2022-02-12 10:00:00+00:00</td>\n",
       "    </tr>\n",
       "    <tr>\n",
       "      <th>13</th>\n",
       "      <td>2022-02-12 22:00:00+00:00</td>\n",
       "      <td>2022-02-14 08:00:00+00:00</td>\n",
       "    </tr>\n",
       "    <tr>\n",
       "      <th>14</th>\n",
       "      <td>2022-02-12 22:15:00+00:00</td>\n",
       "      <td>2022-02-14 08:00:00+00:00</td>\n",
       "    </tr>\n",
       "    <tr>\n",
       "      <th>15</th>\n",
       "      <td>2022-02-12 22:30:00+00:00</td>\n",
       "      <td>2022-02-14 08:00:00+00:00</td>\n",
       "    </tr>\n",
       "    <tr>\n",
       "      <th>16</th>\n",
       "      <td>2022-02-12 22:45:00+00:00</td>\n",
       "      <td>2022-02-14 08:00:00+00:00</td>\n",
       "    </tr>\n",
       "    <tr>\n",
       "      <th>17</th>\n",
       "      <td>2022-02-13 18:00:00+00:00</td>\n",
       "      <td>2022-02-14 08:00:00+00:00</td>\n",
       "    </tr>\n",
       "    <tr>\n",
       "      <th>18</th>\n",
       "      <td>2022-02-14 03:00:00+00:00</td>\n",
       "      <td>2022-02-14 08:00:00+00:00</td>\n",
       "    </tr>\n",
       "  </tbody>\n",
       "</table>\n",
       "</div>"
      ],
      "text/plain": [
       "                Buying_Dates             Selling_Dates\n",
       "0  2022-02-10 01:00:00+00:00 2022-02-10 08:00:00+00:00\n",
       "1  2022-02-10 01:15:00+00:00 2022-02-10 08:00:00+00:00\n",
       "2  2022-02-10 01:30:00+00:00 2022-02-10 08:00:00+00:00\n",
       "3  2022-02-10 20:30:00+00:00 2022-02-11 08:30:00+00:00\n",
       "4  2022-02-10 20:45:00+00:00 2022-02-11 08:30:00+00:00\n",
       "5  2022-02-10 21:00:00+00:00 2022-02-11 08:30:00+00:00\n",
       "6  2022-02-10 21:15:00+00:00 2022-02-11 08:30:00+00:00\n",
       "7  2022-02-10 21:30:00+00:00 2022-02-11 08:30:00+00:00\n",
       "8  2022-02-10 22:00:00+00:00 2022-02-11 08:30:00+00:00\n",
       "9  2022-02-10 22:15:00+00:00 2022-02-11 08:30:00+00:00\n",
       "10 2022-02-11 00:45:00+00:00 2022-02-11 08:30:00+00:00\n",
       "11 2022-02-11 01:00:00+00:00 2022-02-11 08:30:00+00:00\n",
       "12 2022-02-11 19:30:00+00:00 2022-02-12 10:00:00+00:00\n",
       "13 2022-02-12 22:00:00+00:00 2022-02-14 08:00:00+00:00\n",
       "14 2022-02-12 22:15:00+00:00 2022-02-14 08:00:00+00:00\n",
       "15 2022-02-12 22:30:00+00:00 2022-02-14 08:00:00+00:00\n",
       "16 2022-02-12 22:45:00+00:00 2022-02-14 08:00:00+00:00\n",
       "17 2022-02-13 18:00:00+00:00 2022-02-14 08:00:00+00:00\n",
       "18 2022-02-14 03:00:00+00:00 2022-02-14 08:00:00+00:00"
      ]
     },
     "execution_count": 66,
     "metadata": {},
     "output_type": "execute_result"
    }
   ],
   "source": [
    "frame"
   ]
  },
  {
   "cell_type": "markdown",
   "id": "d331cf71",
   "metadata": {},
   "source": [
    "## Actual Dates"
   ]
  },
  {
   "cell_type": "code",
   "execution_count": 67,
   "id": "9eb90a47",
   "metadata": {},
   "outputs": [],
   "source": [
    "actuals = frame[frame.Buying_Dates > frame.Selling_Dates.shift(1)]"
   ]
  },
  {
   "cell_type": "code",
   "execution_count": 68,
   "id": "ca1341b6",
   "metadata": {},
   "outputs": [
    {
     "data": {
      "text/html": [
       "<div>\n",
       "<style scoped>\n",
       "    .dataframe tbody tr th:only-of-type {\n",
       "        vertical-align: middle;\n",
       "    }\n",
       "\n",
       "    .dataframe tbody tr th {\n",
       "        vertical-align: top;\n",
       "    }\n",
       "\n",
       "    .dataframe thead th {\n",
       "        text-align: right;\n",
       "    }\n",
       "</style>\n",
       "<table border=\"1\" class=\"dataframe\">\n",
       "  <thead>\n",
       "    <tr style=\"text-align: right;\">\n",
       "      <th></th>\n",
       "      <th>Buying_Dates</th>\n",
       "      <th>Selling_Dates</th>\n",
       "    </tr>\n",
       "  </thead>\n",
       "  <tbody>\n",
       "    <tr>\n",
       "      <th>3</th>\n",
       "      <td>2022-02-10 20:30:00+00:00</td>\n",
       "      <td>2022-02-11 08:30:00+00:00</td>\n",
       "    </tr>\n",
       "    <tr>\n",
       "      <th>12</th>\n",
       "      <td>2022-02-11 19:30:00+00:00</td>\n",
       "      <td>2022-02-12 10:00:00+00:00</td>\n",
       "    </tr>\n",
       "    <tr>\n",
       "      <th>13</th>\n",
       "      <td>2022-02-12 22:00:00+00:00</td>\n",
       "      <td>2022-02-14 08:00:00+00:00</td>\n",
       "    </tr>\n",
       "  </tbody>\n",
       "</table>\n",
       "</div>"
      ],
      "text/plain": [
       "                Buying_Dates             Selling_Dates\n",
       "3  2022-02-10 20:30:00+00:00 2022-02-11 08:30:00+00:00\n",
       "12 2022-02-11 19:30:00+00:00 2022-02-12 10:00:00+00:00\n",
       "13 2022-02-12 22:00:00+00:00 2022-02-14 08:00:00+00:00"
      ]
     },
     "execution_count": 68,
     "metadata": {},
     "output_type": "execute_result"
    }
   ],
   "source": [
    "actuals"
   ]
  },
  {
   "cell_type": "markdown",
   "id": "f542710c",
   "metadata": {},
   "source": [
    "# Profit Calculation"
   ]
  },
  {
   "cell_type": "code",
   "execution_count": 69,
   "id": "bd55ff3c",
   "metadata": {},
   "outputs": [],
   "source": [
    "def profitcalc():\n",
    "    Buyprices = df.loc[actuals.Buying_Dates].Open\n",
    "    Sellprices = df.loc[actuals.Selling_Dates].Open\n",
    "    return (Sellprices.values - Buyprices.values)/Buyprices.values\n"
   ]
  },
  {
   "cell_type": "code",
   "execution_count": 70,
   "id": "f8c973cc",
   "metadata": {
    "scrolled": false
   },
   "outputs": [
    {
     "data": {
      "text/plain": [
       "array([-0.01691534, -0.0020453 ,  0.00929969])"
      ]
     },
     "execution_count": 70,
     "metadata": {},
     "output_type": "execute_result"
    }
   ],
   "source": [
    "profits = profitcalc()\n",
    "profits[:]"
   ]
  },
  {
   "cell_type": "code",
   "execution_count": 71,
   "id": "d7fd02a9",
   "metadata": {},
   "outputs": [
    {
     "data": {
      "text/plain": [
       "3"
      ]
     },
     "execution_count": 71,
     "metadata": {},
     "output_type": "execute_result"
    }
   ],
   "source": [
    "len(profits)"
   ]
  },
  {
   "cell_type": "code",
   "execution_count": 72,
   "id": "f049408b",
   "metadata": {},
   "outputs": [
    {
     "name": "stdout",
     "output_type": "stream",
     "text": [
      "3 Total\n",
      "1 Wins\n",
      "2 Losses\n",
      "33.33333333333333 %\n"
     ]
    }
   ],
   "source": [
    "winsnum = len(profits[profits>0])\n",
    "lossnum = len(profits[profits<0])\n",
    "winrate = winsnum/len(profits)*100\n",
    "\n",
    "print(len(profits),'Total')\n",
    "print(winsnum,'Wins')\n",
    "print(lossnum,'Losses')\n",
    "print(winrate,'%')"
   ]
  },
  {
   "cell_type": "code",
   "execution_count": 73,
   "id": "b8e63c9e",
   "metadata": {},
   "outputs": [
    {
     "data": {
      "text/plain": [
       "0.9901976388212869"
      ]
     },
     "execution_count": 73,
     "metadata": {},
     "output_type": "execute_result"
    }
   ],
   "source": [
    "(profits+1).prod()"
   ]
  },
  {
   "cell_type": "markdown",
   "id": "fef97a13",
   "metadata": {},
   "source": [
    "## What profits did you get?"
   ]
  },
  {
   "cell_type": "markdown",
   "id": "5a831e60",
   "metadata": {},
   "source": [
    "# Plotting\n"
   ]
  },
  {
   "cell_type": "code",
   "execution_count": 74,
   "id": "ae9759f8",
   "metadata": {},
   "outputs": [
    {
     "data": {
      "image/png": "[encoded data removed]",
      "text/plain": [
       "<Figure size 1440x720 with 1 Axes>"
      ]
     },
     "metadata": {
      "needs_background": "light"
     },
     "output_type": "display_data"
    }
   ],
   "source": [
    "plt.figure(figsize=(20,10))\n",
    "plt.plot(df.Close, color='k', alpha=0.7)\n",
    "plt.scatter(actuals.Buying_Dates, df.Open[actuals.Buying_Dates], marker='^',color='g',s=500)\n",
    "plt.scatter(actuals.Selling_Dates, df.Open[actuals.Selling_Dates], marker='v',color='r',s=500)\n",
    "plt.show()"
   ]
  },
  {
   "cell_type": "code",
   "execution_count": 75,
   "id": "a5b73dcf",
   "metadata": {},
   "outputs": [
    {
     "data": {
      "text/plain": [
       "<matplotlib.legend.Legend at 0x7fe8b0062430>"
      ]
     },
     "execution_count": 75,
     "metadata": {},
     "output_type": "execute_result"
    },
    {
     "data": {
      "image/png": "[encoded data removed]",
      "text/plain": [
       "<Figure size 1440x720 with 1 Axes>"
      ]
     },
     "metadata": {
      "needs_background": "light"
     },
     "output_type": "display_data"
    }
   ],
   "source": [
    "#df['Stoch'] = ta.momentum.StochasticOscillator(df.High,df.Low,df.Close, window=14, smooth_window=7).stoch_signal()\n",
    "\n",
    "plt.figure(figsize=(20,10))\n",
    "df.Stoch.plot()\n",
    "#ta.momentum.StochasticOscillator(df.High,df.Low,df.Close, window=14, smooth_window=7).stoch().plot()\n",
    "plt.legend()"
   ]
  },
  {
   "cell_type": "code",
   "execution_count": null,
   "id": "d3b5f449",
   "metadata": {},
   "outputs": [],
   "source": []
  },
  {
   "cell_type": "code",
   "execution_count": null,
   "id": "076dbfb7",
   "metadata": {},
   "outputs": [],
   "source": []
  }
 ],
 "metadata": {
  "kernelspec": {
   "display_name": "Python 3",
   "language": "python",
   "name": "python3"
  },
  "language_info": {
   "codemirror_mode": {
    "name": "ipython",
    "version": 3
   },
   "file_extension": ".py",
   "mimetype": "text/x-python",
   "name": "python",
   "nbconvert_exporter": "python",
   "pygments_lexer": "ipython3",
   "version": "3.8.8"
  }
 },
 "nbformat": 4,
 "nbformat_minor": 5
}
